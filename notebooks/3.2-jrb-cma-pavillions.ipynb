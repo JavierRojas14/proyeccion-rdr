{
 "cells": [
  {
   "cell_type": "code",
   "execution_count": 1,
   "metadata": {},
   "outputs": [],
   "source": [
    "import sys\n",
    "import os\n",
    "\n",
    "project_root = os.path.abspath('..')\n",
    "if project_root not in sys.path:\n",
    "    sys.path.append(project_root)\n",
    " \n",
    "%load_ext autoreload\n",
    "%autoreload 2"
   ]
  },
  {
   "cell_type": "code",
   "execution_count": 2,
   "metadata": {},
   "outputs": [
    {
     "name": "stderr",
     "output_type": "stream",
     "text": [
      "\u001b[32m2025-05-19 16:45:49.122\u001b[0m | \u001b[1mINFO    \u001b[0m | \u001b[36mproyeccion_rdr.config\u001b[0m:\u001b[36m<module>\u001b[0m:\u001b[36m11\u001b[0m - \u001b[1mPROJ_ROOT path is: C:\\Users\\jarojas\\Desktop\\Javier\\SSMN\\EPH - RDR\\2.0-proyeccion-rdr\u001b[0m\n"
     ]
    }
   ],
   "source": [
    "import pandas as pd\n",
    "import numpy as np\n",
    "\n",
    "import matplotlib.pyplot as plt\n",
    "\n",
    "import proyeccion_rdr.features as features\n",
    "import proyeccion_rdr.produccion.a03_pabellon as pb\n",
    "\n",
    "pd.set_option('display.max_columns', None)\n",
    "\n",
    "# Agrega las columnas de poblacion de interes\n",
    "ANIOS_INTERES = [str(i) for i in range(2017, 2036)]"
   ]
  },
  {
   "cell_type": "markdown",
   "metadata": {},
   "source": [
    "## Obtencion de casos por area de influencia RDR"
   ]
  },
  {
   "cell_type": "code",
   "execution_count": 3,
   "metadata": {},
   "outputs": [],
   "source": [
    "# Lee los casos de todos los macroprocesos\n",
    "RUTA_ARCHIVOS = \"../data/interim/0.1_casos_teoricos_diagnosticos.xlsx\"\n",
    "_, casos_macroproceso = features.leer_casos_macroprocesos(RUTA_ARCHIVOS)\n",
    "\n",
    "# Obtiene los casos de CMA\n",
    "casos_cma = casos_macroproceso.query(\"tipo_paciente == 'cma'\")"
   ]
  },
  {
   "cell_type": "markdown",
   "metadata": {},
   "source": [
    "## Obtencion de porcentajes de CMA"
   ]
  },
  {
   "cell_type": "code",
   "execution_count": 4,
   "metadata": {},
   "outputs": [],
   "source": [
    "# Define la ruta donde estan los porcentajes de CMA\n",
    "RUTA_PLANILLA_PORCENTAJES = (\n",
    "    \"../data/raw/3_incidencias_y_porcentajes_marcoprocesos/incidencias_y_prevalencias_RDR.xlsx\"\n",
    ")\n",
    "\n",
    "# Solamente lee los diagnosticos y el porcentaje de CMA\n",
    "datos_cma = pd.read_excel(\n",
    "    RUTA_PLANILLA_PORCENTAJES,\n",
    "    usecols=[\"Diagnostico\", \"Porcentaje Pacientes CMA\", \"Horas en CMA\"],\n",
    ")\n",
    "\n",
    "# Deja los diagnosticos que SI aportan a la cantidad de pabellones de CMA (porcentaje > 0)\n",
    "datos_cma = datos_cma.query(\"`Porcentaje Pacientes CMA` > 0\")\n",
    "\n",
    "# Formatea la columna de diagnosticos\n",
    "datos_cma[\"Diagnostico\"] = datos_cma[\"Diagnostico\"].str.split(\" - \").str[0]\n",
    "\n",
    "# Deja como indice a los diagnosticos\n",
    "datos_cma = datos_cma.set_index(\"Diagnostico\")\n",
    "\n",
    "# Indica el tiempo quirurgico por diagnostico promedio (o 75%)\n",
    "tiempos_cma = datos_cma[\"Horas en CMA\"]"
   ]
  },
  {
   "cell_type": "code",
   "execution_count": 5,
   "metadata": {},
   "outputs": [
    {
     "name": "stdout",
     "output_type": "stream",
     "text": [
      "Horas laborales por año calculadas:\n",
      "+---+-------+--------------------------------------------+\n",
      "|   | fecha | horas_laborales_funcionamiento_de_12_horas |\n",
      "+---+-------+--------------------------------------------+\n",
      "| 0 | 2017  |                    2976                    |\n",
      "| 1 | 2018  |                    2964                    |\n",
      "| 2 | 2019  |                    2988                    |\n",
      "| 3 | 2020  |                    3024                    |\n",
      "| 4 | 2021  |                    3012                    |\n",
      "+---+-------+--------------------------------------------+\n",
      "\n",
      "Cantidad de pabellones necesarios calculada:\n",
      "+-------------+----------------------+---------------------+--------------------+----------------------+--------------------+----------------------+----------------------+---------------------+----------------------+---------------------+---------------------+---------------------+----------------------+---------------------+----------------------+---------------------+----------------------+---------------------+---------------------+\n",
      "| Diagnostico |         2017         |        2018         |        2019        |         2020         |        2021        |         2022         |         2023         |        2024         |         2025         |        2026         |        2027         |        2028         |         2029         |        2030         |         2031         |        2032         |         2033         |        2034         |        2035         |\n",
      "+-------------+----------------------+---------------------+--------------------+----------------------+--------------------+----------------------+----------------------+---------------------+----------------------+---------------------+---------------------+---------------------+----------------------+---------------------+----------------------+---------------------+----------------------+---------------------+---------------------+\n",
      "|    DQUI     | 0.032117393777737216 | 0.03331941701274856 | 0.0341530431237821 | 0.034819784476321766 | 0.0355885802864644 | 0.036143549543356156 | 0.036997091926248345 | 0.03723365122254279 | 0.037846163846749804 | 0.03797599432758696 | 0.03808844407543157 | 0.03849330708700087 | 0.038733715157561834 | 0.03850606605864352 | 0.038387617890219564 | 0.03818456619722215 | 0.038691033531370204 | 0.03942009399236006 | 0.03973417620619007 |\n",
      "|    HEST     |  0.6715781426269679  | 0.6973250181449671  | 0.7137849572525664 |  0.7257931950870864  | 0.7404031786263886 |  0.7506922298600199  |  0.7668200382898394  | 0.7679694337793611  |  0.7746794362179771  |  0.773772059795458  | 0.7773900548762891  | 0.7890961991883728  |  0.7967429403323216  | 0.7913475400941848  |  0.7859230735272733  | 0.7773307333967395  |  0.7833522042814974  | 0.7945659755718668  | 0.7966207850852599  |\n",
      "|    HOTI     |  0.9549719602321671  | 0.9951770927316544  | 1.0196167835612242 |  1.035727512038225   | 1.0539606054435033 |  1.0664568634056364  |  1.086528117679645   | 1.0849081093346995  |  1.0898549442071883  | 1.0828066470199456  |  1.084995321188164  | 1.1035196928740822  |  1.1183883342758572  | 1.1130436844313738  |  1.1044540708610506  | 1.0884965420295223  |  1.0925758853645466  | 1.1045353670179217  |  1.10263409246154   |\n",
      "|    J351     |  6.782545830619053   |  6.904329596906064  | 6.943195499349118  |  6.949134398855408   | 7.022327194023752  |  7.082253684691678   |  7.2001744601248925  |  7.17477913976559   |  7.199541929346617   |  7.157905197677902  |  7.156636271884288  | 7.2241527241562045  |  7.252593168525516   |  7.159211524980544  |  7.067618013137769   |  6.952670967663381  |  6.9698393144942745  |  7.038088698450665  |  7.03351782982356   |\n",
      "|    K409     |  1.552802638226846   | 1.6177163594574486  | 1.660279414173546  |  1.6925738494057267  | 1.7309919284486097 |  1.7574681795570444  |  1.7930068329576483  | 1.7893559118993565  |  1.7974020634076704  |  1.791039814710915  |  1.798492698695315  |  1.827391917487758  |  1.8461193843167756  |  1.830567537259997  |  1.8154815179262163  | 1.7982795403217526  |  1.8179074614746742  | 1.8501419088740665  | 1.8555564017362243  |\n",
      "+-------------+----------------------+---------------------+--------------------+----------------------+--------------------+----------------------+----------------------+---------------------+----------------------+---------------------+---------------------+---------------------+----------------------+---------------------+----------------------+---------------------+----------------------+---------------------+---------------------+\n",
      "\n"
     ]
    }
   ],
   "source": [
    "# Multiplica los casos en CMA con sus tiempos quirurgicos\n",
    "horas_en_cma_por_casos = casos_cma[ANIOS_INTERES].mul(tiempos_cma, axis=0)\n",
    "\n",
    "# Obtiene la cantidad de horas laborales\n",
    "horas_laborales = features.calcular_horas_laborales(2017, 2035, 12)\n",
    "\n",
    "# Obtiene cantidad de pabellones de hemodinamia\n",
    "pabellones_cma = pb.calcular_cantidad_de_pabellones_necesarios(\n",
    "    horas_en_cma_por_casos, horas_laborales\n",
    ")\n",
    "\n",
    "# Obtiene la cantidad de pabellones totales por anio\n",
    "cantidad_de_pabellones_necesarios = pabellones_cma.sum()"
   ]
  },
  {
   "cell_type": "code",
   "execution_count": 6,
   "metadata": {},
   "outputs": [
    {
     "name": "stdout",
     "output_type": "stream",
     "text": [
      "> Pabellones de CMA 2035: 11.09\n"
     ]
    }
   ],
   "source": [
    "print(f\"> Pabellones de CMA 2035: {cantidad_de_pabellones_necesarios['2035']:.2f}\")"
   ]
  },
  {
   "cell_type": "code",
   "execution_count": 7,
   "metadata": {},
   "outputs": [],
   "source": [
    "# Carga el resumen de area de estudio para MINSAL\n",
    "resumen_area_de_estudio_minsal = (\n",
    "    pd.read_excel(\n",
    "        \"../data/interim/0.1_casos_teoricos_diagnosticos.xlsx\", sheet_name=\"resumen_total_RDR\"\n",
    "    )\n",
    "    .sort_values(\"Diagnostico\")\n",
    ")\n",
    "resumen_area_de_estudio_minsal[\"diagnostico_separado\"] = (\n",
    "    resumen_area_de_estudio_minsal[\"Diagnostico\"].str.split(\" - \").str[0]\n",
    ")\n",
    "resumen_area_de_estudio_minsal = resumen_area_de_estudio_minsal.set_index(\"diagnostico_separado\")\n",
    "\n",
    "# Sintetiza informacion de pabellon para el 2035\n",
    "resumen_quirurgicos = pd.DataFrame(\n",
    "    {\n",
    "        \"casos_cma_2035\": casos_cma[\"2035\"],\n",
    "        \"tiempo_quirurgicos\": tiempos_cma,\n",
    "        \"horas_cma_2035\": horas_en_cma_por_casos[\"2035\"],\n",
    "        \"horas_laborales_2035_pabellon_12_hrs\": horas_laborales[\"2035\"],\n",
    "        \"cantidad_de_pabellones_cma\": pabellones_cma[\"2035\"],\n",
    "    }\n",
    ")\n",
    "\n",
    "# Une ambos resumenes segun el diagnostico\n",
    "resumen_minsal = resumen_area_de_estudio_minsal.merge(\n",
    "    resumen_quirurgicos, how=\"inner\", left_index=True, right_index=True\n",
    ")"
   ]
  },
  {
   "cell_type": "code",
   "execution_count": 8,
   "metadata": {},
   "outputs": [],
   "source": [
    "a_guardar = {\n",
    "    \"resumen_MINSAL\": resumen_minsal,\n",
    "    \"casos_cma\": casos_cma,\n",
    "    \"resumen_duraciones_cma\": tiempos_cma,\n",
    "    \"tiempo_utilizado_pabellon\": horas_en_cma_por_casos,\n",
    "    \"horas_laborales_por_anio\": horas_laborales,\n",
    "    \"pabellones_desg\": pabellones_cma,\n",
    "    \"pabellones_totales\": cantidad_de_pabellones_necesarios,\n",
    "}"
   ]
  },
  {
   "cell_type": "code",
   "execution_count": 9,
   "metadata": {},
   "outputs": [],
   "source": [
    "with pd.ExcelWriter(\"../data/interim/2.2_estimacion_pabellones_CMA_RDR.xlsx\") as file:\n",
    "    for nombre_hoja, df_a_guardar in a_guardar.items():\n",
    "        df_a_guardar.to_excel(file, sheet_name=nombre_hoja)"
   ]
  }
 ],
 "metadata": {
  "kernelspec": {
   "display_name": "proyeccion-rdr",
   "language": "python",
   "name": "python3"
  },
  "language_info": {
   "codemirror_mode": {
    "name": "ipython",
    "version": 3
   },
   "file_extension": ".py",
   "mimetype": "text/x-python",
   "name": "python",
   "nbconvert_exporter": "python",
   "pygments_lexer": "ipython3",
   "version": "3.10.17"
  }
 },
 "nbformat": 4,
 "nbformat_minor": 2
}
