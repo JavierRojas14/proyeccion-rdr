{
 "cells": [
  {
   "cell_type": "code",
   "execution_count": 41,
   "metadata": {},
   "outputs": [
    {
     "name": "stdout",
     "output_type": "stream",
     "text": [
      "The autoreload extension is already loaded. To reload it, use:\n",
      "  %reload_ext autoreload\n"
     ]
    }
   ],
   "source": [
    "import sys\n",
    "import os\n",
    "\n",
    "project_root = os.path.abspath('..')\n",
    "if project_root not in sys.path:\n",
    "    sys.path.append(project_root)\n",
    " \n",
    "%load_ext autoreload\n",
    "%autoreload 2"
   ]
  },
  {
   "cell_type": "code",
   "execution_count": 42,
   "metadata": {},
   "outputs": [],
   "source": [
    "import pandas as pd\n",
    "import numpy as np\n",
    "\n",
    "import matplotlib.pyplot as plt\n",
    "\n",
    "import proyeccion_rdr.features as features\n",
    "import proyeccion_rdr.produccion.a03_pabellon as pb\n",
    "\n",
    "pd.set_option('display.max_columns', None)\n",
    "\n",
    "# Agrega las columnas de poblacion de interes\n",
    "ANIOS_INTERES = [str(i) for i in range(2017, 2036)]"
   ]
  },
  {
   "cell_type": "markdown",
   "metadata": {},
   "source": [
    "## Obtencion de casos por area de influencia RDR"
   ]
  },
  {
   "cell_type": "code",
   "execution_count": 43,
   "metadata": {},
   "outputs": [],
   "source": [
    "# Lee los casos de todos los macroprocesos\n",
    "RUTA_ARCHIVOS = \"../data/interim/0.1_casos_teoricos_diagnosticos.xlsx\"\n",
    "_, casos_macroproceso = features.leer_casos_macroprocesos(RUTA_ARCHIVOS)\n",
    "\n",
    "# Obtiene los casos de CMA\n",
    "casos_cma = casos_macroproceso.query(\"tipo_paciente == 'cma'\")"
   ]
  },
  {
   "cell_type": "markdown",
   "metadata": {},
   "source": [
    "## Obtencion de porcentajes de CMA"
   ]
  },
  {
   "cell_type": "code",
   "execution_count": 44,
   "metadata": {},
   "outputs": [],
   "source": [
    "# Define la ruta donde estan los porcentajes de CMA\n",
    "RUTA_PLANILLA_PORCENTAJES = (\n",
    "    \"../data/raw/3_incidencias_y_porcentajes_marcoprocesos/incidencias_y_prevalencias_RDR.xlsx\"\n",
    ")\n",
    "\n",
    "# Solamente lee los diagnosticos y el porcentaje de CMA\n",
    "datos_cma = pd.read_excel(\n",
    "    RUTA_PLANILLA_PORCENTAJES,\n",
    "    usecols=[\"Diagnostico\", \"Porcentaje Pacientes CMA\", \"Horas en CMA\"],\n",
    ")\n",
    "\n",
    "# Deja los diagnosticos que SI aportan a la cantidad de pabellones de CMA (porcentaje > 0)\n",
    "datos_cma = datos_cma.query(\"`Porcentaje Pacientes CMA` > 0\")\n",
    "\n",
    "# Formatea la columna de diagnosticos\n",
    "datos_cma[\"Diagnostico\"] = datos_cma[\"Diagnostico\"].str.split(\" - \").str[0]\n",
    "\n",
    "# Deja como indice a los diagnosticos\n",
    "datos_cma = datos_cma.set_index(\"Diagnostico\")\n",
    "\n",
    "# Indica el tiempo quirurgico por diagnostico promedio (o 75%)\n",
    "tiempos_cma = datos_cma[\"Horas en CMA\"]"
   ]
  },
  {
   "cell_type": "code",
   "execution_count": 45,
   "metadata": {},
   "outputs": [
    {
     "name": "stdout",
     "output_type": "stream",
     "text": [
      "Horas laborales por año calculadas:\n",
      "+---+-------+--------------------------------------------+\n",
      "|   | fecha | horas_laborales_funcionamiento_de_12_horas |\n",
      "+---+-------+--------------------------------------------+\n",
      "| 0 | 2017  |                    2976                    |\n",
      "| 1 | 2018  |                    2964                    |\n",
      "| 2 | 2019  |                    2988                    |\n",
      "| 3 | 2020  |                    3024                    |\n",
      "| 4 | 2021  |                    3012                    |\n",
      "+---+-------+--------------------------------------------+\n",
      "\n",
      "Cantidad de pabellones necesarios calculada:\n",
      "+-------------+-----------------------+-----------------------+-----------------------+-----------------------+-----------------------+-----------------------+-----------------------+-----------------------+-----------------------+-----------------------+-----------------------+-----------------------+-----------------------+-----------------------+-----------------------+-----------------------+-----------------------+-----------------------+-----------------------+\n",
      "| Diagnostico |         2017          |         2018          |         2019          |         2020          |         2021          |         2022          |         2023          |         2024          |         2025          |         2026          |         2027          |         2028          |         2029          |         2030          |         2031          |         2032          |         2033          |         2034          |         2035          |\n",
      "+-------------+-----------------------+-----------------------+-----------------------+-----------------------+-----------------------+-----------------------+-----------------------+-----------------------+-----------------------+-----------------------+-----------------------+-----------------------+-----------------------+-----------------------+-----------------------+-----------------------+-----------------------+-----------------------+-----------------------+\n",
      "|    A080     |  0.13189048981527488  |  0.1343353378631286   |  0.1357182165852335   |  0.13899621352471855  |  0.1441249226696484   |  0.14822405687909307  |  0.1520633961981244   |  0.1516886350115697   |  0.15188512288075565  |  0.15050862566265358  |  0.14998978855365763  |  0.15099475226954523  |  0.1511372638334576   |  0.14865350097104918  |  0.14646561758908813  |  0.14379040286000275  |   0.144127789173013   |  0.14538114745995806  |  0.1449777074206224   |\n",
      "|    AGTO     |  0.02372019615633492  |  0.02462957795263752  |  0.02521094437833201  | 0.025635076342800888  | 0.026151102183126017  | 0.026514512333089574  | 0.027084147875471434  | 0.027124744620276156  |  0.02736174246751233  |  0.02732969385639227  | 0.027457481745191435  | 0.027870943741186184  | 0.028141027277826736  | 0.027950461290241237  | 0.027758868677492828  |  0.02745538650557316  |  0.02766806536075064  | 0.028064136700445184  | 0.028136712744285638  |\n",
      "|    C910     | 0.0007116058846900474 | 0.0007388873385791256 | 0.0007563283313499602 | 0.0007690522902840265 | 0.0007845330654937806 | 0.0007954353699926874 | 0.000812524436264143  | 0.0008137423386082849 | 0.0008208522740253697 | 0.0008198908156917682 | 0.000823724452355743  | 0.0008361283122355854 | 0.0008442308183348018 | 0.0008385138387072373 | 0.0008327660603247851 | 0.0008236615951671947 | 0.0008300419608225189 | 0.0008419241010133555 | 0.0008441013823285691 |\n",
      "|    D70X     | 0.0004994031620554012 | 0.0005141673412575843 | 0.0005333858204712841 | 0.0005560664977060486 | 0.0005765024591292397 | 0.0005862676019555183 | 0.0005960870332604872 | 0.0005920447058102801 | 0.000591366960168004  | 0.0005847723060559287 | 0.0005816459005104728 | 0.0005843949251576216 | 0.0005840696232464725 |  0.0005738475085997   | 0.0005679404109444737 | 0.0005569035942582645 | 0.0005571725323697019 | 0.0005620961685637027 | 0.0005607795554649157 |\n",
      "|    G473     |  0.08966234147094597  |  0.09309980466096981  |  0.09529736975009498  |  0.09690058857578733  |  0.09885116625221634  |  0.1002248566190786   |  0.10237807896928201  |  0.10253153466464388  |  0.10342738652719659  |  0.10330624277716277  |  0.1037892809968236   |  0.10535216734168378  |  0.10637308311018506  |  0.10565274367711186  |  0.10492852360092286  |  0.10378136099106654  |  0.10458528706363737  |  0.10608243672768279  |  0.1063567741733997   |\n",
      "+-------------+-----------------------+-----------------------+-----------------------+-----------------------+-----------------------+-----------------------+-----------------------+-----------------------+-----------------------+-----------------------+-----------------------+-----------------------+-----------------------+-----------------------+-----------------------+-----------------------+-----------------------+-----------------------+-----------------------+\n",
      "\n"
     ]
    }
   ],
   "source": [
    "# Multiplica los casos en CMA con sus tiempos quirurgicos\n",
    "horas_en_cma_por_casos = casos_cma[ANIOS_INTERES].mul(tiempos_cma, axis=0)\n",
    "\n",
    "# Obtiene la cantidad de horas laborales\n",
    "horas_laborales = features.calcular_horas_laborales(2017, 2035, 12)\n",
    "\n",
    "# Obtiene cantidad de pabellones de hemodinamia\n",
    "pabellones_cma = pb.calcular_cantidad_de_pabellones_necesarios(\n",
    "    horas_en_cma_por_casos, horas_laborales\n",
    ")\n",
    "\n",
    "# Obtiene la cantidad de pabellones totales por anio\n",
    "cantidad_de_pabellones_necesarios = pabellones_cma.sum()"
   ]
  },
  {
   "cell_type": "code",
   "execution_count": 46,
   "metadata": {},
   "outputs": [
    {
     "name": "stdout",
     "output_type": "stream",
     "text": [
      "> Pabellones de CMA 2035: 5.14\n"
     ]
    }
   ],
   "source": [
    "print(f\"> Pabellones de CMA 2035: {cantidad_de_pabellones_necesarios['2035']:.2f}\")"
   ]
  },
  {
   "cell_type": "code",
   "execution_count": 47,
   "metadata": {},
   "outputs": [],
   "source": [
    "# Carga el resumen de area de estudio para MINSAL\n",
    "resumen_area_de_estudio_minsal = (\n",
    "    pd.read_excel(\n",
    "        \"../data/interim/0.1_casos_teoricos_diagnosticos.xlsx\", sheet_name=\"resumen_total_RDR\"\n",
    "    )\n",
    "    .sort_values(\"Diagnostico\")\n",
    ")\n",
    "resumen_area_de_estudio_minsal[\"diagnostico_separado\"] = (\n",
    "    resumen_area_de_estudio_minsal[\"Diagnostico\"].str.split(\" - \").str[0]\n",
    ")\n",
    "resumen_area_de_estudio_minsal = resumen_area_de_estudio_minsal.set_index(\"diagnostico_separado\")\n",
    "\n",
    "# Sintetiza informacion de pabellon para el 2035\n",
    "resumen_quirurgicos = pd.DataFrame(\n",
    "    {\n",
    "        \"casos_cma_2035\": casos_cma[\"2035\"],\n",
    "        \"tiempo_quirurgicos\": tiempos_cma,\n",
    "        \"horas_cma_2035\": horas_en_cma_por_casos[\"2035\"],\n",
    "        \"horas_laborales_2035_pabellon_12_hrs\": horas_laborales[\"2035\"],\n",
    "        \"cantidad_de_pabellones_cma\": pabellones_cma[\"2035\"],\n",
    "    }\n",
    ")\n",
    "\n",
    "# Une ambos resumenes segun el diagnostico\n",
    "resumen_minsal = resumen_area_de_estudio_minsal.merge(\n",
    "    resumen_quirurgicos, how=\"inner\", left_index=True, right_index=True\n",
    ")"
   ]
  },
  {
   "cell_type": "code",
   "execution_count": 48,
   "metadata": {},
   "outputs": [],
   "source": [
    "a_guardar = {\n",
    "    \"resumen_MINSAL\": resumen_minsal,\n",
    "    \"casos_cma\": casos_cma,\n",
    "    \"resumen_duraciones_cma\": tiempos_cma,\n",
    "    \"tiempo_utilizado_pabellon\": horas_en_cma_por_casos,\n",
    "    \"horas_laborales_por_anio\": horas_laborales,\n",
    "    \"pabellones_desg\": pabellones_cma,\n",
    "    \"pabellones_totales\": cantidad_de_pabellones_necesarios,\n",
    "}"
   ]
  },
  {
   "cell_type": "code",
   "execution_count": 49,
   "metadata": {},
   "outputs": [],
   "source": [
    "with pd.ExcelWriter(\"../data/interim/2.2_estimacion_pabellones_CMA_RDR.xlsx\") as file:\n",
    "    for nombre_hoja, df_a_guardar in a_guardar.items():\n",
    "        df_a_guardar.to_excel(file, sheet_name=nombre_hoja)"
   ]
  }
 ],
 "metadata": {
  "kernelspec": {
   "display_name": "proyeccion-rdr",
   "language": "python",
   "name": "python3"
  },
  "language_info": {
   "codemirror_mode": {
    "name": "ipython",
    "version": 3
   },
   "file_extension": ".py",
   "mimetype": "text/x-python",
   "name": "python",
   "nbconvert_exporter": "python",
   "pygments_lexer": "ipython3",
   "version": "3.10.16"
  }
 },
 "nbformat": 4,
 "nbformat_minor": 2
}
