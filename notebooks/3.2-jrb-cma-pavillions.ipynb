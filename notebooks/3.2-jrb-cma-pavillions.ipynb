{
 "cells": [
  {
   "cell_type": "code",
   "execution_count": 1,
   "metadata": {},
   "outputs": [],
   "source": [
    "import sys\n",
    "import os\n",
    "\n",
    "project_root = os.path.abspath('..')\n",
    "if project_root not in sys.path:\n",
    "    sys.path.append(project_root)\n",
    " \n",
    "%load_ext autoreload\n",
    "%autoreload 2"
   ]
  },
  {
   "cell_type": "code",
   "execution_count": 2,
   "metadata": {},
   "outputs": [
    {
     "name": "stderr",
     "output_type": "stream",
     "text": [
      "\u001b[32m2025-06-23 12:48:32.702\u001b[0m | \u001b[1mINFO    \u001b[0m | \u001b[36mproyeccion_rdr.config\u001b[0m:\u001b[36m<module>\u001b[0m:\u001b[36m11\u001b[0m - \u001b[1mPROJ_ROOT path is: C:\\Users\\jarojas\\Desktop\\Javier\\SSMN\\EPH - RDR\\2.0-proyeccion-rdr\u001b[0m\n"
     ]
    }
   ],
   "source": [
    "import pandas as pd\n",
    "import numpy as np\n",
    "\n",
    "import matplotlib.pyplot as plt\n",
    "\n",
    "import proyeccion_rdr.features as features\n",
    "import proyeccion_rdr.produccion.a03_pabellon as pb\n",
    "\n",
    "pd.set_option('display.max_columns', None)\n",
    "\n",
    "# Agrega las columnas de poblacion de interes\n",
    "ANIOS_INTERES = [str(i) for i in range(2017, 2036)]"
   ]
  },
  {
   "cell_type": "markdown",
   "metadata": {},
   "source": [
    "## Obtencion de casos por area de influencia RDR"
   ]
  },
  {
   "cell_type": "code",
   "execution_count": 3,
   "metadata": {},
   "outputs": [],
   "source": [
    "# Lee los casos de todos los macroprocesos\n",
    "RUTA_ARCHIVOS = \"../data/interim/0.1_casos_teoricos_diagnosticos.xlsx\"\n",
    "_, casos_macroproceso = features.leer_casos_macroprocesos(RUTA_ARCHIVOS)\n",
    "\n",
    "# Obtiene los casos de CMA\n",
    "casos_cma = casos_macroproceso.query(\"tipo_paciente == 'cma'\")"
   ]
  },
  {
   "cell_type": "markdown",
   "metadata": {},
   "source": [
    "## Obtencion de porcentajes de CMA"
   ]
  },
  {
   "cell_type": "code",
   "execution_count": 4,
   "metadata": {},
   "outputs": [],
   "source": [
    "# Define la ruta donde estan los porcentajes de CMA\n",
    "RUTA_PLANILLA_PORCENTAJES = (\n",
    "    \"../data/raw/3_incidencias_y_porcentajes_marcoprocesos/incidencias_y_prevalencias_RDR.xlsx\"\n",
    ")\n",
    "\n",
    "# Solamente lee los diagnosticos y el porcentaje de CMA\n",
    "datos_cma = pd.read_excel(\n",
    "    RUTA_PLANILLA_PORCENTAJES,\n",
    "    usecols=[\"Diagnostico\", \"Porcentaje Pacientes CMA\", \"Horas en CMA\"],\n",
    ")\n",
    "\n",
    "# Deja los diagnosticos que SI aportan a la cantidad de pabellones de CMA (porcentaje > 0)\n",
    "datos_cma = datos_cma.query(\"`Porcentaje Pacientes CMA` > 0\")\n",
    "\n",
    "# Formatea la columna de diagnosticos\n",
    "datos_cma[\"Diagnostico\"] = datos_cma[\"Diagnostico\"].str.split(\" - \").str[0]\n",
    "\n",
    "# Deja como indice a los diagnosticos\n",
    "datos_cma = datos_cma.set_index(\"Diagnostico\")\n",
    "\n",
    "# Indica el tiempo quirurgico por diagnostico promedio (o 75%)\n",
    "tiempos_cma = datos_cma[\"Horas en CMA\"]"
   ]
  },
  {
   "cell_type": "code",
   "execution_count": 5,
   "metadata": {},
   "outputs": [
    {
     "name": "stdout",
     "output_type": "stream",
     "text": [
      "Horas laborales por año calculadas:\n",
      "+---+------+-------------------------------+\n",
      "|   | anio | horas_laborales_con_sabado_6h |\n",
      "+---+------+-------------------------------+\n",
      "| 0 | 2017 |             3282              |\n",
      "| 1 | 2018 |             3264              |\n",
      "| 2 | 2019 |             3282              |\n",
      "| 3 | 2020 |             3312              |\n",
      "| 4 | 2021 |             3300              |\n",
      "+---+------+-------------------------------+\n",
      "\n",
      "Cantidad de pabellones necesarios calculada:\n",
      "+-------------+---------------------+----------------------+----------------------+----------------------+---------------------+----------------------+--------------------+----------------------+---------------------+----------------------+----------------------+--------------------+----------------------+---------------------+---------------------+---------------------+----------------------+----------------------+----------------------+\n",
      "| Diagnostico |        2017         |         2018         |         2019         |         2020         |        2021         |         2022         |        2023        |         2024         |        2025         |         2026         |         2027         |        2028        |         2029         |        2030         |        2031         |        2032         |         2033         |         2034         |         2035         |\n",
      "+-------------+---------------------+----------------------+----------------------+----------------------+---------------------+----------------------+--------------------+----------------------+---------------------+----------------------+----------------------+--------------------+----------------------+---------------------+---------------------+---------------------+----------------------+----------------------+----------------------+\n",
      "|    DQUI     | 0.02912290185330468 | 0.030256970596135642 | 0.031093629754375657 | 0.031791977130554656 | 0.03248266782510024 | 0.032917622534932744 | 0.0335349787368196 | 0.033898278443923784 | 0.03439304670744781 | 0.034661725731724824 | 0.034764361683393905 | 0.0349043515816315 | 0.035160494202067204 | 0.03504405277997649 | 0.03496140062861527 | 0.03487615612959279 | 0.035250270113879933 | 0.035731241160047465 | 0.036068661796024935 |\n",
      "|    HEST     | 0.6089629958738138  |  0.6332326451537017  |  0.6498444400580952  |  0.6626807433403832  | 0.6757861739462675  |  0.6836905554280691  | 0.6950625668168452 |  0.6991750969325811  | 0.7039970059061179  |  0.7062428618496727  |  0.7095451046325402  | 0.7155241586790364 |  0.7232426690839525  |  0.72019886217746   | 0.7157769339956952  | 0.7099807781565889  |  0.7136893040822354  |  0.7202120952889949  |  0.7231317827711214  |\n",
      "|    HOTI     |  0.865934355164817  |  0.9037086099438186  |  0.9282799967339849  |  0.9456642501218576  | 0.9619785889684339  |  0.9712721888940221  | 0.9848530094197151 |  0.9877225565789404  |  0.990415624480255  |  0.9883071578254776  |  0.9903048204299242  | 1.0006321163903926 |  1.0152159787153536  | 1.0129718669320393  | 1.0058780244636163  | 0.9941863723229932  |  0.9954139645245054  |  1.0011751767098225  |  1.0009150802418407  |\n",
      "|    J351     |  1.537542382078177  |  1.5674351198858432  |  1.5803068366891506  |  1.5862154606083008  | 1.6023673869999653  |  1.6125349919607643  | 1.6315991666521543 |  1.6330164586852212  | 1.6356623543862294  |   1.63330382237923   |  1.6330142765845057  | 1.6376507089494865 |  1.6458836895362334  | 1.6288848240322713  | 1.6092026441570517  | 1.5875683707751218  |  1.5875042358784606  |  1.594869640841573   |  1.5961673303843134  |\n",
      "|    K409     | 1.4080257926152022  |  1.469029194066139   |  1.5115523734157694  |  1.545393514674794   |  1.579923541965822  |  1.6006085424016798  | 1.6252208724423454 |  1.6290662598279333  | 1.6334055247755837  |  1.6347308854270535  |  1.6415333359000874  |  1.65701351201815  |  1.6758131680513904  | 1.6659844008824927  | 1.6534440053972825  |  1.642471926719868  |  1.6562423696193946  |  1.677009363273007   |  1.6843796119081593  |\n",
      "+-------------+---------------------+----------------------+----------------------+----------------------+---------------------+----------------------+--------------------+----------------------+---------------------+----------------------+----------------------+--------------------+----------------------+---------------------+---------------------+---------------------+----------------------+----------------------+----------------------+\n",
      "\n"
     ]
    }
   ],
   "source": [
    "# Multiplica los casos en CMA con sus tiempos quirurgicos\n",
    "horas_en_cma_por_casos = casos_cma[ANIOS_INTERES].mul(tiempos_cma, axis=0)\n",
    "\n",
    "# Obtiene la cantidad de horas laborales\n",
    "horas_laborales = features.calcular_horas_laborales(\n",
    "    2017, 2035, horas_por_dia_semana=12, incluir_sabado=True, horas_sabado=6\n",
    ")\n",
    "\n",
    "# Obtiene cantidad de pabellones de hemodinamia\n",
    "pabellones_cma = pb.calcular_cantidad_de_pabellones_necesarios(\n",
    "    horas_en_cma_por_casos, horas_laborales\n",
    ")\n",
    "\n",
    "# Obtiene la cantidad de pabellones totales por anio\n",
    "cantidad_de_pabellones_necesarios = pabellones_cma.sum()"
   ]
  },
  {
   "cell_type": "code",
   "execution_count": 6,
   "metadata": {},
   "outputs": [
    {
     "name": "stdout",
     "output_type": "stream",
     "text": [
      "> Pabellones de CMA 2035: 5.28\n"
     ]
    }
   ],
   "source": [
    "print(f\"> Pabellones de CMA 2035: {cantidad_de_pabellones_necesarios['2035']:.2f}\")"
   ]
  },
  {
   "cell_type": "markdown",
   "metadata": {},
   "source": [
    "## Obtener resumen para MINSAL"
   ]
  },
  {
   "cell_type": "code",
   "execution_count": 7,
   "metadata": {},
   "outputs": [],
   "source": [
    "# Obtiene porcentaje de hospitalizados\n",
    "porcentaje_cma = pd.read_excel(\n",
    "    \"../data/raw/3_incidencias_y_porcentajes_marcoprocesos/incidencias_y_prevalencias_RDR.xlsx\"\n",
    ")\n",
    "\n",
    "porcentaje_cma[\"Diagnostico\"] = porcentaje_cma[\"Diagnostico\"].str.split(\" - \").str[0]\n",
    "\n",
    "# Filtra los porcentajes de hospitalizados\n",
    "porcentaje_cma = porcentaje_cma.set_index(\"Diagnostico\")\n",
    "porcentaje_cma = porcentaje_cma[\"Porcentaje Pacientes CMA\"]\n",
    "porcentaje_cma = porcentaje_cma.dropna()\n",
    "porcentaje_cma = porcentaje_cma[porcentaje_cma > 0]"
   ]
  },
  {
   "cell_type": "code",
   "execution_count": 8,
   "metadata": {},
   "outputs": [],
   "source": [
    "# Carga el resumen de area de estudio para MINSAL\n",
    "resumen_area_de_estudio_minsal = pd.read_excel(\n",
    "    \"../data/interim/0.1_casos_teoricos_diagnosticos.xlsx\", sheet_name=\"resumen_total_RDR\"\n",
    ").sort_values(\"Diagnostico\")\n",
    "resumen_area_de_estudio_minsal[\"diagnostico_separado\"] = (\n",
    "    resumen_area_de_estudio_minsal[\"Diagnostico\"].str.split(\" - \").str[0]\n",
    ")\n",
    "resumen_area_de_estudio_minsal = resumen_area_de_estudio_minsal.set_index(\"diagnostico_separado\")\n",
    "\n",
    "# Sintetiza informacion de pabellon para el 2035\n",
    "resumen_quirurgicos = pd.DataFrame(\n",
    "    {\n",
    "        \"porcentaje_cma\": porcentaje_cma,\n",
    "        \"casos_cma_2035\": casos_cma[\"2035\"],\n",
    "        \"tiempo_quirurgicos\": tiempos_cma,\n",
    "        \"horas_cma_2035\": horas_en_cma_por_casos[\"2035\"],\n",
    "        \"horas_laborales_2035_pabellon_12_hrs\": horas_laborales[\"2035\"],\n",
    "        \"cantidad_de_pabellones_cma\": pabellones_cma[\"2035\"],\n",
    "    }\n",
    ")\n",
    "\n",
    "# Une ambos resumenes segun el diagnostico\n",
    "resumen_minsal = resumen_area_de_estudio_minsal.merge(\n",
    "    resumen_quirurgicos, how=\"inner\", left_index=True, right_index=True\n",
    ")"
   ]
  },
  {
   "cell_type": "code",
   "execution_count": 9,
   "metadata": {},
   "outputs": [],
   "source": [
    "a_guardar = {\n",
    "    \"resumen_MINSAL\": resumen_minsal,\n",
    "    \"casos_cma\": casos_cma,\n",
    "    \"resumen_duraciones_cma\": tiempos_cma,\n",
    "    \"tiempo_utilizado_pabellon\": horas_en_cma_por_casos,\n",
    "    \"horas_laborales_por_anio\": horas_laborales,\n",
    "    \"pabellones_desg\": pabellones_cma,\n",
    "    \"pabellones_totales\": cantidad_de_pabellones_necesarios,\n",
    "}"
   ]
  },
  {
   "cell_type": "code",
   "execution_count": 10,
   "metadata": {},
   "outputs": [],
   "source": [
    "with pd.ExcelWriter(\"../data/interim/2.2_estimacion_pabellones_CMA_RDR.xlsx\") as file:\n",
    "    for nombre_hoja, df_a_guardar in a_guardar.items():\n",
    "        df_a_guardar.to_excel(file, sheet_name=nombre_hoja)"
   ]
  }
 ],
 "metadata": {
  "kernelspec": {
   "display_name": "proyeccion-rdr",
   "language": "python",
   "name": "python3"
  },
  "language_info": {
   "codemirror_mode": {
    "name": "ipython",
    "version": 3
   },
   "file_extension": ".py",
   "mimetype": "text/x-python",
   "name": "python",
   "nbconvert_exporter": "python",
   "pygments_lexer": "ipython3",
   "version": "3.10.17"
  }
 },
 "nbformat": 4,
 "nbformat_minor": 2
}
