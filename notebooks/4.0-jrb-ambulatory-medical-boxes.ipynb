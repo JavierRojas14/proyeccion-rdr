{
 "cells": [
  {
   "cell_type": "code",
   "execution_count": 1,
   "metadata": {},
   "outputs": [],
   "source": [
    "import sys\n",
    "import os\n",
    "\n",
    "project_root = os.path.abspath('..')\n",
    "if project_root not in sys.path:\n",
    "    sys.path.append(project_root)\n",
    " \n",
    "%load_ext autoreload\n",
    "%autoreload 2"
   ]
  },
  {
   "cell_type": "code",
   "execution_count": 2,
   "metadata": {},
   "outputs": [
    {
     "name": "stderr",
     "output_type": "stream",
     "text": [
      "\u001b[32m2025-05-30 12:03:27.142\u001b[0m | \u001b[1mINFO    \u001b[0m | \u001b[36mproyeccion_rdr.config\u001b[0m:\u001b[36m<module>\u001b[0m:\u001b[36m11\u001b[0m - \u001b[1mPROJ_ROOT path is: C:\\Users\\javie\\OneDrive\\Documents\\Trabajo\\SSMN\\2.0-proyeccion-rdr\u001b[0m\n"
     ]
    }
   ],
   "source": [
    "import pandas as pd\n",
    "import numpy as np\n",
    "\n",
    "import proyeccion_rdr.features as features\n",
    "from proyeccion_rdr.produccion.a04_ambulatorio import (\n",
    "    obtener_distribucion_consultas,\n",
    "    procesar_incidencias,\n",
    "    leer_consultas_medicas,\n",
    "    expandir_serie_rendimientos,\n",
    ")\n",
    "\n",
    "pd.set_option(\"display.max_columns\", None)\n",
    "\n",
    "ANIOS_POBLACION = [str(i) for i in range(2017, 2036)]"
   ]
  },
  {
   "cell_type": "code",
   "execution_count": 3,
   "metadata": {},
   "outputs": [],
   "source": [
    "# Lee los casos de todos los macroprocesos\n",
    "RUTA_ARCHIVOS = \"../data/interim/0.1_casos_teoricos_diagnosticos.xlsx\"\n",
    "casos_macroproceso_por_region, casos_macroproceso = features.leer_casos_macroprocesos(\n",
    "    RUTA_ARCHIVOS\n",
    ")\n",
    "\n",
    "# Pone el indice en el DataFrame de los casos\n",
    "casos_macroproceso = casos_macroproceso.reset_index().set_index([\"Diagnostico\", \"tipo_paciente\"])\n",
    "casos_macroproceso_por_region = casos_macroproceso_por_region.reset_index().set_index(\n",
    "    [\"Diagnostico\", \"tipo_paciente\"]\n",
    ")\n",
    "\n",
    "# Define las areas de influencia presenciales\n",
    "AREAS_PRESENCIALES = [\n",
    "    \"Metropolitana de Santiago\",\n",
    "    \"COMUNAS_SIN_SS_EN_RM\",\n",
    "    \"SSMC\",\n",
    "    \"SSMN\",\n",
    "    \"SSMO\",\n",
    "    \"SSMOC\",\n",
    "    \"SSMS\",\n",
    "    \"SSMSO\",\n",
    "    \"Acotado por oferta\",\n",
    "]\n",
    "casos_macroproceso_por_region[\"es_presencial\"] = np.where(\n",
    "    casos_macroproceso_por_region[\"Estrato\"].isin(AREAS_PRESENCIALES),\n",
    "    \"Box Presencial\",\n",
    "    \"Box de Telemedicina\",\n",
    ")"
   ]
  },
  {
   "cell_type": "markdown",
   "metadata": {},
   "source": [
    "## Objetivo de este cuadernillo\n",
    "\n",
    "En este cuadernillo se quieren estimar la cantidad de pacientes ambulatorios que asisitrán al INT para el 2035. Este insumo se utilizará para estimar la cantidad de Box Ambulatorios para cada especialidad. Por lo tanto, es necesario hacer los siguientes calculos:\n",
    "\n",
    "1. Pacientes Ambulatorios\n",
    "2. Boxes Ambulatorios"
   ]
  },
  {
   "cell_type": "code",
   "execution_count": 4,
   "metadata": {},
   "outputs": [
    {
     "name": "stdout",
     "output_type": "stream",
     "text": [
      "Iniciando proceso...\n",
      "Cargando datos desde ../data/raw/3_incidencias_y_porcentajes_marcoprocesos/incidencias_y_prevalencias_RDR.xlsx, hoja: consultas_medicas\n",
      "Separando diagnósticos por especialidad...\n",
      "Diagnósticos únicos ingresados: 44\n",
      "Indexando por tipo de paciente y diagnóstico...\n",
      "Uniendo casos por diagnóstico con macroprocesos...\n",
      "Controlando las trazadoras ingresadas...\n",
      "Todas las trazadoras tienen casos asociados. No se requiere control adicional.\n",
      "Identificando casos duplicados...\n",
      "Especialidades con diagnósticos duplicados: \n",
      "\n",
      "ESTAMENTO/ESPECIALIDAD\n",
      "ANESTESIOLOGÍA                                                 [HOTI]\n",
      "CIRUGÍA CARDIOVASCULAR                       [Q211, Q234, Q250, Q251]\n",
      "CIRUGÍA PEDIÁTRICA                                       [K409, Q531]\n",
      "CIRUGÍA Y TRAUMATOLOGÍA BUCO MAXILOFACIAL                      [HEST]\n",
      "DERMATOLOGÍA                                                   [DQUI]\n",
      "OFTALMOLOGÍA                                                   [HEST]\n",
      "OTORRINOLARINGOLOGÍA                                     [HOTI, J351]\n",
      "TRAUMATOLOGÍA Y ORTOPEDIA                                      [SFRA]\n",
      "UROLOGÍA                                                 [N47X, Q531]\n",
      "Name: Diagnostico, dtype: object\n",
      "\n",
      "Sumando pacientes por grupo y especialidad...\n",
      "Calculando casos a hacerse cargo...\n",
      "Sumando pacientes por grupo y especialidad...\n",
      "Sumando pacientes por grupo y especialidad...\n",
      "Proceso completado.\n"
     ]
    }
   ],
   "source": [
    "RUTA_INCIDENCIAS = (\n",
    "    \"../data/raw/3_incidencias_y_porcentajes_marcoprocesos/incidencias_y_prevalencias_RDR.xlsx\"\n",
    ")\n",
    "\n",
    "(\n",
    "    df_incidencias,\n",
    "    diagnosticos_ingresados,\n",
    "    casos_por_especialidad_long,\n",
    "    casos_totales_por_especialidad_y_grupo,\n",
    "    casos_a_hacerse_cargo_long,\n",
    "    casos_a_hacerse_cargo_por_especialidad_grupo_y_presencial,\n",
    "    casos_a_hacerse_cargo_consolidados,\n",
    ") = procesar_incidencias(\n",
    "    RUTA_INCIDENCIAS, \"consultas_medicas\", casos_macroproceso_por_region, ANIOS_POBLACION\n",
    ")"
   ]
  },
  {
   "cell_type": "markdown",
   "metadata": {},
   "source": [
    "## Test de Calidad\n",
    "\n",
    "En este test se quiere saber si todas las trazadoras estan ingresadas en el macroproceso ambulatorio"
   ]
  },
  {
   "cell_type": "code",
   "execution_count": 5,
   "metadata": {},
   "outputs": [],
   "source": [
    "# Lee la planilla de trazadoras y aisla\n",
    "trazadoras_totales = pd.read_excel(RUTA_INCIDENCIAS, sheet_name=\"trazadoras\")\n",
    "trazadoras_totales = set(trazadoras_totales[\"Diagnostico\"].str.split(\" - \").str[0].unique())"
   ]
  },
  {
   "cell_type": "code",
   "execution_count": 6,
   "metadata": {},
   "outputs": [],
   "source": [
    "# diagnosticos_sin_ingresar = trazadoras_totales - diagnosticos_ingresados\n",
    "# if len(diagnosticos_sin_ingresar) > 0:\n",
    "#     raise ValueError(f\"Falta ingresar las trazadoras: {diagnosticos_sin_ingresar}\")"
   ]
  },
  {
   "cell_type": "markdown",
   "metadata": {},
   "source": [
    "## Lectura de performance historico de ambulatorio"
   ]
  },
  {
   "cell_type": "code",
   "execution_count": 7,
   "metadata": {},
   "outputs": [
    {
     "name": "stderr",
     "output_type": "stream",
     "text": [
      "C:\\Users\\javie\\OneDrive\\Documents\\Trabajo\\SSMN\\2.0-proyeccion-rdr\\proyeccion_rdr\\produccion\\a04_ambulatorio.py:90: DtypeWarning: Columns (10,19,20,21) have mixed types. Specify dtype option on import or set low_memory=False.\n",
      "  df = pd.read_csv(ruta, dtype={\"id_paciente\": str})\n"
     ]
    }
   ],
   "source": [
    "# Lee las consultas medicas\n",
    "RUTA_AMBULATORIO = \"../data/raw/6_ambulatorio/df_procesada_consultas.csv\"\n",
    "consultas_medicas = leer_consultas_medicas(RUTA_AMBULATORIO)"
   ]
  },
  {
   "cell_type": "code",
   "execution_count": 8,
   "metadata": {},
   "outputs": [],
   "source": [
    "# Obtiene resumen de consultas acumuladas en el periodo\n",
    "agrupacion_acumulada = [\"especialidad_agrupada\"]\n",
    "distribucion_consultas_medicas_acumuladas, consultas_medicas_por_paciente_acumuladas = (\n",
    "    obtener_distribucion_consultas(consultas_medicas, agrupacion_acumulada)\n",
    ")\n",
    "\n",
    "# Aisla el nombre de la columna que tenga el 75% de las consultas\n",
    "columna_estadistica_cantidad_consultas = distribucion_consultas_medicas_acumuladas.columns[\n",
    "    distribucion_consultas_medicas_acumuladas.columns.str.contains(\"75%\")\n",
    "][0]\n",
    "\n",
    "# Indica cuantas consultas por cada una de las especialidades\n",
    "cantidad_consultas_medicas_a_ocupar = distribucion_consultas_medicas_acumuladas[\n",
    "    columna_estadistica_cantidad_consultas\n",
    "]\n",
    "\n",
    "# Filtra las especialidades para solo dejar las que estan en la cartera de servicios\n",
    "cantidad_consultas_medicas_a_ocupar = cantidad_consultas_medicas_a_ocupar[\n",
    "    cantidad_consultas_medicas_a_ocupar.index.isin(\n",
    "        casos_a_hacerse_cargo_por_especialidad_grupo_y_presencial.index.get_level_values(0)\n",
    "    )\n",
    "]"
   ]
  },
  {
   "cell_type": "markdown",
   "metadata": {},
   "source": [
    "## Definicion de desempeno para consultas sin produccion"
   ]
  },
  {
   "cell_type": "code",
   "execution_count": 9,
   "metadata": {},
   "outputs": [],
   "source": [
    "# Define la cantidad de consultas que tendran las especialidades sin un rendimiento historico\n",
    "consultas_sin_desempeno = pd.Series(\n",
    "    {\n",
    "        \"CIRUGÍA CARDIOVASCULAR\": None,\n",
    "        \"CIRUGÍA VASCULAR PERIFÉRICA\": None,\n",
    "    }\n",
    ")\n",
    "\n",
    "# Concatena las especilidades que si tienen desempeno con las que no las tienen\n",
    "cantidad_consultas_medicas_a_ocupar = pd.concat(\n",
    "    [cantidad_consultas_medicas_a_ocupar, consultas_sin_desempeno]\n",
    ")"
   ]
  },
  {
   "cell_type": "code",
   "execution_count": 10,
   "metadata": {},
   "outputs": [],
   "source": [
    "# Indica la cantidad de consultas que tendran la telemedicina\n",
    "grupos_de_pacientes = [1, 2]\n",
    "valores_es_presencial = [\"Box Presencial\", \"Box de Telemedicina\"]\n",
    "\n",
    "# Expande la cantidad de consultas segun grupo de pacientes y valores presenciales\n",
    "cantidad_consultas_medicas_a_ocupar = expandir_serie_rendimientos(\n",
    "    cantidad_consultas_medicas_a_ocupar, grupos_de_pacientes, valores_es_presencial\n",
    ")"
   ]
  },
  {
   "cell_type": "code",
   "execution_count": 11,
   "metadata": {},
   "outputs": [],
   "source": [
    "TIEMPO_CONSULTA = {\n",
    "    \"15 minutos\": 0.25,\n",
    "    \"30 minutos\": 0.5,\n",
    "    \"45 minutos\": 0.75,\n",
    "    \"60 minutos\": 1,\n",
    "    \"20 minutos\": 0.333,\n",
    "    \"40 minutos\": 0.666,\n",
    "}\n",
    "\n",
    "rendimientos_reales = pd.Series(\n",
    "    {\n",
    "        \"ANESTESIOLOGÍA\": TIEMPO_CONSULTA[\"20 minutos\"],\n",
    "        \"CARDIOLOGÍA\": TIEMPO_CONSULTA[\"30 minutos\"],\n",
    "        \"CIRUGÍA PEDIÁTRICA\": TIEMPO_CONSULTA[\"30 minutos\"],\n",
    "        \"CIRUGÍA PLÁSTICA Y REPARADORA\": TIEMPO_CONSULTA[\"30 minutos\"],\n",
    "        \"CIRUGÍA Y TRAUMATOLOGÍA BUCO MAXILOFACIAL\": TIEMPO_CONSULTA[\"30 minutos\"],\n",
    "        \"DERMATOLOGÍA\": TIEMPO_CONSULTA[\"20 minutos\"],\n",
    "        \"ENDOCRINOLOGÍA PEDIÁTRICA\": TIEMPO_CONSULTA[\"40 minutos\"],\n",
    "        \"ENFERMEDADES RESPIRATORIA PEDIÁTRICAS\": TIEMPO_CONSULTA[\"30 minutos\"],\n",
    "        \"GASTROENTEROLOGÍA PEDIÁTRICA\": TIEMPO_CONSULTA[\"40 minutos\"],\n",
    "        \"GENÉTICA CLÍNICA\": TIEMPO_CONSULTA[\"60 minutos\"],\n",
    "        \"GINECOLOGÍA PEDIÁTRICA Y DE LA ADOLESCENCIA\": TIEMPO_CONSULTA[\"30 minutos\"],\n",
    "        \"HEMATOLOGÍA\": TIEMPO_CONSULTA[\"40 minutos\"],\n",
    "        \"INFECTOLOGÍA\": TIEMPO_CONSULTA[\"40 minutos\"],\n",
    "        \"INMUNOLOGÍA\": TIEMPO_CONSULTA[\"40 minutos\"],\n",
    "        \"NEFROLOGÍA PEDIÁTRICA\": TIEMPO_CONSULTA[\"40 minutos\"],\n",
    "        \"NEUROCIRUGÍA\": TIEMPO_CONSULTA[\"30 minutos\"],\n",
    "        \"NEUROLOGÍA PEDIATRICA\": TIEMPO_CONSULTA[\"45 minutos\"],\n",
    "        \"OFTALMOLOGÍA\": TIEMPO_CONSULTA[\"20 minutos\"],\n",
    "        \"OTORRINOLARINGOLOGÍA\": TIEMPO_CONSULTA[\"20 minutos\"],\n",
    "        \"PEDIATRÍA\": TIEMPO_CONSULTA[\"30 minutos\"],\n",
    "        \"REUMATOLOGÍA\": TIEMPO_CONSULTA[\"40 minutos\"],\n",
    "        \"TRAUMATOLOGÍA Y ORTOPEDIA\": TIEMPO_CONSULTA[\"30 minutos\"],\n",
    "        \"UROLOGÍA\": TIEMPO_CONSULTA[\"30 minutos\"],\n",
    "        \"CIRUGÍA CARDIOVASCULAR\": TIEMPO_CONSULTA[\"30 minutos\"],\n",
    "        \"CIRUGÍA VASCULAR PERIFÉRICA\": TIEMPO_CONSULTA[\"30 minutos\"],\n",
    "    }\n",
    ")\n",
    "\n",
    "# Expande los rendimientos\n",
    "rendimientos_reales = expandir_serie_rendimientos(\n",
    "    rendimientos_reales, grupos_de_pacientes, valores_es_presencial\n",
    ")"
   ]
  },
  {
   "cell_type": "markdown",
   "metadata": {},
   "source": [
    "## Estimacion de Consultas al 2035"
   ]
  },
  {
   "cell_type": "code",
   "execution_count": 12,
   "metadata": {},
   "outputs": [
    {
     "name": "stdout",
     "output_type": "stream",
     "text": [
      "Horas laborales por año calculadas:\n",
      "+---+------+---------------------------------+\n",
      "|   | anio | horas_laborales_solo_semana_12h |\n",
      "+---+------+---------------------------------+\n",
      "| 0 | 2017 |              2976               |\n",
      "| 1 | 2018 |              2964               |\n",
      "| 2 | 2019 |              2988               |\n",
      "| 3 | 2020 |              3024               |\n",
      "| 4 | 2021 |              3012               |\n",
      "+---+------+---------------------------------+\n",
      "\n"
     ]
    }
   ],
   "source": [
    "# Obtiene la cantidad de horas laborales\n",
    "horas_laborales = features.calcular_horas_laborales(2017, 2035, 12)"
   ]
  },
  {
   "cell_type": "code",
   "execution_count": 13,
   "metadata": {},
   "outputs": [],
   "source": [
    "# Multiplica los casos de area de influencia\n",
    "consultas_proyectadas = casos_a_hacerse_cargo_por_especialidad_grupo_y_presencial.mul(\n",
    "    cantidad_consultas_medicas_a_ocupar, axis=0\n",
    ").dropna(axis=0, how=\"all\")\n",
    "\n",
    "# Multiplica la cantidad de consultas por el tiempo que requerira cada consulta\n",
    "tiempo_consultas = consultas_proyectadas.mul(rendimientos_reales, axis=0).dropna(axis=0, how=\"all\")\n",
    "\n",
    "# Divide la cantidad de consultas por especialidad, por el rendimiento de cada box\n",
    "boxes_proyectados = tiempo_consultas.div(horas_laborales, axis=1)"
   ]
  },
  {
   "cell_type": "code",
   "execution_count": 14,
   "metadata": {},
   "outputs": [],
   "source": [
    "# Obtiene el resumen de Boxes por estamnento\n",
    "boxes_consolidados = (\n",
    "    boxes_proyectados.reset_index()\n",
    "    .groupby(\"ESTAMENTO/ESPECIALIDAD\")\n",
    "    .sum()[\"2035\"]\n",
    "    .sort_values(ascending=False)\n",
    ")\n",
    "\n",
    "# Agrega el total\n",
    "boxes_consolidados[\"Total\"] = boxes_consolidados.sum()"
   ]
  },
  {
   "cell_type": "code",
   "execution_count": 15,
   "metadata": {},
   "outputs": [
    {
     "data": {
      "text/plain": [
       "ESTAMENTO/ESPECIALIDAD\n",
       "ENFERMEDADES RESPIRATORIA PEDIÁTRICAS          15.035751\n",
       "OTORRINOLARINGOLOGÍA                             14.4857\n",
       "ANESTESIOLOGÍA                                   9.86788\n",
       "ENDOCRINOLOGÍA PEDIÁTRICA                       7.151793\n",
       "TRAUMATOLOGÍA Y ORTOPEDIA                       6.971658\n",
       "NEFROLOGÍA PEDIÁTRICA                           5.615719\n",
       "PEDIATRÍA                                       3.633663\n",
       "INFECTOLOGÍA                                    2.324795\n",
       "CIRUGÍA PEDIÁTRICA                              1.889442\n",
       "CIRUGÍA PLÁSTICA Y REPARADORA                   1.798415\n",
       "HEMATOLOGÍA                                     1.741639\n",
       "REUMATOLOGÍA                                    1.111627\n",
       "CIRUGÍA Y TRAUMATOLOGÍA BUCO MAXILOFACIAL       0.913324\n",
       "GASTROENTEROLOGÍA PEDIÁTRICA                    0.893374\n",
       "CARDIOLOGÍA                                     0.804696\n",
       "OFTALMOLOGÍA                                    0.620731\n",
       "NEUROLOGÍA PEDIATRICA                           0.515011\n",
       "INMUNOLOGÍA                                      0.39701\n",
       "UROLOGÍA                                        0.303233\n",
       "DERMATOLOGÍA                                    0.109282\n",
       "GINECOLOGÍA PEDIÁTRICA Y DE LA ADOLESCENCIA      0.09996\n",
       "GENÉTICA CLÍNICA                                0.044187\n",
       "NEUROCIRUGÍA                                    0.004759\n",
       "Total                                          76.333647\n",
       "Name: 2035, dtype: object"
      ]
     },
     "metadata": {},
     "output_type": "display_data"
    }
   ],
   "source": [
    "display(boxes_consolidados)"
   ]
  },
  {
   "cell_type": "code",
   "execution_count": 16,
   "metadata": {},
   "outputs": [],
   "source": [
    "# Obtiene la cantidad de boxes medicos y de telemedicina\n",
    "boxes_presencial_y_tele = (\n",
    "    boxes_proyectados.reset_index().groupby(\"es_presencial\")[ANIOS_POBLACION].sum()\n",
    ")"
   ]
  },
  {
   "cell_type": "code",
   "execution_count": 17,
   "metadata": {},
   "outputs": [
    {
     "data": {
      "text/html": [
       "<div>\n",
       "<style scoped>\n",
       "    .dataframe tbody tr th:only-of-type {\n",
       "        vertical-align: middle;\n",
       "    }\n",
       "\n",
       "    .dataframe tbody tr th {\n",
       "        vertical-align: top;\n",
       "    }\n",
       "\n",
       "    .dataframe thead th {\n",
       "        text-align: right;\n",
       "    }\n",
       "</style>\n",
       "<table border=\"1\" class=\"dataframe\">\n",
       "  <thead>\n",
       "    <tr style=\"text-align: right;\">\n",
       "      <th></th>\n",
       "      <th>2017</th>\n",
       "      <th>2018</th>\n",
       "      <th>2019</th>\n",
       "      <th>2020</th>\n",
       "      <th>2021</th>\n",
       "      <th>2022</th>\n",
       "      <th>2023</th>\n",
       "      <th>2024</th>\n",
       "      <th>2025</th>\n",
       "      <th>2026</th>\n",
       "      <th>2027</th>\n",
       "      <th>2028</th>\n",
       "      <th>2029</th>\n",
       "      <th>2030</th>\n",
       "      <th>2031</th>\n",
       "      <th>2032</th>\n",
       "      <th>2033</th>\n",
       "      <th>2034</th>\n",
       "      <th>2035</th>\n",
       "    </tr>\n",
       "    <tr>\n",
       "      <th>es_presencial</th>\n",
       "      <th></th>\n",
       "      <th></th>\n",
       "      <th></th>\n",
       "      <th></th>\n",
       "      <th></th>\n",
       "      <th></th>\n",
       "      <th></th>\n",
       "      <th></th>\n",
       "      <th></th>\n",
       "      <th></th>\n",
       "      <th></th>\n",
       "      <th></th>\n",
       "      <th></th>\n",
       "      <th></th>\n",
       "      <th></th>\n",
       "      <th></th>\n",
       "      <th></th>\n",
       "      <th></th>\n",
       "      <th></th>\n",
       "    </tr>\n",
       "  </thead>\n",
       "  <tbody>\n",
       "    <tr>\n",
       "      <th>Box Presencial</th>\n",
       "      <td>54.819959</td>\n",
       "      <td>56.81437</td>\n",
       "      <td>58.059026</td>\n",
       "      <td>58.975791</td>\n",
       "      <td>60.138215</td>\n",
       "      <td>60.964272</td>\n",
       "      <td>62.241061</td>\n",
       "      <td>62.284801</td>\n",
       "      <td>62.76457</td>\n",
       "      <td>62.596307</td>\n",
       "      <td>62.792215</td>\n",
       "      <td>63.681771</td>\n",
       "      <td>64.267902</td>\n",
       "      <td>63.798015</td>\n",
       "      <td>63.322091</td>\n",
       "      <td>62.570532</td>\n",
       "      <td>62.998806</td>\n",
       "      <td>63.853233</td>\n",
       "      <td>63.956152</td>\n",
       "    </tr>\n",
       "    <tr>\n",
       "      <th>Box de Telemedicina</th>\n",
       "      <td>13.523341</td>\n",
       "      <td>13.506557</td>\n",
       "      <td>13.399907</td>\n",
       "      <td>13.274353</td>\n",
       "      <td>13.366142</td>\n",
       "      <td>13.472487</td>\n",
       "      <td>13.688023</td>\n",
       "      <td>13.641681</td>\n",
       "      <td>13.697489</td>\n",
       "      <td>13.594103</td>\n",
       "      <td>13.514505</td>\n",
       "      <td>13.520892</td>\n",
       "      <td>13.440036</td>\n",
       "      <td>13.125288</td>\n",
       "      <td>12.84232</td>\n",
       "      <td>12.531458</td>\n",
       "      <td>12.458524</td>\n",
       "      <td>12.475678</td>\n",
       "      <td>12.377496</td>\n",
       "    </tr>\n",
       "  </tbody>\n",
       "</table>\n",
       "</div>"
      ],
      "text/plain": [
       "                          2017       2018       2019       2020       2021  \\\n",
       "es_presencial                                                                \n",
       "Box Presencial       54.819959   56.81437  58.059026  58.975791  60.138215   \n",
       "Box de Telemedicina  13.523341  13.506557  13.399907  13.274353  13.366142   \n",
       "\n",
       "                          2022       2023       2024       2025       2026  \\\n",
       "es_presencial                                                                \n",
       "Box Presencial       60.964272  62.241061  62.284801   62.76457  62.596307   \n",
       "Box de Telemedicina  13.472487  13.688023  13.641681  13.697489  13.594103   \n",
       "\n",
       "                          2027       2028       2029       2030       2031  \\\n",
       "es_presencial                                                                \n",
       "Box Presencial       62.792215  63.681771  64.267902  63.798015  63.322091   \n",
       "Box de Telemedicina  13.514505  13.520892  13.440036  13.125288   12.84232   \n",
       "\n",
       "                          2032       2033       2034       2035  \n",
       "es_presencial                                                    \n",
       "Box Presencial       62.570532  62.998806  63.853233  63.956152  \n",
       "Box de Telemedicina  12.531458  12.458524  12.475678  12.377496  "
      ]
     },
     "execution_count": 17,
     "metadata": {},
     "output_type": "execute_result"
    }
   ],
   "source": [
    "boxes_presencial_y_tele"
   ]
  },
  {
   "cell_type": "code",
   "execution_count": 18,
   "metadata": {},
   "outputs": [],
   "source": [
    "# Define columnas que se utilizar para generar resumen MINSAL\n",
    "cols_indice = [\"ESTAMENTO/ESPECIALIDAD\", \"Grupos de Pacientes\", \"es_presencial\"]\n",
    "\n",
    "# Genera un DataFrame de las trazadoras con presencialidad\n",
    "df_incidencias_resumen = df_incidencias.copy()\n",
    "df_incidencias_resumen[\"es_presencial\"] = \"Box Presencial, Box de Telemedicina\"\n",
    "df_incidencias_resumen[\"es_presencial\"] = df_incidencias_resumen[\"es_presencial\"].str.split(\", \")\n",
    "df_incidencias_resumen = df_incidencias_resumen.explode(\"es_presencial\")\n",
    "df_incidencias_resumen = df_incidencias_resumen.set_index(cols_indice)"
   ]
  },
  {
   "cell_type": "markdown",
   "metadata": {},
   "source": [
    "## Resumen MINSAL"
   ]
  },
  {
   "cell_type": "code",
   "execution_count": 19,
   "metadata": {},
   "outputs": [],
   "source": [
    "# Obtiene el resumen MINSAL\n",
    "resumen_MINSAL = pd.DataFrame(\n",
    "    {\n",
    "        \"tipo_paciente\": df_incidencias_resumen[\"tipo_paciente\"],\n",
    "        \"Diagnostico\": df_incidencias_resumen[\"Diagnostico\"],\n",
    "        \"Areas de Influencia a atender presencial\": str(AREAS_PRESENCIALES),\n",
    "        \"numero_de_pacientes_totales_2035\": casos_totales_por_especialidad_y_grupo[\"2035\"],\n",
    "        \"% de los pacientes a atender\": df_incidencias_resumen[\"% de los pacientes a atender\"],\n",
    "        \"explicacion_pacientes\": df_incidencias_resumen[\"Explicación Pacientes\"],\n",
    "        \"casos_a_hacerse_cargo_2035\": casos_a_hacerse_cargo_por_especialidad_grupo_y_presencial[\n",
    "            \"2035\"\n",
    "        ],\n",
    "        \"consultas_por_paciente_75%\": cantidad_consultas_medicas_a_ocupar,\n",
    "        \"consultas_proyectadas_2035\": consultas_proyectadas[\"2035\"],\n",
    "        \"horas_por_consultas\": rendimientos_reales,\n",
    "        \"horas_consultas_2035\": tiempo_consultas[\"2035\"],\n",
    "        \"horas_laborales_2035\": horas_laborales[\"2035\"],\n",
    "        \"boxes_proyectados_2035\": boxes_proyectados[\"2035\"],\n",
    "    }\n",
    ")\n",
    "\n",
    "resumen_MINSAL = resumen_MINSAL.dropna().reset_index(level=[1, 2])"
   ]
  },
  {
   "cell_type": "code",
   "execution_count": 20,
   "metadata": {},
   "outputs": [],
   "source": [
    "a_guardar = {\n",
    "    \"resumen_MINSAL\": resumen_MINSAL,\n",
    "    \"boxes_consolidados\": boxes_consolidados,\n",
    "    \"trazadoras_ambulatorio\": df_incidencias,\n",
    "    \"casos_macroprocesos_por_region\": casos_macroproceso_por_region.reset_index(),\n",
    "    \"casos_por_esp_long\": casos_por_especialidad_long.reset_index(),\n",
    "    \"casos_a_hacerse_cargo_long\": casos_a_hacerse_cargo_long,\n",
    "    \"casos_por_esp_grupo_y_pres\": casos_a_hacerse_cargo_por_especialidad_grupo_y_presencial,\n",
    "    \"casos_consolidados\": casos_a_hacerse_cargo_consolidados,\n",
    "    \"metricas_historicas_por_espec\": distribucion_consultas_medicas_acumuladas,\n",
    "    \"rendimientos_utilizados\": rendimientos_reales,\n",
    "    \"consultas_medicas_proyectadas\": consultas_proyectadas,\n",
    "    \"tiempo_por_especialidad\": tiempo_consultas,\n",
    "    \"horas_laborales\": horas_laborales,\n",
    "    \"boxes_medicos_proyectados\": boxes_proyectados,\n",
    "    \"boxes_presenciales_y_tele\": boxes_presencial_y_tele,\n",
    "}\n",
    "\n",
    "with pd.ExcelWriter(\"../data/interim/3.0_estimacion_boxes_medicos_RDR.xlsx\") as file:\n",
    "    for nombre_hoja, df_a_guardar in a_guardar.items():\n",
    "        df_a_guardar.to_excel(file, sheet_name=nombre_hoja)"
   ]
  }
 ],
 "metadata": {
  "kernelspec": {
   "display_name": "proyeccion-rdr",
   "language": "python",
   "name": "python3"
  },
  "language_info": {
   "codemirror_mode": {
    "name": "ipython",
    "version": 3
   },
   "file_extension": ".py",
   "mimetype": "text/x-python",
   "name": "python",
   "nbconvert_exporter": "python",
   "pygments_lexer": "ipython3",
   "version": "3.10.16"
  }
 },
 "nbformat": 4,
 "nbformat_minor": 2
}
