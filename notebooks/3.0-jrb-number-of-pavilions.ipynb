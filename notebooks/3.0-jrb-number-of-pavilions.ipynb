{
 "cells": [
  {
   "cell_type": "code",
   "execution_count": 152,
   "metadata": {},
   "outputs": [
    {
     "name": "stdout",
     "output_type": "stream",
     "text": [
      "The autoreload extension is already loaded. To reload it, use:\n",
      "  %reload_ext autoreload\n"
     ]
    }
   ],
   "source": [
    "import sys\n",
    "import os\n",
    "\n",
    "project_root = os.path.abspath('..')\n",
    "if project_root not in sys.path:\n",
    "    sys.path.append(project_root)\n",
    " \n",
    "%load_ext autoreload\n",
    "%autoreload 2"
   ]
  },
  {
   "cell_type": "code",
   "execution_count": 153,
   "metadata": {},
   "outputs": [],
   "source": [
    "import pandas as pd\n",
    "\n",
    "import proyeccion_rdr.features as features\n",
    "import proyeccion_rdr.produccion.a03_pabellon as pb\n",
    "\n",
    "pd.set_option(\"display.max_columns\", None)\n",
    "\n",
    "\n",
    "ANIO_INICIO = 2017\n",
    "ANIO_TERMINO = 2035\n",
    "# Agrega las columnas de poblacion de interes\n",
    "ANIOS_INTERES = [str(i) for i in range(2017, 2036)]"
   ]
  },
  {
   "cell_type": "markdown",
   "metadata": {},
   "source": [
    "## Obtencion de casos por area de influencia INT"
   ]
  },
  {
   "cell_type": "code",
   "execution_count": 154,
   "metadata": {},
   "outputs": [],
   "source": [
    "# Lee los casos de todos los macroprocesos\n",
    "RUTA_ARCHIVOS = \"../data/interim/0.1_casos_teoricos_diagnosticos.xlsx\"\n",
    "_, casos_macroproceso = features.leer_casos_macroprocesos(RUTA_ARCHIVOS)\n",
    "\n",
    "# Obtiene los casos quirurgicos\n",
    "casos_quirurgicos = casos_macroproceso.query(\"tipo_paciente == 'quirurgicos'\")"
   ]
  },
  {
   "cell_type": "code",
   "execution_count": 155,
   "metadata": {},
   "outputs": [],
   "source": [
    "# Los diagnosticos que tienen un porcentaje de hosp. mayor a 0\n",
    "diagnosticos_relevantes = list(casos_quirurgicos.index)\n",
    "\n",
    "# Ademas, los diagnosticos que estan agrupados dentro de los que aportan a AC\n",
    "# Solo deja los diagnosticos que esten agrupados\n",
    "diagnosticos_a_reasignar = casos_quirurgicos.dropna(subset=\"Diagnosticos Contenidos\")\n",
    "\n",
    "# Separa la lista de diagnosticos en filas\n",
    "diagnosticos_agrupados = diagnosticos_a_reasignar.explode(\"Diagnosticos Contenidos\")\n",
    "diagnosticos_agrupados = list(diagnosticos_agrupados[\"Diagnosticos Contenidos\"].unique())\n",
    "\n",
    "# Suma los diagnosticos relevantes y los agrupados\n",
    "diagnosticos_a_buscar_en_quir = sorted(diagnosticos_relevantes + diagnosticos_agrupados)"
   ]
  },
  {
   "cell_type": "markdown",
   "metadata": {},
   "source": [
    "## Obtencion de tiempos quirurgicos entre 2015 y 2022 en pabellon para diagnosticos relevantes\n",
    "\n",
    "Estos se obtendran a partir de la union de la base de GRD (2015 a 2022, tiene los diagnosticos codificados) y Pabellon (2015 a 2022, tiene los tiempos quirurgicos)."
   ]
  },
  {
   "cell_type": "code",
   "execution_count": 156,
   "metadata": {},
   "outputs": [
    {
     "name": "stderr",
     "output_type": "stream",
     "text": [
      "C:\\Users\\javie\\AppData\\Local\\Temp\\ipykernel_34808\\3808083235.py:2: DtypeWarning: Columns (41,42,43,44,45,46,47,48,49,50,51,52,104,105,106,107,108,109,110,111,112,113,114,115,116,117,118,119,120,121,122,123,149,150,151,152,153,154,155,156,157,158,230) have mixed types. Specify dtype option on import or set low_memory=False.\n",
      "  grd_y_pabellon = pd.read_csv(\"../data/raw/5_grd_y_pabellon/df_procesada_grd_y_pabellon.csv\")\n"
     ]
    }
   ],
   "source": [
    "# Lee la base de GRD unida con Pabellon\n",
    "grd_y_pabellon = pd.read_csv(\"../data/raw/5_grd_y_pabellon/df_procesada_grd_y_pabellon.csv\")\n",
    "grd_y_pabellon[\"t_total\"] = pd.to_timedelta(grd_y_pabellon[\"t_total\"].str.split(\" \").str[1])"
   ]
  },
  {
   "cell_type": "code",
   "execution_count": 157,
   "metadata": {},
   "outputs": [],
   "source": [
    "# Filtra solamente los diagnosticos que aportan a quirurgico\n",
    "grd_y_pabellon_relevantes = grd_y_pabellon.query(\n",
    "    \"diagnostico_1.isin(@diagnosticos_a_buscar_en_quir)\"\n",
    ").copy()\n",
    "\n",
    "# Elimina las operaciones hechas en ambulatorio\n",
    "grd_y_pabellon_relevantes = grd_y_pabellon_relevantes.query(\"tipo_cirugia != 'AMBULATORIO'\")"
   ]
  },
  {
   "cell_type": "code",
   "execution_count": 158,
   "metadata": {},
   "outputs": [
    {
     "name": "stderr",
     "output_type": "stream",
     "text": [
      "C:\\Users\\javie\\AppData\\Local\\Temp\\ipykernel_34808\\3328051442.py:2: DtypeWarning: Columns (0,7,11,13,33,36) have mixed types. Specify dtype option on import or set low_memory=False.\n",
      "  egresos_rdr = pd.read_csv(\"../data/raw/4_egresos_deis/egresos_procesados_109101.csv\")\n"
     ]
    }
   ],
   "source": [
    "# Lee los egresos del Torax\n",
    "egresos_rdr = pd.read_csv(\"../data/raw/4_egresos_deis/egresos_procesados_109101.csv\")"
   ]
  },
  {
   "cell_type": "code",
   "execution_count": 159,
   "metadata": {},
   "outputs": [],
   "source": [
    "# Obtiene los egresos quirurgicos desde DEIS\n",
    "egresos_rdr_iq = egresos_rdr.query(\"INTERV_Q == 1\")\n",
    "\n",
    "conteo_egresos_rdr_iq = egresos_rdr_iq.groupby(\"ANO_EGRESO\").size()\n",
    "conteo_egresos_rdr_iq_relevantes = egresos_rdr_iq_relevantes = (\n",
    "    egresos_rdr_iq.query(\"DIAG1.isin(@diagnosticos_a_buscar_en_quir)\").groupby(\"ANO_EGRESO\").size()\n",
    ")\n",
    "comparacion_iq = pd.concat([conteo_egresos_rdr_iq, conteo_egresos_rdr_iq_relevantes], axis=1)\n",
    "comparacion_iq[\"%\"] = round((comparacion_iq[1] / comparacion_iq[0]) * 100, 2)"
   ]
  },
  {
   "cell_type": "code",
   "execution_count": 160,
   "metadata": {},
   "outputs": [
    {
     "data": {
      "text/html": [
       "<div>\n",
       "<style scoped>\n",
       "    .dataframe tbody tr th:only-of-type {\n",
       "        vertical-align: middle;\n",
       "    }\n",
       "\n",
       "    .dataframe tbody tr th {\n",
       "        vertical-align: top;\n",
       "    }\n",
       "\n",
       "    .dataframe thead th {\n",
       "        text-align: right;\n",
       "    }\n",
       "</style>\n",
       "<table border=\"1\" class=\"dataframe\">\n",
       "  <thead>\n",
       "    <tr style=\"text-align: right;\">\n",
       "      <th></th>\n",
       "      <th>0</th>\n",
       "      <th>1</th>\n",
       "      <th>%</th>\n",
       "    </tr>\n",
       "    <tr>\n",
       "      <th>ANO_EGRESO</th>\n",
       "      <th></th>\n",
       "      <th></th>\n",
       "      <th></th>\n",
       "    </tr>\n",
       "  </thead>\n",
       "  <tbody>\n",
       "    <tr>\n",
       "      <th>2001.0</th>\n",
       "      <td>4618</td>\n",
       "      <td>627</td>\n",
       "      <td>13.58</td>\n",
       "    </tr>\n",
       "    <tr>\n",
       "      <th>2002.0</th>\n",
       "      <td>4721</td>\n",
       "      <td>600</td>\n",
       "      <td>12.71</td>\n",
       "    </tr>\n",
       "    <tr>\n",
       "      <th>2003.0</th>\n",
       "      <td>4462</td>\n",
       "      <td>677</td>\n",
       "      <td>15.17</td>\n",
       "    </tr>\n",
       "    <tr>\n",
       "      <th>2004.0</th>\n",
       "      <td>4358</td>\n",
       "      <td>640</td>\n",
       "      <td>14.69</td>\n",
       "    </tr>\n",
       "    <tr>\n",
       "      <th>2005.0</th>\n",
       "      <td>3597</td>\n",
       "      <td>346</td>\n",
       "      <td>9.62</td>\n",
       "    </tr>\n",
       "    <tr>\n",
       "      <th>2006.0</th>\n",
       "      <td>1581</td>\n",
       "      <td>69</td>\n",
       "      <td>4.36</td>\n",
       "    </tr>\n",
       "    <tr>\n",
       "      <th>2007.0</th>\n",
       "      <td>3498</td>\n",
       "      <td>369</td>\n",
       "      <td>10.55</td>\n",
       "    </tr>\n",
       "    <tr>\n",
       "      <th>2008.0</th>\n",
       "      <td>895</td>\n",
       "      <td>79</td>\n",
       "      <td>8.83</td>\n",
       "    </tr>\n",
       "    <tr>\n",
       "      <th>2009.0</th>\n",
       "      <td>1497</td>\n",
       "      <td>156</td>\n",
       "      <td>10.42</td>\n",
       "    </tr>\n",
       "    <tr>\n",
       "      <th>2010.0</th>\n",
       "      <td>1554</td>\n",
       "      <td>511</td>\n",
       "      <td>32.88</td>\n",
       "    </tr>\n",
       "    <tr>\n",
       "      <th>2011.0</th>\n",
       "      <td>4724</td>\n",
       "      <td>936</td>\n",
       "      <td>19.81</td>\n",
       "    </tr>\n",
       "    <tr>\n",
       "      <th>2012.0</th>\n",
       "      <td>3884</td>\n",
       "      <td>1099</td>\n",
       "      <td>28.30</td>\n",
       "    </tr>\n",
       "    <tr>\n",
       "      <th>2013.0</th>\n",
       "      <td>3112</td>\n",
       "      <td>1069</td>\n",
       "      <td>34.35</td>\n",
       "    </tr>\n",
       "    <tr>\n",
       "      <th>2014.0</th>\n",
       "      <td>3250</td>\n",
       "      <td>1046</td>\n",
       "      <td>32.18</td>\n",
       "    </tr>\n",
       "    <tr>\n",
       "      <th>2015.0</th>\n",
       "      <td>3206</td>\n",
       "      <td>1100</td>\n",
       "      <td>34.31</td>\n",
       "    </tr>\n",
       "    <tr>\n",
       "      <th>2016.0</th>\n",
       "      <td>3184</td>\n",
       "      <td>1115</td>\n",
       "      <td>35.02</td>\n",
       "    </tr>\n",
       "    <tr>\n",
       "      <th>2017.0</th>\n",
       "      <td>3632</td>\n",
       "      <td>1169</td>\n",
       "      <td>32.19</td>\n",
       "    </tr>\n",
       "    <tr>\n",
       "      <th>2018.0</th>\n",
       "      <td>3067</td>\n",
       "      <td>884</td>\n",
       "      <td>28.82</td>\n",
       "    </tr>\n",
       "    <tr>\n",
       "      <th>2019.0</th>\n",
       "      <td>3174</td>\n",
       "      <td>991</td>\n",
       "      <td>31.22</td>\n",
       "    </tr>\n",
       "    <tr>\n",
       "      <th>2020.0</th>\n",
       "      <td>1921</td>\n",
       "      <td>589</td>\n",
       "      <td>30.66</td>\n",
       "    </tr>\n",
       "    <tr>\n",
       "      <th>2021.0</th>\n",
       "      <td>2346</td>\n",
       "      <td>668</td>\n",
       "      <td>28.47</td>\n",
       "    </tr>\n",
       "    <tr>\n",
       "      <th>2022.0</th>\n",
       "      <td>1496</td>\n",
       "      <td>532</td>\n",
       "      <td>35.56</td>\n",
       "    </tr>\n",
       "    <tr>\n",
       "      <th>2023.0</th>\n",
       "      <td>2351</td>\n",
       "      <td>875</td>\n",
       "      <td>37.22</td>\n",
       "    </tr>\n",
       "  </tbody>\n",
       "</table>\n",
       "</div>"
      ],
      "text/plain": [
       "               0     1      %\n",
       "ANO_EGRESO                   \n",
       "2001.0      4618   627  13.58\n",
       "2002.0      4721   600  12.71\n",
       "2003.0      4462   677  15.17\n",
       "2004.0      4358   640  14.69\n",
       "2005.0      3597   346   9.62\n",
       "2006.0      1581    69   4.36\n",
       "2007.0      3498   369  10.55\n",
       "2008.0       895    79   8.83\n",
       "2009.0      1497   156  10.42\n",
       "2010.0      1554   511  32.88\n",
       "2011.0      4724   936  19.81\n",
       "2012.0      3884  1099  28.30\n",
       "2013.0      3112  1069  34.35\n",
       "2014.0      3250  1046  32.18\n",
       "2015.0      3206  1100  34.31\n",
       "2016.0      3184  1115  35.02\n",
       "2017.0      3632  1169  32.19\n",
       "2018.0      3067   884  28.82\n",
       "2019.0      3174   991  31.22\n",
       "2020.0      1921   589  30.66\n",
       "2021.0      2346   668  28.47\n",
       "2022.0      1496   532  35.56\n",
       "2023.0      2351   875  37.22"
      ]
     },
     "execution_count": 160,
     "metadata": {},
     "output_type": "execute_result"
    }
   ],
   "source": [
    "comparacion_iq"
   ]
  },
  {
   "cell_type": "markdown",
   "metadata": {},
   "source": [
    "## Reasginar diagnosticos"
   ]
  },
  {
   "cell_type": "code",
   "execution_count": 161,
   "metadata": {},
   "outputs": [
    {
     "name": "stdout",
     "output_type": "stream",
     "text": [
      "Cambiando ['Q262', 'K914', 'K638'] a ENTN\n",
      "Cambiando ['H652', 'H653', 'H654', 'H669'] a HOTI\n",
      "Cambiando ['J121', 'J122', 'J123', 'J129', 'J159', 'J189'] a JNEU\n",
      "Cambiando ['K352', 'K353', 'K358', 'K36X', 'K659'] a KAPE\n",
      "Cambiando ['K565', 'K650'] a KGAST\n",
      "Cambiando ['M411', 'M410', 'M412', 'M414', 'T813', 'Q763'] a MESC\n",
      "Cambiando ['K560', 'Q625', 'T222'] a OBSI\n",
      "Cambiando ['Q390', 'Q391', 'Q393'] a QATR\n",
      "Cambiando ['Q375', 'Q374', 'Q369', 'Q371', 'Q379', 'Q373', 'Q370', 'T813', 'Q355', 'Q372', 'Q359', 'Q378'] a QLAB\n",
      "Cambiando ['S424', 'S524', 'S525', 'S528', 'S529'] a SFRA\n",
      "Cambiando ['T213', 'T202', 'T212', 'T203', 'T293', 'T201', 'T273', 'T223', 'T222', 'T243', 'T280', 'T211', 'T242', 'T253', 'T232', 'T221', 'T241', 'T312', 'T291', 'T292', 'T252'] a TQUE\n",
      "Cambiando ['C710', 'C715', 'C716', 'C717', 'C719', 'D164', 'D334', 'D431', 'D444'] a CERX\n"
     ]
    }
   ],
   "source": [
    "for row in diagnosticos_a_reasignar.itertuples():\n",
    "    diagnostico_nuevo = row[0]\n",
    "    diagnosticos_antiguos = row[1]\n",
    "\n",
    "    print(f\"Cambiando {diagnosticos_antiguos} a {diagnostico_nuevo}\")\n",
    "    diagnosticos_cambiados = grd_y_pabellon_relevantes[\"diagnostico_1\"].replace(\n",
    "        diagnosticos_antiguos, diagnostico_nuevo\n",
    "    )\n",
    "    grd_y_pabellon_relevantes[\"diagnostico_1\"] = diagnosticos_cambiados"
   ]
  },
  {
   "cell_type": "markdown",
   "metadata": {},
   "source": [
    "## Obtener tiempos quirurgicos"
   ]
  },
  {
   "cell_type": "code",
   "execution_count": 162,
   "metadata": {},
   "outputs": [],
   "source": [
    "# Obtiene el resumen de duraciones de las int. q por diagnostico acumuladas\n",
    "tiempos_quir = pd.to_timedelta(\n",
    "    grd_y_pabellon_relevantes.groupby([\"diagnostico_1\"])[\"t_total\"].describe()[\"75%\"]\n",
    ")\n",
    "tiempos_quir.loc[\"TQUED\"] = tiempos_quir.loc[\"TQUE\"]"
   ]
  },
  {
   "cell_type": "code",
   "execution_count": 163,
   "metadata": {},
   "outputs": [],
   "source": [
    "# Obtiene la cantidad de intervenciones quirurgicas por cada tipo de paciente\n",
    "conteo_int_q_por_paciente = (\n",
    "    grd_y_pabellon_relevantes.groupby([\"ano_x\", \"diagnostico_1\", \"id_paciente\"])\n",
    "    .agg(n_int_q=(\"fecha_operacion\", \"count\"))\n",
    "    .reset_index()\n",
    "    .groupby([\"ano_x\", \"diagnostico_1\"])[\"n_int_q\"].describe()\n",
    ")\n",
    "\n",
    "# Selecciona cuantas intervenciones quirurgicas tendra cada paciente segun el diagnostico\n",
    "numero_int_q_por_pacientes = conteo_int_q_por_paciente.query(\"ano_x == 2024\")[\"75%\"]\n",
    "numero_int_q_por_pacientes = numero_int_q_por_pacientes.reset_index(level=0, drop=True)\n",
    "\n",
    "# Agrega Numero de Intervenciones quirurgicas para Q410 del 2021 (No Habia para el 2024)\n",
    "numero_int_q_por_pacientes.loc[\"Q410\"] = 4\n",
    "numero_int_q_por_pacientes.loc[\"TQUED\"] = numero_int_q_por_pacientes.loc[\"TQUE\"]"
   ]
  },
  {
   "cell_type": "code",
   "execution_count": 164,
   "metadata": {},
   "outputs": [
    {
     "name": "stdout",
     "output_type": "stream",
     "text": [
      "Cantidad de Int. Q por diagnostico:\n",
      "+------+--------------------+--------------------+--------------------+--------------------+--------------------+--------------------+-------------------+--------------------+--------------------+--------------------+--------------------+--------------------+--------------------+--------------------+-------------------+--------------------+--------------------+--------------------+-------------------+\n",
      "|      |        2017        |        2018        |        2019        |        2020        |        2021        |        2022        |       2023        |        2024        |        2025        |        2026        |        2027        |        2028        |        2029        |        2030        |       2031        |        2032        |        2033        |        2034        |       2035        |\n",
      "+------+--------------------+--------------------+--------------------+--------------------+--------------------+--------------------+-------------------+--------------------+--------------------+--------------------+--------------------+--------------------+--------------------+--------------------+-------------------+--------------------+--------------------+--------------------+-------------------+\n",
      "| CERX | 25.73053022097662  | 26.609254169314617 | 27.45789500699523  | 28.256211628699596 | 28.710615158197292 | 28.993619236233453 | 29.26111751340608 | 29.542264609302897 | 29.800385126671834 |  30.0045603128928  | 30.14485531352031  | 30.233061965139182 | 30.27985791505068  | 30.31931878551177  | 30.35432289883842 | 30.382734725570398 | 30.376049589868742 | 30.31987588015356  | 30.27521545970232 |\n",
      "| ENTN | 42.06293802670398  | 43.131849042098494 | 45.10632542174141  | 47.59089874706862  | 49.14411528954537  | 49.77743790188363  | 50.00382924294578 | 50.06687493286179  | 50.00956066930176  | 49.849080731333686 | 49.58256940577955  | 49.221489545351375 | 48.797363995007174 | 48.33311846017095  | 48.22135564622891 | 47.85167864626672  | 47.49633021219458  | 47.152444630834395 | 46.85154474714426 |\n",
      "| HOTI | 118.6018384413534  | 123.0967095610484  | 127.1409472835029  | 130.7058944769365  | 132.4790545058249  | 133.5157262479669  | 134.3962166219079 | 135.2824384222047  | 135.8992831837696  | 136.1048981042912  | 136.3800065693792  | 137.0505834530316  | 137.7770417436549  | 138.2334065672517  | 138.2728101234492 | 137.9102974064321  | 137.3328562010647  | 136.6235921895094  | 135.8362374938535 |\n",
      "| J955 | 1.5883043346281864 | 1.642546553661396  | 1.6949317905552608 | 1.7442105943641724 |  1.77226019495045  | 1.7897295824835464 | 1.80624182181519  | 1.823596580821166  | 1.839529946090854  | 1.8521333526477044 | 1.8607935378716232 | 1.8662383929098267 | 1.8691270317932516 | 1.8715628879945532 | 1.873723635730766 | 1.8754774521957027 | 1.8750647894980708 | 1.8715972765526891 | 1.868840460475452 |\n",
      "| JNEU | 12.22111946366688  |  12.6384832045613  |  13.0415584995502  | 13.42073151774655  | 13.63655761114652  |  13.7709748429984  | 13.8980273511891  | 14.03156258020731  | 14.15416097408796  | 14.25113718565039  | 14.31777249973443  | 14.35966763433394  | 14.38189410574252  | 14.40063666595809  | 14.41726241937284 | 14.43075706272805  | 14.42758185252682  | 14.40090126680819  | 14.37968909865834 |\n",
      "+------+--------------------+--------------------+--------------------+--------------------+--------------------+--------------------+-------------------+--------------------+--------------------+--------------------+--------------------+--------------------+--------------------+--------------------+-------------------+--------------------+--------------------+--------------------+-------------------+\n",
      "\n",
      "Tiempo utilizado en pabellón calculado (en horas):\n",
      "+------+--------------------+--------------------+--------------------+--------------------+--------------------+--------------------+--------------------+--------------------+--------------------+--------------------+--------------------+--------------------+--------------------+--------------------+--------------------+--------------------+--------------------+--------------------+--------------------+\n",
      "|      |        2017        |        2018        |        2019        |        2020        |        2021        |        2022        |        2023        |        2024        |        2025        |        2026        |        2027        |        2028        |        2029        |        2030        |        2031        |        2032        |        2033        |        2034        |        2035        |\n",
      "+------+--------------------+--------------------+--------------------+--------------------+--------------------+--------------------+--------------------+--------------------+--------------------+--------------------+--------------------+--------------------+--------------------+--------------------+--------------------+--------------------+--------------------+--------------------+--------------------+\n",
      "| CERX | 229.8594033073911  | 237.7093372458772  | 245.29052872915724 | 252.42215721638303 | 256.4814954132289  | 259.00966517701863 | 261.3993164530942  | 263.91089717643916 | 266.2167737982683  | 268.04073879517557 | 269.2940408007814  |  270.08202022191   | 270.5000640411192  | 270.85258115057167 | 271.1652845629564  | 271.41909688176224 | 271.35937633616055 |  270.857557862705  | 270.45859144000724 |\n",
      "| ENTN | 210.31469013351972 | 215.65924521049223 | 225.53162710870694 | 237.95449373534305 | 245.72057644772667 | 248.88718950941805 | 250.0191462147289  | 250.33437466430888 | 250.04780334650863 | 249.24540365666834 | 247.91284702889752 | 246.10744772675667 | 243.98681997503584 | 241.6655923008547  | 241.10677823114446 | 239.2583932313336  | 237.48165106097278 | 235.76222315417195 | 234.25772373572113 |\n",
      "| HOTI | 400.2812047395675  | 415.4513947685383  | 429.10069708182226 | 441.13239385966057 | 447.11680895715887 | 450.6155760868883  | 453.5872310989391  | 456.5782296749408  | 458.6600807452223  | 459.35403110198274 | 460.2825221716547  | 462.5457191539816  | 464.9975158848353  | 466.5377471644744  | 466.67073416664084 | 465.4472537467083  | 463.4983896785933  | 461.1046236395942  | 458.44730154175556 |\n",
      "| J955 | 3.441326058360833  | 3.558850866266111  | 3.6723522128697224 | 3.7791229544555556 | 3.839897089059167  | 3.8777474287141662 | 3.9135239472661114 |  3.9511259251125   |   3.98564821653    | 4.012955597403333  |   4.031719332055   | 4.043516517971111  | 4.0497752355519445 | 4.055052923988056  | 4.059734544083056  | 4.063534479757222  | 4.062640377245556  | 4.055127432530556  | 4.0491543310299996 |\n",
      "| JNEU | 27.344754799954448 | 28.278606170205833 | 29.18048714274333  | 30.028886770957776 | 30.511797654940278 | 30.81255621120889  | 31.096836198285555 | 31.39562127321361  | 31.66993517952167  |  31.8869194528925  | 32.03601596815555  | 32.129756331821945 | 32.17948806159889  | 32.22142454008111  | 32.258624663346666 | 32.28881892785389  | 32.281714395028615 | 32.22201658448306  | 32.174554358247775 |\n",
      "+------+--------------------+--------------------+--------------------+--------------------+--------------------+--------------------+--------------------+--------------------+--------------------+--------------------+--------------------+--------------------+--------------------+--------------------+--------------------+--------------------+--------------------+--------------------+--------------------+\n",
      "\n",
      "Horas laborales por año calculadas:\n",
      "+---+-------+--------------------------------------------+\n",
      "|   | fecha | horas_laborales_funcionamiento_de_12_horas |\n",
      "+---+-------+--------------------------------------------+\n",
      "| 0 | 2017  |                    2976                    |\n",
      "| 1 | 2018  |                    2964                    |\n",
      "| 2 | 2019  |                    2988                    |\n",
      "| 3 | 2020  |                    3024                    |\n",
      "| 4 | 2021  |                    3012                    |\n",
      "+---+-------+--------------------------------------------+\n",
      "\n",
      "Cantidad de pabellones necesarios calculada:\n",
      "+------+-----------------------+-----------------------+-----------------------+-----------------------+-----------------------+-----------------------+-----------------------+-----------------------+-----------------------+-----------------------+-----------------------+-----------------------+----------------------+-----------------------+-----------------------+-----------------------+-----------------------+-----------------------+-----------------------+\n",
      "|      |         2017          |         2018          |         2019          |         2020          |         2021          |         2022          |         2023          |         2024          |         2025          |         2026          |         2027          |         2028          |         2029         |         2030          |         2031          |         2032          |         2033          |         2034          |         2035          |\n",
      "+------+-----------------------+-----------------------+-----------------------+-----------------------+-----------------------+-----------------------+-----------------------+-----------------------+-----------------------+-----------------------+-----------------------+-----------------------+----------------------+-----------------------+-----------------------+-----------------------+-----------------------+-----------------------+-----------------------+\n",
      "| CERX |  0.07723770272425776  |  0.08019883172937828  |  0.08209187708472465  |  0.08347293558742824  |  0.08515321892869486  |  0.08633655505900621  |  0.08819140231211005  |  0.08832359343254323  |  0.08909530582271363  |  0.08899094913518445  |  0.08940705205869236  |  0.0907533670100504   | 0.09163281302205933  |  0.09101229205328348  |  0.09038842818765214  |  0.08940022953944737  |  0.09009275442767614  |  0.09138244192398953  |  0.09161876403794283  |\n",
      "| ENTN |  0.07067025878142463  |   0.072759529423243   |  0.0754791255383892   |  0.0786886553357616   |  0.08158053666923196  |  0.08296239650313934  |  0.08435193866893688  |  0.0837799111995679   |  0.08368400379735898  |  0.08275079802678231  |  0.08230838214770834  |  0.08269739506947468  | 0.08265136178016119  |  0.08120483612259903  |  0.08036892607704815  |  0.07880711239503742  |  0.07884516967495776  |   0.079541910645807   |  0.07935559747145025  |\n",
      "| HOTI |  0.13450309299044608  |  0.14016578770868363  |  0.14360799768467947  |  0.14587711437158088  |  0.14844515569626787  |  0.15020519202896276  |  0.15303212925065424  |  0.15280395906122518  |  0.1535006963672096   |  0.15250797845351352  |  0.1528162424208681   |  0.15542530885550457  | 0.15751948370082497  |  0.1567667161170949   |  0.15555691138888028  |  0.1533093721168341   |  0.15388392751613322  |  0.1555683615518199   |  0.15530057640303374  |\n",
      "| J955 | 0.0011563595626212478 | 0.0012006919251909957 | 0.0012290335384436823 | 0.0012497099717114933 | 0.0012748662314273462 | 0.0012925824762380553 | 0.0013203522089291874 | 0.0013223313002384538 | 0.0013338849452911646 | 0.0013323225754991144 | 0.0013385522350780213 | 0.0013587085073827657 | 0.001371875079794019 | 0.0013625849878992123 | 0.0013532448480276852 | 0.0013384500921466477 | 0.0013488181863365058 | 0.0013681266641466113 | 0.0013716647462838753 |\n",
      "| JNEU | 0.009188425672027704  |  0.00954069034082518  | 0.009765892618053324  | 0.009930187424258524  | 0.010130078902702615  | 0.010270852070402963  |  0.01049151018835545  | 0.010507236035212052  | 0.010599041224739515  |  0.01058662664438662  | 0.010636127479467315  | 0.010796289089993933  | 0.010900910589972524 |  0.01082709157932833  | 0.010752874887782222  | 0.010635315852389292  | 0.010717700662360097  | 0.010871125703266888  | 0.010899239281249246  |\n",
      "+------+-----------------------+-----------------------+-----------------------+-----------------------+-----------------------+-----------------------+-----------------------+-----------------------+-----------------------+-----------------------+-----------------------+-----------------------+----------------------+-----------------------+-----------------------+-----------------------+-----------------------+-----------------------+-----------------------+\n",
      "\n"
     ]
    }
   ],
   "source": [
    "# Calcula la cantidad de intervenciones quirurgicas que se realizaran\n",
    "numero_de_int_q = pb.calcular_cantidad_int_q(\n",
    "    casos_quirurgicos[ANIOS_INTERES],\n",
    "    numero_int_q_por_pacientes,\n",
    ")\n",
    "\n",
    "# Calcular tiempo utilizado en pabellón en horas\n",
    "tiempo_utilizado_pabellon_horas = pb.calcular_tiempo_utilizado_pabellon(\n",
    "    numero_de_int_q,\n",
    "    tiempos_quir,\n",
    ")\n",
    "\n",
    "# Calcular horas laborales\n",
    "horas_laborales = features.calcular_horas_laborales(ANIO_INICIO, ANIO_TERMINO, 12)\n",
    "\n",
    "# Calcular cantidad de pabellones necesarios\n",
    "cantidad_de_pabellones_necesarios = pb.calcular_cantidad_de_pabellones_necesarios(\n",
    "    tiempo_utilizado_pabellon_horas, horas_laborales\n",
    ")\n",
    "\n",
    "# Obtiene la suma total de pabellones\n",
    "suma_total_pabellones = cantidad_de_pabellones_necesarios.sum()"
   ]
  },
  {
   "cell_type": "code",
   "execution_count": 165,
   "metadata": {},
   "outputs": [
    {
     "name": "stdout",
     "output_type": "stream",
     "text": [
      "> Pabellones 2035: 7.05\n"
     ]
    }
   ],
   "source": [
    "print(f\"> Pabellones 2035: {suma_total_pabellones['2035']:.2f}\")"
   ]
  },
  {
   "cell_type": "code",
   "execution_count": 166,
   "metadata": {},
   "outputs": [],
   "source": [
    "# Ademas, sabemos que estas trazadoras cubren el 65% de la demanda\n",
    "# Y mencionaremos que para el 2035 estos diags cubriran el 75% de la demanda\n",
    "# Por lo tanto, existe un resto que permite proyectar todo\n",
    "suma_total_pabellones_con_resto = suma_total_pabellones / 0.75"
   ]
  },
  {
   "cell_type": "code",
   "execution_count": 167,
   "metadata": {},
   "outputs": [
    {
     "name": "stdout",
     "output_type": "stream",
     "text": [
      "> Pabellones 2035 + Resto 2035: 9.40\n"
     ]
    }
   ],
   "source": [
    "print(f\"> Pabellones 2035 + Resto 2035: {suma_total_pabellones_con_resto['2035']:.2f}\")"
   ]
  },
  {
   "cell_type": "markdown",
   "metadata": {},
   "source": [
    "## Pabellon de Emergencia"
   ]
  },
  {
   "cell_type": "code",
   "execution_count": 168,
   "metadata": {},
   "outputs": [],
   "source": [
    "# Obtiene los casos por especialidad por anio\n",
    "casos_especialidad_desglosado = casos_macroproceso.query(\"tipo_paciente == 'Placeholder'\")\n",
    "casos_especialidad = casos_especialidad_desglosado.groupby(\"tipo_paciente\")[ANIOS_INTERES].sum()"
   ]
  },
  {
   "cell_type": "markdown",
   "metadata": {},
   "source": [
    "## Obtener resumen para MINSAL"
   ]
  },
  {
   "cell_type": "code",
   "execution_count": 169,
   "metadata": {},
   "outputs": [],
   "source": [
    "# Obtiene porcentaje de hospitalizados\n",
    "porcentaje_cm = pd.read_excel(\n",
    "    \"../data/raw/3_incidencias_y_porcentajes_marcoprocesos/incidencias_y_prevalencias_RDR.xlsx\"\n",
    ")\n",
    "\n",
    "porcentaje_cm[\"Diagnostico\"] = porcentaje_cm[\"Diagnostico\"].str.split(\" - \").str[0]\n",
    "\n",
    "# Filtra los porcentajes de hospitalizados\n",
    "porcentaje_cm = porcentaje_cm.set_index(\"Diagnostico\")\n",
    "porcentaje_cm = porcentaje_cm[\"Porcentaje Pacientes Quirúrgicos\"]\n",
    "porcentaje_cm = porcentaje_cm.dropna()\n",
    "porcentaje_cm = porcentaje_cm[porcentaje_cm > 0]"
   ]
  },
  {
   "cell_type": "code",
   "execution_count": 170,
   "metadata": {},
   "outputs": [],
   "source": [
    "# Carga el resumen de area de estudio para MINSAL\n",
    "resumen_area_de_estudio_minsal = pd.read_excel(\n",
    "    \"../data/interim/0.1_casos_teoricos_diagnosticos.xlsx\", sheet_name=\"resumen_total_RDR\"\n",
    ").sort_values(\"Diagnostico\")\n",
    "resumen_area_de_estudio_minsal[\"diagnostico_separado\"] = (\n",
    "    resumen_area_de_estudio_minsal[\"Diagnostico\"].str.split(\" - \").str[0]\n",
    ")\n",
    "resumen_area_de_estudio_minsal = resumen_area_de_estudio_minsal.set_index(\"diagnostico_separado\")\n",
    "\n",
    "# Sintetiza informacion de pabellon para el 2035\n",
    "resumen_quirurgicos = pd.DataFrame(\n",
    "    {\n",
    "        \"especialidad_quirurgica\": casos_especialidad_desglosado[\"tipo_paciente\"],\n",
    "        \"porcentaje_quirurgico_cm\": porcentaje_cm,\n",
    "        \"casos_quirurgicos_2035\": casos_quirurgicos[\"2035\"],\n",
    "        \"n_int_q_por_paciente_75%\": numero_int_q_por_pacientes,\n",
    "        \"n_int_q_2035\": numero_de_int_q[\"2035\"],\n",
    "        \"tiempo_quirurgico_75%\": tiempos_quir,\n",
    "        \"horas_pabellon_2035\": tiempo_utilizado_pabellon_horas[\"2035\"],\n",
    "        \"horas_laborales_2035_pabellon_12_hrs\": horas_laborales[\"2035\"],\n",
    "        \"cantidad_de_pabellones\": cantidad_de_pabellones_necesarios[\"2035\"],\n",
    "    }\n",
    ")\n",
    "\n",
    "# Une ambos resumenes segun el diagnostico\n",
    "resumen_minsal = resumen_area_de_estudio_minsal.merge(\n",
    "    resumen_quirurgicos, how=\"inner\", left_index=True, right_index=True\n",
    ")\n",
    "\n",
    "# Agrega la cantidad total\n",
    "resumen_minsal.loc[\"Total (Al 75% de ocupacion)\", \"cantidad_de_pabellones\"] = suma_total_pabellones[\n",
    "    \"2035\"\n",
    "]\n",
    "resumen_minsal.loc[\"Total (Al 100% de ocupacion)\", \"cantidad_de_pabellones\"] = (\n",
    "    suma_total_pabellones_con_resto[\"2035\"]\n",
    ")"
   ]
  },
  {
   "cell_type": "code",
   "execution_count": 171,
   "metadata": {},
   "outputs": [],
   "source": [
    "a_guardar = {\n",
    "    \"resumen_MINSAL\": resumen_minsal,\n",
    "    \"casos_quirurgicos\": casos_especialidad_desglosado,\n",
    "    \"casos_por_especialidad\": casos_especialidad,\n",
    "    # \"casos_complicaciones\": casos_complicaciones,\n",
    "    \"resumen_duraciones_int_q_rel\": tiempos_quir,\n",
    "    \"tiempo_utilizado_pabellon\": tiempo_utilizado_pabellon_horas,\n",
    "    \"horas_laborales_por_anio\": horas_laborales,\n",
    "    \"pabellones_desg\": cantidad_de_pabellones_necesarios,\n",
    "    \"pabellones\": suma_total_pabellones,\n",
    "    # \"tiempo_ut_emergencia\": tiempo_utilizado_pabellon_complicaciones_horas,\n",
    "    # \"pabellones_desg_emergencia\": pabellones_por_complicaciones,\n",
    "    # \"pabellones_emergencia\": suma_total_pabellones_complicaciones,\n",
    "}"
   ]
  },
  {
   "cell_type": "code",
   "execution_count": 172,
   "metadata": {},
   "outputs": [],
   "source": [
    "with pd.ExcelWriter(\"../data/interim/2.0_estimacion_pabellones_RDR.xlsx\") as file:\n",
    "    for nombre_hoja, df_a_guardar in a_guardar.items():\n",
    "        df_a_guardar.to_excel(file, sheet_name=nombre_hoja)"
   ]
  }
 ],
 "metadata": {
  "kernelspec": {
   "display_name": "proyeccion-rdr",
   "language": "python",
   "name": "python3"
  },
  "language_info": {
   "codemirror_mode": {
    "name": "ipython",
    "version": 3
   },
   "file_extension": ".py",
   "mimetype": "text/x-python",
   "name": "python",
   "nbconvert_exporter": "python",
   "pygments_lexer": "ipython3",
   "version": "3.10.16"
  }
 },
 "nbformat": 4,
 "nbformat_minor": 2
}
