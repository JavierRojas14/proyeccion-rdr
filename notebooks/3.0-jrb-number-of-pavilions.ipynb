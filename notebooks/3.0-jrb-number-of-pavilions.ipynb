{
 "cells": [
  {
   "cell_type": "code",
   "execution_count": 1,
   "metadata": {},
   "outputs": [],
   "source": [
    "import sys\n",
    "import os\n",
    "\n",
    "project_root = os.path.abspath('..')\n",
    "if project_root not in sys.path:\n",
    "    sys.path.append(project_root)\n",
    " \n",
    "%load_ext autoreload\n",
    "%autoreload 2"
   ]
  },
  {
   "cell_type": "code",
   "execution_count": 2,
   "metadata": {},
   "outputs": [
    {
     "name": "stderr",
     "output_type": "stream",
     "text": [
      "\u001b[32m2025-05-08 13:55:31.767\u001b[0m | \u001b[1mINFO    \u001b[0m | \u001b[36mproyeccion_rdr.config\u001b[0m:\u001b[36m<module>\u001b[0m:\u001b[36m11\u001b[0m - \u001b[1mPROJ_ROOT path is: C:\\Users\\jarojas\\Desktop\\Javier\\SSMN\\EPH - RDR\\2.0-proyeccion-rdr\u001b[0m\n"
     ]
    }
   ],
   "source": [
    "import pandas as pd\n",
    "\n",
    "import proyeccion_rdr.features as features\n",
    "import proyeccion_rdr.produccion.a03_pabellon as pb\n",
    "\n",
    "pd.set_option(\"display.max_columns\", None)\n",
    "\n",
    "\n",
    "ANIO_INICIO = 2017\n",
    "ANIO_TERMINO = 2035\n",
    "# Agrega las columnas de poblacion de interes\n",
    "ANIOS_INTERES = [str(i) for i in range(2017, 2036)]"
   ]
  },
  {
   "cell_type": "markdown",
   "metadata": {},
   "source": [
    "## Obtencion de casos por area de influencia INT"
   ]
  },
  {
   "cell_type": "code",
   "execution_count": 3,
   "metadata": {},
   "outputs": [],
   "source": [
    "# Lee los casos de todos los macroprocesos\n",
    "RUTA_ARCHIVOS = \"../data/interim/0.1_casos_teoricos_diagnosticos.xlsx\"\n",
    "_, casos_macroproceso = features.leer_casos_macroprocesos(RUTA_ARCHIVOS)\n",
    "\n",
    "# Obtiene los casos quirurgicos\n",
    "casos_quirurgicos = casos_macroproceso.query(\"tipo_paciente == 'quirurgicos'\")"
   ]
  },
  {
   "cell_type": "code",
   "execution_count": 4,
   "metadata": {},
   "outputs": [],
   "source": [
    "# Los diagnosticos que tienen un porcentaje de hosp. mayor a 0\n",
    "diagnosticos_relevantes = list(casos_quirurgicos.index)\n",
    "\n",
    "# Ademas, los diagnosticos que estan agrupados dentro de los que aportan a AC\n",
    "# Solo deja los diagnosticos que esten agrupados\n",
    "diagnosticos_a_reasignar = casos_quirurgicos.dropna(subset=\"Diagnosticos Contenidos\")\n",
    "\n",
    "# Separa la lista de diagnosticos en filas\n",
    "diagnosticos_agrupados = diagnosticos_a_reasignar.explode(\"Diagnosticos Contenidos\")\n",
    "diagnosticos_agrupados = list(diagnosticos_agrupados[\"Diagnosticos Contenidos\"].unique())\n",
    "\n",
    "# Suma los diagnosticos relevantes y los agrupados\n",
    "diagnosticos_a_buscar_en_quir = sorted(diagnosticos_relevantes + diagnosticos_agrupados)"
   ]
  },
  {
   "cell_type": "markdown",
   "metadata": {},
   "source": [
    "## Obtencion de tiempos quirurgicos entre 2015 y 2022 en pabellon para diagnosticos relevantes\n",
    "\n",
    "Estos se obtendran a partir de la union de la base de GRD (2015 a 2022, tiene los diagnosticos codificados) y Pabellon (2015 a 2022, tiene los tiempos quirurgicos)."
   ]
  },
  {
   "cell_type": "code",
   "execution_count": 5,
   "metadata": {},
   "outputs": [
    {
     "name": "stderr",
     "output_type": "stream",
     "text": [
      "C:\\Users\\jarojas\\AppData\\Local\\Temp\\ipykernel_25860\\3808083235.py:2: DtypeWarning: Columns (41,42,43,44,45,46,47,48,49,50,51,52,104,105,106,107,108,109,110,111,112,113,114,115,116,117,118,119,120,121,122,123,149,150,151,152,153,154,155,156,157,158,230) have mixed types. Specify dtype option on import or set low_memory=False.\n",
      "  grd_y_pabellon = pd.read_csv(\"../data/raw/5_grd_y_pabellon/df_procesada_grd_y_pabellon.csv\")\n"
     ]
    }
   ],
   "source": [
    "# Lee la base de GRD unida con Pabellon\n",
    "grd_y_pabellon = pd.read_csv(\"../data/raw/5_grd_y_pabellon/df_procesada_grd_y_pabellon.csv\")\n",
    "grd_y_pabellon[\"t_total\"] = pd.to_timedelta(grd_y_pabellon[\"t_total\"].str.split(\" \").str[1])"
   ]
  },
  {
   "cell_type": "code",
   "execution_count": 6,
   "metadata": {},
   "outputs": [],
   "source": [
    "# Filtra solamente los diagnosticos que aportan a quirurgico\n",
    "grd_y_pabellon_relevantes = grd_y_pabellon.query(\n",
    "    \"diagnostico_1.isin(@diagnosticos_a_buscar_en_quir)\"\n",
    ").copy()"
   ]
  },
  {
   "cell_type": "markdown",
   "metadata": {},
   "source": [
    "## Reasginar diagnosticos"
   ]
  },
  {
   "cell_type": "code",
   "execution_count": 7,
   "metadata": {},
   "outputs": [
    {
     "name": "stdout",
     "output_type": "stream",
     "text": [
      "Cambiando ['Q262', 'K914', 'K638'] a ENTN\n",
      "Cambiando ['H652', 'H653', 'H654', 'H669'] a HOTI\n",
      "Cambiando ['J121', 'J122', 'J123', 'J129', 'J159', 'J189'] a JNEU\n",
      "Cambiando ['K352', 'K353', 'K358'] a KAPE\n",
      "Cambiando ['K565', 'K650'] a KGAST\n",
      "Cambiando ['M411', 'M410', 'M412', 'M414', 'T813', 'Q763'] a MESC\n",
      "Cambiando ['K560', 'Q625', 'T222'] a OBSI\n",
      "Cambiando ['K36X', 'K659'] a PERC\n",
      "Cambiando ['Q390', 'Q391', 'Q393'] a QATR\n",
      "Cambiando ['Q375', 'Q374', 'Q369', 'Q371', 'Q379', 'Q373', 'Q370', 'T813', 'Q355', 'Q372', 'Q359', 'Q378'] a QLAB\n",
      "Cambiando ['S424', 'S524', 'S525', 'S528', 'S529'] a SFRA\n",
      "Cambiando ['T213', 'T202', 'T212', 'T203', 'T293', 'T201', 'T273', 'T223', 'T222', 'T243', 'T280', 'T211', 'T242', 'T253', 'T232', 'T221', 'T241', 'T312', 'T291', 'T292', 'T252'] a TQUE\n"
     ]
    }
   ],
   "source": [
    "for row in diagnosticos_a_reasignar.itertuples():\n",
    "    diagnostico_nuevo = row[0]\n",
    "    diagnosticos_antiguos = row[1]\n",
    "\n",
    "    print(f\"Cambiando {diagnosticos_antiguos} a {diagnostico_nuevo}\")\n",
    "    diagnosticos_cambiados = grd_y_pabellon_relevantes[\"diagnostico_1\"].replace(\n",
    "        diagnosticos_antiguos, diagnostico_nuevo\n",
    "    )\n",
    "    grd_y_pabellon_relevantes[\"diagnostico_1\"] = diagnosticos_cambiados"
   ]
  },
  {
   "cell_type": "markdown",
   "metadata": {},
   "source": [
    "## Obtener tiempos quirurgicos"
   ]
  },
  {
   "cell_type": "code",
   "execution_count": 12,
   "metadata": {},
   "outputs": [],
   "source": [
    "# Obtiene el resumen de duraciones de las int. q por diagnostico acumuladas\n",
    "tiempos_quir = pd.to_timedelta(\n",
    "    grd_y_pabellon_relevantes.groupby([\"diagnostico_1\"])[\"t_total\"].describe()[\"75%\"]\n",
    ")"
   ]
  },
  {
   "cell_type": "code",
   "execution_count": 13,
   "metadata": {},
   "outputs": [
    {
     "name": "stdout",
     "output_type": "stream",
     "text": [
      "Tiempo utilizado en pabellón calculado (en horas):\n",
      "+-------------+--------------------+--------------------+--------------------+--------------------+--------------------+--------------------+--------------------+--------------------+--------------------+--------------------+--------------------+--------------------+--------------------+--------------------+--------------------+--------------------+--------------------+--------------------+--------------------+\n",
      "| Diagnostico |        2017        |        2018        |        2019        |        2020        |        2021        |        2022        |        2023        |        2024        |        2025        |        2026        |        2027        |        2028        |        2029        |        2030        |        2031        |        2032        |        2033        |        2034        |        2035        |\n",
      "+-------------+--------------------+--------------------+--------------------+--------------------+--------------------+--------------------+--------------------+--------------------+--------------------+--------------------+--------------------+--------------------+--------------------+--------------------+--------------------+--------------------+--------------------+--------------------+--------------------+\n",
      "|    ENTN     | 48.48922022522805  | 49.721437090196666 | 51.99756958339611  | 54.861730500092776 | 56.652244014336944 | 57.38232424800473  | 57.64330315506222  | 57.71598082538222  | 57.649910216000556 | 57.46491250973167  | 57.15768417610695  | 56.74143933700222  |  56.2525168275775  | 55.71734489158583  | 55.58850720329139  | 55.162351772779445 | 54.75271399461305  | 54.35629033832278  | 54.00941963906889  |\n",
      "|    H351     | 40.31031560892445  | 41.33468866534416  | 43.22689519583528  | 45.60794463260723  |  47.0964438191475  | 47.703377989305004 | 47.92033635782278  |  47.9807551439925  |  47.9258289747475  | 47.77203570086139  | 47.51662901387194  | 47.17059414762833  |  46.764140495215   | 46.319238524330274 |  46.2121324943025  | 45.857858702672225 | 45.51731645335306  | 45.187759437882775 | 44.89939704934639  |\n",
      "|    HOTI     | 363.4807907501159  |  376.168735845717  | 387.7200525265033  | 398.1107105934311  | 403.86594326463637 |  407.273425489175  | 410.30843962852055 | 412.53844209986835 | 413.42755946452223 | 414.60023317790365 | 417.1594493761639  | 419.9685796444892  | 421.8573532894031  | 422.0808341405186  | 421.18691073605584 | 419.49999076311747 | 417.39975136661116 | 414.9847163626186  | 412.3918578856956  |\n",
      "|    J955     |   0.86033151459    | 0.889712716566389  | 0.9180880532172222 | 0.9447807386138889 | 0.9599742722647222 | 0.9694368571783333 | 0.9783809868163889 | 0.9877814812780555 |  0.9964120541325   | 1.0032388993508332 | 1.007929833013611  | 1.0108791294927777 | 1.0124438088877779 | 1.0137632309969444 | 1.0149336360205554 | 1.0158836199391668 | 1.015660094311389  |  1.0137818581325   | 1.0122885827574999 |\n",
      "|    JNEU     | 27.293833468855834 |   28.22594582352   | 29.126147315661942 | 29.972967056300558 | 30.45497866489389  | 30.755177149363057 | 31.03892775098889  | 31.337156429129443 | 31.610959508796387 | 31.827539714619164 | 31.976358582739998 | 32.06992438334556  | 32.11956350282472  | 32.16142188730639  | 32.19855273659917  | 32.22869077342583  | 32.221599470643056 | 32.16201282920472  | 32.11463898700361  |\n",
      "+-------------+--------------------+--------------------+--------------------+--------------------+--------------------+--------------------+--------------------+--------------------+--------------------+--------------------+--------------------+--------------------+--------------------+--------------------+--------------------+--------------------+--------------------+--------------------+--------------------+\n",
      "\n",
      "Horas laborales por año calculadas:\n",
      "+---+-------+--------------------------------------------+\n",
      "|   | fecha | horas_laborales_funcionamiento_de_12_horas |\n",
      "+---+-------+--------------------------------------------+\n",
      "| 0 | 2017  |                    2976                    |\n",
      "| 1 | 2018  |                    2964                    |\n",
      "| 2 | 2019  |                    2988                    |\n",
      "| 3 | 2020  |                    3024                    |\n",
      "| 4 | 2021  |                    3012                    |\n",
      "+---+-------+--------------------------------------------+\n",
      "\n",
      "Cantidad de pabellones necesarios calculada:\n",
      "+-------------+------------------------+-----------------------+-----------------------+-----------------------+-----------------------+------------------------+------------------------+-----------------------+------------------------+-----------------------+-----------------------+------------------------+------------------------+-----------------------+-----------------------+-----------------------+------------------------+------------------------+-----------------------+\n",
      "| Diagnostico |          2017          |         2018          |         2019          |         2020          |         2021          |          2022          |          2023          |         2024          |          2025          |         2026          |         2027          |          2028          |          2029          |         2030          |         2031          |         2032          |          2033          |          2034          |         2035          |\n",
      "+-------------+------------------------+-----------------------+-----------------------+-----------------------+-----------------------+------------------------+------------------------+-----------------------+------------------------+-----------------------+-----------------------+------------------------+------------------------+-----------------------+-----------------------+-----------------------+------------------------+------------------------+-----------------------+\n",
      "|    ENTN     |   0.0162934207746062   | 0.016775113728136528  | 0.017402131721350772  | 0.018142106646856077  | 0.018808845954295134  |  0.019127441416001575  |   0.0194478080820048   |  0.01931592397101145  |  0.019293811986613306  | 0.019078656211730303  | 0.018976654772943875  |  0.019066343863239993  |  0.019055730632648205  | 0.018722226106043627  |  0.01852950240109713  |  0.01816941757996688  |  0.01817819189728189   |  0.018338829398894325  |  0.0182958738614732   |\n",
      "|    H351     |  0.013545132933106333  | 0.013945576472788178  | 0.014466832394857859  | 0.015081992272687576  | 0.015636269528269423  |  0.015901125996435003  |  0.016167454911546145  | 0.016057816313250504  |  0.016039434061160478  |  0.01586056962179993  | 0.015775773244977403  |  0.015850334054982637  |  0.01584151100786416   | 0.015564260256831408  |  0.0154040441647675   | 0.015104696542382156  |  0.015111990854366887  |  0.015245532873779614  | 0.015209822848694576  |\n",
      "|    HOTI     |  0.12213736248323787   |  0.1269125289627925   |  0.12975905372372937  |  0.1316503672597325   |  0.13408563853407582  |  0.13575780849639166   |   0.1384306476479489   |  0.1380650743306119   |  0.13836263703631935   |  0.13764947980674092  |  0.13849915317933728  |   0.1411184743429063   |  0.14290560748286013   |  0.14182823727840008  |  0.14039563691201862  |  0.13817522752408348  |  0.13857893471667038   |  0.14000833885378494   |  0.13969913885016788  |\n",
      "|    J955     | 0.00028908989065524196 | 0.0003001729812977021 | 0.0003072583846108508 | 0.0003124274929278733 | 0.0003187165578568135 | 0.00032314561905944444 | 0.00033008805223224997 | 0.0003305828250595902 | 0.00033347123632279115 | 0.0003330806438747786 | 0.0003346380587694592 | 0.00033967712684569143 | 0.00034296876994843425 | 0.0003406462469747797 | 0.0003383112120068518 | 0.0003346125230366162 | 0.00033720454658412645 | 0.00034203166603660593 | 0.0003429161865709688 |\n",
      "|    JNEU     |  0.00917131500969618   |  0.00952292369214575  | 0.009747706598280436  | 0.009911695455125847  | 0.010111214696179911  |  0.010251725716454352  |  0.010471972925434848  | 0.010487669487660457  |  0.010579303717803343  | 0.010566912255849655  | 0.010616320910604249  |  0.010776184268597298  |   0.0108806109426913   | 0.010806929397616395  | 0.010732850912199722  | 0.010615510794936046  |  0.010697742188128505  |  0.01085088152132413   | 0.010878942746274935  |\n",
      "+-------------+------------------------+-----------------------+-----------------------+-----------------------+-----------------------+------------------------+------------------------+-----------------------+------------------------+-----------------------+-----------------------+------------------------+------------------------+-----------------------+-----------------------+-----------------------+------------------------+------------------------+-----------------------+\n",
      "\n"
     ]
    }
   ],
   "source": [
    "# Calcular tiempo utilizado en pabellón en horas\n",
    "tiempo_utilizado_pabellon_horas = pb.calcular_tiempo_utilizado_pabellon(\n",
    "    casos_quirurgicos[ANIOS_INTERES],\n",
    "    tiempos_quir,\n",
    ")\n",
    "\n",
    "# Calcular horas laborales\n",
    "horas_laborales = features.calcular_horas_laborales(ANIO_INICIO, ANIO_TERMINO, 12)\n",
    "\n",
    "# Calcular cantidad de pabellones necesarios\n",
    "cantidad_de_pabellones_necesarios = pb.calcular_cantidad_de_pabellones_necesarios(\n",
    "    tiempo_utilizado_pabellon_horas, horas_laborales\n",
    ")\n",
    "\n",
    "# Obtiene la suma total de pabellones\n",
    "suma_total_pabellones = cantidad_de_pabellones_necesarios.sum()"
   ]
  },
  {
   "cell_type": "code",
   "execution_count": 14,
   "metadata": {},
   "outputs": [
    {
     "name": "stdout",
     "output_type": "stream",
     "text": [
      "> Pabellones 2035: 2.35\n"
     ]
    }
   ],
   "source": [
    "print(f\"> Pabellones 2035: {suma_total_pabellones['2035']:.2f}\")"
   ]
  },
  {
   "cell_type": "markdown",
   "metadata": {},
   "source": [
    "## Complicaciones"
   ]
  },
  {
   "cell_type": "code",
   "execution_count": 15,
   "metadata": {},
   "outputs": [],
   "source": [
    "# # Define las complicaciones a buscar\n",
    "# a_buscar_operaciones = {\n",
    "#     \"ecmo\": r\"ECMO\",\n",
    "#     \"trasplantes\": r\"TRASPLANTE|TRANSPLANTE\",\n",
    "#     \"aseos\": r\"ASEO\",\n",
    "#     \"drenajes\": r\"DRENAJE\",\n",
    "#     \"traqueostomias\": r\"TRAQUEOSTOMIA|TRAQUEOSTOMÍA\",\n",
    "#     \"reintervenciones_reoperaciones\": r\"REINTERVENCION|REOPERACION|REINTERVENCIÓN|REOPERACIÓN\",\n",
    "# }\n",
    "\n",
    "# # Define los diagnosticos que son complicaciones\n",
    "# a_buscar_diagnosticos = {\n",
    "#     \"empiemas\": r\"EMPIEMA\",\n",
    "#     \"rupturas\": r\"ANEURISMA\",\n",
    "# }\n",
    "\n",
    "# # Busca los nombres de las operaciones en la base de pabellon\n",
    "# resultados_operaciones = pb.iterar_en_complicaciones_a_buscar(\n",
    "#     grd_y_pabellon, a_buscar_operaciones, \"intervencion_quirurgica\"\n",
    "# )\n",
    "\n",
    "# # Busca los diagnosticos en el primer diagnostico y segundo\n",
    "# resultados_diagnosticos = pb.iterar_en_complicaciones_a_buscar(\n",
    "#     grd_y_pabellon, a_buscar_diagnosticos, \"diagnostico\"\n",
    "# )\n",
    "\n",
    "# # Obtiene resumen de complicaciones\n",
    "# resumen_complicaciones = pd.concat([resultados_operaciones, resultados_diagnosticos])"
   ]
  },
  {
   "cell_type": "code",
   "execution_count": 16,
   "metadata": {},
   "outputs": [],
   "source": [
    "# Obtiene los casos por especialidad por anio\n",
    "casos_especialidad_desglosado = casos_macroproceso.query(\"tipo_paciente == 'Placeholder'\")\n",
    "casos_especialidad = casos_especialidad_desglosado.groupby(\"tipo_paciente\")[ANIOS_INTERES].sum()"
   ]
  },
  {
   "cell_type": "code",
   "execution_count": 17,
   "metadata": {},
   "outputs": [],
   "source": [
    "# # Une los datos de complicaciones y los casos de especialidad\n",
    "# casos_complicaciones = (\n",
    "#     casos_especialidad.merge(\n",
    "#         resumen_complicaciones[[\"fraccion\", \"tiempo_operacion_75%\", \"complicacion\"]],\n",
    "#         how=\"left\",\n",
    "#         left_index=True,\n",
    "#         right_index=True,\n",
    "#     )\n",
    "#     .reset_index()\n",
    "#     .sort_values([\"complicacion\", \"tipo_paciente\"])\n",
    "#     .set_index([\"complicacion\", \"tipo_paciente\"])\n",
    "# )\n",
    "\n",
    "# # Agrega tiempos de limpieza de pabellones\n",
    "# casos_complicaciones[\"tiempo_operacion_75%\"] = casos_complicaciones[\n",
    "#     \"tiempo_operacion_75%\"\n",
    "# ] + pd.Timedelta(\"30 minutes\")\n",
    "\n",
    "# # Obtiene los casos de complicaciones\n",
    "# casos_complicaciones[ANIOS_INTERES] = casos_complicaciones[ANIOS_INTERES].mul(\n",
    "#     casos_complicaciones[\"fraccion\"], axis=0\n",
    "# )\n",
    "\n",
    "# # Indica la cantidad de trasplantes\n",
    "# CASOS_TRASPLANTES = 38\n",
    "# casos_complicaciones.loc[(\"trasplantes\", \"CV\"), ANIOS_INTERES] = CASOS_TRASPLANTES\n",
    "\n",
    "# # Obtiene el tiempo de pabellon por las complicaciones\n",
    "# tiempo_utilizado_pabellon_complicaciones_horas = (\n",
    "#     casos_complicaciones[ANIOS_INTERES]\n",
    "#     .mul(casos_complicaciones[\"tiempo_operacion_75%\"], axis=0)\n",
    "#     .apply(lambda x: x.dt.total_seconds() / 3600)\n",
    "# )\n",
    "\n",
    "# # Indica las horas para pabellon de emergencia\n",
    "# horas_pabellon_emergencia = {str(anio): 365.25 * 24 for anio in range(ANIO_INICIO, ANIO_TERMINO + 1)}\n",
    "# horas_pabellon_emergencia = pd.Series(horas_pabellon_emergencia)\n",
    "\n",
    "# # Divide por las horas laborales\n",
    "# pabellones_por_complicaciones = pb.calcular_cantidad_de_pabellones_necesarios(\n",
    "#     tiempo_utilizado_pabellon_complicaciones_horas, horas_pabellon_emergencia\n",
    "# )\n",
    "\n",
    "# # # Obtiene los pabellones de emergencia por anio\n",
    "# suma_total_pabellones_complicaciones = pabellones_por_complicaciones.sum()"
   ]
  },
  {
   "cell_type": "code",
   "execution_count": 18,
   "metadata": {},
   "outputs": [],
   "source": [
    "# print(f\"> Pabellones de Emergencia 2035: {suma_total_pabellones_complicaciones['2035']:.2f}\")"
   ]
  },
  {
   "cell_type": "code",
   "execution_count": 19,
   "metadata": {},
   "outputs": [],
   "source": [
    "# Carga el resumen de area de estudio para MINSAL\n",
    "resumen_area_de_estudio_minsal = pd.read_excel(\n",
    "    \"../data/interim/0.1_casos_teoricos_diagnosticos.xlsx\", sheet_name=\"resumen_total_RDR\"\n",
    ").sort_values(\"Diagnostico\")\n",
    "resumen_area_de_estudio_minsal[\"diagnostico_separado\"] = (\n",
    "    resumen_area_de_estudio_minsal[\"Diagnostico\"].str.split(\" - \").str[0]\n",
    ")\n",
    "resumen_area_de_estudio_minsal = resumen_area_de_estudio_minsal.set_index(\"diagnostico_separado\")\n",
    "\n",
    "# Sintetiza informacion de pabellon para el 2035\n",
    "resumen_quirurgicos = pd.DataFrame(\n",
    "    {\n",
    "        \"especialidad_quirurgica\": casos_especialidad_desglosado[\"tipo_paciente\"],\n",
    "        \"casos_quirurgicos_2035\": casos_quirurgicos[\"2035\"],\n",
    "        \"tiempo_quirurgico_75%\": tiempos_quir,\n",
    "        \"horas_pabellon_2035\": tiempo_utilizado_pabellon_horas[\"2035\"],\n",
    "        \"horas_laborales_2035_pabellon_12_hrs\": horas_laborales[\"2035\"],\n",
    "        \"cantidad_de_pabellones\": cantidad_de_pabellones_necesarios[\"2035\"],\n",
    "    }\n",
    ")\n",
    "\n",
    "# Une ambos resumenes segun el diagnostico\n",
    "resumen_minsal = resumen_area_de_estudio_minsal.merge(\n",
    "    resumen_quirurgicos, how=\"inner\", left_index=True, right_index=True\n",
    ")"
   ]
  },
  {
   "cell_type": "code",
   "execution_count": 20,
   "metadata": {},
   "outputs": [],
   "source": [
    "a_guardar = {\n",
    "    \"resumen_MINSAL\": resumen_minsal,\n",
    "    \"casos_quirurgicos\": casos_especialidad_desglosado,\n",
    "    \"casos_por_especialidad\": casos_especialidad,\n",
    "    # \"casos_complicaciones\": casos_complicaciones,\n",
    "    \"resumen_duraciones_int_q_rel\": tiempos_quir,\n",
    "    \"tiempo_utilizado_pabellon\": tiempo_utilizado_pabellon_horas,\n",
    "    \"horas_laborales_por_anio\": horas_laborales,\n",
    "    \"pabellones_desg\": cantidad_de_pabellones_necesarios,\n",
    "    \"pabellones\": suma_total_pabellones,\n",
    "    # \"tiempo_ut_emergencia\": tiempo_utilizado_pabellon_complicaciones_horas,\n",
    "    # \"pabellones_desg_emergencia\": pabellones_por_complicaciones,\n",
    "    # \"pabellones_emergencia\": suma_total_pabellones_complicaciones,\n",
    "}"
   ]
  },
  {
   "cell_type": "code",
   "execution_count": 21,
   "metadata": {},
   "outputs": [],
   "source": [
    "with pd.ExcelWriter(\"../data/interim/2.0_estimacion_pabellones_RDR.xlsx\") as file:\n",
    "    for nombre_hoja, df_a_guardar in a_guardar.items():\n",
    "        df_a_guardar.to_excel(file, sheet_name=nombre_hoja)"
   ]
  }
 ],
 "metadata": {
  "kernelspec": {
   "display_name": "proyeccion-rdr",
   "language": "python",
   "name": "python3"
  },
  "language_info": {
   "codemirror_mode": {
    "name": "ipython",
    "version": 3
   },
   "file_extension": ".py",
   "mimetype": "text/x-python",
   "name": "python",
   "nbconvert_exporter": "python",
   "pygments_lexer": "ipython3",
   "version": "3.10.17"
  }
 },
 "nbformat": 4,
 "nbformat_minor": 2
}
