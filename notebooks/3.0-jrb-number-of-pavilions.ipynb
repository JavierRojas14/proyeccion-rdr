{
 "cells": [
  {
   "cell_type": "code",
   "execution_count": 23,
   "metadata": {},
   "outputs": [
    {
     "name": "stdout",
     "output_type": "stream",
     "text": [
      "The autoreload extension is already loaded. To reload it, use:\n",
      "  %reload_ext autoreload\n"
     ]
    }
   ],
   "source": [
    "import sys\n",
    "import os\n",
    "\n",
    "project_root = os.path.abspath('..')\n",
    "if project_root not in sys.path:\n",
    "    sys.path.append(project_root)\n",
    " \n",
    "%load_ext autoreload\n",
    "%autoreload 2"
   ]
  },
  {
   "cell_type": "code",
   "execution_count": 24,
   "metadata": {},
   "outputs": [],
   "source": [
    "import pandas as pd\n",
    "\n",
    "import proyeccion_rdr.features as features\n",
    "import proyeccion_rdr.produccion.a03_pabellon as pb\n",
    "\n",
    "pd.set_option(\"display.max_columns\", None)\n",
    "\n",
    "\n",
    "ANIO_INICIO = 2017\n",
    "ANIO_TERMINO = 2035\n",
    "# Agrega las columnas de poblacion de interes\n",
    "ANIOS_INTERES = [str(i) for i in range(2017, 2036)]"
   ]
  },
  {
   "cell_type": "markdown",
   "metadata": {},
   "source": [
    "## Obtencion de casos por area de influencia INT"
   ]
  },
  {
   "cell_type": "code",
   "execution_count": 25,
   "metadata": {},
   "outputs": [],
   "source": [
    "# Lee los casos de todos los macroprocesos\n",
    "RUTA_ARCHIVOS = \"../data/interim/0.1_casos_teoricos_diagnosticos.xlsx\"\n",
    "_, casos_macroproceso = features.leer_casos_macroprocesos(RUTA_ARCHIVOS)\n",
    "\n",
    "# Obtiene los casos quirurgicos\n",
    "casos_quirurgicos = casos_macroproceso.query(\"tipo_paciente == 'quirurgicos'\")"
   ]
  },
  {
   "cell_type": "code",
   "execution_count": 26,
   "metadata": {},
   "outputs": [],
   "source": [
    "# Los diagnosticos que tienen un porcentaje de hosp. mayor a 0\n",
    "diagnosticos_relevantes = list(casos_quirurgicos.index)\n",
    "\n",
    "# Ademas, los diagnosticos que estan agrupados dentro de los que aportan a AC\n",
    "# Solo deja los diagnosticos que esten agrupados\n",
    "diagnosticos_a_reasignar = casos_quirurgicos.dropna(subset=\"Diagnosticos Contenidos\")\n",
    "\n",
    "# Separa la lista de diagnosticos en filas\n",
    "diagnosticos_agrupados = diagnosticos_a_reasignar.explode(\"Diagnosticos Contenidos\")\n",
    "diagnosticos_agrupados = list(diagnosticos_agrupados[\"Diagnosticos Contenidos\"].unique())\n",
    "\n",
    "# Suma los diagnosticos relevantes y los agrupados\n",
    "diagnosticos_a_buscar_en_quir = sorted(diagnosticos_relevantes + diagnosticos_agrupados)"
   ]
  },
  {
   "cell_type": "markdown",
   "metadata": {},
   "source": [
    "## Obtencion de tiempos quirurgicos entre 2015 y 2022 en pabellon para diagnosticos relevantes\n",
    "\n",
    "Estos se obtendran a partir de la union de la base de GRD (2015 a 2022, tiene los diagnosticos codificados) y Pabellon (2015 a 2022, tiene los tiempos quirurgicos)."
   ]
  },
  {
   "cell_type": "code",
   "execution_count": 27,
   "metadata": {},
   "outputs": [
    {
     "name": "stderr",
     "output_type": "stream",
     "text": [
      "C:\\Users\\jarojas\\AppData\\Local\\Temp\\ipykernel_15736\\3808083235.py:2: DtypeWarning: Columns (40,41,42,43,44,45,46,47,48,49,50,51,103,104,105,106,107,108,109,110,111,112,113,114,115,116,117,118,119,120,121,122,148,149,150,151,152,153,154,155,156,157,228) have mixed types. Specify dtype option on import or set low_memory=False.\n",
      "  grd_y_pabellon = pd.read_csv(\"../data/raw/5_grd_y_pabellon/df_procesada_grd_y_pabellon.csv\")\n"
     ]
    }
   ],
   "source": [
    "# Lee la base de GRD unida con Pabellon\n",
    "grd_y_pabellon = pd.read_csv(\"../data/raw/5_grd_y_pabellon/df_procesada_grd_y_pabellon.csv\")\n",
    "grd_y_pabellon[\"t_total\"] = pd.to_timedelta(grd_y_pabellon[\"t_total\"].str.split(\" \").str[1])"
   ]
  },
  {
   "cell_type": "code",
   "execution_count": 28,
   "metadata": {},
   "outputs": [],
   "source": [
    "# Filtra solamente los diagnosticos que aportan a quirurgico\n",
    "grd_y_pabellon_relevantes = grd_y_pabellon.query(\n",
    "    \"diagnostico_1.isin(@diagnosticos_a_buscar_en_quir)\"\n",
    ").copy()"
   ]
  },
  {
   "cell_type": "markdown",
   "metadata": {},
   "source": [
    "## Reasginar diagnosticos"
   ]
  },
  {
   "cell_type": "code",
   "execution_count": 29,
   "metadata": {},
   "outputs": [
    {
     "name": "stdout",
     "output_type": "stream",
     "text": [
      "Cambiando ['A099'] a A090\n",
      "Cambiando ['J208', 'J209', 'J210', 'J218'] a J205\n"
     ]
    }
   ],
   "source": [
    "for row in diagnosticos_a_reasignar.itertuples():\n",
    "    diagnostico_nuevo = row[0]\n",
    "    diagnosticos_antiguos = row[1]\n",
    "\n",
    "    print(f\"Cambiando {diagnosticos_antiguos} a {diagnostico_nuevo}\")\n",
    "    diagnosticos_cambiados = grd_y_pabellon_relevantes[\"diagnostico_1\"].replace(\n",
    "        diagnosticos_antiguos, diagnostico_nuevo\n",
    "    )\n",
    "    grd_y_pabellon_relevantes[\"diagnostico_1\"] = diagnosticos_cambiados"
   ]
  },
  {
   "cell_type": "markdown",
   "metadata": {},
   "source": [
    "## Obtener tiempos quirurgicos"
   ]
  },
  {
   "cell_type": "code",
   "execution_count": 30,
   "metadata": {},
   "outputs": [],
   "source": [
    "# Obtiene el resumen de duraciones de las int. q por diagnostico acumuladas\n",
    "tiempos_quir = grd_y_pabellon_relevantes.groupby([\"diagnostico_1\"])[\"t_total\"].describe()[\n",
    "    \"75%\"\n",
    "]"
   ]
  },
  {
   "cell_type": "code",
   "execution_count": 31,
   "metadata": {},
   "outputs": [
    {
     "name": "stdout",
     "output_type": "stream",
     "text": [
      "Tiempo utilizado en pabellón calculado (en horas):\n",
      "+------+--------------------+--------------------+--------------------+--------------------+--------------------+--------------------+--------------------+--------------------+--------------------+--------------------+--------------------+--------------------+--------------------+--------------------+--------------------+--------------------+--------------------+--------------------+--------------------+\n",
      "|      |        2017        |        2018        |        2019        |        2020        |        2021        |        2022        |        2023        |        2024        |        2025        |        2026        |        2027        |        2028        |        2029        |        2030        |        2031        |        2032        |        2033        |        2034        |        2035        |\n",
      "+------+--------------------+--------------------+--------------------+--------------------+--------------------+--------------------+--------------------+--------------------+--------------------+--------------------+--------------------+--------------------+--------------------+--------------------+--------------------+--------------------+--------------------+--------------------+--------------------+\n",
      "| A090 | 150.5947813573389  | 155.7377473101175  | 160.70464384523945 | 165.37700450267695 | 168.03652218789443 | 169.69287893177304 | 171.25848384618084 | 172.90397210748833 | 174.41469118491054 | 175.60968084363415 | 176.43079470190193 | 176.94704762404277 | 177.22093338484137 | 177.45188863948334 | 177.65675953595388 | 177.8230473192961  | 177.78392078203916 |  177.455149184255  | 177.19376217841307 |\n",
      "| C910 | 4.685497787153055  | 4.845512333301111  | 5.000048782137778  | 5.145421253374167  | 5.228167575103611  | 5.279702268326389  | 5.328413374354723  | 5.379609913422223  | 5.426613340967777  | 5.463793390310556  | 5.489340936721111  | 5.505403259083889  |   5.51392474379    | 5.521110519583889  | 5.5274847254055555 | 5.532658483977222  | 5.531441129019166  | 5.521211965830278  |  5.5130793584025   |\n",
      "| D70X | 3.090107005533889  | 3.1686333656008334 | 3.313686078968611  | 3.4962124976769444 | 3.6103178251738886 | 3.6568441671975003 |  3.6734757555225   | 3.678107337081389  | 3.673896808391667  | 3.6621073280597223 | 3.6425283696516666 | 3.6160020389052776 | 3.584844126599722  | 3.550738844211389  | 3.542528313266111  | 3.5153704032161115 | 3.489265125338611  | 3.4640019531988893 | 3.441896677576944  |\n",
      "| G473 | 1378.6481624572652 | 1425.7304085780916 | 1471.2007942019663 | 1513.9747959081014 | 1538.3218492169906 | 1553.4852775957183 | 1567.8179013355848 | 1582.8818321527722 | 1596.711993206861  | 1607.6517500982072 | 1615.168790872569  | 1619.8949250457297 | 1622.4022635965425 | 1624.5165867792718 | 1626.3921158143041 | 1627.9144285058699 | 1627.5562372843247 | 1624.5464360477342 | 1622.1535196926923 |\n",
      "| J159 | 458.29197988750775 | 473.94312017104835 | 489.0584437331325  | 503.2774319154953  | 511.37091041799414 | 516.4115566124398  | 521.1760256695911  | 526.1835967577739  | 530.7810365282984  | 534.4176444618894  | 536.9164687400411  | 538.4875362875225  | 539.3210289653445  | 540.0238749734283  | 540.6473407264814  | 541.1533898523016  | 541.0343194697556  | 540.0337975053069  | 539.2383411996877  |\n",
      "+------+--------------------+--------------------+--------------------+--------------------+--------------------+--------------------+--------------------+--------------------+--------------------+--------------------+--------------------+--------------------+--------------------+--------------------+--------------------+--------------------+--------------------+--------------------+--------------------+\n",
      "\n",
      "Horas laborales por año calculadas:\n",
      "+---+-------+--------------------------------------------+\n",
      "|   | fecha | horas_laborales_funcionamiento_de_12_horas |\n",
      "+---+-------+--------------------------------------------+\n",
      "| 0 | 2017  |                    2976                    |\n",
      "| 1 | 2018  |                    2964                    |\n",
      "| 2 | 2019  |                    2988                    |\n",
      "| 3 | 2020  |                    3024                    |\n",
      "| 4 | 2021  |                    3012                    |\n",
      "+---+-------+--------------------------------------------+\n",
      "\n",
      "Cantidad de pabellones necesarios calculada:\n",
      "+------+-----------------------+-----------------------+-----------------------+----------------------+-----------------------+-----------------------+-----------------------+-----------------------+-----------------------+-----------------------+-----------------------+-----------------------+-----------------------+-----------------------+-----------------------+-----------------------+-----------------------+-----------------------+-----------------------+\n",
      "|      |         2017          |         2018          |         2019          |         2020         |         2021          |         2022          |         2023          |         2024          |         2025          |         2026          |         2027          |         2028          |         2029          |         2030          |         2031          |         2032          |         2033          |         2034          |         2035          |\n",
      "+------+-----------------------+-----------------------+-----------------------+----------------------+-----------------------+-----------------------+-----------------------+-----------------------+-----------------------+-----------------------+-----------------------+-----------------------+-----------------------+-----------------------+-----------------------+-----------------------+-----------------------+-----------------------+-----------------------+\n",
      "| A090 | 0.050603085133514414  |  0.05254309963229335  | 0.053783348007108246  | 0.05468816286464185  |  0.0557890179906688   |  0.05656429297725768  |  0.05777951546767235  |  0.05786612185658913  | 0.058371717264026284  |  0.05830334689363684  | 0.058575961056408346  |  0.0594580133145305   | 0.060034191526030276  |  0.05962765075251456  |  0.05921891984531796  | 0.058571491211889364  |  0.05902520610293465  |  0.05987015829428306  | 0.060024987187809305  |\n",
      "| C910 | 0.0015744280198766987 | 0.001634788236606313  | 0.0016733764331117063 | 0.001701528192253362 | 0.0017357794074049173 | 0.0017599007561087962 | 0.0017977103152343869 | 0.0018004049241707573 | 0.0018161356562810499 | 0.0018140084297179801 | 0.0018224903508370222 | 0.0018499338908211991 | 0.001867860685565718  | 0.0018552118681397476 | 0.0018424949084685186 | 0.0018223512793073854 | 0.0018364678383197763 | 0.0018627570734919966 | 0.0018675743084019308 |\n",
      "| D70X | 0.0010383424077734843 | 0.0010690395970313204 | 0.0011089980183964562 | 0.001156154926480471 | 0.0011986446962728714 |  0.0012189480557325   | 0.0012393642899873481 | 0.0012309596174971181 | 0.001229550471349286  | 0.0012158390863412092 | 0.0012093387681446437 | 0.001215054448556881  | 0.0012143780916665725 | 0.001193124611630171  | 0.0011808427710887038 | 0.001157895389728627  | 0.001158454556885329  | 0.0011686916171386266 | 0.0011659541590707805 |\n",
      "| G473 |  0.46325543093322086  |  0.4810156574150106   |  0.4923697437088241   |  0.5006530409749013  |   0.510731025636451   |  0.5178284258652395   |  0.5289534080079571   |  0.5297462624339934   |  0.5343748303905157   |   0.533748921015341   |  0.5362446184835886   |  0.5443195312653661   |  0.5495942627359561   |  0.5458725089984112   |  0.5421307052714347   |  0.5362036984538439   |  0.5403573164954597   |  0.5480925897596944   |  0.5495099998958984   |\n",
      "| J159 |  0.15399596098370555  |  0.1598998381143888   |  0.16367417795620232  | 0.16642772219427754  |  0.16977785870451334  |  0.17213718553747992  |  0.17583536628528715  |  0.1760989279644491   |  0.17763756242580267  |  0.17742949683329662  |  0.1782591197676099   |  0.18094339256973202  |  0.18269682553026573  |   0.181459635407738   |  0.18021578024216045  |  0.17824551707915073  |  0.1796262680842482   |  0.18219763748492135  |  0.18266881476954192  |\n",
      "+------+-----------------------+-----------------------+-----------------------+----------------------+-----------------------+-----------------------+-----------------------+-----------------------+-----------------------+-----------------------+-----------------------+-----------------------+-----------------------+-----------------------+-----------------------+-----------------------+-----------------------+-----------------------+-----------------------+\n",
      "\n"
     ]
    }
   ],
   "source": [
    "# Calcular tiempo utilizado en pabellón en horas\n",
    "tiempo_utilizado_pabellon_horas = pb.calcular_tiempo_utilizado_pabellon(\n",
    "    casos_quirurgicos[ANIOS_INTERES],\n",
    "    tiempos_quir,\n",
    ")\n",
    "\n",
    "# Calcular horas laborales\n",
    "horas_laborales = features.calcular_horas_laborales(ANIO_INICIO, ANIO_TERMINO, 12)\n",
    "\n",
    "# Calcular cantidad de pabellones necesarios\n",
    "cantidad_de_pabellones_necesarios = pb.calcular_cantidad_de_pabellones_necesarios(\n",
    "    tiempo_utilizado_pabellon_horas, horas_laborales\n",
    ")\n",
    "\n",
    "# Obtiene la suma total de pabellones\n",
    "suma_total_pabellones = cantidad_de_pabellones_necesarios.sum()"
   ]
  },
  {
   "cell_type": "code",
   "execution_count": 32,
   "metadata": {},
   "outputs": [
    {
     "name": "stdout",
     "output_type": "stream",
     "text": [
      "> Pabellones 2035: 7.06\n"
     ]
    }
   ],
   "source": [
    "print(f\"> Pabellones 2035: {suma_total_pabellones['2035']:.2f}\")"
   ]
  },
  {
   "cell_type": "markdown",
   "metadata": {},
   "source": [
    "## Complicaciones"
   ]
  },
  {
   "cell_type": "code",
   "execution_count": 33,
   "metadata": {},
   "outputs": [],
   "source": [
    "# # Define las complicaciones a buscar\n",
    "# a_buscar_operaciones = {\n",
    "#     \"ecmo\": r\"ECMO\",\n",
    "#     \"trasplantes\": r\"TRASPLANTE|TRANSPLANTE\",\n",
    "#     \"aseos\": r\"ASEO\",\n",
    "#     \"drenajes\": r\"DRENAJE\",\n",
    "#     \"traqueostomias\": r\"TRAQUEOSTOMIA|TRAQUEOSTOMÍA\",\n",
    "#     \"reintervenciones_reoperaciones\": r\"REINTERVENCION|REOPERACION|REINTERVENCIÓN|REOPERACIÓN\",\n",
    "# }\n",
    "\n",
    "# # Define los diagnosticos que son complicaciones\n",
    "# a_buscar_diagnosticos = {\n",
    "#     \"empiemas\": r\"EMPIEMA\",\n",
    "#     \"rupturas\": r\"ANEURISMA\",\n",
    "# }\n",
    "\n",
    "# # Busca los nombres de las operaciones en la base de pabellon\n",
    "# resultados_operaciones = pb.iterar_en_complicaciones_a_buscar(\n",
    "#     grd_y_pabellon, a_buscar_operaciones, \"intervencion_quirurgica\"\n",
    "# )\n",
    "\n",
    "# # Busca los diagnosticos en el primer diagnostico y segundo\n",
    "# resultados_diagnosticos = pb.iterar_en_complicaciones_a_buscar(\n",
    "#     grd_y_pabellon, a_buscar_diagnosticos, \"diagnostico\"\n",
    "# )\n",
    "\n",
    "# # Obtiene resumen de complicaciones\n",
    "# resumen_complicaciones = pd.concat([resultados_operaciones, resultados_diagnosticos])"
   ]
  },
  {
   "cell_type": "code",
   "execution_count": 34,
   "metadata": {},
   "outputs": [],
   "source": [
    "# Obtiene los casos por especialidad por anio\n",
    "casos_especialidad_desglosado = casos_macroproceso.query(\"tipo_paciente == 'Placeholder'\")\n",
    "casos_especialidad = casos_especialidad_desglosado.groupby(\"tipo_paciente\")[ANIOS_INTERES].sum()"
   ]
  },
  {
   "cell_type": "code",
   "execution_count": 35,
   "metadata": {},
   "outputs": [],
   "source": [
    "# # Une los datos de complicaciones y los casos de especialidad\n",
    "# casos_complicaciones = (\n",
    "#     casos_especialidad.merge(\n",
    "#         resumen_complicaciones[[\"fraccion\", \"tiempo_operacion_75%\", \"complicacion\"]],\n",
    "#         how=\"left\",\n",
    "#         left_index=True,\n",
    "#         right_index=True,\n",
    "#     )\n",
    "#     .reset_index()\n",
    "#     .sort_values([\"complicacion\", \"tipo_paciente\"])\n",
    "#     .set_index([\"complicacion\", \"tipo_paciente\"])\n",
    "# )\n",
    "\n",
    "# # Agrega tiempos de limpieza de pabellones\n",
    "# casos_complicaciones[\"tiempo_operacion_75%\"] = casos_complicaciones[\n",
    "#     \"tiempo_operacion_75%\"\n",
    "# ] + pd.Timedelta(\"30 minutes\")\n",
    "\n",
    "# # Obtiene los casos de complicaciones\n",
    "# casos_complicaciones[ANIOS_INTERES] = casos_complicaciones[ANIOS_INTERES].mul(\n",
    "#     casos_complicaciones[\"fraccion\"], axis=0\n",
    "# )\n",
    "\n",
    "# # Indica la cantidad de trasplantes\n",
    "# CASOS_TRASPLANTES = 38\n",
    "# casos_complicaciones.loc[(\"trasplantes\", \"CV\"), ANIOS_INTERES] = CASOS_TRASPLANTES\n",
    "\n",
    "# # Obtiene el tiempo de pabellon por las complicaciones\n",
    "# tiempo_utilizado_pabellon_complicaciones_horas = (\n",
    "#     casos_complicaciones[ANIOS_INTERES]\n",
    "#     .mul(casos_complicaciones[\"tiempo_operacion_75%\"], axis=0)\n",
    "#     .apply(lambda x: x.dt.total_seconds() / 3600)\n",
    "# )\n",
    "\n",
    "# # Indica las horas para pabellon de emergencia\n",
    "# horas_pabellon_emergencia = {str(anio): 365.25 * 24 for anio in range(ANIO_INICIO, ANIO_TERMINO + 1)}\n",
    "# horas_pabellon_emergencia = pd.Series(horas_pabellon_emergencia)\n",
    "\n",
    "# # Divide por las horas laborales\n",
    "# pabellones_por_complicaciones = pb.calcular_cantidad_de_pabellones_necesarios(\n",
    "#     tiempo_utilizado_pabellon_complicaciones_horas, horas_pabellon_emergencia\n",
    "# )\n",
    "\n",
    "# # # Obtiene los pabellones de emergencia por anio\n",
    "# suma_total_pabellones_complicaciones = pabellones_por_complicaciones.sum()"
   ]
  },
  {
   "cell_type": "code",
   "execution_count": 36,
   "metadata": {},
   "outputs": [],
   "source": [
    "# print(f\"> Pabellones de Emergencia 2035: {suma_total_pabellones_complicaciones['2035']:.2f}\")"
   ]
  },
  {
   "cell_type": "code",
   "execution_count": 38,
   "metadata": {},
   "outputs": [],
   "source": [
    "# Carga el resumen de area de estudio para MINSAL\n",
    "resumen_area_de_estudio_minsal = pd.read_excel(\n",
    "    \"../data/interim/0.1_casos_teoricos_diagnosticos.xlsx\", sheet_name=\"resumen_total_RDR\"\n",
    ").sort_values(\"Diagnostico\")\n",
    "resumen_area_de_estudio_minsal[\"diagnostico_separado\"] = (\n",
    "    resumen_area_de_estudio_minsal[\"Diagnostico\"].str.split(\" - \").str[0]\n",
    ")\n",
    "resumen_area_de_estudio_minsal = resumen_area_de_estudio_minsal.set_index(\"diagnostico_separado\")\n",
    "\n",
    "# Sintetiza informacion de pabellon para el 2035\n",
    "resumen_quirurgicos = pd.DataFrame(\n",
    "    {\n",
    "        \"especialidad_quirurgica\": casos_especialidad_desglosado[\"tipo_paciente\"],\n",
    "        \"casos_quirurgicos_2035\": casos_quirurgicos[\"2035\"],\n",
    "        \"tiempo_quirurgico_75%\": tiempos_quir,\n",
    "        \"horas_pabellon_2035\": tiempo_utilizado_pabellon_horas[\"2035\"],\n",
    "        \"horas_laborales_2035_pabellon_12_hrs\": horas_laborales[\"2035\"],\n",
    "        \"cantidad_de_pabellones\": cantidad_de_pabellones_necesarios[\"2035\"],\n",
    "    }\n",
    ")\n",
    "\n",
    "# Une ambos resumenes segun el diagnostico\n",
    "resumen_minsal = resumen_area_de_estudio_minsal.merge(\n",
    "    resumen_quirurgicos, how=\"inner\", left_index=True, right_index=True\n",
    ")"
   ]
  },
  {
   "cell_type": "code",
   "execution_count": 39,
   "metadata": {},
   "outputs": [],
   "source": [
    "a_guardar = {\n",
    "    \"resumen_MINSAL\": resumen_minsal,\n",
    "    \"casos_quirurgicos\": casos_especialidad_desglosado,\n",
    "    \"casos_por_especialidad\": casos_especialidad,\n",
    "    # \"casos_complicaciones\": casos_complicaciones,\n",
    "    \"resumen_duraciones_int_q_rel\": tiempos_quir,\n",
    "    \"tiempo_utilizado_pabellon\": tiempo_utilizado_pabellon_horas,\n",
    "    \"horas_laborales_por_anio\": horas_laborales,\n",
    "    \"pabellones_desg\": cantidad_de_pabellones_necesarios,\n",
    "    \"pabellones\": suma_total_pabellones,\n",
    "    # \"tiempo_ut_emergencia\": tiempo_utilizado_pabellon_complicaciones_horas,\n",
    "    # \"pabellones_desg_emergencia\": pabellones_por_complicaciones,\n",
    "    # \"pabellones_emergencia\": suma_total_pabellones_complicaciones,\n",
    "}"
   ]
  },
  {
   "cell_type": "code",
   "execution_count": 40,
   "metadata": {},
   "outputs": [],
   "source": [
    "with pd.ExcelWriter(\"../data/interim/2.0_estimacion_pabellones_RDR.xlsx\") as file:\n",
    "    for nombre_hoja, df_a_guardar in a_guardar.items():\n",
    "        df_a_guardar.to_excel(file, sheet_name=nombre_hoja)"
   ]
  }
 ],
 "metadata": {
  "kernelspec": {
   "display_name": "proyeccion-rdr",
   "language": "python",
   "name": "python3"
  },
  "language_info": {
   "codemirror_mode": {
    "name": "ipython",
    "version": 3
   },
   "file_extension": ".py",
   "mimetype": "text/x-python",
   "name": "python",
   "nbconvert_exporter": "python",
   "pygments_lexer": "ipython3",
   "version": "3.10.16"
  }
 },
 "nbformat": 4,
 "nbformat_minor": 2
}
