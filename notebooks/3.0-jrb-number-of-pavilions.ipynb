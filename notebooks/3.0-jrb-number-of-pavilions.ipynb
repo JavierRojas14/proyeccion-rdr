{
 "cells": [
  {
   "cell_type": "code",
   "execution_count": 83,
   "metadata": {},
   "outputs": [
    {
     "name": "stdout",
     "output_type": "stream",
     "text": [
      "The autoreload extension is already loaded. To reload it, use:\n",
      "  %reload_ext autoreload\n"
     ]
    }
   ],
   "source": [
    "import sys\n",
    "import os\n",
    "\n",
    "project_root = os.path.abspath('..')\n",
    "if project_root not in sys.path:\n",
    "    sys.path.append(project_root)\n",
    " \n",
    "%load_ext autoreload\n",
    "%autoreload 2"
   ]
  },
  {
   "cell_type": "code",
   "execution_count": 84,
   "metadata": {},
   "outputs": [],
   "source": [
    "import pandas as pd\n",
    "\n",
    "import proyeccion_rdr.features as features\n",
    "import proyeccion_rdr.produccion.a03_pabellon as pb\n",
    "\n",
    "pd.set_option(\"display.max_columns\", None)\n",
    "\n",
    "\n",
    "ANIO_INICIO = 2017\n",
    "ANIO_TERMINO = 2035\n",
    "# Agrega las columnas de poblacion de interes\n",
    "ANIOS_INTERES = [str(i) for i in range(2017, 2036)]"
   ]
  },
  {
   "cell_type": "markdown",
   "metadata": {},
   "source": [
    "## Obtencion de casos por area de influencia INT"
   ]
  },
  {
   "cell_type": "code",
   "execution_count": 85,
   "metadata": {},
   "outputs": [],
   "source": [
    "# Lee los casos de todos los macroprocesos\n",
    "RUTA_ARCHIVOS = \"../data/interim/0.1_casos_teoricos_diagnosticos.xlsx\"\n",
    "_, casos_macroproceso = features.leer_casos_macroprocesos(RUTA_ARCHIVOS)\n",
    "\n",
    "# Obtiene los casos quirurgicos\n",
    "casos_quirurgicos = casos_macroproceso.query(\"tipo_paciente == 'quirurgicos'\")"
   ]
  },
  {
   "cell_type": "code",
   "execution_count": 86,
   "metadata": {},
   "outputs": [],
   "source": [
    "# Los diagnosticos que tienen un porcentaje de hosp. mayor a 0\n",
    "diagnosticos_relevantes = list(casos_quirurgicos.index)\n",
    "\n",
    "# Ademas, los diagnosticos que estan agrupados dentro de los que aportan a AC\n",
    "# Solo deja los diagnosticos que esten agrupados\n",
    "diagnosticos_a_reasignar = casos_quirurgicos.dropna(subset=\"Diagnosticos Contenidos\")\n",
    "\n",
    "# Separa la lista de diagnosticos en filas\n",
    "diagnosticos_agrupados = diagnosticos_a_reasignar.explode(\"Diagnosticos Contenidos\")\n",
    "diagnosticos_agrupados = list(diagnosticos_agrupados[\"Diagnosticos Contenidos\"].unique())\n",
    "\n",
    "# Suma los diagnosticos relevantes y los agrupados\n",
    "diagnosticos_a_buscar_en_quir = sorted(diagnosticos_relevantes + diagnosticos_agrupados)"
   ]
  },
  {
   "cell_type": "markdown",
   "metadata": {},
   "source": [
    "## Obtencion de tiempos quirurgicos entre 2015 y 2022 en pabellon para diagnosticos relevantes\n",
    "\n",
    "Estos se obtendran a partir de la union de la base de GRD (2015 a 2022, tiene los diagnosticos codificados) y Pabellon (2015 a 2022, tiene los tiempos quirurgicos)."
   ]
  },
  {
   "cell_type": "code",
   "execution_count": 87,
   "metadata": {},
   "outputs": [
    {
     "name": "stderr",
     "output_type": "stream",
     "text": [
      "C:\\Users\\jarojas\\AppData\\Local\\Temp\\ipykernel_32808\\3808083235.py:2: DtypeWarning: Columns (41,42,43,44,45,46,47,48,49,50,51,52,104,105,106,107,108,109,110,111,112,113,114,115,116,117,118,119,120,121,122,123,149,150,151,152,153,154,155,156,157,158,230) have mixed types. Specify dtype option on import or set low_memory=False.\n",
      "  grd_y_pabellon = pd.read_csv(\"../data/raw/5_grd_y_pabellon/df_procesada_grd_y_pabellon.csv\")\n"
     ]
    }
   ],
   "source": [
    "# Lee la base de GRD unida con Pabellon\n",
    "grd_y_pabellon = pd.read_csv(\"../data/raw/5_grd_y_pabellon/df_procesada_grd_y_pabellon.csv\")\n",
    "grd_y_pabellon[\"t_total\"] = pd.to_timedelta(grd_y_pabellon[\"t_total\"].str.split(\" \").str[1])"
   ]
  },
  {
   "cell_type": "code",
   "execution_count": 88,
   "metadata": {},
   "outputs": [],
   "source": [
    "# Filtra solamente los diagnosticos que aportan a quirurgico\n",
    "grd_y_pabellon_relevantes = grd_y_pabellon.query(\n",
    "    \"diagnostico_1.isin(@diagnosticos_a_buscar_en_quir)\"\n",
    ").copy()"
   ]
  },
  {
   "cell_type": "markdown",
   "metadata": {},
   "source": [
    "## Reasginar diagnosticos"
   ]
  },
  {
   "cell_type": "code",
   "execution_count": 89,
   "metadata": {},
   "outputs": [
    {
     "name": "stdout",
     "output_type": "stream",
     "text": [
      "Cambiando ['Q262', 'K914', 'K638'] a ENTN\n",
      "Cambiando ['H652', 'H653', 'H654', 'H669'] a HOTI\n",
      "Cambiando ['J121', 'J122', 'J123', 'J129', 'J159', 'J189'] a JNEU\n",
      "Cambiando ['K352', 'K353', 'K358', 'K36X', 'K659'] a KAPE\n",
      "Cambiando ['K565', 'K650'] a KGAST\n",
      "Cambiando ['M411', 'M410', 'M412', 'M414', 'T813', 'Q763'] a MESC\n",
      "Cambiando ['K560', 'Q625', 'T222'] a OBSI\n",
      "Cambiando ['Q390', 'Q391', 'Q393'] a QATR\n",
      "Cambiando ['Q375', 'Q374', 'Q369', 'Q371', 'Q379', 'Q373', 'Q370', 'T813', 'Q355', 'Q372', 'Q359', 'Q378'] a QLAB\n",
      "Cambiando ['S424', 'S524', 'S525', 'S528', 'S529'] a SFRA\n",
      "Cambiando ['T213', 'T202', 'T212', 'T203', 'T293', 'T201', 'T273', 'T223', 'T222', 'T243', 'T280', 'T211', 'T242', 'T253', 'T232', 'T221', 'T241', 'T312', 'T291', 'T292', 'T252'] a TQUE\n"
     ]
    }
   ],
   "source": [
    "for row in diagnosticos_a_reasignar.itertuples():\n",
    "    diagnostico_nuevo = row[0]\n",
    "    diagnosticos_antiguos = row[1]\n",
    "\n",
    "    print(f\"Cambiando {diagnosticos_antiguos} a {diagnostico_nuevo}\")\n",
    "    diagnosticos_cambiados = grd_y_pabellon_relevantes[\"diagnostico_1\"].replace(\n",
    "        diagnosticos_antiguos, diagnostico_nuevo\n",
    "    )\n",
    "    grd_y_pabellon_relevantes[\"diagnostico_1\"] = diagnosticos_cambiados"
   ]
  },
  {
   "cell_type": "markdown",
   "metadata": {},
   "source": [
    "## Obtener tiempos quirurgicos"
   ]
  },
  {
   "cell_type": "code",
   "execution_count": 90,
   "metadata": {},
   "outputs": [],
   "source": [
    "# Obtiene el resumen de duraciones de las int. q por diagnostico acumuladas\n",
    "tiempos_quir = pd.to_timedelta(\n",
    "    grd_y_pabellon_relevantes.groupby([\"diagnostico_1\"])[\"t_total\"].describe()[\"75%\"]\n",
    ")"
   ]
  },
  {
   "cell_type": "code",
   "execution_count": 91,
   "metadata": {},
   "outputs": [],
   "source": [
    "# Obtiene la cantidad de intervenciones quirurgicas por cada tipo de paciente\n",
    "conteo_int_q_por_paciente = (\n",
    "    grd_y_pabellon_relevantes.groupby([\"ano_x\", \"diagnostico_1\", \"id_paciente\"])\n",
    "    .agg(n_int_q=(\"fecha_operacion\", \"count\"))\n",
    "    .reset_index()\n",
    "    .groupby([\"ano_x\", \"diagnostico_1\"])[\"n_int_q\"].describe()\n",
    ")\n",
    "\n",
    "# Selecciona cuantas intervenciones quirurgicas tendra cada paciente segun el diagnostico\n",
    "numero_int_q_por_pacientes = conteo_int_q_por_paciente.query(\"ano_x == 2024\")[\"75%\"]\n",
    "numero_int_q_por_pacientes = numero_int_q_por_pacientes.reset_index(level=0, drop=True)\n",
    "\n",
    "# Agrega Numero de Intervenciones quirurgicas para Q410 del 2021 (No Habia para el 2024)\n",
    "numero_int_q_por_pacientes.loc[\"Q410\"] = 4"
   ]
  },
  {
   "cell_type": "code",
   "execution_count": 92,
   "metadata": {},
   "outputs": [
    {
     "name": "stdout",
     "output_type": "stream",
     "text": [
      "Cantidad de Int. Q por diagnostico:\n",
      "+------+--------------------+--------------------+--------------------+--------------------+-------------------+--------------------+-------------------+-------------------+-------------------+--------------------+--------------------+--------------------+--------------------+--------------------+-------------------+--------------------+--------------------+--------------------+-------------------+\n",
      "|      |        2017        |        2018        |        2019        |        2020        |       2021        |        2022        |       2023        |       2024        |       2025        |        2026        |        2027        |        2028        |        2029        |        2030        |       2031        |        2032        |        2033        |        2034        |       2035        |\n",
      "+------+--------------------+--------------------+--------------------+--------------------+-------------------+--------------------+-------------------+-------------------+-------------------+--------------------+--------------------+--------------------+--------------------+--------------------+-------------------+--------------------+--------------------+--------------------+-------------------+\n",
      "| ENTN | 42.06293802670398  | 43.131849042098494 | 45.10632542174141  | 47.59089874706862  | 49.14411528954537 | 49.77743790188363  | 50.00382924294578 | 50.06687493286179 | 50.00956066930176 | 49.849080731333686 | 49.58256940577955  | 49.221489545351375 | 48.797363995007174 | 48.33311846017095  | 48.22135564622891 | 47.85167864626672  | 47.49633021219458  | 47.152444630834395 | 46.85154474714426 |\n",
      "| HOTI | 118.6018384413534  | 123.0967095610484  | 127.1409472835029  | 130.7058944769365  | 132.4790545058249 | 133.5157262479669  | 134.3962166219079 | 135.2824384222047 | 135.8992831837696 | 136.1048981042912  | 136.3800065693792  | 137.0505834530316  | 137.7770417436549  | 138.2334065672517  | 138.2728101234492 | 137.9102974064321  | 137.3328562010647  | 136.6235921895094  | 135.8362374938535 |\n",
      "| J955 | 1.5883043346281864 | 1.642546553661396  | 1.6949317905552608 | 1.7442105943641724 | 1.77226019495045  | 1.7897295824835464 | 1.80624182181519  | 1.823596580821166 | 1.839529946090854 | 1.8521333526477044 | 1.8607935378716232 | 1.8662383929098267 | 1.8691270317932516 | 1.8715628879945532 | 1.873723635730766 | 1.8754774521957027 | 1.8750647894980708 | 1.8715972765526891 | 1.868840460475452 |\n",
      "| JNEU | 12.22111946366688  |  12.6384832045613  |  13.0415584995502  | 13.42073151774655  | 13.63655761114652 |  13.7709748429984  | 13.8980273511891  | 14.03156258020731 | 14.15416097408796 | 14.25113718565039  | 14.31777249973443  | 14.35966763433394  | 14.38189410574252  | 14.40063666595809  | 14.41726241937284 | 14.43075706272805  | 14.42758185252682  | 14.40090126680819  | 14.37968909865834 |\n",
      "| KAPE | 370.6043447465767  | 383.2608625209924  | 395.4840844628942  | 406.9824720183069  | 413.5273788217717 | 417.6035692461608  | 421.4564250902109 | 425.505868858272  | 429.2236540878659 |  432.164448951131  | 434.1851588367121  | 435.4556250122929  | 436.1296407517587  |  436.698007198729  | 437.202181670512  | 437.6114055123306  | 437.5151175495498  | 436.7060311956275  | 436.0627741109388 |\n",
      "+------+--------------------+--------------------+--------------------+--------------------+-------------------+--------------------+-------------------+-------------------+-------------------+--------------------+--------------------+--------------------+--------------------+--------------------+-------------------+--------------------+--------------------+--------------------+-------------------+\n",
      "\n",
      "Tiempo utilizado en pabellón calculado (en horas):\n",
      "+------+--------------------+--------------------+--------------------+--------------------+--------------------+--------------------+--------------------+--------------------+--------------------+--------------------+--------------------+--------------------+--------------------+--------------------+--------------------+--------------------+--------------------+--------------------+--------------------+\n",
      "|      |        2017        |        2018        |        2019        |        2020        |        2021        |        2022        |        2023        |        2024        |        2025        |        2026        |        2027        |        2028        |        2029        |        2030        |        2031        |        2032        |        2033        |        2034        |        2035        |\n",
      "+------+--------------------+--------------------+--------------------+--------------------+--------------------+--------------------+--------------------+--------------------+--------------------+--------------------+--------------------+--------------------+--------------------+--------------------+--------------------+--------------------+--------------------+--------------------+--------------------+\n",
      "| ENTN | 218.20149101352666 | 223.74646690588582 | 233.98906312528334 | 246.87778725041832 | 254.9350980645164  | 258.2204591160211  | 259.3948641977811  | 259.72191371422053 | 259.4245959720028  | 258.59210629379334 | 257.2095787924814  |  255.33647701651   | 253.13632572409972 | 250.7280520121367  | 250.14828241481223 | 248.2305829775086  | 246.38721297575918 | 244.60330652245332 | 243.04238837581082 |\n",
      "| HOTI | 397.81033310537276 | 412.88687998601637 | 426.4519273467492  | 438.4093543913911  | 444.3568286549542  | 447.8339984567222  | 450.7873099193161  | 453.7598455411447  | 455.8288456788939  | 456.5185123914767  | 457.44127203479246 | 459.69049866537665 | 462.1271608485092  | 463.6578845276567  | 463.7900506224025  | 462.57412255074087 | 460.63728850773776 | 458.2582988023128  | 455.6173799273003  |\n",
      "| J955 | 3.441326058360833  | 3.558850866266111  | 3.6723522128697224 | 3.7791229544555556 | 3.839897089059167  | 3.8777474287141662 | 3.9135239472661114 |  3.9511259251125   |   3.98564821653    | 4.012955597403333  |   4.031719332055   | 4.043516517971111  | 4.0497752355519445 | 4.055052923988056  | 4.059734544083056  | 4.063534479757222  | 4.062640377245556  | 4.055127432530556  | 4.0491543310299996 |\n",
      "| JNEU | 27.293833468855834 |   28.22594582352   | 29.126147315661942 | 29.972967056300558 | 30.45497866489389  | 30.755177149363057 | 31.03892775098889  | 31.337156429129443 | 31.610959508796387 | 31.827539714619164 | 31.976358582739998 | 32.06992438334556  | 32.11956350282472  | 32.16142188730639  | 32.19855273659917  | 32.22869077342583  | 32.221599470643056 | 32.16201282920472  | 32.11463898700361  |\n",
      "| KAPE | 1019.1619480530858 | 1053.967371932729  | 1087.581232272959  | 1119.2017980503438 | 1137.2002917598722 | 1148.4098154269423 |  1159.00516899808  | 1170.1411393602477 | 1180.365048741631  | 1188.4522346156105 | 1194.0091868009583 | 1197.5029687838053 | 1199.3565120673363 | 1200.9195197965048 | 1202.3059995939082 | 1203.4313651589089 | 1203.1665732612619 | 1200.9415857879756 | 1199.1726288050816 |\n",
      "+------+--------------------+--------------------+--------------------+--------------------+--------------------+--------------------+--------------------+--------------------+--------------------+--------------------+--------------------+--------------------+--------------------+--------------------+--------------------+--------------------+--------------------+--------------------+--------------------+\n",
      "\n",
      "Horas laborales por año calculadas:\n",
      "+---+-------+--------------------------------------------+\n",
      "|   | fecha | horas_laborales_funcionamiento_de_12_horas |\n",
      "+---+-------+--------------------------------------------+\n",
      "| 0 | 2017  |                    2976                    |\n",
      "| 1 | 2018  |                    2964                    |\n",
      "| 2 | 2019  |                    2988                    |\n",
      "| 3 | 2020  |                    3024                    |\n",
      "| 4 | 2021  |                    3012                    |\n",
      "+---+-------+--------------------------------------------+\n",
      "\n",
      "Cantidad de pabellones necesarios calculada:\n",
      "+------+-----------------------+-----------------------+-----------------------+-----------------------+-----------------------+-----------------------+-----------------------+-----------------------+-----------------------+-----------------------+-----------------------+-----------------------+----------------------+-----------------------+-----------------------+-----------------------+-----------------------+-----------------------+-----------------------+\n",
      "|      |         2017          |         2018          |         2019          |         2020          |         2021          |         2022          |         2023          |         2024          |         2025          |         2026          |         2027          |         2028          |         2029         |         2030          |         2031          |         2032          |         2033          |         2034          |         2035          |\n",
      "+------+-----------------------+-----------------------+-----------------------+-----------------------+-----------------------+-----------------------+-----------------------+-----------------------+-----------------------+-----------------------+-----------------------+-----------------------+----------------------+-----------------------+-----------------------+-----------------------+-----------------------+-----------------------+-----------------------+\n",
      "| ENTN |  0.07332039348572804  |  0.07548801177661466  |  0.07830959274607877  |  0.08163947991085262  |  0.08463980679432816  |  0.08607348637200704  |  0.08751513636902196  |  0.08692165786955172  |  0.08682215393975998  |  0.08585395295278664  |  0.08539494647824748  |  0.08579854738457997  | 0.08575078784691725  |  0.08425001747719647  |  0.08338276080493741  |  0.08176237910985132  |  0.08180186353776865  |  0.08252473229502474  |  0.08233143237662968  |\n",
      "| HOTI |  0.13367282698433225  |  0.13930056679690161  |  0.14272152856316908  |  0.1449766383569415   |   0.147528827574686   |  0.14927799948557408  |  0.15208748647750206  |  0.15186072474603238  |  0.1525531612044491   |  0.15156657117910913  |  0.15187293228246762  |  0.15446589336874214  | 0.15654714120884458  |  0.1557990203385943   |  0.15459668354080083  |  0.15236301796796473  |  0.1529340267289966   |  0.15460806302372226  |  0.15434193086968168  |\n",
      "| J955 | 0.0011563595626212478 | 0.0012006919251909957 | 0.0012290335384436823 | 0.0012497099717114933 | 0.0012748662314273462 | 0.0012925824762380553 | 0.0013203522089291874 | 0.0013223313002384538 | 0.0013338849452911646 | 0.0013323225754991144 | 0.0013385522350780213 | 0.0013587085073827657 | 0.001371875079794019 | 0.0013625849878992123 | 0.0013532448480276852 | 0.0013384500921466477 | 0.0013488181863365058 | 0.0013681266641466113 | 0.0013716647462838753 |\n",
      "| JNEU |  0.00917131500969618  |  0.00952292369214575  | 0.009747706598280436  | 0.009911695455125847  | 0.010111214696179911  | 0.010251725716454352  | 0.010471972925434848  | 0.010487669487660457  | 0.010579303717803343  | 0.010566912255849655  | 0.010616320910604249  | 0.010776184268597298  |  0.0108806109426913  | 0.010806929397616395  | 0.010732850912199722  | 0.010615510794936046  | 0.010697742188128505  |  0.01085088152132413  | 0.010878942746274935  |\n",
      "| KAPE |  0.34246033200708526  |  0.35558953169120416  |  0.3639830094621683   |  0.37010641469918776  |  0.3775565377688819   |  0.38280327180898077  |  0.3910273849521188   |  0.39161350045523685  |  0.39503515687470914  |  0.3945724550516635   |  0.3964173926962013   |  0.40238675026337545  |  0.4062860813236234  |  0.4035347848778578   |  0.4007686665313027   |  0.39638714267421243  |  0.3994576936458373   |  0.4051759736126773   |  0.40622379024562383  |\n",
      "+------+-----------------------+-----------------------+-----------------------+-----------------------+-----------------------+-----------------------+-----------------------+-----------------------+-----------------------+-----------------------+-----------------------+-----------------------+----------------------+-----------------------+-----------------------+-----------------------+-----------------------+-----------------------+-----------------------+\n",
      "\n"
     ]
    }
   ],
   "source": [
    "# Calcula la cantidad de intervenciones quirurgicas que se realizaran\n",
    "numero_de_int_q = pb.calcular_cantidad_int_q(\n",
    "    casos_quirurgicos[ANIOS_INTERES],\n",
    "    numero_int_q_por_pacientes,\n",
    ")\n",
    "\n",
    "# Calcular tiempo utilizado en pabellón en horas\n",
    "tiempo_utilizado_pabellon_horas = pb.calcular_tiempo_utilizado_pabellon(\n",
    "    numero_de_int_q,\n",
    "    tiempos_quir,\n",
    ")\n",
    "\n",
    "# Calcular horas laborales\n",
    "horas_laborales = features.calcular_horas_laborales(ANIO_INICIO, ANIO_TERMINO, 12)\n",
    "\n",
    "# Calcular cantidad de pabellones necesarios\n",
    "cantidad_de_pabellones_necesarios = pb.calcular_cantidad_de_pabellones_necesarios(\n",
    "    tiempo_utilizado_pabellon_horas, horas_laborales\n",
    ")\n",
    "\n",
    "# Obtiene la suma total de pabellones\n",
    "suma_total_pabellones = cantidad_de_pabellones_necesarios.sum()"
   ]
  },
  {
   "cell_type": "code",
   "execution_count": 93,
   "metadata": {},
   "outputs": [
    {
     "name": "stdout",
     "output_type": "stream",
     "text": [
      "> Pabellones 2035: 6.50\n"
     ]
    }
   ],
   "source": [
    "print(f\"> Pabellones 2035: {suma_total_pabellones['2035']:.2f}\")"
   ]
  },
  {
   "cell_type": "markdown",
   "metadata": {},
   "source": [
    "## Complicaciones"
   ]
  },
  {
   "cell_type": "code",
   "execution_count": 94,
   "metadata": {},
   "outputs": [],
   "source": [
    "# # Define las complicaciones a buscar\n",
    "# a_buscar_operaciones = {\n",
    "#     \"ecmo\": r\"ECMO\",\n",
    "#     \"trasplantes\": r\"TRASPLANTE|TRANSPLANTE\",\n",
    "#     \"aseos\": r\"ASEO\",\n",
    "#     \"drenajes\": r\"DRENAJE\",\n",
    "#     \"traqueostomias\": r\"TRAQUEOSTOMIA|TRAQUEOSTOMÍA\",\n",
    "#     \"reintervenciones_reoperaciones\": r\"REINTERVENCION|REOPERACION|REINTERVENCIÓN|REOPERACIÓN\",\n",
    "# }\n",
    "\n",
    "# # Define los diagnosticos que son complicaciones\n",
    "# a_buscar_diagnosticos = {\n",
    "#     \"empiemas\": r\"EMPIEMA\",\n",
    "#     \"rupturas\": r\"ANEURISMA\",\n",
    "# }\n",
    "\n",
    "# # Busca los nombres de las operaciones en la base de pabellon\n",
    "# resultados_operaciones = pb.iterar_en_complicaciones_a_buscar(\n",
    "#     grd_y_pabellon, a_buscar_operaciones, \"intervencion_quirurgica\"\n",
    "# )\n",
    "\n",
    "# # Busca los diagnosticos en el primer diagnostico y segundo\n",
    "# resultados_diagnosticos = pb.iterar_en_complicaciones_a_buscar(\n",
    "#     grd_y_pabellon, a_buscar_diagnosticos, \"diagnostico\"\n",
    "# )\n",
    "\n",
    "# # Obtiene resumen de complicaciones\n",
    "# resumen_complicaciones = pd.concat([resultados_operaciones, resultados_diagnosticos])"
   ]
  },
  {
   "cell_type": "code",
   "execution_count": 95,
   "metadata": {},
   "outputs": [],
   "source": [
    "# Obtiene los casos por especialidad por anio\n",
    "casos_especialidad_desglosado = casos_macroproceso.query(\"tipo_paciente == 'Placeholder'\")\n",
    "casos_especialidad = casos_especialidad_desglosado.groupby(\"tipo_paciente\")[ANIOS_INTERES].sum()"
   ]
  },
  {
   "cell_type": "code",
   "execution_count": 96,
   "metadata": {},
   "outputs": [],
   "source": [
    "# # Une los datos de complicaciones y los casos de especialidad\n",
    "# casos_complicaciones = (\n",
    "#     casos_especialidad.merge(\n",
    "#         resumen_complicaciones[[\"fraccion\", \"tiempo_operacion_75%\", \"complicacion\"]],\n",
    "#         how=\"left\",\n",
    "#         left_index=True,\n",
    "#         right_index=True,\n",
    "#     )\n",
    "#     .reset_index()\n",
    "#     .sort_values([\"complicacion\", \"tipo_paciente\"])\n",
    "#     .set_index([\"complicacion\", \"tipo_paciente\"])\n",
    "# )\n",
    "\n",
    "# # Agrega tiempos de limpieza de pabellones\n",
    "# casos_complicaciones[\"tiempo_operacion_75%\"] = casos_complicaciones[\n",
    "#     \"tiempo_operacion_75%\"\n",
    "# ] + pd.Timedelta(\"30 minutes\")\n",
    "\n",
    "# # Obtiene los casos de complicaciones\n",
    "# casos_complicaciones[ANIOS_INTERES] = casos_complicaciones[ANIOS_INTERES].mul(\n",
    "#     casos_complicaciones[\"fraccion\"], axis=0\n",
    "# )\n",
    "\n",
    "# # Indica la cantidad de trasplantes\n",
    "# CASOS_TRASPLANTES = 38\n",
    "# casos_complicaciones.loc[(\"trasplantes\", \"CV\"), ANIOS_INTERES] = CASOS_TRASPLANTES\n",
    "\n",
    "# # Obtiene el tiempo de pabellon por las complicaciones\n",
    "# tiempo_utilizado_pabellon_complicaciones_horas = (\n",
    "#     casos_complicaciones[ANIOS_INTERES]\n",
    "#     .mul(casos_complicaciones[\"tiempo_operacion_75%\"], axis=0)\n",
    "#     .apply(lambda x: x.dt.total_seconds() / 3600)\n",
    "# )\n",
    "\n",
    "# # Indica las horas para pabellon de emergencia\n",
    "# horas_pabellon_emergencia = {str(anio): 365.25 * 24 for anio in range(ANIO_INICIO, ANIO_TERMINO + 1)}\n",
    "# horas_pabellon_emergencia = pd.Series(horas_pabellon_emergencia)\n",
    "\n",
    "# # Divide por las horas laborales\n",
    "# pabellones_por_complicaciones = pb.calcular_cantidad_de_pabellones_necesarios(\n",
    "#     tiempo_utilizado_pabellon_complicaciones_horas, horas_pabellon_emergencia\n",
    "# )\n",
    "\n",
    "# # # Obtiene los pabellones de emergencia por anio\n",
    "# suma_total_pabellones_complicaciones = pabellones_por_complicaciones.sum()"
   ]
  },
  {
   "cell_type": "code",
   "execution_count": 97,
   "metadata": {},
   "outputs": [],
   "source": [
    "# print(f\"> Pabellones de Emergencia 2035: {suma_total_pabellones_complicaciones['2035']:.2f}\")"
   ]
  },
  {
   "cell_type": "markdown",
   "metadata": {},
   "source": [
    "## Obtener resumen para MINSAL"
   ]
  },
  {
   "cell_type": "code",
   "execution_count": 98,
   "metadata": {},
   "outputs": [],
   "source": [
    "# Obtiene porcentaje de hospitalizados\n",
    "porcentaje_cm = pd.read_excel(\n",
    "    \"../data/raw/3_incidencias_y_porcentajes_marcoprocesos/incidencias_y_prevalencias_RDR.xlsx\"\n",
    ")\n",
    "\n",
    "porcentaje_cm[\"Diagnostico\"] = porcentaje_cm[\"Diagnostico\"].str.split(\" - \").str[0]\n",
    "\n",
    "# Filtra los porcentajes de hospitalizados\n",
    "porcentaje_cm = porcentaje_cm.set_index(\"Diagnostico\")\n",
    "porcentaje_cm = porcentaje_cm[\"Porcentaje Pacientes Quirúrgicos\"]\n",
    "porcentaje_cm = porcentaje_cm.dropna()\n",
    "porcentaje_cm = porcentaje_cm[porcentaje_cm > 0]"
   ]
  },
  {
   "cell_type": "code",
   "execution_count": 99,
   "metadata": {},
   "outputs": [],
   "source": [
    "# Carga el resumen de area de estudio para MINSAL\n",
    "resumen_area_de_estudio_minsal = pd.read_excel(\n",
    "    \"../data/interim/0.1_casos_teoricos_diagnosticos.xlsx\", sheet_name=\"resumen_total_RDR\"\n",
    ").sort_values(\"Diagnostico\")\n",
    "resumen_area_de_estudio_minsal[\"diagnostico_separado\"] = (\n",
    "    resumen_area_de_estudio_minsal[\"Diagnostico\"].str.split(\" - \").str[0]\n",
    ")\n",
    "resumen_area_de_estudio_minsal = resumen_area_de_estudio_minsal.set_index(\"diagnostico_separado\")\n",
    "\n",
    "# Sintetiza informacion de pabellon para el 2035\n",
    "resumen_quirurgicos = pd.DataFrame(\n",
    "    {\n",
    "        \"especialidad_quirurgica\": casos_especialidad_desglosado[\"tipo_paciente\"],\n",
    "        \"porcentaje_quirurgico_cm\": porcentaje_cm,\n",
    "        \"casos_quirurgicos_2035\": casos_quirurgicos[\"2035\"],\n",
    "        \"n_int_q_por_paciente_75%\": numero_int_q_por_pacientes,\n",
    "        \"n_int_q_2035\": numero_de_int_q[\"2035\"],\n",
    "        \"tiempo_quirurgico_75%\": tiempos_quir,\n",
    "        \"horas_pabellon_2035\": tiempo_utilizado_pabellon_horas[\"2035\"],\n",
    "        \"horas_laborales_2035_pabellon_12_hrs\": horas_laborales[\"2035\"],\n",
    "        \"cantidad_de_pabellones\": cantidad_de_pabellones_necesarios[\"2035\"],\n",
    "    }\n",
    ")\n",
    "\n",
    "# Une ambos resumenes segun el diagnostico\n",
    "resumen_minsal = resumen_area_de_estudio_minsal.merge(\n",
    "    resumen_quirurgicos, how=\"inner\", left_index=True, right_index=True\n",
    ")"
   ]
  },
  {
   "cell_type": "code",
   "execution_count": 100,
   "metadata": {},
   "outputs": [],
   "source": [
    "a_guardar = {\n",
    "    \"resumen_MINSAL\": resumen_minsal,\n",
    "    \"casos_quirurgicos\": casos_especialidad_desglosado,\n",
    "    \"casos_por_especialidad\": casos_especialidad,\n",
    "    # \"casos_complicaciones\": casos_complicaciones,\n",
    "    \"resumen_duraciones_int_q_rel\": tiempos_quir,\n",
    "    \"tiempo_utilizado_pabellon\": tiempo_utilizado_pabellon_horas,\n",
    "    \"horas_laborales_por_anio\": horas_laborales,\n",
    "    \"pabellones_desg\": cantidad_de_pabellones_necesarios,\n",
    "    \"pabellones\": suma_total_pabellones,\n",
    "    # \"tiempo_ut_emergencia\": tiempo_utilizado_pabellon_complicaciones_horas,\n",
    "    # \"pabellones_desg_emergencia\": pabellones_por_complicaciones,\n",
    "    # \"pabellones_emergencia\": suma_total_pabellones_complicaciones,\n",
    "}"
   ]
  },
  {
   "cell_type": "code",
   "execution_count": 101,
   "metadata": {},
   "outputs": [],
   "source": [
    "with pd.ExcelWriter(\"../data/interim/2.0_estimacion_pabellones_RDR.xlsx\") as file:\n",
    "    for nombre_hoja, df_a_guardar in a_guardar.items():\n",
    "        df_a_guardar.to_excel(file, sheet_name=nombre_hoja)"
   ]
  }
 ],
 "metadata": {
  "kernelspec": {
   "display_name": "proyeccion-rdr",
   "language": "python",
   "name": "python3"
  },
  "language_info": {
   "codemirror_mode": {
    "name": "ipython",
    "version": 3
   },
   "file_extension": ".py",
   "mimetype": "text/x-python",
   "name": "python",
   "nbconvert_exporter": "python",
   "pygments_lexer": "ipython3",
   "version": "3.10.17"
  }
 },
 "nbformat": 4,
 "nbformat_minor": 2
}
