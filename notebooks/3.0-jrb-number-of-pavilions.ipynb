{
 "cells": [
  {
   "cell_type": "code",
   "execution_count": 1,
   "metadata": {},
   "outputs": [],
   "source": [
    "import sys\n",
    "import os\n",
    "\n",
    "project_root = os.path.abspath('..')\n",
    "if project_root not in sys.path:\n",
    "    sys.path.append(project_root)\n",
    " \n",
    "%load_ext autoreload\n",
    "%autoreload 2"
   ]
  },
  {
   "cell_type": "code",
   "execution_count": 2,
   "metadata": {},
   "outputs": [
    {
     "name": "stderr",
     "output_type": "stream",
     "text": [
      "\u001b[32m2025-06-25 20:58:03.725\u001b[0m | \u001b[1mINFO    \u001b[0m | \u001b[36mproyeccion_rdr.config\u001b[0m:\u001b[36m<module>\u001b[0m:\u001b[36m11\u001b[0m - \u001b[1mPROJ_ROOT path is: C:\\Users\\javie\\OneDrive\\Documents\\Trabajo\\SSMN\\2.0-proyeccion-rdr\u001b[0m\n"
     ]
    }
   ],
   "source": [
    "import pandas as pd\n",
    "\n",
    "import proyeccion_rdr.features as features\n",
    "import proyeccion_rdr.produccion.a03_pabellon as pb\n",
    "\n",
    "pd.set_option(\"display.max_columns\", None)\n",
    "\n",
    "\n",
    "ANIO_INICIO = 2017\n",
    "ANIO_TERMINO = 2039\n",
    "# Agrega las columnas de poblacion de interes\n",
    "ANIOS_INTERES = [f\"{i}\" for i in [2024, 2029, 2039]]"
   ]
  },
  {
   "cell_type": "markdown",
   "metadata": {},
   "source": [
    "## Obtencion de casos por area de influencia INT"
   ]
  },
  {
   "cell_type": "code",
   "execution_count": 3,
   "metadata": {},
   "outputs": [],
   "source": [
    "# Lee los casos de todos los macroprocesos\n",
    "RUTA_ARCHIVOS = \"../data/interim/0.1_casos_teoricos_diagnosticos.xlsx\"\n",
    "_, casos_macroproceso = features.leer_casos_macroprocesos(RUTA_ARCHIVOS)\n",
    "\n",
    "# Obtiene los casos quirurgicos\n",
    "casos_quirurgicos = casos_macroproceso.query(\"tipo_paciente == 'quirurgicos'\")"
   ]
  },
  {
   "cell_type": "code",
   "execution_count": 4,
   "metadata": {},
   "outputs": [],
   "source": [
    "# Los diagnosticos que tienen un porcentaje de hosp. mayor a 0\n",
    "diagnosticos_relevantes = list(casos_quirurgicos.index)\n",
    "\n",
    "# Ademas, los diagnosticos que estan agrupados dentro de los que aportan a AC\n",
    "# Solo deja los diagnosticos que esten agrupados\n",
    "diagnosticos_a_reasignar = casos_quirurgicos.dropna(subset=\"Diagnosticos Contenidos\")\n",
    "\n",
    "# Separa la lista de diagnosticos en filas\n",
    "diagnosticos_agrupados = diagnosticos_a_reasignar.explode(\"Diagnosticos Contenidos\")\n",
    "diagnosticos_agrupados = list(diagnosticos_agrupados[\"Diagnosticos Contenidos\"].unique())\n",
    "\n",
    "# Suma los diagnosticos relevantes y los agrupados\n",
    "diagnosticos_a_buscar_en_quir = sorted(diagnosticos_relevantes + diagnosticos_agrupados)"
   ]
  },
  {
   "cell_type": "markdown",
   "metadata": {},
   "source": [
    "## Obtencion de tiempos quirurgicos entre 2015 y 2022 en pabellon para diagnosticos relevantes\n",
    "\n",
    "Estos se obtendran a partir de la union de la base de GRD (2015 a 2022, tiene los diagnosticos codificados) y Pabellon (2015 a 2022, tiene los tiempos quirurgicos)."
   ]
  },
  {
   "cell_type": "code",
   "execution_count": 5,
   "metadata": {},
   "outputs": [
    {
     "name": "stderr",
     "output_type": "stream",
     "text": [
      "C:\\Users\\javie\\AppData\\Local\\Temp\\ipykernel_13696\\3808083235.py:2: DtypeWarning: Columns (41,42,43,44,45,46,47,48,49,50,51,52,104,105,106,107,108,109,110,111,112,113,114,115,116,117,118,119,120,121,122,123,149,150,151,152,153,154,155,156,157,158,230) have mixed types. Specify dtype option on import or set low_memory=False.\n",
      "  grd_y_pabellon = pd.read_csv(\"../data/raw/5_grd_y_pabellon/df_procesada_grd_y_pabellon.csv\")\n"
     ]
    }
   ],
   "source": [
    "# Lee la base de GRD unida con Pabellon\n",
    "grd_y_pabellon = pd.read_csv(\"../data/raw/5_grd_y_pabellon/df_procesada_grd_y_pabellon.csv\")\n",
    "grd_y_pabellon[\"t_total\"] = pd.to_timedelta(grd_y_pabellon[\"t_total\"].str.split(\" \").str[1])"
   ]
  },
  {
   "cell_type": "code",
   "execution_count": 6,
   "metadata": {},
   "outputs": [],
   "source": [
    "# Filtra solamente los diagnosticos que aportan a quirurgico\n",
    "grd_y_pabellon_relevantes = grd_y_pabellon.query(\n",
    "    \"diagnostico_1.isin(@diagnosticos_a_buscar_en_quir)\"\n",
    ").copy()\n",
    "\n",
    "# Elimina las operaciones hechas en ambulatorio\n",
    "grd_y_pabellon_relevantes = grd_y_pabellon_relevantes.query(\"tipo_cirugia != 'AMBULATORIO'\")"
   ]
  },
  {
   "cell_type": "code",
   "execution_count": 7,
   "metadata": {},
   "outputs": [
    {
     "name": "stderr",
     "output_type": "stream",
     "text": [
      "C:\\Users\\javie\\AppData\\Local\\Temp\\ipykernel_13696\\3328051442.py:2: DtypeWarning: Columns (0,7,11,13,33,36) have mixed types. Specify dtype option on import or set low_memory=False.\n",
      "  egresos_rdr = pd.read_csv(\"../data/raw/4_egresos_deis/egresos_procesados_109101.csv\")\n"
     ]
    }
   ],
   "source": [
    "# Lee los egresos del Torax\n",
    "egresos_rdr = pd.read_csv(\"../data/raw/4_egresos_deis/egresos_procesados_109101.csv\")"
   ]
  },
  {
   "cell_type": "code",
   "execution_count": 8,
   "metadata": {},
   "outputs": [],
   "source": [
    "# Obtiene los egresos quirurgicos desde DEIS\n",
    "egresos_rdr_iq = egresos_rdr.query(\"INTERV_Q == 1\")\n",
    "\n",
    "conteo_egresos_rdr_iq = egresos_rdr_iq.groupby(\"ANO_EGRESO\").size()\n",
    "conteo_egresos_rdr_iq_relevantes = egresos_rdr_iq_relevantes = (\n",
    "    egresos_rdr_iq.query(\"DIAG1.isin(@diagnosticos_a_buscar_en_quir)\").groupby(\"ANO_EGRESO\").size()\n",
    ")\n",
    "comparacion_iq = pd.concat([conteo_egresos_rdr_iq, conteo_egresos_rdr_iq_relevantes], axis=1)\n",
    "comparacion_iq[\"%\"] = round((comparacion_iq[1] / comparacion_iq[0]) * 100, 2)"
   ]
  },
  {
   "cell_type": "code",
   "execution_count": 9,
   "metadata": {},
   "outputs": [
    {
     "data": {
      "text/html": [
       "<div>\n",
       "<style scoped>\n",
       "    .dataframe tbody tr th:only-of-type {\n",
       "        vertical-align: middle;\n",
       "    }\n",
       "\n",
       "    .dataframe tbody tr th {\n",
       "        vertical-align: top;\n",
       "    }\n",
       "\n",
       "    .dataframe thead th {\n",
       "        text-align: right;\n",
       "    }\n",
       "</style>\n",
       "<table border=\"1\" class=\"dataframe\">\n",
       "  <thead>\n",
       "    <tr style=\"text-align: right;\">\n",
       "      <th></th>\n",
       "      <th>0</th>\n",
       "      <th>1</th>\n",
       "      <th>%</th>\n",
       "    </tr>\n",
       "    <tr>\n",
       "      <th>ANO_EGRESO</th>\n",
       "      <th></th>\n",
       "      <th></th>\n",
       "      <th></th>\n",
       "    </tr>\n",
       "  </thead>\n",
       "  <tbody>\n",
       "    <tr>\n",
       "      <th>2001.0</th>\n",
       "      <td>4618</td>\n",
       "      <td>627</td>\n",
       "      <td>13.58</td>\n",
       "    </tr>\n",
       "    <tr>\n",
       "      <th>2002.0</th>\n",
       "      <td>4721</td>\n",
       "      <td>600</td>\n",
       "      <td>12.71</td>\n",
       "    </tr>\n",
       "    <tr>\n",
       "      <th>2003.0</th>\n",
       "      <td>4462</td>\n",
       "      <td>677</td>\n",
       "      <td>15.17</td>\n",
       "    </tr>\n",
       "    <tr>\n",
       "      <th>2004.0</th>\n",
       "      <td>4358</td>\n",
       "      <td>640</td>\n",
       "      <td>14.69</td>\n",
       "    </tr>\n",
       "    <tr>\n",
       "      <th>2005.0</th>\n",
       "      <td>3597</td>\n",
       "      <td>346</td>\n",
       "      <td>9.62</td>\n",
       "    </tr>\n",
       "    <tr>\n",
       "      <th>2006.0</th>\n",
       "      <td>1581</td>\n",
       "      <td>69</td>\n",
       "      <td>4.36</td>\n",
       "    </tr>\n",
       "    <tr>\n",
       "      <th>2007.0</th>\n",
       "      <td>3498</td>\n",
       "      <td>369</td>\n",
       "      <td>10.55</td>\n",
       "    </tr>\n",
       "    <tr>\n",
       "      <th>2008.0</th>\n",
       "      <td>895</td>\n",
       "      <td>79</td>\n",
       "      <td>8.83</td>\n",
       "    </tr>\n",
       "    <tr>\n",
       "      <th>2009.0</th>\n",
       "      <td>1497</td>\n",
       "      <td>156</td>\n",
       "      <td>10.42</td>\n",
       "    </tr>\n",
       "    <tr>\n",
       "      <th>2010.0</th>\n",
       "      <td>1554</td>\n",
       "      <td>511</td>\n",
       "      <td>32.88</td>\n",
       "    </tr>\n",
       "    <tr>\n",
       "      <th>2011.0</th>\n",
       "      <td>4724</td>\n",
       "      <td>936</td>\n",
       "      <td>19.81</td>\n",
       "    </tr>\n",
       "    <tr>\n",
       "      <th>2012.0</th>\n",
       "      <td>3884</td>\n",
       "      <td>1099</td>\n",
       "      <td>28.30</td>\n",
       "    </tr>\n",
       "    <tr>\n",
       "      <th>2013.0</th>\n",
       "      <td>3112</td>\n",
       "      <td>1069</td>\n",
       "      <td>34.35</td>\n",
       "    </tr>\n",
       "    <tr>\n",
       "      <th>2014.0</th>\n",
       "      <td>3250</td>\n",
       "      <td>1046</td>\n",
       "      <td>32.18</td>\n",
       "    </tr>\n",
       "    <tr>\n",
       "      <th>2015.0</th>\n",
       "      <td>3206</td>\n",
       "      <td>1100</td>\n",
       "      <td>34.31</td>\n",
       "    </tr>\n",
       "    <tr>\n",
       "      <th>2016.0</th>\n",
       "      <td>3184</td>\n",
       "      <td>1115</td>\n",
       "      <td>35.02</td>\n",
       "    </tr>\n",
       "    <tr>\n",
       "      <th>2017.0</th>\n",
       "      <td>3632</td>\n",
       "      <td>1169</td>\n",
       "      <td>32.19</td>\n",
       "    </tr>\n",
       "    <tr>\n",
       "      <th>2018.0</th>\n",
       "      <td>3067</td>\n",
       "      <td>884</td>\n",
       "      <td>28.82</td>\n",
       "    </tr>\n",
       "    <tr>\n",
       "      <th>2019.0</th>\n",
       "      <td>3174</td>\n",
       "      <td>991</td>\n",
       "      <td>31.22</td>\n",
       "    </tr>\n",
       "    <tr>\n",
       "      <th>2020.0</th>\n",
       "      <td>1921</td>\n",
       "      <td>589</td>\n",
       "      <td>30.66</td>\n",
       "    </tr>\n",
       "    <tr>\n",
       "      <th>2021.0</th>\n",
       "      <td>2346</td>\n",
       "      <td>668</td>\n",
       "      <td>28.47</td>\n",
       "    </tr>\n",
       "    <tr>\n",
       "      <th>2022.0</th>\n",
       "      <td>1496</td>\n",
       "      <td>532</td>\n",
       "      <td>35.56</td>\n",
       "    </tr>\n",
       "    <tr>\n",
       "      <th>2023.0</th>\n",
       "      <td>2351</td>\n",
       "      <td>875</td>\n",
       "      <td>37.22</td>\n",
       "    </tr>\n",
       "  </tbody>\n",
       "</table>\n",
       "</div>"
      ],
      "text/plain": [
       "               0     1      %\n",
       "ANO_EGRESO                   \n",
       "2001.0      4618   627  13.58\n",
       "2002.0      4721   600  12.71\n",
       "2003.0      4462   677  15.17\n",
       "2004.0      4358   640  14.69\n",
       "2005.0      3597   346   9.62\n",
       "2006.0      1581    69   4.36\n",
       "2007.0      3498   369  10.55\n",
       "2008.0       895    79   8.83\n",
       "2009.0      1497   156  10.42\n",
       "2010.0      1554   511  32.88\n",
       "2011.0      4724   936  19.81\n",
       "2012.0      3884  1099  28.30\n",
       "2013.0      3112  1069  34.35\n",
       "2014.0      3250  1046  32.18\n",
       "2015.0      3206  1100  34.31\n",
       "2016.0      3184  1115  35.02\n",
       "2017.0      3632  1169  32.19\n",
       "2018.0      3067   884  28.82\n",
       "2019.0      3174   991  31.22\n",
       "2020.0      1921   589  30.66\n",
       "2021.0      2346   668  28.47\n",
       "2022.0      1496   532  35.56\n",
       "2023.0      2351   875  37.22"
      ]
     },
     "execution_count": 9,
     "metadata": {},
     "output_type": "execute_result"
    }
   ],
   "source": [
    "comparacion_iq"
   ]
  },
  {
   "cell_type": "markdown",
   "metadata": {},
   "source": [
    "## Reasginar diagnosticos"
   ]
  },
  {
   "cell_type": "code",
   "execution_count": 10,
   "metadata": {},
   "outputs": [
    {
     "name": "stdout",
     "output_type": "stream",
     "text": [
      "Cambiando ['Q262', 'K914', 'K638'] a ENTN\n",
      "Cambiando ['H652', 'H653', 'H654', 'H669'] a HOTI\n",
      "Cambiando ['J121', 'J122', 'J123', 'J129', 'J159', 'J189'] a JNEU\n",
      "Cambiando ['K352', 'K353', 'K358', 'K36X', 'K659'] a KAPE\n",
      "Cambiando ['K565', 'K650'] a KGAST\n",
      "Cambiando ['M411', 'M410', 'M412', 'M414', 'T813', 'Q763'] a MESC\n",
      "Cambiando ['K560', 'Q625', 'T222'] a OBSI\n",
      "Cambiando ['Q390', 'Q391', 'Q393'] a QATR\n",
      "Cambiando ['Q375', 'Q374', 'Q369', 'Q371', 'Q379', 'Q373', 'Q370', 'T813', 'Q355', 'Q372', 'Q359', 'Q378'] a QLAB\n",
      "Cambiando ['S424', 'S524', 'S525', 'S528', 'S529'] a SFRA\n",
      "Cambiando ['T213', 'T202', 'T212', 'T203', 'T293', 'T201', 'T273', 'T223', 'T222', 'T243', 'T280', 'T211', 'T242', 'T253', 'T232', 'T221', 'T241', 'T312', 'T291', 'T292', 'T252'] a TQUE\n",
      "Cambiando ['C710', 'C715', 'C716', 'C717', 'C719', 'D164', 'D334', 'D431', 'D444'] a CERX\n"
     ]
    }
   ],
   "source": [
    "for row in diagnosticos_a_reasignar.itertuples():\n",
    "    diagnostico_nuevo = row[0]\n",
    "    diagnosticos_antiguos = row[1]\n",
    "\n",
    "    print(f\"Cambiando {diagnosticos_antiguos} a {diagnostico_nuevo}\")\n",
    "    diagnosticos_cambiados = grd_y_pabellon_relevantes[\"diagnostico_1\"].replace(\n",
    "        diagnosticos_antiguos, diagnostico_nuevo\n",
    "    )\n",
    "    grd_y_pabellon_relevantes[\"diagnostico_1\"] = diagnosticos_cambiados"
   ]
  },
  {
   "cell_type": "markdown",
   "metadata": {},
   "source": [
    "## Obtener tiempos quirurgicos"
   ]
  },
  {
   "cell_type": "code",
   "execution_count": 11,
   "metadata": {},
   "outputs": [],
   "source": [
    "# Obtiene el resumen de duraciones de las int. q por diagnostico acumuladas\n",
    "tiempos_quir = pd.to_timedelta(\n",
    "    grd_y_pabellon_relevantes.groupby([\"diagnostico_1\"])[\"t_total\"].describe()[\"75%\"]\n",
    ")\n",
    "tiempos_quir.loc[\"TQUED\"] = tiempos_quir.loc[\"TQUE\"]"
   ]
  },
  {
   "cell_type": "code",
   "execution_count": 12,
   "metadata": {},
   "outputs": [],
   "source": [
    "# Obtiene la cantidad de intervenciones quirurgicas por cada tipo de paciente\n",
    "conteo_int_q_por_paciente = (\n",
    "    grd_y_pabellon_relevantes.groupby([\"ano_x\", \"diagnostico_1\", \"id_paciente\"])\n",
    "    .agg(n_int_q=(\"fecha_operacion\", \"count\"))\n",
    "    .reset_index()\n",
    "    .groupby([\"ano_x\", \"diagnostico_1\"])[\"n_int_q\"].describe()\n",
    ")\n",
    "\n",
    "# Selecciona cuantas intervenciones quirurgicas tendra cada paciente segun el diagnostico\n",
    "numero_int_q_por_pacientes = conteo_int_q_por_paciente.query(\"ano_x == 2024\")[\"75%\"]\n",
    "numero_int_q_por_pacientes = numero_int_q_por_pacientes.reset_index(level=0, drop=True)\n",
    "\n",
    "# Agrega Numero de Intervenciones quirurgicas para Q410 del 2021 (No Habia para el 2024)\n",
    "numero_int_q_por_pacientes.loc[\"Q410\"] = 4\n",
    "numero_int_q_por_pacientes.loc[\"TQUED\"] = numero_int_q_por_pacientes.loc[\"TQUE\"]"
   ]
  },
  {
   "cell_type": "code",
   "execution_count": 13,
   "metadata": {},
   "outputs": [
    {
     "name": "stdout",
     "output_type": "stream",
     "text": [
      "Cantidad de Int. Q por diagnostico:\n",
      "+------+--------------------+-------------------+--------------------+\n",
      "|      |        2024        |       2029        |        2039        |\n",
      "+------+--------------------+-------------------+--------------------+\n",
      "| CERX | 24.45314934696406  | 26.38000692998444 | 31.69800481216062  |\n",
      "| ENTN | 32.11776701376806  | 34.83771302137072 | 42.33733115023006  |\n",
      "| HOTI | 103.1567906971972  | 111.6605547942691 | 135.0994039085986  |\n",
      "| J955 | 1.5094536633928433 | 1.628395489505212 | 1.9566669637136187 |\n",
      "| JNEU | 11.61440735443938  | 12.52959862758177 | 15.05546524857423  |\n",
      "+------+--------------------+-------------------+--------------------+\n",
      "\n",
      "Tiempo utilizado en pabellón calculado (en horas):\n",
      "+------+--------------------+--------------------+--------------------+\n",
      "|      |        2024        |        2029        |        2039        |\n",
      "+------+--------------------+--------------------+--------------------+\n",
      "| CERX | 218.4481341662122  | 235.66139524119419 | 283.1688429886347  |\n",
      "| ENTN | 160.5888350688403  | 174.18856510685333 | 211.68665575115025 |\n",
      "| HOTI | 348.15416860304055 | 376.85437243065803 | 455.96048819151997 |\n",
      "| J955 | 3.270482937351111  | 3.5281902272611108 | 4.239445088046111  |\n",
      "| JNEU | 25.987236455558055 | 28.034976929214167 | 33.68660349368472  |\n",
      "+------+--------------------+--------------------+--------------------+\n",
      "\n",
      "Horas laborales por año calculadas:\n",
      "+---+------+-------------------------------+\n",
      "|   | anio | horas_laborales_con_sabado_6h |\n",
      "+---+------+-------------------------------+\n",
      "| 0 | 2017 |             3282              |\n",
      "| 1 | 2018 |             3264              |\n",
      "| 2 | 2019 |             3282              |\n",
      "| 3 | 2020 |             3312              |\n",
      "| 4 | 2021 |             3300              |\n",
      "+---+------+-------------------------------+\n",
      "\n",
      "Cantidad de pabellones necesarios calculada:\n",
      "+------+------+------+------+------+------+------+------+-----------------------+------+------+------+------+-----------------------+------+------+------+------+------+------+------+------+------+-----------------------+\n",
      "|      | 2017 | 2018 | 2019 | 2020 | 2021 | 2022 | 2023 |         2024          | 2025 | 2026 | 2027 | 2028 |         2029          | 2030 | 2031 | 2032 | 2033 | 2034 | 2035 | 2036 | 2037 | 2038 |         2039          |\n",
      "+------+------+------+------+------+------+------+------+-----------------------+------+------+------+------+-----------------------+------+------+------+------+------+------+------+------+------+-----------------------+\n",
      "| CERX | nan  | nan  | nan  | nan  | nan  | nan  | nan  |  0.06655945587026575  | nan  | nan  | nan  | nan  |  0.07246660370270423  | nan  | nan  | nan  | nan  | nan  | nan  | nan  | nan  | nan  |  0.08565300755857069  |\n",
      "| ENTN | nan  | nan  | nan  | nan  | nan  | nan  | nan  | 0.048930175219025075  | nan  | nan  | nan  | nan  |  0.05356351940555146  | nan  | nan  | nan  | nan  | nan  | nan  | nan  | nan  | nan  |  0.06403105134638544  |\n",
      "| HOTI | nan  | nan  | nan  | nan  | nan  | nan  | nan  |  0.10607988074437555  | nan  | nan  | nan  | nan  |  0.11588387836121096  | nan  | nan  | nan  | nan  | nan  | nan  | nan  | nan  | nan  |  0.13791908293754385  |\n",
      "| J955 | nan  | nan  | nan  | nan  | nan  | nan  | nan  | 0.0009964908401435438 | nan  | nan  | nan  | nan  | 0.0010849293441762334 | nan  | nan  | nan  | nan  | nan  | nan  | nan  | nan  | nan  | 0.0012823487864628285 |\n",
      "| JNEU | nan  | nan  | nan  | nan  | nan  | nan  | nan  | 0.007918109828018908  | nan  | nan  | nan  | nan  | 0.008620841614149497  | nan  | nan  | nan  | nan  | nan  | nan  | nan  | nan  | nan  |  0.01018953523704922  |\n",
      "+------+------+------+------+------+------+------+------+-----------------------+------+------+------+------+-----------------------+------+------+------+------+------+------+------+------+------+-----------------------+\n",
      "\n"
     ]
    }
   ],
   "source": [
    "# Calcula la cantidad de intervenciones quirurgicas que se realizaran\n",
    "numero_de_int_q = pb.calcular_cantidad_int_q(\n",
    "    casos_quirurgicos[ANIOS_INTERES],\n",
    "    numero_int_q_por_pacientes,\n",
    ")\n",
    "\n",
    "# Calcular tiempo utilizado en pabellón en horas\n",
    "tiempo_utilizado_pabellon_horas = pb.calcular_tiempo_utilizado_pabellon(\n",
    "    numero_de_int_q,\n",
    "    tiempos_quir,\n",
    ")\n",
    "\n",
    "# Calcular horas laborales\n",
    "horas_laborales = features.calcular_horas_laborales(\n",
    "    ANIO_INICIO, ANIO_TERMINO, horas_por_dia_semana=12, incluir_sabado=True, horas_sabado=6\n",
    ")\n",
    "\n",
    "# Calcular cantidad de pabellones necesarios\n",
    "cantidad_de_pabellones_necesarios = pb.calcular_cantidad_de_pabellones_necesarios(\n",
    "    tiempo_utilizado_pabellon_horas, horas_laborales\n",
    ")\n",
    "\n",
    "# Obtiene la suma total de pabellones\n",
    "suma_total_pabellones = cantidad_de_pabellones_necesarios.sum()"
   ]
  },
  {
   "cell_type": "code",
   "execution_count": 14,
   "metadata": {},
   "outputs": [
    {
     "name": "stdout",
     "output_type": "stream",
     "text": [
      "> Pabellones 2039: 6.61\n"
     ]
    }
   ],
   "source": [
    "print(f\"> Pabellones 2039: {suma_total_pabellones['2039']:.2f}\")"
   ]
  },
  {
   "cell_type": "code",
   "execution_count": 15,
   "metadata": {},
   "outputs": [],
   "source": [
    "# Ademas, sabemos que estas trazadoras cubren el 65% de la demanda\n",
    "# Y mencionaremos que para el 2039 estos diags cubriran el 75% de la demanda\n",
    "# Por lo tanto, existe un resto que permite proyectar todo\n",
    "suma_total_pabellones_con_resto = suma_total_pabellones / 0.75"
   ]
  },
  {
   "cell_type": "code",
   "execution_count": 16,
   "metadata": {},
   "outputs": [
    {
     "name": "stdout",
     "output_type": "stream",
     "text": [
      "> Pabellones 2039 + Resto 2039: 8.81\n"
     ]
    }
   ],
   "source": [
    "print(f\"> Pabellones 2039 + Resto 2039: {suma_total_pabellones_con_resto['2039']:.2f}\")"
   ]
  },
  {
   "cell_type": "markdown",
   "metadata": {},
   "source": [
    "## Pabellon de Emergencia"
   ]
  },
  {
   "cell_type": "code",
   "execution_count": 17,
   "metadata": {},
   "outputs": [],
   "source": [
    "# Obtiene los casos por especialidad por anio\n",
    "casos_especialidad_desglosado = casos_macroproceso.query(\"tipo_paciente == 'Placeholder'\")\n",
    "casos_especialidad = casos_especialidad_desglosado.groupby(\"tipo_paciente\")[ANIOS_INTERES].sum()"
   ]
  },
  {
   "cell_type": "markdown",
   "metadata": {},
   "source": [
    "## Obtener resumen para MINSAL"
   ]
  },
  {
   "cell_type": "code",
   "execution_count": 18,
   "metadata": {},
   "outputs": [],
   "source": [
    "# Obtiene porcentaje de hospitalizados\n",
    "porcentaje_cm = pd.read_excel(\n",
    "    \"../data/raw/3_incidencias_y_porcentajes_marcoprocesos/incidencias_y_prevalencias_RDR.xlsx\"\n",
    ")\n",
    "\n",
    "porcentaje_cm[\"Diagnostico\"] = porcentaje_cm[\"Diagnostico\"].str.split(\" - \").str[0]\n",
    "\n",
    "# Filtra los porcentajes de hospitalizados\n",
    "porcentaje_cm = porcentaje_cm.set_index(\"Diagnostico\")\n",
    "porcentaje_cm = porcentaje_cm[\"Porcentaje Pacientes Quirúrgicos\"]\n",
    "porcentaje_cm = porcentaje_cm.dropna()\n",
    "porcentaje_cm = porcentaje_cm[porcentaje_cm > 0]"
   ]
  },
  {
   "cell_type": "code",
   "execution_count": 19,
   "metadata": {},
   "outputs": [],
   "source": [
    "# Carga el resumen de area de estudio para MINSAL\n",
    "resumen_area_de_estudio_minsal = pd.read_excel(\n",
    "    \"../data/interim/0.1_casos_teoricos_diagnosticos.xlsx\", sheet_name=\"resumen_total_RDR\"\n",
    ").sort_values(\"Diagnostico\")\n",
    "resumen_area_de_estudio_minsal[\"diagnostico_separado\"] = (\n",
    "    resumen_area_de_estudio_minsal[\"Diagnostico\"].str.split(\" - \").str[0]\n",
    ")\n",
    "resumen_area_de_estudio_minsal = resumen_area_de_estudio_minsal.set_index(\"diagnostico_separado\")\n",
    "\n",
    "# Sintetiza informacion de pabellon para el 2039\n",
    "resumen_quirurgicos = pd.DataFrame(\n",
    "    {\n",
    "        \"especialidad_quirurgica\": casos_especialidad_desglosado[\"tipo_paciente\"],\n",
    "        \"porcentaje_quirurgico_cm\": porcentaje_cm,\n",
    "        \"casos_quirurgicos_2039\": casos_quirurgicos[\"2039\"],\n",
    "        \"n_int_q_por_paciente_75%\": numero_int_q_por_pacientes,\n",
    "        \"n_int_q_2039\": numero_de_int_q[\"2039\"],\n",
    "        \"tiempo_quirurgico_75%\": tiempos_quir,\n",
    "        \"horas_pabellon_2039\": tiempo_utilizado_pabellon_horas[\"2039\"],\n",
    "        \"horas_laborales_2039_pabellon_12_hrs\": horas_laborales[\"2039\"],\n",
    "        \"cantidad_de_pabellones\": cantidad_de_pabellones_necesarios[\"2039\"],\n",
    "    }\n",
    ")\n",
    "\n",
    "# Une ambos resumenes segun el diagnostico\n",
    "resumen_minsal = resumen_area_de_estudio_minsal.merge(\n",
    "    resumen_quirurgicos, how=\"inner\", left_index=True, right_index=True\n",
    ")\n",
    "\n",
    "# Agrega la cantidad total\n",
    "resumen_minsal.loc[\"Total (Al 75% de ocupacion)\", \"cantidad_de_pabellones\"] = suma_total_pabellones[\n",
    "    \"2039\"\n",
    "]\n",
    "resumen_minsal.loc[\"Total (Al 100% de ocupacion)\", \"cantidad_de_pabellones\"] = (\n",
    "    suma_total_pabellones_con_resto[\"2039\"]\n",
    ")"
   ]
  },
  {
   "cell_type": "code",
   "execution_count": 20,
   "metadata": {},
   "outputs": [],
   "source": [
    "a_guardar = {\n",
    "    \"resumen_MINSAL\": resumen_minsal,\n",
    "    \"casos_quirurgicos\": casos_especialidad_desglosado,\n",
    "    \"casos_por_especialidad\": casos_especialidad,\n",
    "    # \"casos_complicaciones\": casos_complicaciones,\n",
    "    \"resumen_duraciones_int_q_rel\": tiempos_quir,\n",
    "    \"tiempo_utilizado_pabellon\": tiempo_utilizado_pabellon_horas,\n",
    "    \"horas_laborales_por_anio\": horas_laborales,\n",
    "    \"pabellones_desg\": cantidad_de_pabellones_necesarios,\n",
    "    \"pabellones\": suma_total_pabellones,\n",
    "    # \"tiempo_ut_emergencia\": tiempo_utilizado_pabellon_complicaciones_horas,\n",
    "    # \"pabellones_desg_emergencia\": pabellones_por_complicaciones,\n",
    "    # \"pabellones_emergencia\": suma_total_pabellones_complicaciones,\n",
    "}"
   ]
  },
  {
   "cell_type": "code",
   "execution_count": 21,
   "metadata": {},
   "outputs": [],
   "source": [
    "with pd.ExcelWriter(\"../data/interim/2.0_estimacion_pabellones_RDR.xlsx\") as file:\n",
    "    for nombre_hoja, df_a_guardar in a_guardar.items():\n",
    "        df_a_guardar.to_excel(file, sheet_name=nombre_hoja)"
   ]
  }
 ],
 "metadata": {
  "kernelspec": {
   "display_name": "proyeccion-rdr",
   "language": "python",
   "name": "python3"
  },
  "language_info": {
   "codemirror_mode": {
    "name": "ipython",
    "version": 3
   },
   "file_extension": ".py",
   "mimetype": "text/x-python",
   "name": "python",
   "nbconvert_exporter": "python",
   "pygments_lexer": "ipython3",
   "version": "3.10.16"
  }
 },
 "nbformat": 4,
 "nbformat_minor": 2
}
