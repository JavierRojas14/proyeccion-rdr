{
 "cells": [
  {
   "cell_type": "code",
   "execution_count": 50,
   "metadata": {},
   "outputs": [
    {
     "name": "stdout",
     "output_type": "stream",
     "text": [
      "The autoreload extension is already loaded. To reload it, use:\n",
      "  %reload_ext autoreload\n"
     ]
    }
   ],
   "source": [
    "import sys\n",
    "import os\n",
    "\n",
    "project_root = os.path.abspath('..')\n",
    "if project_root not in sys.path:\n",
    "    sys.path.append(project_root)\n",
    " \n",
    "%load_ext autoreload\n",
    "%autoreload 2"
   ]
  },
  {
   "cell_type": "code",
   "execution_count": 51,
   "metadata": {},
   "outputs": [],
   "source": [
    "import pandas as pd\n",
    "\n",
    "import proyeccion_rdr.features as features\n",
    "import proyeccion_rdr.produccion.a03_pabellon as pb\n",
    "\n",
    "pd.set_option(\"display.max_columns\", None)\n",
    "\n",
    "\n",
    "ANIO_INICIO = 2017\n",
    "ANIO_TERMINO = 2035\n",
    "# Agrega las columnas de poblacion de interes\n",
    "ANIOS_INTERES = [str(i) for i in range(2017, 2036)]"
   ]
  },
  {
   "cell_type": "markdown",
   "metadata": {},
   "source": [
    "## Obtencion de casos por area de influencia INT"
   ]
  },
  {
   "cell_type": "code",
   "execution_count": 52,
   "metadata": {},
   "outputs": [],
   "source": [
    "# Lee los casos de todos los macroprocesos\n",
    "RUTA_ARCHIVOS = \"../data/interim/0.1_casos_teoricos_diagnosticos.xlsx\"\n",
    "_, casos_macroproceso = features.leer_casos_macroprocesos(RUTA_ARCHIVOS)\n",
    "\n",
    "# Obtiene los casos quirurgicos\n",
    "casos_quirurgicos = casos_macroproceso.query(\"tipo_paciente == 'quirurgicos'\")"
   ]
  },
  {
   "cell_type": "code",
   "execution_count": 53,
   "metadata": {},
   "outputs": [],
   "source": [
    "# Los diagnosticos que tienen un porcentaje de hosp. mayor a 0\n",
    "diagnosticos_relevantes = list(casos_quirurgicos.index)\n",
    "\n",
    "# Ademas, los diagnosticos que estan agrupados dentro de los que aportan a AC\n",
    "# Solo deja los diagnosticos que esten agrupados\n",
    "diagnosticos_a_reasignar = casos_quirurgicos.dropna(subset=\"Diagnosticos Contenidos\")\n",
    "\n",
    "# Separa la lista de diagnosticos en filas\n",
    "diagnosticos_agrupados = diagnosticos_a_reasignar.explode(\"Diagnosticos Contenidos\")\n",
    "diagnosticos_agrupados = list(diagnosticos_agrupados[\"Diagnosticos Contenidos\"].unique())\n",
    "\n",
    "# Suma los diagnosticos relevantes y los agrupados\n",
    "diagnosticos_a_buscar_en_quir = sorted(diagnosticos_relevantes + diagnosticos_agrupados)"
   ]
  },
  {
   "cell_type": "markdown",
   "metadata": {},
   "source": [
    "## Obtencion de tiempos quirurgicos entre 2015 y 2022 en pabellon para diagnosticos relevantes\n",
    "\n",
    "Estos se obtendran a partir de la union de la base de GRD (2015 a 2022, tiene los diagnosticos codificados) y Pabellon (2015 a 2022, tiene los tiempos quirurgicos)."
   ]
  },
  {
   "cell_type": "code",
   "execution_count": 54,
   "metadata": {},
   "outputs": [
    {
     "name": "stderr",
     "output_type": "stream",
     "text": [
      "C:\\Users\\jarojas\\AppData\\Local\\Temp\\ipykernel_8340\\3808083235.py:2: DtypeWarning: Columns (40,41,42,43,44,45,46,47,48,49,50,51,103,104,105,106,107,108,109,110,111,112,113,114,115,116,117,118,119,120,121,122,148,149,150,151,152,153,154,155,156,157,228) have mixed types. Specify dtype option on import or set low_memory=False.\n",
      "  grd_y_pabellon = pd.read_csv(\"../data/raw/5_grd_y_pabellon/df_procesada_grd_y_pabellon.csv\")\n"
     ]
    }
   ],
   "source": [
    "# Lee la base de GRD unida con Pabellon\n",
    "grd_y_pabellon = pd.read_csv(\"../data/raw/5_grd_y_pabellon/df_procesada_grd_y_pabellon.csv\")\n",
    "grd_y_pabellon[\"t_total\"] = pd.to_timedelta(grd_y_pabellon[\"t_total\"].str.split(\" \").str[1])"
   ]
  },
  {
   "cell_type": "code",
   "execution_count": 55,
   "metadata": {},
   "outputs": [],
   "source": [
    "# Filtra solamente los diagnosticos que aportan a quirurgico\n",
    "grd_y_pabellon_relevantes = grd_y_pabellon.query(\n",
    "    \"diagnostico_1.isin(@diagnosticos_a_buscar_en_quir)\"\n",
    ").copy()"
   ]
  },
  {
   "cell_type": "markdown",
   "metadata": {},
   "source": [
    "## Reasginar diagnosticos"
   ]
  },
  {
   "cell_type": "code",
   "execution_count": 56,
   "metadata": {},
   "outputs": [
    {
     "name": "stdout",
     "output_type": "stream",
     "text": [
      "Cambiando ['A099'] a A090\n",
      "Cambiando ['J208', 'J209', 'J210', 'J218'] a J205\n"
     ]
    }
   ],
   "source": [
    "for row in diagnosticos_a_reasignar.itertuples():\n",
    "    diagnostico_nuevo = row[0]\n",
    "    diagnosticos_antiguos = row[1]\n",
    "\n",
    "    print(f\"Cambiando {diagnosticos_antiguos} a {diagnostico_nuevo}\")\n",
    "    diagnosticos_cambiados = grd_y_pabellon_relevantes[\"diagnostico_1\"].replace(\n",
    "        diagnosticos_antiguos, diagnostico_nuevo\n",
    "    )\n",
    "    grd_y_pabellon_relevantes[\"diagnostico_1\"] = diagnosticos_cambiados"
   ]
  },
  {
   "cell_type": "markdown",
   "metadata": {},
   "source": [
    "## Obtener tiempos quirurgicos"
   ]
  },
  {
   "cell_type": "code",
   "execution_count": 57,
   "metadata": {},
   "outputs": [],
   "source": [
    "# Obtiene el resumen de duraciones de las int. q por diagnostico acumuladas\n",
    "tiempos_quir = grd_y_pabellon_relevantes.groupby([\"diagnostico_1\"])[\"t_total\"].describe()[\n",
    "    \"75%\"\n",
    "]"
   ]
  },
  {
   "cell_type": "code",
   "execution_count": 58,
   "metadata": {},
   "outputs": [
    {
     "ename": "AttributeError",
     "evalue": "Can only use .dt accessor with datetimelike values",
     "output_type": "error",
     "traceback": [
      "\u001b[1;31m---------------------------------------------------------------------------\u001b[0m",
      "\u001b[1;31mAttributeError\u001b[0m                            Traceback (most recent call last)",
      "Cell \u001b[1;32mIn[58], line 2\u001b[0m\n\u001b[0;32m      1\u001b[0m \u001b[38;5;66;03m# Calcular tiempo utilizado en pabellón en horas\u001b[39;00m\n\u001b[1;32m----> 2\u001b[0m tiempo_utilizado_pabellon_horas \u001b[38;5;241m=\u001b[39m \u001b[43mpb\u001b[49m\u001b[38;5;241;43m.\u001b[39;49m\u001b[43mcalcular_tiempo_utilizado_pabellon\u001b[49m\u001b[43m(\u001b[49m\n\u001b[0;32m      3\u001b[0m \u001b[43m    \u001b[49m\u001b[43mcasos_quirurgicos\u001b[49m\u001b[43m[\u001b[49m\u001b[43mANIOS_INTERES\u001b[49m\u001b[43m]\u001b[49m\u001b[43m,\u001b[49m\n\u001b[0;32m      4\u001b[0m \u001b[43m    \u001b[49m\u001b[43mtiempos_quir\u001b[49m\u001b[43m,\u001b[49m\n\u001b[0;32m      5\u001b[0m \u001b[43m)\u001b[49m\n\u001b[0;32m      7\u001b[0m \u001b[38;5;66;03m# Calcular horas laborales\u001b[39;00m\n\u001b[0;32m      8\u001b[0m horas_laborales \u001b[38;5;241m=\u001b[39m features\u001b[38;5;241m.\u001b[39mcalcular_horas_laborales(ANIO_INICIO, ANIO_TERMINO, \u001b[38;5;241m12\u001b[39m)\n",
      "File \u001b[1;32m~\\Desktop\\Javier\\SSMN\\EPH - RDR\\2.0-proyeccion-rdr\\proyeccion_rdr\\produccion\\a03_pabellon.py:16\u001b[0m, in \u001b[0;36mcalcular_tiempo_utilizado_pabellon\u001b[1;34m(casos_quirurgicos, duraciones_int_q)\u001b[0m\n\u001b[0;32m      5\u001b[0m \u001b[38;5;250m\u001b[39m\u001b[38;5;124;03m\"\"\"\u001b[39;00m\n\u001b[0;32m      6\u001b[0m \u001b[38;5;124;03mCalcula el tiempo utilizado en pabellón multiplicando casos quirúrgicos por duraciones.\u001b[39;00m\n\u001b[0;32m      7\u001b[0m \n\u001b[1;32m   (...)\u001b[0m\n\u001b[0;32m     13\u001b[0m \u001b[38;5;124;03mDataFrame: Tiempo utilizado en pabellón en horas.\u001b[39;00m\n\u001b[0;32m     14\u001b[0m \u001b[38;5;124;03m\"\"\"\u001b[39;00m\n\u001b[0;32m     15\u001b[0m tiempo_utilizado_pabellon \u001b[38;5;241m=\u001b[39m casos_quirurgicos\u001b[38;5;241m.\u001b[39mmul(duraciones_int_q, axis\u001b[38;5;241m=\u001b[39m\u001b[38;5;241m0\u001b[39m)\n\u001b[1;32m---> 16\u001b[0m tiempo_utilizado_pabellon_horas \u001b[38;5;241m=\u001b[39m \u001b[43mtiempo_utilizado_pabellon\u001b[49m\u001b[38;5;241;43m.\u001b[39;49m\u001b[43mapply\u001b[49m\u001b[43m(\u001b[49m\n\u001b[0;32m     17\u001b[0m \u001b[43m    \u001b[49m\u001b[38;5;28;43;01mlambda\u001b[39;49;00m\u001b[43m \u001b[49m\u001b[43mx\u001b[49m\u001b[43m:\u001b[49m\u001b[43m \u001b[49m\u001b[43mx\u001b[49m\u001b[38;5;241;43m.\u001b[39;49m\u001b[43mdt\u001b[49m\u001b[38;5;241;43m.\u001b[39;49m\u001b[43mtotal_seconds\u001b[49m\u001b[43m(\u001b[49m\u001b[43m)\u001b[49m\u001b[43m \u001b[49m\u001b[38;5;241;43m/\u001b[39;49m\u001b[43m \u001b[49m\u001b[38;5;241;43m3600\u001b[39;49m\n\u001b[0;32m     18\u001b[0m \u001b[43m\u001b[49m\u001b[43m)\u001b[49m\n\u001b[0;32m     19\u001b[0m \u001b[38;5;28mprint\u001b[39m(\u001b[38;5;124m\"\u001b[39m\u001b[38;5;124mTiempo utilizado en pabellón calculado (en horas):\u001b[39m\u001b[38;5;124m\"\u001b[39m)\n\u001b[0;32m     20\u001b[0m \u001b[38;5;28mprint\u001b[39m(tabulate(tiempo_utilizado_pabellon_horas\u001b[38;5;241m.\u001b[39mhead(), headers\u001b[38;5;241m=\u001b[39m\u001b[38;5;124m\"\u001b[39m\u001b[38;5;124mkeys\u001b[39m\u001b[38;5;124m\"\u001b[39m, tablefmt\u001b[38;5;241m=\u001b[39m\u001b[38;5;124m\"\u001b[39m\u001b[38;5;124mpretty\u001b[39m\u001b[38;5;124m\"\u001b[39m))\n",
      "File \u001b[1;32mc:\\Users\\jarojas\\AppData\\Local\\anaconda3\\envs\\proyeccion-rdr\\lib\\site-packages\\pandas\\core\\frame.py:10374\u001b[0m, in \u001b[0;36mDataFrame.apply\u001b[1;34m(self, func, axis, raw, result_type, args, by_row, engine, engine_kwargs, **kwargs)\u001b[0m\n\u001b[0;32m  10360\u001b[0m \u001b[38;5;28;01mfrom\u001b[39;00m\u001b[38;5;250m \u001b[39m\u001b[38;5;21;01mpandas\u001b[39;00m\u001b[38;5;21;01m.\u001b[39;00m\u001b[38;5;21;01mcore\u001b[39;00m\u001b[38;5;21;01m.\u001b[39;00m\u001b[38;5;21;01mapply\u001b[39;00m\u001b[38;5;250m \u001b[39m\u001b[38;5;28;01mimport\u001b[39;00m frame_apply\n\u001b[0;32m  10362\u001b[0m op \u001b[38;5;241m=\u001b[39m frame_apply(\n\u001b[0;32m  10363\u001b[0m     \u001b[38;5;28mself\u001b[39m,\n\u001b[0;32m  10364\u001b[0m     func\u001b[38;5;241m=\u001b[39mfunc,\n\u001b[1;32m   (...)\u001b[0m\n\u001b[0;32m  10372\u001b[0m     kwargs\u001b[38;5;241m=\u001b[39mkwargs,\n\u001b[0;32m  10373\u001b[0m )\n\u001b[1;32m> 10374\u001b[0m \u001b[38;5;28;01mreturn\u001b[39;00m \u001b[43mop\u001b[49m\u001b[38;5;241;43m.\u001b[39;49m\u001b[43mapply\u001b[49m\u001b[43m(\u001b[49m\u001b[43m)\u001b[49m\u001b[38;5;241m.\u001b[39m__finalize__(\u001b[38;5;28mself\u001b[39m, method\u001b[38;5;241m=\u001b[39m\u001b[38;5;124m\"\u001b[39m\u001b[38;5;124mapply\u001b[39m\u001b[38;5;124m\"\u001b[39m)\n",
      "File \u001b[1;32mc:\\Users\\jarojas\\AppData\\Local\\anaconda3\\envs\\proyeccion-rdr\\lib\\site-packages\\pandas\\core\\apply.py:916\u001b[0m, in \u001b[0;36mFrameApply.apply\u001b[1;34m(self)\u001b[0m\n\u001b[0;32m    913\u001b[0m \u001b[38;5;28;01melif\u001b[39;00m \u001b[38;5;28mself\u001b[39m\u001b[38;5;241m.\u001b[39mraw:\n\u001b[0;32m    914\u001b[0m     \u001b[38;5;28;01mreturn\u001b[39;00m \u001b[38;5;28mself\u001b[39m\u001b[38;5;241m.\u001b[39mapply_raw(engine\u001b[38;5;241m=\u001b[39m\u001b[38;5;28mself\u001b[39m\u001b[38;5;241m.\u001b[39mengine, engine_kwargs\u001b[38;5;241m=\u001b[39m\u001b[38;5;28mself\u001b[39m\u001b[38;5;241m.\u001b[39mengine_kwargs)\n\u001b[1;32m--> 916\u001b[0m \u001b[38;5;28;01mreturn\u001b[39;00m \u001b[38;5;28;43mself\u001b[39;49m\u001b[38;5;241;43m.\u001b[39;49m\u001b[43mapply_standard\u001b[49m\u001b[43m(\u001b[49m\u001b[43m)\u001b[49m\n",
      "File \u001b[1;32mc:\\Users\\jarojas\\AppData\\Local\\anaconda3\\envs\\proyeccion-rdr\\lib\\site-packages\\pandas\\core\\apply.py:1063\u001b[0m, in \u001b[0;36mFrameApply.apply_standard\u001b[1;34m(self)\u001b[0m\n\u001b[0;32m   1061\u001b[0m \u001b[38;5;28;01mdef\u001b[39;00m\u001b[38;5;250m \u001b[39m\u001b[38;5;21mapply_standard\u001b[39m(\u001b[38;5;28mself\u001b[39m):\n\u001b[0;32m   1062\u001b[0m     \u001b[38;5;28;01mif\u001b[39;00m \u001b[38;5;28mself\u001b[39m\u001b[38;5;241m.\u001b[39mengine \u001b[38;5;241m==\u001b[39m \u001b[38;5;124m\"\u001b[39m\u001b[38;5;124mpython\u001b[39m\u001b[38;5;124m\"\u001b[39m:\n\u001b[1;32m-> 1063\u001b[0m         results, res_index \u001b[38;5;241m=\u001b[39m \u001b[38;5;28;43mself\u001b[39;49m\u001b[38;5;241;43m.\u001b[39;49m\u001b[43mapply_series_generator\u001b[49m\u001b[43m(\u001b[49m\u001b[43m)\u001b[49m\n\u001b[0;32m   1064\u001b[0m     \u001b[38;5;28;01melse\u001b[39;00m:\n\u001b[0;32m   1065\u001b[0m         results, res_index \u001b[38;5;241m=\u001b[39m \u001b[38;5;28mself\u001b[39m\u001b[38;5;241m.\u001b[39mapply_series_numba()\n",
      "File \u001b[1;32mc:\\Users\\jarojas\\AppData\\Local\\anaconda3\\envs\\proyeccion-rdr\\lib\\site-packages\\pandas\\core\\apply.py:1081\u001b[0m, in \u001b[0;36mFrameApply.apply_series_generator\u001b[1;34m(self)\u001b[0m\n\u001b[0;32m   1078\u001b[0m \u001b[38;5;28;01mwith\u001b[39;00m option_context(\u001b[38;5;124m\"\u001b[39m\u001b[38;5;124mmode.chained_assignment\u001b[39m\u001b[38;5;124m\"\u001b[39m, \u001b[38;5;28;01mNone\u001b[39;00m):\n\u001b[0;32m   1079\u001b[0m     \u001b[38;5;28;01mfor\u001b[39;00m i, v \u001b[38;5;129;01min\u001b[39;00m \u001b[38;5;28menumerate\u001b[39m(series_gen):\n\u001b[0;32m   1080\u001b[0m         \u001b[38;5;66;03m# ignore SettingWithCopy here in case the user mutates\u001b[39;00m\n\u001b[1;32m-> 1081\u001b[0m         results[i] \u001b[38;5;241m=\u001b[39m \u001b[38;5;28mself\u001b[39m\u001b[38;5;241m.\u001b[39mfunc(v, \u001b[38;5;241m*\u001b[39m\u001b[38;5;28mself\u001b[39m\u001b[38;5;241m.\u001b[39margs, \u001b[38;5;241m*\u001b[39m\u001b[38;5;241m*\u001b[39m\u001b[38;5;28mself\u001b[39m\u001b[38;5;241m.\u001b[39mkwargs)\n\u001b[0;32m   1082\u001b[0m         \u001b[38;5;28;01mif\u001b[39;00m \u001b[38;5;28misinstance\u001b[39m(results[i], ABCSeries):\n\u001b[0;32m   1083\u001b[0m             \u001b[38;5;66;03m# If we have a view on v, we need to make a copy because\u001b[39;00m\n\u001b[0;32m   1084\u001b[0m             \u001b[38;5;66;03m#  series_generator will swap out the underlying data\u001b[39;00m\n\u001b[0;32m   1085\u001b[0m             results[i] \u001b[38;5;241m=\u001b[39m results[i]\u001b[38;5;241m.\u001b[39mcopy(deep\u001b[38;5;241m=\u001b[39m\u001b[38;5;28;01mFalse\u001b[39;00m)\n",
      "File \u001b[1;32m~\\Desktop\\Javier\\SSMN\\EPH - RDR\\2.0-proyeccion-rdr\\proyeccion_rdr\\produccion\\a03_pabellon.py:17\u001b[0m, in \u001b[0;36mcalcular_tiempo_utilizado_pabellon.<locals>.<lambda>\u001b[1;34m(x)\u001b[0m\n\u001b[0;32m      5\u001b[0m \u001b[38;5;250m\u001b[39m\u001b[38;5;124;03m\"\"\"\u001b[39;00m\n\u001b[0;32m      6\u001b[0m \u001b[38;5;124;03mCalcula el tiempo utilizado en pabellón multiplicando casos quirúrgicos por duraciones.\u001b[39;00m\n\u001b[0;32m      7\u001b[0m \n\u001b[1;32m   (...)\u001b[0m\n\u001b[0;32m     13\u001b[0m \u001b[38;5;124;03mDataFrame: Tiempo utilizado en pabellón en horas.\u001b[39;00m\n\u001b[0;32m     14\u001b[0m \u001b[38;5;124;03m\"\"\"\u001b[39;00m\n\u001b[0;32m     15\u001b[0m tiempo_utilizado_pabellon \u001b[38;5;241m=\u001b[39m casos_quirurgicos\u001b[38;5;241m.\u001b[39mmul(duraciones_int_q, axis\u001b[38;5;241m=\u001b[39m\u001b[38;5;241m0\u001b[39m)\n\u001b[0;32m     16\u001b[0m tiempo_utilizado_pabellon_horas \u001b[38;5;241m=\u001b[39m tiempo_utilizado_pabellon\u001b[38;5;241m.\u001b[39mapply(\n\u001b[1;32m---> 17\u001b[0m     \u001b[38;5;28;01mlambda\u001b[39;00m x: \u001b[43mx\u001b[49m\u001b[38;5;241;43m.\u001b[39;49m\u001b[43mdt\u001b[49m\u001b[38;5;241m.\u001b[39mtotal_seconds() \u001b[38;5;241m/\u001b[39m \u001b[38;5;241m3600\u001b[39m\n\u001b[0;32m     18\u001b[0m )\n\u001b[0;32m     19\u001b[0m \u001b[38;5;28mprint\u001b[39m(\u001b[38;5;124m\"\u001b[39m\u001b[38;5;124mTiempo utilizado en pabellón calculado (en horas):\u001b[39m\u001b[38;5;124m\"\u001b[39m)\n\u001b[0;32m     20\u001b[0m \u001b[38;5;28mprint\u001b[39m(tabulate(tiempo_utilizado_pabellon_horas\u001b[38;5;241m.\u001b[39mhead(), headers\u001b[38;5;241m=\u001b[39m\u001b[38;5;124m\"\u001b[39m\u001b[38;5;124mkeys\u001b[39m\u001b[38;5;124m\"\u001b[39m, tablefmt\u001b[38;5;241m=\u001b[39m\u001b[38;5;124m\"\u001b[39m\u001b[38;5;124mpretty\u001b[39m\u001b[38;5;124m\"\u001b[39m))\n",
      "File \u001b[1;32mc:\\Users\\jarojas\\AppData\\Local\\anaconda3\\envs\\proyeccion-rdr\\lib\\site-packages\\pandas\\core\\generic.py:6299\u001b[0m, in \u001b[0;36mNDFrame.__getattr__\u001b[1;34m(self, name)\u001b[0m\n\u001b[0;32m   6292\u001b[0m \u001b[38;5;28;01mif\u001b[39;00m (\n\u001b[0;32m   6293\u001b[0m     name \u001b[38;5;129;01mnot\u001b[39;00m \u001b[38;5;129;01min\u001b[39;00m \u001b[38;5;28mself\u001b[39m\u001b[38;5;241m.\u001b[39m_internal_names_set\n\u001b[0;32m   6294\u001b[0m     \u001b[38;5;129;01mand\u001b[39;00m name \u001b[38;5;129;01mnot\u001b[39;00m \u001b[38;5;129;01min\u001b[39;00m \u001b[38;5;28mself\u001b[39m\u001b[38;5;241m.\u001b[39m_metadata\n\u001b[0;32m   6295\u001b[0m     \u001b[38;5;129;01mand\u001b[39;00m name \u001b[38;5;129;01mnot\u001b[39;00m \u001b[38;5;129;01min\u001b[39;00m \u001b[38;5;28mself\u001b[39m\u001b[38;5;241m.\u001b[39m_accessors\n\u001b[0;32m   6296\u001b[0m     \u001b[38;5;129;01mand\u001b[39;00m \u001b[38;5;28mself\u001b[39m\u001b[38;5;241m.\u001b[39m_info_axis\u001b[38;5;241m.\u001b[39m_can_hold_identifiers_and_holds_name(name)\n\u001b[0;32m   6297\u001b[0m ):\n\u001b[0;32m   6298\u001b[0m     \u001b[38;5;28;01mreturn\u001b[39;00m \u001b[38;5;28mself\u001b[39m[name]\n\u001b[1;32m-> 6299\u001b[0m \u001b[38;5;28;01mreturn\u001b[39;00m \u001b[38;5;28;43mobject\u001b[39;49m\u001b[38;5;241;43m.\u001b[39;49m\u001b[38;5;21;43m__getattribute__\u001b[39;49m\u001b[43m(\u001b[49m\u001b[38;5;28;43mself\u001b[39;49m\u001b[43m,\u001b[49m\u001b[43m \u001b[49m\u001b[43mname\u001b[49m\u001b[43m)\u001b[49m\n",
      "File \u001b[1;32mc:\\Users\\jarojas\\AppData\\Local\\anaconda3\\envs\\proyeccion-rdr\\lib\\site-packages\\pandas\\core\\accessor.py:224\u001b[0m, in \u001b[0;36mCachedAccessor.__get__\u001b[1;34m(self, obj, cls)\u001b[0m\n\u001b[0;32m    221\u001b[0m \u001b[38;5;28;01mif\u001b[39;00m obj \u001b[38;5;129;01mis\u001b[39;00m \u001b[38;5;28;01mNone\u001b[39;00m:\n\u001b[0;32m    222\u001b[0m     \u001b[38;5;66;03m# we're accessing the attribute of the class, i.e., Dataset.geo\u001b[39;00m\n\u001b[0;32m    223\u001b[0m     \u001b[38;5;28;01mreturn\u001b[39;00m \u001b[38;5;28mself\u001b[39m\u001b[38;5;241m.\u001b[39m_accessor\n\u001b[1;32m--> 224\u001b[0m accessor_obj \u001b[38;5;241m=\u001b[39m \u001b[38;5;28;43mself\u001b[39;49m\u001b[38;5;241;43m.\u001b[39;49m\u001b[43m_accessor\u001b[49m\u001b[43m(\u001b[49m\u001b[43mobj\u001b[49m\u001b[43m)\u001b[49m\n\u001b[0;32m    225\u001b[0m \u001b[38;5;66;03m# Replace the property with the accessor object. Inspired by:\u001b[39;00m\n\u001b[0;32m    226\u001b[0m \u001b[38;5;66;03m# https://www.pydanny.com/cached-property.html\u001b[39;00m\n\u001b[0;32m    227\u001b[0m \u001b[38;5;66;03m# We need to use object.__setattr__ because we overwrite __setattr__ on\u001b[39;00m\n\u001b[0;32m    228\u001b[0m \u001b[38;5;66;03m# NDFrame\u001b[39;00m\n\u001b[0;32m    229\u001b[0m \u001b[38;5;28mobject\u001b[39m\u001b[38;5;241m.\u001b[39m\u001b[38;5;21m__setattr__\u001b[39m(obj, \u001b[38;5;28mself\u001b[39m\u001b[38;5;241m.\u001b[39m_name, accessor_obj)\n",
      "File \u001b[1;32mc:\\Users\\jarojas\\AppData\\Local\\anaconda3\\envs\\proyeccion-rdr\\lib\\site-packages\\pandas\\core\\indexes\\accessors.py:643\u001b[0m, in \u001b[0;36mCombinedDatetimelikeProperties.__new__\u001b[1;34m(cls, data)\u001b[0m\n\u001b[0;32m    640\u001b[0m \u001b[38;5;28;01melif\u001b[39;00m \u001b[38;5;28misinstance\u001b[39m(data\u001b[38;5;241m.\u001b[39mdtype, PeriodDtype):\n\u001b[0;32m    641\u001b[0m     \u001b[38;5;28;01mreturn\u001b[39;00m PeriodProperties(data, orig)\n\u001b[1;32m--> 643\u001b[0m \u001b[38;5;28;01mraise\u001b[39;00m \u001b[38;5;167;01mAttributeError\u001b[39;00m(\u001b[38;5;124m\"\u001b[39m\u001b[38;5;124mCan only use .dt accessor with datetimelike values\u001b[39m\u001b[38;5;124m\"\u001b[39m)\n",
      "\u001b[1;31mAttributeError\u001b[0m: Can only use .dt accessor with datetimelike values"
     ]
    }
   ],
   "source": [
    "# Calcular tiempo utilizado en pabellón en horas\n",
    "tiempo_utilizado_pabellon_horas = pb.calcular_tiempo_utilizado_pabellon(\n",
    "    casos_quirurgicos[ANIOS_INTERES],\n",
    "    tiempos_quir,\n",
    ")\n",
    "\n",
    "# Calcular horas laborales\n",
    "horas_laborales = features.calcular_horas_laborales(ANIO_INICIO, ANIO_TERMINO, 12)\n",
    "\n",
    "# Calcular cantidad de pabellones necesarios\n",
    "cantidad_de_pabellones_necesarios = pb.calcular_cantidad_de_pabellones_necesarios(\n",
    "    tiempo_utilizado_pabellon_horas, horas_laborales\n",
    ")\n",
    "\n",
    "# Obtiene la suma total de pabellones\n",
    "suma_total_pabellones = cantidad_de_pabellones_necesarios.sum()"
   ]
  },
  {
   "cell_type": "code",
   "execution_count": null,
   "metadata": {},
   "outputs": [
    {
     "name": "stdout",
     "output_type": "stream",
     "text": [
      "> Pabellones 2035: 0.00\n"
     ]
    }
   ],
   "source": [
    "print(f\"> Pabellones 2035: {suma_total_pabellones['2035']:.2f}\")"
   ]
  },
  {
   "cell_type": "markdown",
   "metadata": {},
   "source": [
    "## Complicaciones"
   ]
  },
  {
   "cell_type": "code",
   "execution_count": null,
   "metadata": {},
   "outputs": [],
   "source": [
    "# Define las complicaciones a buscar\n",
    "a_buscar_operaciones = {\n",
    "    \"ecmo\": r\"ECMO\",\n",
    "    \"trasplantes\": r\"TRASPLANTE|TRANSPLANTE\",\n",
    "    \"aseos\": r\"ASEO\",\n",
    "    \"drenajes\": r\"DRENAJE\",\n",
    "    \"traqueostomias\": r\"TRAQUEOSTOMIA|TRAQUEOSTOMÍA\",\n",
    "    \"reintervenciones_reoperaciones\": r\"REINTERVENCION|REOPERACION|REINTERVENCIÓN|REOPERACIÓN\",\n",
    "}\n",
    "\n",
    "# Define los diagnosticos que son complicaciones\n",
    "a_buscar_diagnosticos = {\n",
    "    \"empiemas\": r\"EMPIEMA\",\n",
    "    \"rupturas\": r\"ANEURISMA\",\n",
    "}\n",
    "\n",
    "# Busca los nombres de las operaciones en la base de pabellon\n",
    "resultados_operaciones = pb.iterar_en_complicaciones_a_buscar(\n",
    "    grd_y_pabellon, a_buscar_operaciones, \"intervencion_quirurgica\"\n",
    ")\n",
    "\n",
    "# Busca los diagnosticos en el primer diagnostico y segundo\n",
    "resultados_diagnosticos = pb.iterar_en_complicaciones_a_buscar(\n",
    "    grd_y_pabellon, a_buscar_diagnosticos, \"diagnostico\"\n",
    ")\n",
    "\n",
    "# Obtiene resumen de complicaciones\n",
    "resumen_complicaciones = pd.concat([resultados_operaciones, resultados_diagnosticos])"
   ]
  },
  {
   "cell_type": "code",
   "execution_count": null,
   "metadata": {},
   "outputs": [],
   "source": [
    "# Obtiene los casos por especialidad por anio\n",
    "casos_especialidad_desglosado = casos_macroproceso.query(\n",
    "    \"tipo_paciente == 'CV' or tipo_paciente == 'CT'\"\n",
    ")\n",
    "casos_especialidad = casos_especialidad_desglosado.groupby(\"tipo_paciente\")[ANIOS_INTERES].sum()"
   ]
  },
  {
   "cell_type": "code",
   "execution_count": null,
   "metadata": {},
   "outputs": [
    {
     "name": "stdout",
     "output_type": "stream",
     "text": [
      "Cantidad de pabellones necesarios calculada:\n",
      "+--------------------+------------------------+------------------------+------------------------+------------------------+----------------------+------------------------+------------------------+-----------------------+------------------------+------------------------+----------------------+------------------------+------------------------+------------------------+------------------------+------------------------+------------------------+------------------------+------------------------+\n",
      "|                    |          2017          |          2018          |          2019          |          2020          |         2021         |          2022          |          2023          |         2024          |          2025          |          2026          |         2027         |          2028          |          2029          |          2030          |          2031          |          2032          |          2033          |          2034          |          2035          |\n",
      "+--------------------+------------------------+------------------------+------------------------+------------------------+----------------------+------------------------+------------------------+-----------------------+------------------------+------------------------+----------------------+------------------------+------------------------+------------------------+------------------------+------------------------+------------------------+------------------------+------------------------+\n",
      "|  ('aseos', 'CT')   |  0.037009138422366056  |  0.037548873561378746  |  0.03839215573224164   |  0.03930678383594047   | 0.03984290126849878  |  0.04014076653601345   |  0.040372853753819486  |  0.0405842869349005   |   0.0407810512248683   |   0.0409559607990074   | 0.04111139113124312  |  0.041249477124276054  |  0.041379891063519685  |  0.04150904319081391   |  0.04168739833934349   |  0.04179433497077446   |  0.04188417165384684   |  0.04197136921286555   |  0.042065114603376086  |\n",
      "|  ('aseos', 'CV')   |  0.04716219382356992   |  0.048016691695759596  |  0.049044574588293845  |  0.050095727014445236  | 0.05075319343739752  |   0.0511990624317315   |  0.051605417471400454  | 0.052009699470858206  |  0.05240144637734615   |  0.05277810740976215   | 0.05312832127092063  |  0.053458180701278266  |  0.053783312849882504  |  0.05410866766117008   |  0.054444544677390995  |  0.05471713897884097   |  0.054962904471434454  |  0.05520309335118425   |  0.05544722090393638   |\n",
      "| ('drenajes', 'CT') |  0.004325392364922237  | 0.0043884731700661655  |  0.004487030618815658  |  0.004593926525749043  | 0.004656584516405968 |  0.004691397111586654  |  0.004718521987298115  | 0.0047432329507553495 |  0.004766229507654416  | 0.0047866718245735415  | 0.004804837531774215 | 0.0048209761430855645  |  0.004836218093618051  | 0.0048513125716071566  | 0.0048721575853140605  |  0.004884655657650771  |  0.004895155196943368  |  0.004905346292226786  |  0.004916302656347822  |\n",
      "| ('drenajes', 'CV') |  0.014460287575662027  |  0.014722283126820607  |  0.01503743984484251   |  0.015359731178974797  | 0.01556131538819961  |  0.015698022215351454  |  0.015822613763264062  |  0.01594656970127009  |  0.016066682284367535  |  0.016182169423656613  | 0.01628954765894989  |  0.01639068507084297   |  0.01649037306217133   |  0.016590129323573052  |  0.016693111773091393  |  0.016776691260619057  |  0.01685204483115842   |  0.016925688569756573  |  0.017000539935474308  |\n",
      "|   ('ecmo', 'CT')   | 0.00010205222610987528 | 0.00010354053885621846 | 0.00010586587866266763 | 0.00010838795396687327 | 0.000109866290933943 | 0.00011068765060147159 | 0.00011132762813778614 | 0.0001119106524318706 | 0.00011245322744619362 | 0.00011293553836102873 | 0.00011336413551528  | 0.00011374490587592213 | 0.00011410452064627855 | 0.00011446065598635512 | 0.00011495246802849392 | 0.00011524734442267472 | 0.00011549506792785257 | 0.00011573551408221793 | 0.00011599401579819123 |\n",
      "+--------------------+------------------------+------------------------+------------------------+------------------------+----------------------+------------------------+------------------------+-----------------------+------------------------+------------------------+----------------------+------------------------+------------------------+------------------------+------------------------+------------------------+------------------------+------------------------+------------------------+\n",
      "\n"
     ]
    }
   ],
   "source": [
    "# Une los datos de complicaciones y los casos de especialidad\n",
    "casos_complicaciones = (\n",
    "    casos_especialidad.merge(\n",
    "        resumen_complicaciones[[\"fraccion\", \"tiempo_operacion_75%\", \"complicacion\"]],\n",
    "        how=\"left\",\n",
    "        left_index=True,\n",
    "        right_index=True,\n",
    "    )\n",
    "    .reset_index()\n",
    "    .sort_values([\"complicacion\", \"tipo_paciente\"])\n",
    "    .set_index([\"complicacion\", \"tipo_paciente\"])\n",
    ")\n",
    "\n",
    "# Agrega tiempos de limpieza de pabellones\n",
    "casos_complicaciones[\"tiempo_operacion_75%\"] = casos_complicaciones[\n",
    "    \"tiempo_operacion_75%\"\n",
    "] + pd.Timedelta(\"30 minutes\")\n",
    "\n",
    "# Obtiene los casos de complicaciones\n",
    "casos_complicaciones[ANIOS_INTERES] = casos_complicaciones[ANIOS_INTERES].mul(\n",
    "    casos_complicaciones[\"fraccion\"], axis=0\n",
    ")\n",
    "\n",
    "# Indica la cantidad de trasplantes\n",
    "CASOS_TRASPLANTES = 38\n",
    "casos_complicaciones.loc[(\"trasplantes\", \"CV\"), ANIOS_INTERES] = CASOS_TRASPLANTES\n",
    "\n",
    "# Obtiene el tiempo de pabellon por las complicaciones\n",
    "tiempo_utilizado_pabellon_complicaciones_horas = (\n",
    "    casos_complicaciones[ANIOS_INTERES]\n",
    "    .mul(casos_complicaciones[\"tiempo_operacion_75%\"], axis=0)\n",
    "    .apply(lambda x: x.dt.total_seconds() / 3600)\n",
    ")\n",
    "\n",
    "# Indica las horas para pabellon de emergencia\n",
    "horas_pabellon_emergencia = {str(anio): 365.25 * 24 for anio in range(ANIO_INICIO, ANIO_TERMINO + 1)}\n",
    "horas_pabellon_emergencia = pd.Series(horas_pabellon_emergencia)\n",
    "\n",
    "# Divide por las horas laborales\n",
    "pabellones_por_complicaciones = pb.calcular_cantidad_de_pabellones_necesarios(\n",
    "    tiempo_utilizado_pabellon_complicaciones_horas, horas_pabellon_emergencia\n",
    ")\n",
    "\n",
    "# # Obtiene los pabellones de emergencia por anio\n",
    "suma_total_pabellones_complicaciones = pabellones_por_complicaciones.sum()"
   ]
  },
  {
   "cell_type": "code",
   "execution_count": null,
   "metadata": {},
   "outputs": [
    {
     "name": "stdout",
     "output_type": "stream",
     "text": [
      "> Pabellones de Emergencia 2035: 0.49\n"
     ]
    }
   ],
   "source": [
    "print(f\"> Pabellones de Emergencia 2035: {suma_total_pabellones_complicaciones['2035']:.2f}\")"
   ]
  },
  {
   "cell_type": "code",
   "execution_count": null,
   "metadata": {},
   "outputs": [],
   "source": [
    "# Carga el resumen de area de estudio para MINSAL\n",
    "resumen_area_de_estudio_minsal = (\n",
    "    pd.read_excel(\n",
    "        \"../data/interim/casos_teoricos_diagnosticos.xlsx\", sheet_name=\"resumen_total_INT\"\n",
    "    )\n",
    "    .sort_values(\"Diagnostico\")\n",
    ")\n",
    "resumen_area_de_estudio_minsal[\"diagnostico_separado\"] = (\n",
    "    resumen_area_de_estudio_minsal[\"Diagnostico\"].str.split(\" - \").str[0]\n",
    ")\n",
    "resumen_area_de_estudio_minsal = resumen_area_de_estudio_minsal.set_index(\"diagnostico_separado\")\n",
    "\n",
    "# Sintetiza informacion de pabellon para el 2035\n",
    "resumen_quirurgicos = pd.DataFrame(\n",
    "    {\n",
    "        \"especialidad_quirurgica\": casos_especialidad_desglosado[\"tipo_paciente\"],\n",
    "        \"casos_quirurgicos_2035\": casos_quirurgicos[\"2035\"],\n",
    "        \"tiempo_quirurgico_75%\": tiempos_quir,\n",
    "        \"horas_pabellon_2035\": tiempo_utilizado_pabellon_horas[\"2035\"],\n",
    "        \"horas_laborales_2035_pabellon_12_hrs\": horas_laborales[\"2035\"],\n",
    "        \"cantidad_de_pabellones\": cantidad_de_pabellones_necesarios[\"2035\"],\n",
    "    }\n",
    ")\n",
    "\n",
    "# Une ambos resumenes segun el diagnostico\n",
    "resumen_minsal = resumen_area_de_estudio_minsal.merge(\n",
    "    resumen_quirurgicos, how=\"inner\", left_index=True, right_index=True\n",
    ")"
   ]
  },
  {
   "cell_type": "code",
   "execution_count": null,
   "metadata": {},
   "outputs": [],
   "source": [
    "a_guardar = {\n",
    "    \"resumen_MINSAL\": resumen_minsal,\n",
    "    \"casos_quirurgicos\": casos_especialidad_desglosado,\n",
    "    \"casos_por_especialidad\": casos_especialidad,\n",
    "    \"casos_complicaciones\": casos_complicaciones,\n",
    "    \"resumen_duraciones_int_q_rel\": tiempos_quir,\n",
    "    \"tiempo_utilizado_pabellon\": tiempo_utilizado_pabellon_horas,\n",
    "    \"horas_laborales_por_anio\": horas_laborales,\n",
    "    \"pabellones_desg\": cantidad_de_pabellones_necesarios,\n",
    "    \"pabellones\": suma_total_pabellones,\n",
    "    \"tiempo_ut_emergencia\": tiempo_utilizado_pabellon_complicaciones_horas,\n",
    "    \"pabellones_desg_emergencia\": pabellones_por_complicaciones,\n",
    "    \"pabellones_emergencia\": suma_total_pabellones_complicaciones,\n",
    "}"
   ]
  },
  {
   "cell_type": "code",
   "execution_count": null,
   "metadata": {},
   "outputs": [],
   "source": [
    "with pd.ExcelWriter(\"../data/interim/2.0_estimacion_pabellones_INT.xlsx\") as file:\n",
    "    for nombre_hoja, df_a_guardar in a_guardar.items():\n",
    "        df_a_guardar.to_excel(file, sheet_name=nombre_hoja)"
   ]
  }
 ],
 "metadata": {
  "kernelspec": {
   "display_name": "proyeccion-rdr",
   "language": "python",
   "name": "python3"
  },
  "language_info": {
   "codemirror_mode": {
    "name": "ipython",
    "version": 3
   },
   "file_extension": ".py",
   "mimetype": "text/x-python",
   "name": "python",
   "nbconvert_exporter": "python",
   "pygments_lexer": "ipython3",
   "version": "3.10.16"
  }
 },
 "nbformat": 4,
 "nbformat_minor": 2
}
