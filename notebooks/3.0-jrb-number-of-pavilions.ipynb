{
 "cells": [
  {
   "cell_type": "code",
   "execution_count": 19,
   "metadata": {},
   "outputs": [
    {
     "name": "stdout",
     "output_type": "stream",
     "text": [
      "The autoreload extension is already loaded. To reload it, use:\n",
      "  %reload_ext autoreload\n"
     ]
    }
   ],
   "source": [
    "import sys\n",
    "import os\n",
    "\n",
    "project_root = os.path.abspath('..')\n",
    "if project_root not in sys.path:\n",
    "    sys.path.append(project_root)\n",
    " \n",
    "%load_ext autoreload\n",
    "%autoreload 2"
   ]
  },
  {
   "cell_type": "code",
   "execution_count": 20,
   "metadata": {},
   "outputs": [],
   "source": [
    "import pandas as pd\n",
    "\n",
    "import proyeccion_rdr.features as features\n",
    "import proyeccion_rdr.produccion.a03_pabellon as pb\n",
    "\n",
    "pd.set_option(\"display.max_columns\", None)\n",
    "\n",
    "\n",
    "ANIO_INICIO = 2017\n",
    "ANIO_TERMINO = 2035\n",
    "# Agrega las columnas de poblacion de interes\n",
    "ANIOS_INTERES = [str(i) for i in range(2017, 2036)]"
   ]
  },
  {
   "cell_type": "markdown",
   "metadata": {},
   "source": [
    "## Obtencion de casos por area de influencia INT"
   ]
  },
  {
   "cell_type": "code",
   "execution_count": 21,
   "metadata": {},
   "outputs": [],
   "source": [
    "# Lee los casos de todos los macroprocesos\n",
    "RUTA_ARCHIVOS = \"../data/interim/0.1_casos_teoricos_diagnosticos.xlsx\"\n",
    "_, casos_macroproceso = features.leer_casos_macroprocesos(RUTA_ARCHIVOS)\n",
    "\n",
    "# Obtiene los casos quirurgicos\n",
    "casos_quirurgicos = casos_macroproceso.query(\"tipo_paciente == 'quirurgicos'\")"
   ]
  },
  {
   "cell_type": "code",
   "execution_count": 22,
   "metadata": {},
   "outputs": [],
   "source": [
    "# Los diagnosticos que tienen un porcentaje de hosp. mayor a 0\n",
    "diagnosticos_relevantes = list(casos_quirurgicos.index)\n",
    "\n",
    "# Ademas, los diagnosticos que estan agrupados dentro de los que aportan a AC\n",
    "# Solo deja los diagnosticos que esten agrupados\n",
    "diagnosticos_a_reasignar = casos_quirurgicos.dropna(subset=\"Diagnosticos Contenidos\")\n",
    "\n",
    "# Separa la lista de diagnosticos en filas\n",
    "diagnosticos_agrupados = diagnosticos_a_reasignar.explode(\"Diagnosticos Contenidos\")\n",
    "diagnosticos_agrupados = list(diagnosticos_agrupados[\"Diagnosticos Contenidos\"].unique())\n",
    "\n",
    "# Suma los diagnosticos relevantes y los agrupados\n",
    "diagnosticos_a_buscar_en_quir = sorted(diagnosticos_relevantes + diagnosticos_agrupados)"
   ]
  },
  {
   "cell_type": "markdown",
   "metadata": {},
   "source": [
    "## Obtencion de tiempos quirurgicos entre 2015 y 2022 en pabellon para diagnosticos relevantes\n",
    "\n",
    "Estos se obtendran a partir de la union de la base de GRD (2015 a 2022, tiene los diagnosticos codificados) y Pabellon (2015 a 2022, tiene los tiempos quirurgicos)."
   ]
  },
  {
   "cell_type": "code",
   "execution_count": 23,
   "metadata": {},
   "outputs": [
    {
     "name": "stderr",
     "output_type": "stream",
     "text": [
      "/var/folders/wy/2slj_t7s2vz19v2h2926qb340000gn/T/ipykernel_58344/3808083235.py:2: DtypeWarning: Columns (41,42,43,44,45,46,47,48,49,50,51,52,104,105,106,107,108,109,110,111,112,113,114,115,116,117,118,119,120,121,122,123,149,150,151,152,153,154,155,156,157,158,230) have mixed types. Specify dtype option on import or set low_memory=False.\n",
      "  grd_y_pabellon = pd.read_csv(\"../data/raw/5_grd_y_pabellon/df_procesada_grd_y_pabellon.csv\")\n"
     ]
    }
   ],
   "source": [
    "# Lee la base de GRD unida con Pabellon\n",
    "grd_y_pabellon = pd.read_csv(\"../data/raw/5_grd_y_pabellon/df_procesada_grd_y_pabellon.csv\")\n",
    "grd_y_pabellon[\"t_total\"] = pd.to_timedelta(grd_y_pabellon[\"t_total\"].str.split(\" \").str[1])"
   ]
  },
  {
   "cell_type": "code",
   "execution_count": 24,
   "metadata": {},
   "outputs": [],
   "source": [
    "# Filtra solamente los diagnosticos que aportan a quirurgico\n",
    "grd_y_pabellon_relevantes = grd_y_pabellon.query(\n",
    "    \"diagnostico_1.isin(@diagnosticos_a_buscar_en_quir)\"\n",
    ").copy()"
   ]
  },
  {
   "cell_type": "markdown",
   "metadata": {},
   "source": [
    "## Reasginar diagnosticos"
   ]
  },
  {
   "cell_type": "code",
   "execution_count": 25,
   "metadata": {},
   "outputs": [
    {
     "name": "stdout",
     "output_type": "stream",
     "text": [
      "Cambiando ['Q262', 'K914', 'K638'] a ENTN\n",
      "Cambiando ['H652', 'H653', 'H654', 'H669'] a HOTI\n",
      "Cambiando ['J121', 'J122', 'J123', 'J129', 'J159', 'J189'] a JNEU\n",
      "Cambiando ['K352', 'K353', 'K358'] a KAPE\n",
      "Cambiando ['K565', 'K650'] a KGAST\n",
      "Cambiando ['M411', 'M410', 'M412', 'M414', 'T813', 'Q763'] a MESC\n",
      "Cambiando ['K560', 'Q625', 'T222'] a OBSI\n",
      "Cambiando ['K36X', 'K659'] a PERC\n",
      "Cambiando ['Q390', 'Q391', 'Q393'] a QATR\n",
      "Cambiando ['Q375', 'Q374', 'Q369', 'Q371', 'Q379', 'Q373', 'Q370', 'T813', 'Q355', 'Q372', 'Q359', 'Q378'] a QLAB\n",
      "Cambiando ['S424', 'S524', 'S525', 'S528', 'S529'] a SFRA\n",
      "Cambiando ['T213', 'T202', 'T212', 'T203', 'T293', 'T201', 'T273', 'T223', 'T222', 'T243', 'T280', 'T211', 'T242', 'T253', 'T232', 'T221', 'T241', 'T312', 'T291', 'T292', 'T252'] a TQUE\n"
     ]
    }
   ],
   "source": [
    "for row in diagnosticos_a_reasignar.itertuples():\n",
    "    diagnostico_nuevo = row[0]\n",
    "    diagnosticos_antiguos = row[1]\n",
    "\n",
    "    print(f\"Cambiando {diagnosticos_antiguos} a {diagnostico_nuevo}\")\n",
    "    diagnosticos_cambiados = grd_y_pabellon_relevantes[\"diagnostico_1\"].replace(\n",
    "        diagnosticos_antiguos, diagnostico_nuevo\n",
    "    )\n",
    "    grd_y_pabellon_relevantes[\"diagnostico_1\"] = diagnosticos_cambiados"
   ]
  },
  {
   "cell_type": "markdown",
   "metadata": {},
   "source": [
    "## Obtener tiempos quirurgicos"
   ]
  },
  {
   "cell_type": "code",
   "execution_count": 26,
   "metadata": {},
   "outputs": [],
   "source": [
    "# Obtiene el resumen de duraciones de las int. q por diagnostico acumuladas\n",
    "tiempos_quir = pd.to_timedelta(\n",
    "    grd_y_pabellon_relevantes.groupby([\"diagnostico_1\"])[\"t_total\"].describe()[\"75%\"]\n",
    ")"
   ]
  },
  {
   "cell_type": "code",
   "execution_count": 27,
   "metadata": {},
   "outputs": [],
   "source": [
    "# Obtiene la cantidad de intervenciones quirurgicas por cada tipo de paciente\n",
    "conteo_int_q_por_paciente = (\n",
    "    grd_y_pabellon_relevantes.groupby([\"ano_x\", \"diagnostico_1\", \"id_paciente\"])\n",
    "    .agg(n_int_q=(\"fecha_operacion\", \"count\"))\n",
    "    .reset_index()\n",
    "    .groupby([\"ano_x\", \"diagnostico_1\"])[\"n_int_q\"].describe()\n",
    ")\n",
    "\n",
    "# Selecciona cuantas intervenciones quirurgicas tendra cada paciente segun el diagnostico\n",
    "numero_int_q_por_pacientes = conteo_int_q_por_paciente.query(\"ano_x == 2024\")[\"75%\"]\n",
    "numero_int_q_por_pacientes = numero_int_q_por_pacientes.reset_index(level=0, drop=True)"
   ]
  },
  {
   "cell_type": "code",
   "execution_count": null,
   "metadata": {},
   "outputs": [
    {
     "name": "stdout",
     "output_type": "stream",
     "text": [
      "Cantidad de Int. Q por diagnostico:\n",
      "+------+--------------------+--------------------+--------------------+--------------------+-------------------+--------------------+-------------------+-------------------+-------------------+--------------------+--------------------+--------------------+--------------------+--------------------+-------------------+--------------------+--------------------+--------------------+-------------------+\n",
      "|      |        2017        |        2018        |        2019        |        2020        |       2021        |        2022        |       2023        |       2024        |       2025        |        2026        |        2027        |        2028        |        2029        |        2030        |       2031        |        2032        |        2033        |        2034        |       2035        |\n",
      "+------+--------------------+--------------------+--------------------+--------------------+-------------------+--------------------+-------------------+-------------------+-------------------+--------------------+--------------------+--------------------+--------------------+--------------------+-------------------+--------------------+--------------------+--------------------+-------------------+\n",
      "| ENTN | 42.06293802670398  | 43.131849042098494 | 45.10632542174141  | 47.59089874706862  | 49.14411528954537 | 49.77743790188363  | 50.00382924294578 | 50.06687493286179 | 50.00956066930176 | 49.849080731333686 | 49.58256940577955  | 49.221489545351375 | 48.797363995007174 | 48.33311846017095  | 48.22135564622891 | 47.85167864626672  | 47.49633021219458  | 47.152444630834395 | 46.85154474714426 |\n",
      "| H351 | 14.02097934223466  | 14.37728301403283  | 15.03544180724714  | 15.86363291568954  | 16.38137176318179 | 16.59247930062788  | 16.66794308098192 | 16.68895831095393 | 16.66985355643392 | 16.61636024377789  | 16.52752313525985  | 16.40716318178379  | 16.26578799833572  | 16.11103948672365  | 16.07378521540964 | 15.95055954875558  | 15.83211007073153  | 15.71748154361146  | 15.61718158238142 |\n",
      "| HOTI | 108.3669438261215  | 112.1496852210833  | 115.5935560327464  | 118.6913919781658  | 120.4072377434941 | 121.4231330650957  | 122.3279820010496 | 122.9928274583459 | 123.257905927311  | 123.6075229350272  |  124.37051906867   | 125.2080237449409  | 125.7711363844183  | 125.8377642158068  | 125.5712528902527 | 125.0683202275133  | 124.4421618981201  | 123.7221514621472  | 122.9491253323813 |\n",
      "| J955 | 1.5883043346281864 | 1.642546553661396  | 1.6949317905552608 | 1.7442105943641724 | 1.77226019495045  | 1.7897295824835464 | 1.80624182181519  | 1.823596580821166 | 1.839529946090854 | 1.8521333526477044 | 1.8607935378716232 | 1.8662383929098267 | 1.8691270317932516 | 1.8715628879945532 | 1.873723635730766 | 1.8754774521957027 | 1.8750647894980708 | 1.8715972765526891 | 1.868840460475452 |\n",
      "| JNEU | 12.22111946366688  |  12.6384832045613  |  13.0415584995502  | 13.42073151774655  | 13.63655761114652 |  13.7709748429984  | 13.8980273511891  | 14.03156258020731 | 14.15416097408796 | 14.25113718565039  | 14.31777249973443  | 14.35966763433394  | 14.38189410574252  | 14.40063666595809  | 14.41726241937284 | 14.43075706272805  | 14.42758185252682  | 14.40090126680819  | 14.37968909865834 |\n",
      "+------+--------------------+--------------------+--------------------+--------------------+-------------------+--------------------+-------------------+-------------------+-------------------+--------------------+--------------------+--------------------+--------------------+--------------------+-------------------+--------------------+--------------------+--------------------+-------------------+\n",
      "\n",
      "Tiempo utilizado en pabellón calculado (en horas):\n",
      "+------+--------------------+--------------------+--------------------+--------------------+--------------------+--------------------+--------------------+--------------------+--------------------+--------------------+-------------------+-------------------+--------------------+--------------------+--------------------+--------------------+--------------------+--------------------+--------------------+\n",
      "|      |        2017        |        2018        |        2019        |        2020        |        2021        |        2022        |        2023        |        2024        |        2025        |        2026        |       2027        |       2028        |        2029        |        2030        |        2031        |        2032        |        2033        |        2034        |        2035        |\n",
      "+------+--------------------+--------------------+--------------------+--------------------+--------------------+--------------------+--------------------+--------------------+--------------------+--------------------+-------------------+-------------------+--------------------+--------------------+--------------------+--------------------+--------------------+--------------------+--------------------+\n",
      "| ENTN | 218.20149101352666 | 223.74646690588582 | 233.98906312528334 | 246.87778725041832 | 254.9350980645164  | 258.2204591160211  | 259.3948641977811  | 259.72191371422053 | 259.4245959720028  | 258.59210629379334 | 257.2095787924814 |  255.33647701651  | 253.13632572409972 | 250.7280520121367  | 250.14828241481223 | 248.2305829775086  | 246.38721297575918 | 244.60330652245332 | 243.04238837581082 |\n",
      "| H351 | 40.31031560892445  | 41.33468866534416  | 43.22689519583528  | 45.60794463260723  |  47.0964438191475  | 47.703377989305004 | 47.92033635782278  |  47.9807551439925  |  47.9258289747475  | 47.77203570086139  | 47.51662901387194 | 47.17059414762833 |  46.764140495215   | 46.319238524330274 |  46.2121324943025  | 45.857858702672225 | 45.51731645335306  | 45.187759437882775 | 44.89939704934639  |\n",
      "| HOTI | 363.4807907501159  |  376.168735845717  | 387.7200525265033  | 398.1107105934311  | 403.86594326463637 |  407.273425489175  | 410.30843962852055 | 412.53844209986835 | 413.42755946452223 | 414.60023317790365 | 417.1594493761639 | 419.9685796444892 | 421.8573532894031  | 422.0808341405186  | 421.18691073605584 | 419.49999076311747 | 417.39975136661116 | 414.9847163626186  | 412.3918578856956  |\n",
      "| J955 | 3.441326058360833  | 3.558850866266111  | 3.6723522128697224 | 3.7791229544555556 | 3.839897089059167  | 3.8777474287141662 | 3.9135239472661114 |  3.9511259251125   |   3.98564821653    | 4.012955597403333  |  4.031719332055   | 4.043516517971111 | 4.0497752355519445 | 4.055052923988056  | 4.059734544083056  | 4.063534479757222  | 4.062640377245556  | 4.055127432530556  | 4.0491543310299996 |\n",
      "| JNEU | 27.395676131053055 | 28.33126651689139  |  29.234826969825   |  30.084806485615   | 30.568616644986665 | 30.869935273054722 | 31.154744645582223 | 31.454086117298054 | 31.728910850246944 | 31.946299191166112 | 32.09567335357111 | 32.18958828029833 | 32.239412620372775 | 32.28142719285583  | 32.318696590093886 | 32.348947082281946 | 32.34182931941417  | 32.282020339761665 | 32.23446972949222  |\n",
      "+------+--------------------+--------------------+--------------------+--------------------+--------------------+--------------------+--------------------+--------------------+--------------------+--------------------+-------------------+-------------------+--------------------+--------------------+--------------------+--------------------+--------------------+--------------------+--------------------+\n",
      "\n",
      "Horas laborales por año calculadas:\n",
      "+---+-------+--------------------------------------------+\n",
      "|   | fecha | horas_laborales_funcionamiento_de_12_horas |\n",
      "+---+-------+--------------------------------------------+\n",
      "| 0 | 2017  |                    2976                    |\n",
      "| 1 | 2018  |                    2964                    |\n",
      "| 2 | 2019  |                    2988                    |\n",
      "| 3 | 2020  |                    3024                    |\n",
      "| 4 | 2021  |                    3012                    |\n",
      "+---+-------+--------------------------------------------+\n",
      "\n",
      "Cantidad de pabellones necesarios calculada:\n",
      "+------+-----------------------+-----------------------+-----------------------+-----------------------+-----------------------+-----------------------+-----------------------+-----------------------+-----------------------+-----------------------+-----------------------+-----------------------+----------------------+-----------------------+-----------------------+-----------------------+-----------------------+-----------------------+-----------------------+\n",
      "|      |         2017          |         2018          |         2019          |         2020          |         2021          |         2022          |         2023          |         2024          |         2025          |         2026          |         2027          |         2028          |         2029         |         2030          |         2031          |         2032          |         2033          |         2034          |         2035          |\n",
      "+------+-----------------------+-----------------------+-----------------------+-----------------------+-----------------------+-----------------------+-----------------------+-----------------------+-----------------------+-----------------------+-----------------------+-----------------------+----------------------+-----------------------+-----------------------+-----------------------+-----------------------+-----------------------+-----------------------+\n",
      "| ENTN |  0.07332039348572804  |  0.07548801177661466  |  0.07830959274607877  |  0.08163947991085262  |  0.08463980679432816  |  0.08607348637200704  |  0.08751513636902196  |  0.08692165786955172  |  0.08682215393975998  |  0.08585395295278664  |  0.08539494647824748  |  0.08579854738457997  | 0.08575078784691725  |  0.08425001747719647  |  0.08338276080493741  |  0.08176237910985132  |  0.08180186353776865  |  0.08252473229502474  |  0.08233143237662968  |\n",
      "| H351 | 0.013545132933106333  | 0.013945576472788178  | 0.014466832394857859  | 0.015081992272687576  | 0.015636269528269423  | 0.015901125996435003  | 0.016167454911546145  | 0.016057816313250504  | 0.016039434061160478  |  0.01586056962179993  | 0.015775773244977403  | 0.015850334054982637  | 0.01584151100786416  | 0.015564260256831408  |  0.0154040441647675   | 0.015104696542382156  | 0.015111990854366887  | 0.015245532873779614  | 0.015209822848694576  |\n",
      "| HOTI |  0.12213736248323787  |  0.1269125289627925   |  0.12975905372372937  |  0.1316503672597325   |  0.13408563853407582  |  0.13575780849639166  |  0.1384306476479489   |  0.1380650743306119   |  0.13836263703631935  |  0.13764947980674092  |  0.13849915317933728  |  0.1411184743429063   | 0.14290560748286013  |  0.14182823727840008  |  0.14039563691201862  |  0.13817522752408348  |  0.13857893471667038  |  0.14000833885378494  |  0.13969913885016788  |\n",
      "| J955 | 0.0011563595626212478 | 0.0012006919251909957 | 0.0012290335384436823 | 0.0012497099717114933 | 0.0012748662314273462 | 0.0012925824762380553 | 0.0013203522089291874 | 0.0013223313002384538 | 0.0013338849452911646 | 0.0013323225754991144 | 0.0013385522350780213 | 0.0013587085073827657 | 0.001371875079794019 | 0.0013625849878992123 | 0.0013532448480276852 | 0.0013384500921466477 | 0.0013488181863365058 | 0.0013681266641466113 | 0.0013716647462838753 |\n",
      "| JNEU | 0.009205536334359225  | 0.009558456989504518  | 0.009784078637826306  | 0.009948679393391203  |  0.01014894310922532  | 0.010289978424351575  | 0.010511047451276054  |  0.01052680258276374  | 0.010618778731675684  | 0.010606341032923676  | 0.010655934048330382  | 0.010816393911390568  | 0.01092121023725365  | 0.010847253761040265  |  0.01077289886336463  | 0.010655120909842539  |  0.01073765913659169  | 0.010891369885209739  |  0.01091953581622365  |\n",
      "+------+-----------------------+-----------------------+-----------------------+-----------------------+-----------------------+-----------------------+-----------------------+-----------------------+-----------------------+-----------------------+-----------------------+-----------------------+----------------------+-----------------------+-----------------------+-----------------------+-----------------------+-----------------------+-----------------------+\n",
      "\n"
     ]
    }
   ],
   "source": [
    "# Calcula la cantidad de intervenciones quirurgicas que se realizaran\n",
    "numero_de_int_q = pb.calcular_cantidad_int_q(\n",
    "    casos_quirurgicos[ANIOS_INTERES],\n",
    "    numero_int_q_por_pacientes,\n",
    ")\n",
    "\n",
    "# Calcular tiempo utilizado en pabellón en horas\n",
    "tiempo_utilizado_pabellon_horas = pb.calcular_tiempo_utilizado_pabellon(\n",
    "    numero_de_int_q,\n",
    "    tiempos_quir,\n",
    ")\n",
    "\n",
    "# Calcular horas laborales\n",
    "horas_laborales = features.calcular_horas_laborales(ANIO_INICIO, ANIO_TERMINO, 12)\n",
    "\n",
    "# Calcular cantidad de pabellones necesarios\n",
    "cantidad_de_pabellones_necesarios = pb.calcular_cantidad_de_pabellones_necesarios(\n",
    "    tiempo_utilizado_pabellon_horas, horas_laborales\n",
    ")\n",
    "\n",
    "# Obtiene la suma total de pabellones\n",
    "suma_total_pabellones = cantidad_de_pabellones_necesarios.sum()"
   ]
  },
  {
   "cell_type": "code",
   "execution_count": 29,
   "metadata": {},
   "outputs": [
    {
     "name": "stdout",
     "output_type": "stream",
     "text": [
      "> Pabellones 2035: 5.28\n"
     ]
    }
   ],
   "source": [
    "print(f\"> Pabellones 2035: {suma_total_pabellones['2035']:.2f}\")"
   ]
  },
  {
   "cell_type": "markdown",
   "metadata": {},
   "source": [
    "## Complicaciones"
   ]
  },
  {
   "cell_type": "code",
   "execution_count": 30,
   "metadata": {},
   "outputs": [],
   "source": [
    "# # Define las complicaciones a buscar\n",
    "# a_buscar_operaciones = {\n",
    "#     \"ecmo\": r\"ECMO\",\n",
    "#     \"trasplantes\": r\"TRASPLANTE|TRANSPLANTE\",\n",
    "#     \"aseos\": r\"ASEO\",\n",
    "#     \"drenajes\": r\"DRENAJE\",\n",
    "#     \"traqueostomias\": r\"TRAQUEOSTOMIA|TRAQUEOSTOMÍA\",\n",
    "#     \"reintervenciones_reoperaciones\": r\"REINTERVENCION|REOPERACION|REINTERVENCIÓN|REOPERACIÓN\",\n",
    "# }\n",
    "\n",
    "# # Define los diagnosticos que son complicaciones\n",
    "# a_buscar_diagnosticos = {\n",
    "#     \"empiemas\": r\"EMPIEMA\",\n",
    "#     \"rupturas\": r\"ANEURISMA\",\n",
    "# }\n",
    "\n",
    "# # Busca los nombres de las operaciones en la base de pabellon\n",
    "# resultados_operaciones = pb.iterar_en_complicaciones_a_buscar(\n",
    "#     grd_y_pabellon, a_buscar_operaciones, \"intervencion_quirurgica\"\n",
    "# )\n",
    "\n",
    "# # Busca los diagnosticos en el primer diagnostico y segundo\n",
    "# resultados_diagnosticos = pb.iterar_en_complicaciones_a_buscar(\n",
    "#     grd_y_pabellon, a_buscar_diagnosticos, \"diagnostico\"\n",
    "# )\n",
    "\n",
    "# # Obtiene resumen de complicaciones\n",
    "# resumen_complicaciones = pd.concat([resultados_operaciones, resultados_diagnosticos])"
   ]
  },
  {
   "cell_type": "code",
   "execution_count": 31,
   "metadata": {},
   "outputs": [],
   "source": [
    "# Obtiene los casos por especialidad por anio\n",
    "casos_especialidad_desglosado = casos_macroproceso.query(\"tipo_paciente == 'Placeholder'\")\n",
    "casos_especialidad = casos_especialidad_desglosado.groupby(\"tipo_paciente\")[ANIOS_INTERES].sum()"
   ]
  },
  {
   "cell_type": "code",
   "execution_count": 32,
   "metadata": {},
   "outputs": [],
   "source": [
    "# # Une los datos de complicaciones y los casos de especialidad\n",
    "# casos_complicaciones = (\n",
    "#     casos_especialidad.merge(\n",
    "#         resumen_complicaciones[[\"fraccion\", \"tiempo_operacion_75%\", \"complicacion\"]],\n",
    "#         how=\"left\",\n",
    "#         left_index=True,\n",
    "#         right_index=True,\n",
    "#     )\n",
    "#     .reset_index()\n",
    "#     .sort_values([\"complicacion\", \"tipo_paciente\"])\n",
    "#     .set_index([\"complicacion\", \"tipo_paciente\"])\n",
    "# )\n",
    "\n",
    "# # Agrega tiempos de limpieza de pabellones\n",
    "# casos_complicaciones[\"tiempo_operacion_75%\"] = casos_complicaciones[\n",
    "#     \"tiempo_operacion_75%\"\n",
    "# ] + pd.Timedelta(\"30 minutes\")\n",
    "\n",
    "# # Obtiene los casos de complicaciones\n",
    "# casos_complicaciones[ANIOS_INTERES] = casos_complicaciones[ANIOS_INTERES].mul(\n",
    "#     casos_complicaciones[\"fraccion\"], axis=0\n",
    "# )\n",
    "\n",
    "# # Indica la cantidad de trasplantes\n",
    "# CASOS_TRASPLANTES = 38\n",
    "# casos_complicaciones.loc[(\"trasplantes\", \"CV\"), ANIOS_INTERES] = CASOS_TRASPLANTES\n",
    "\n",
    "# # Obtiene el tiempo de pabellon por las complicaciones\n",
    "# tiempo_utilizado_pabellon_complicaciones_horas = (\n",
    "#     casos_complicaciones[ANIOS_INTERES]\n",
    "#     .mul(casos_complicaciones[\"tiempo_operacion_75%\"], axis=0)\n",
    "#     .apply(lambda x: x.dt.total_seconds() / 3600)\n",
    "# )\n",
    "\n",
    "# # Indica las horas para pabellon de emergencia\n",
    "# horas_pabellon_emergencia = {str(anio): 365.25 * 24 for anio in range(ANIO_INICIO, ANIO_TERMINO + 1)}\n",
    "# horas_pabellon_emergencia = pd.Series(horas_pabellon_emergencia)\n",
    "\n",
    "# # Divide por las horas laborales\n",
    "# pabellones_por_complicaciones = pb.calcular_cantidad_de_pabellones_necesarios(\n",
    "#     tiempo_utilizado_pabellon_complicaciones_horas, horas_pabellon_emergencia\n",
    "# )\n",
    "\n",
    "# # # Obtiene los pabellones de emergencia por anio\n",
    "# suma_total_pabellones_complicaciones = pabellones_por_complicaciones.sum()"
   ]
  },
  {
   "cell_type": "code",
   "execution_count": 33,
   "metadata": {},
   "outputs": [],
   "source": [
    "# print(f\"> Pabellones de Emergencia 2035: {suma_total_pabellones_complicaciones['2035']:.2f}\")"
   ]
  },
  {
   "cell_type": "code",
   "execution_count": 39,
   "metadata": {},
   "outputs": [],
   "source": [
    "# Carga el resumen de area de estudio para MINSAL\n",
    "resumen_area_de_estudio_minsal = pd.read_excel(\n",
    "    \"../data/interim/0.1_casos_teoricos_diagnosticos.xlsx\", sheet_name=\"resumen_total_RDR\"\n",
    ").sort_values(\"Diagnostico\")\n",
    "resumen_area_de_estudio_minsal[\"diagnostico_separado\"] = (\n",
    "    resumen_area_de_estudio_minsal[\"Diagnostico\"].str.split(\" - \").str[0]\n",
    ")\n",
    "resumen_area_de_estudio_minsal = resumen_area_de_estudio_minsal.set_index(\"diagnostico_separado\")\n",
    "\n",
    "# Sintetiza informacion de pabellon para el 2035\n",
    "resumen_quirurgicos = pd.DataFrame(\n",
    "    {\n",
    "        \"especialidad_quirurgica\": casos_especialidad_desglosado[\"tipo_paciente\"],\n",
    "        \"casos_quirurgicos_2035\": casos_quirurgicos[\"2035\"],\n",
    "        \"n_int_q_por_paciente_75%\": numero_int_q_por_pacientes,\n",
    "        \"n_int_q_2035\": numero_de_int_q[\"2035\"],\n",
    "        \"tiempo_quirurgico_75%\": tiempos_quir,\n",
    "        \"horas_pabellon_2035\": tiempo_utilizado_pabellon_horas[\"2035\"],\n",
    "        \"horas_laborales_2035_pabellon_12_hrs\": horas_laborales[\"2035\"],\n",
    "        \"cantidad_de_pabellones\": cantidad_de_pabellones_necesarios[\"2035\"],\n",
    "    }\n",
    ")\n",
    "\n",
    "# Une ambos resumenes segun el diagnostico\n",
    "resumen_minsal = resumen_area_de_estudio_minsal.merge(\n",
    "    resumen_quirurgicos, how=\"inner\", left_index=True, right_index=True\n",
    ")"
   ]
  },
  {
   "cell_type": "code",
   "execution_count": 40,
   "metadata": {},
   "outputs": [],
   "source": [
    "a_guardar = {\n",
    "    \"resumen_MINSAL\": resumen_minsal,\n",
    "    \"casos_quirurgicos\": casos_especialidad_desglosado,\n",
    "    \"casos_por_especialidad\": casos_especialidad,\n",
    "    # \"casos_complicaciones\": casos_complicaciones,\n",
    "    \"resumen_duraciones_int_q_rel\": tiempos_quir,\n",
    "    \"tiempo_utilizado_pabellon\": tiempo_utilizado_pabellon_horas,\n",
    "    \"horas_laborales_por_anio\": horas_laborales,\n",
    "    \"pabellones_desg\": cantidad_de_pabellones_necesarios,\n",
    "    \"pabellones\": suma_total_pabellones,\n",
    "    # \"tiempo_ut_emergencia\": tiempo_utilizado_pabellon_complicaciones_horas,\n",
    "    # \"pabellones_desg_emergencia\": pabellones_por_complicaciones,\n",
    "    # \"pabellones_emergencia\": suma_total_pabellones_complicaciones,\n",
    "}"
   ]
  },
  {
   "cell_type": "code",
   "execution_count": 41,
   "metadata": {},
   "outputs": [],
   "source": [
    "with pd.ExcelWriter(\"../data/interim/2.0_estimacion_pabellones_RDR.xlsx\") as file:\n",
    "    for nombre_hoja, df_a_guardar in a_guardar.items():\n",
    "        df_a_guardar.to_excel(file, sheet_name=nombre_hoja)"
   ]
  }
 ],
 "metadata": {
  "kernelspec": {
   "display_name": "proyeccion-rdr",
   "language": "python",
   "name": "python3"
  },
  "language_info": {
   "codemirror_mode": {
    "name": "ipython",
    "version": 3
   },
   "file_extension": ".py",
   "mimetype": "text/x-python",
   "name": "python",
   "nbconvert_exporter": "python",
   "pygments_lexer": "ipython3",
   "version": "3.10.17"
  }
 },
 "nbformat": 4,
 "nbformat_minor": 2
}
