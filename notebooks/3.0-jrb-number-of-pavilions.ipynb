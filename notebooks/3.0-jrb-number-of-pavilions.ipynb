{
 "cells": [
  {
   "cell_type": "code",
   "execution_count": 5,
   "metadata": {},
   "outputs": [
    {
     "name": "stdout",
     "output_type": "stream",
     "text": [
      "The autoreload extension is already loaded. To reload it, use:\n",
      "  %reload_ext autoreload\n"
     ]
    }
   ],
   "source": [
    "import sys\n",
    "import os\n",
    "\n",
    "project_root = os.path.abspath('..')\n",
    "if project_root not in sys.path:\n",
    "    sys.path.append(project_root)\n",
    " \n",
    "%load_ext autoreload\n",
    "%autoreload 2"
   ]
  },
  {
   "cell_type": "code",
   "execution_count": 6,
   "metadata": {},
   "outputs": [],
   "source": [
    "import pandas as pd\n",
    "\n",
    "import proyeccion_rdr.features as features\n",
    "import proyeccion_rdr.produccion.a03_pabellon as pb\n",
    "\n",
    "pd.set_option(\"display.max_columns\", None)\n",
    "\n",
    "\n",
    "ANIO_INICIO = 2017\n",
    "ANIO_TERMINO = 2035\n",
    "# Agrega las columnas de poblacion de interes\n",
    "ANIOS_INTERES = [str(i) for i in range(2017, 2036)]"
   ]
  },
  {
   "cell_type": "markdown",
   "metadata": {},
   "source": [
    "## Obtencion de casos por area de influencia INT"
   ]
  },
  {
   "cell_type": "code",
   "execution_count": 8,
   "metadata": {},
   "outputs": [],
   "source": [
    "# Lee los casos de todos los macroprocesos\n",
    "RUTA_ARCHIVOS = \"../data/interim/0.1_casos_teoricos_diagnosticos.xlsx\"\n",
    "_, casos_macroproceso = features.leer_casos_macroprocesos(RUTA_ARCHIVOS)\n",
    "\n",
    "# Obtiene los casos quirurgicos\n",
    "casos_quirurgicos = casos_macroproceso.query(\"tipo_paciente == 'quirurgicos'\")"
   ]
  },
  {
   "cell_type": "code",
   "execution_count": 10,
   "metadata": {},
   "outputs": [],
   "source": [
    "# Los diagnosticos que tienen un porcentaje de hosp. mayor a 0\n",
    "diagnosticos_relevantes = list(casos_quirurgicos.index)\n",
    "\n",
    "# Ademas, los diagnosticos que estan agrupados dentro de los que aportan a AC\n",
    "# Solo deja los diagnosticos que esten agrupados\n",
    "diagnosticos_a_reasignar = casos_quirurgicos.dropna(subset=\"Diagnosticos Contenidos\")\n",
    "\n",
    "# Separa la lista de diagnosticos en filas\n",
    "diagnosticos_agrupados = diagnosticos_a_reasignar.explode(\"Diagnosticos Contenidos\")\n",
    "diagnosticos_agrupados = list(diagnosticos_agrupados[\"Diagnosticos Contenidos\"].unique())\n",
    "\n",
    "# Suma los diagnosticos relevantes y los agrupados\n",
    "diagnosticos_a_buscar_en_quir = sorted(diagnosticos_relevantes + diagnosticos_agrupados)"
   ]
  },
  {
   "cell_type": "markdown",
   "metadata": {},
   "source": [
    "## Obtencion de tiempos quirurgicos entre 2015 y 2022 en pabellon para diagnosticos relevantes\n",
    "\n",
    "Estos se obtendran a partir de la union de la base de GRD (2015 a 2022, tiene los diagnosticos codificados) y Pabellon (2015 a 2022, tiene los tiempos quirurgicos)."
   ]
  },
  {
   "cell_type": "code",
   "execution_count": 15,
   "metadata": {},
   "outputs": [
    {
     "name": "stderr",
     "output_type": "stream",
     "text": [
      "C:\\Users\\jarojas\\AppData\\Local\\Temp\\ipykernel_8340\\3808083235.py:2: DtypeWarning: Columns (40,41,42,43,44,45,46,47,48,49,50,51,103,104,105,106,107,108,109,110,111,112,113,114,115,116,117,118,119,120,121,122,148,149,150,151,152,153,154,155,156,157,228) have mixed types. Specify dtype option on import or set low_memory=False.\n",
      "  grd_y_pabellon = pd.read_csv(\"../data/raw/5_grd_y_pabellon/df_procesada_grd_y_pabellon.csv\")\n"
     ]
    }
   ],
   "source": [
    "# Lee la base de GRD unida con Pabellon\n",
    "grd_y_pabellon = pd.read_csv(\"../data/raw/5_grd_y_pabellon/df_procesada_grd_y_pabellon.csv\")\n",
    "grd_y_pabellon[\"t_total\"] = pd.to_timedelta(grd_y_pabellon[\"t_total\"].str.split(\" \").str[1])"
   ]
  },
  {
   "cell_type": "code",
   "execution_count": 28,
   "metadata": {},
   "outputs": [],
   "source": [
    "# Filtra solamente los diagnosticos que aportan a quirurgico\n",
    "grd_y_pabellon_relevantes = grd_y_pabellon.query(\n",
    "    \"diagnostico_1.isin(@diagnosticos_a_buscar_en_quir)\"\n",
    ").copy()"
   ]
  },
  {
   "cell_type": "markdown",
   "metadata": {},
   "source": [
    "## Reasginar diagnosticos"
   ]
  },
  {
   "cell_type": "code",
   "execution_count": 29,
   "metadata": {},
   "outputs": [],
   "source": [
    "for row in diagnosticos_a_reasignar.itertuples():\n",
    "    diagnostico_nuevo = row[0]\n",
    "    diagnosticos_antiguos = row[1]\n",
    "\n",
    "    print(f\"Cambiando {diagnosticos_antiguos} a {diagnostico_nuevo}\")\n",
    "    diagnosticos_cambiados = grd_y_pabellon_relevantes[\"diag_01_principal_cod\"].replace(\n",
    "        diagnosticos_antiguos, diagnostico_nuevo\n",
    "    )\n",
    "    grd_y_pabellon_relevantes[\"diag_01_principal_cod\"] = diagnosticos_cambiados"
   ]
  },
  {
   "cell_type": "markdown",
   "metadata": {},
   "source": [
    "## Obtener tiempos quirurgicos"
   ]
  },
  {
   "cell_type": "code",
   "execution_count": 30,
   "metadata": {},
   "outputs": [],
   "source": [
    "# Obtiene el resumen de duraciones de las int. q por diagnostico acumuladas\n",
    "tiempos_quir = grd_y_pabellon_relevantes.groupby([\"diagnostico_1\"])[\"t_total\"].describe()[\n",
    "    \"75%\"\n",
    "]"
   ]
  },
  {
   "cell_type": "code",
   "execution_count": 34,
   "metadata": {},
   "outputs": [
    {
     "name": "stdout",
     "output_type": "stream",
     "text": [
      "Tiempo utilizado en pabellón calculado (en horas):\n",
      "+-------------+------+------+------+------+------+------+------+------+------+------+------+------+------+------+------+------+------+------+------+\n",
      "| Diagnostico | 2017 | 2018 | 2019 | 2020 | 2021 | 2022 | 2023 | 2024 | 2025 | 2026 | 2027 | 2028 | 2029 | 2030 | 2031 | 2032 | 2033 | 2034 | 2035 |\n",
      "+-------------+------+------+------+------+------+------+------+------+------+------+------+------+------+------+------+------+------+------+------+\n",
      "+-------------+------+------+------+------+------+------+------+------+------+------+------+------+------+------+------+------+------+------+------+\n",
      "\n",
      "Horas laborales por año calculadas:\n",
      "+---+-------+--------------------------------------------+\n",
      "|   | fecha | horas_laborales_funcionamiento_de_12_horas |\n",
      "+---+-------+--------------------------------------------+\n",
      "| 0 | 2017  |                    2976                    |\n",
      "| 1 | 2018  |                    2964                    |\n",
      "| 2 | 2019  |                    2988                    |\n",
      "| 3 | 2020  |                    3024                    |\n",
      "| 4 | 2021  |                    3012                    |\n",
      "+---+-------+--------------------------------------------+\n",
      "\n",
      "Cantidad de pabellones necesarios calculada:\n",
      "+-------------+------+------+------+------+------+------+------+------+------+------+------+------+------+------+------+------+------+------+------+\n",
      "| Diagnostico | 2017 | 2018 | 2019 | 2020 | 2021 | 2022 | 2023 | 2024 | 2025 | 2026 | 2027 | 2028 | 2029 | 2030 | 2031 | 2032 | 2033 | 2034 | 2035 |\n",
      "+-------------+------+------+------+------+------+------+------+------+------+------+------+------+------+------+------+------+------+------+------+\n",
      "+-------------+------+------+------+------+------+------+------+------+------+------+------+------+------+------+------+------+------+------+------+\n",
      "\n"
     ]
    }
   ],
   "source": [
    "# Calcular tiempo utilizado en pabellón en horas\n",
    "tiempo_utilizado_pabellon_horas = pb.calcular_tiempo_utilizado_pabellon(\n",
    "    casos_quirurgicos[ANIOS_INTERES],\n",
    "    tiempos_quir,\n",
    ")\n",
    "\n",
    "# Calcular horas laborales\n",
    "horas_laborales = features.calcular_horas_laborales(ANIO_INICIO, ANIO_TERMINO, 12)\n",
    "\n",
    "# Calcular cantidad de pabellones necesarios\n",
    "cantidad_de_pabellones_necesarios = pb.calcular_cantidad_de_pabellones_necesarios(\n",
    "    tiempo_utilizado_pabellon_horas, horas_laborales\n",
    ")\n",
    "\n",
    "# Obtiene la suma total de pabellones\n",
    "suma_total_pabellones = cantidad_de_pabellones_necesarios.sum()"
   ]
  },
  {
   "cell_type": "code",
   "execution_count": 35,
   "metadata": {},
   "outputs": [
    {
     "name": "stdout",
     "output_type": "stream",
     "text": [
      "> Pabellones 2035: 0.00\n"
     ]
    }
   ],
   "source": [
    "print(f\"> Pabellones 2035: {suma_total_pabellones['2035']:.2f}\")"
   ]
  },
  {
   "cell_type": "markdown",
   "metadata": {},
   "source": [
    "## Complicaciones"
   ]
  },
  {
   "cell_type": "code",
   "execution_count": null,
   "metadata": {},
   "outputs": [],
   "source": [
    "# Define las complicaciones a buscar\n",
    "a_buscar_operaciones = {\n",
    "    \"ecmo\": r\"ECMO\",\n",
    "    \"trasplantes\": r\"TRASPLANTE|TRANSPLANTE\",\n",
    "    \"aseos\": r\"ASEO\",\n",
    "    \"drenajes\": r\"DRENAJE\",\n",
    "    \"traqueostomias\": r\"TRAQUEOSTOMIA|TRAQUEOSTOMÍA\",\n",
    "    \"reintervenciones_reoperaciones\": r\"REINTERVENCION|REOPERACION|REINTERVENCIÓN|REOPERACIÓN\",\n",
    "}\n",
    "\n",
    "# Define los diagnosticos que son complicaciones\n",
    "a_buscar_diagnosticos = {\n",
    "    \"empiemas\": r\"EMPIEMA\",\n",
    "    \"rupturas\": r\"ANEURISMA\",\n",
    "}\n",
    "\n",
    "# Busca los nombres de las operaciones en la base de pabellon\n",
    "resultados_operaciones = pb.iterar_en_complicaciones_a_buscar(\n",
    "    grd_y_pabellon, a_buscar_operaciones, \"intervencion_quirurgica\"\n",
    ")\n",
    "\n",
    "# Busca los diagnosticos en el primer diagnostico y segundo\n",
    "resultados_diagnosticos = pb.iterar_en_complicaciones_a_buscar(\n",
    "    grd_y_pabellon, a_buscar_diagnosticos, \"diagnostico\"\n",
    ")\n",
    "\n",
    "# Obtiene resumen de complicaciones\n",
    "resumen_complicaciones = pd.concat([resultados_operaciones, resultados_diagnosticos])"
   ]
  },
  {
   "cell_type": "code",
   "execution_count": null,
   "metadata": {},
   "outputs": [],
   "source": [
    "# Obtiene los casos por especialidad por anio\n",
    "casos_especialidad_desglosado = casos_macroproceso.query(\n",
    "    \"tipo_paciente == 'CV' or tipo_paciente == 'CT'\"\n",
    ")\n",
    "casos_especialidad = casos_especialidad_desglosado.groupby(\"tipo_paciente\")[ANIOS_INTERES].sum()"
   ]
  },
  {
   "cell_type": "code",
   "execution_count": null,
   "metadata": {},
   "outputs": [
    {
     "name": "stdout",
     "output_type": "stream",
     "text": [
      "Cantidad de pabellones necesarios calculada:\n",
      "+--------------------+------------------------+------------------------+------------------------+------------------------+----------------------+------------------------+------------------------+-----------------------+------------------------+------------------------+----------------------+------------------------+------------------------+------------------------+------------------------+------------------------+------------------------+------------------------+------------------------+\n",
      "|                    |          2017          |          2018          |          2019          |          2020          |         2021         |          2022          |          2023          |         2024          |          2025          |          2026          |         2027         |          2028          |          2029          |          2030          |          2031          |          2032          |          2033          |          2034          |          2035          |\n",
      "+--------------------+------------------------+------------------------+------------------------+------------------------+----------------------+------------------------+------------------------+-----------------------+------------------------+------------------------+----------------------+------------------------+------------------------+------------------------+------------------------+------------------------+------------------------+------------------------+------------------------+\n",
      "|  ('aseos', 'CT')   |  0.037009138422366056  |  0.037548873561378746  |  0.03839215573224164   |  0.03930678383594047   | 0.03984290126849878  |  0.04014076653601345   |  0.040372853753819486  |  0.0405842869349005   |   0.0407810512248683   |   0.0409559607990074   | 0.04111139113124312  |  0.041249477124276054  |  0.041379891063519685  |  0.04150904319081391   |  0.04168739833934349   |  0.04179433497077446   |  0.04188417165384684   |  0.04197136921286555   |  0.042065114603376086  |\n",
      "|  ('aseos', 'CV')   |  0.04716219382356992   |  0.048016691695759596  |  0.049044574588293845  |  0.050095727014445236  | 0.05075319343739752  |   0.0511990624317315   |  0.051605417471400454  | 0.052009699470858206  |  0.05240144637734615   |  0.05277810740976215   | 0.05312832127092063  |  0.053458180701278266  |  0.053783312849882504  |  0.05410866766117008   |  0.054444544677390995  |  0.05471713897884097   |  0.054962904471434454  |  0.05520309335118425   |  0.05544722090393638   |\n",
      "| ('drenajes', 'CT') |  0.004325392364922237  | 0.0043884731700661655  |  0.004487030618815658  |  0.004593926525749043  | 0.004656584516405968 |  0.004691397111586654  |  0.004718521987298115  | 0.0047432329507553495 |  0.004766229507654416  | 0.0047866718245735415  | 0.004804837531774215 | 0.0048209761430855645  |  0.004836218093618051  | 0.0048513125716071566  | 0.0048721575853140605  |  0.004884655657650771  |  0.004895155196943368  |  0.004905346292226786  |  0.004916302656347822  |\n",
      "| ('drenajes', 'CV') |  0.014460287575662027  |  0.014722283126820607  |  0.01503743984484251   |  0.015359731178974797  | 0.01556131538819961  |  0.015698022215351454  |  0.015822613763264062  |  0.01594656970127009  |  0.016066682284367535  |  0.016182169423656613  | 0.01628954765894989  |  0.01639068507084297   |  0.01649037306217133   |  0.016590129323573052  |  0.016693111773091393  |  0.016776691260619057  |  0.01685204483115842   |  0.016925688569756573  |  0.017000539935474308  |\n",
      "|   ('ecmo', 'CT')   | 0.00010205222610987528 | 0.00010354053885621846 | 0.00010586587866266763 | 0.00010838795396687327 | 0.000109866290933943 | 0.00011068765060147159 | 0.00011132762813778614 | 0.0001119106524318706 | 0.00011245322744619362 | 0.00011293553836102873 | 0.00011336413551528  | 0.00011374490587592213 | 0.00011410452064627855 | 0.00011446065598635512 | 0.00011495246802849392 | 0.00011524734442267472 | 0.00011549506792785257 | 0.00011573551408221793 | 0.00011599401579819123 |\n",
      "+--------------------+------------------------+------------------------+------------------------+------------------------+----------------------+------------------------+------------------------+-----------------------+------------------------+------------------------+----------------------+------------------------+------------------------+------------------------+------------------------+------------------------+------------------------+------------------------+------------------------+\n",
      "\n"
     ]
    }
   ],
   "source": [
    "# Une los datos de complicaciones y los casos de especialidad\n",
    "casos_complicaciones = (\n",
    "    casos_especialidad.merge(\n",
    "        resumen_complicaciones[[\"fraccion\", \"tiempo_operacion_75%\", \"complicacion\"]],\n",
    "        how=\"left\",\n",
    "        left_index=True,\n",
    "        right_index=True,\n",
    "    )\n",
    "    .reset_index()\n",
    "    .sort_values([\"complicacion\", \"tipo_paciente\"])\n",
    "    .set_index([\"complicacion\", \"tipo_paciente\"])\n",
    ")\n",
    "\n",
    "# Agrega tiempos de limpieza de pabellones\n",
    "casos_complicaciones[\"tiempo_operacion_75%\"] = casos_complicaciones[\n",
    "    \"tiempo_operacion_75%\"\n",
    "] + pd.Timedelta(\"30 minutes\")\n",
    "\n",
    "# Obtiene los casos de complicaciones\n",
    "casos_complicaciones[ANIOS_INTERES] = casos_complicaciones[ANIOS_INTERES].mul(\n",
    "    casos_complicaciones[\"fraccion\"], axis=0\n",
    ")\n",
    "\n",
    "# Indica la cantidad de trasplantes\n",
    "CASOS_TRASPLANTES = 38\n",
    "casos_complicaciones.loc[(\"trasplantes\", \"CV\"), ANIOS_INTERES] = CASOS_TRASPLANTES\n",
    "\n",
    "# Obtiene el tiempo de pabellon por las complicaciones\n",
    "tiempo_utilizado_pabellon_complicaciones_horas = (\n",
    "    casos_complicaciones[ANIOS_INTERES]\n",
    "    .mul(casos_complicaciones[\"tiempo_operacion_75%\"], axis=0)\n",
    "    .apply(lambda x: x.dt.total_seconds() / 3600)\n",
    ")\n",
    "\n",
    "# Indica las horas para pabellon de emergencia\n",
    "horas_pabellon_emergencia = {str(anio): 365.25 * 24 for anio in range(ANIO_INICIO, ANIO_TERMINO + 1)}\n",
    "horas_pabellon_emergencia = pd.Series(horas_pabellon_emergencia)\n",
    "\n",
    "# Divide por las horas laborales\n",
    "pabellones_por_complicaciones = pb.calcular_cantidad_de_pabellones_necesarios(\n",
    "    tiempo_utilizado_pabellon_complicaciones_horas, horas_pabellon_emergencia\n",
    ")\n",
    "\n",
    "# # Obtiene los pabellones de emergencia por anio\n",
    "suma_total_pabellones_complicaciones = pabellones_por_complicaciones.sum()"
   ]
  },
  {
   "cell_type": "code",
   "execution_count": null,
   "metadata": {},
   "outputs": [
    {
     "name": "stdout",
     "output_type": "stream",
     "text": [
      "> Pabellones de Emergencia 2035: 0.49\n"
     ]
    }
   ],
   "source": [
    "print(f\"> Pabellones de Emergencia 2035: {suma_total_pabellones_complicaciones['2035']:.2f}\")"
   ]
  },
  {
   "cell_type": "code",
   "execution_count": null,
   "metadata": {},
   "outputs": [],
   "source": [
    "# Carga el resumen de area de estudio para MINSAL\n",
    "resumen_area_de_estudio_minsal = (\n",
    "    pd.read_excel(\n",
    "        \"../data/interim/casos_teoricos_diagnosticos.xlsx\", sheet_name=\"resumen_total_INT\"\n",
    "    )\n",
    "    .sort_values(\"Diagnostico\")\n",
    ")\n",
    "resumen_area_de_estudio_minsal[\"diagnostico_separado\"] = (\n",
    "    resumen_area_de_estudio_minsal[\"Diagnostico\"].str.split(\" - \").str[0]\n",
    ")\n",
    "resumen_area_de_estudio_minsal = resumen_area_de_estudio_minsal.set_index(\"diagnostico_separado\")\n",
    "\n",
    "# Sintetiza informacion de pabellon para el 2035\n",
    "resumen_quirurgicos = pd.DataFrame(\n",
    "    {\n",
    "        \"especialidad_quirurgica\": casos_especialidad_desglosado[\"tipo_paciente\"],\n",
    "        \"casos_quirurgicos_2035\": casos_quirurgicos[\"2035\"],\n",
    "        \"tiempo_quirurgico_75%\": tiempos_quir,\n",
    "        \"horas_pabellon_2035\": tiempo_utilizado_pabellon_horas[\"2035\"],\n",
    "        \"horas_laborales_2035_pabellon_12_hrs\": horas_laborales[\"2035\"],\n",
    "        \"cantidad_de_pabellones\": cantidad_de_pabellones_necesarios[\"2035\"],\n",
    "    }\n",
    ")\n",
    "\n",
    "# Une ambos resumenes segun el diagnostico\n",
    "resumen_minsal = resumen_area_de_estudio_minsal.merge(\n",
    "    resumen_quirurgicos, how=\"inner\", left_index=True, right_index=True\n",
    ")"
   ]
  },
  {
   "cell_type": "code",
   "execution_count": null,
   "metadata": {},
   "outputs": [],
   "source": [
    "a_guardar = {\n",
    "    \"resumen_MINSAL\": resumen_minsal,\n",
    "    \"casos_quirurgicos\": casos_especialidad_desglosado,\n",
    "    \"casos_por_especialidad\": casos_especialidad,\n",
    "    \"casos_complicaciones\": casos_complicaciones,\n",
    "    \"resumen_duraciones_int_q_rel\": tiempos_quir,\n",
    "    \"tiempo_utilizado_pabellon\": tiempo_utilizado_pabellon_horas,\n",
    "    \"horas_laborales_por_anio\": horas_laborales,\n",
    "    \"pabellones_desg\": cantidad_de_pabellones_necesarios,\n",
    "    \"pabellones\": suma_total_pabellones,\n",
    "    \"tiempo_ut_emergencia\": tiempo_utilizado_pabellon_complicaciones_horas,\n",
    "    \"pabellones_desg_emergencia\": pabellones_por_complicaciones,\n",
    "    \"pabellones_emergencia\": suma_total_pabellones_complicaciones,\n",
    "}"
   ]
  },
  {
   "cell_type": "code",
   "execution_count": null,
   "metadata": {},
   "outputs": [],
   "source": [
    "with pd.ExcelWriter(\"../data/interim/2.0_estimacion_pabellones_INT.xlsx\") as file:\n",
    "    for nombre_hoja, df_a_guardar in a_guardar.items():\n",
    "        df_a_guardar.to_excel(file, sheet_name=nombre_hoja)"
   ]
  }
 ],
 "metadata": {
  "kernelspec": {
   "display_name": "proyeccion-rdr",
   "language": "python",
   "name": "python3"
  },
  "language_info": {
   "codemirror_mode": {
    "name": "ipython",
    "version": 3
   },
   "file_extension": ".py",
   "mimetype": "text/x-python",
   "name": "python",
   "nbconvert_exporter": "python",
   "pygments_lexer": "ipython3",
   "version": "3.10.16"
  }
 },
 "nbformat": 4,
 "nbformat_minor": 2
}
