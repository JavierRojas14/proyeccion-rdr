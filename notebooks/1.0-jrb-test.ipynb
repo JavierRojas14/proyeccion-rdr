{
 "cells": [
  {
   "cell_type": "code",
   "execution_count": 2,
   "metadata": {},
   "outputs": [],
   "source": [
    "import sys\n",
    "import os\n",
    "\n",
    "project_root = os.path.abspath('..')\n",
    "if project_root not in sys.path:\n",
    "    sys.path.append(project_root)\n",
    " \n",
    "%load_ext autoreload\n",
    "%autoreload 2"
   ]
  },
  {
   "cell_type": "code",
   "execution_count": 3,
   "metadata": {},
   "outputs": [],
   "source": [
    "import pandas as pd\n",
    "import numpy as np\n",
    "\n",
    "import matplotlib.pyplot as plt\n",
    "\n",
    "plt.rcParams['figure.figsize'] = (12, 6)\n",
    "pd.set_option('display.max_columns', None)"
   ]
  },
  {
   "cell_type": "code",
   "execution_count": null,
   "metadata": {},
   "outputs": [],
   "source": [
    "# Lee el diccionario de regiones\n",
    "diccionario_regiones = (\n",
    "    pd.read_excel(\"../data/external/Esquema_Registro-2023.xlsx\", sheet_name=\"Anexo 2\", header=6)\n",
    "    .iloc[:, 5:9]\n",
    "    .dropna(subset=\"Código Comuna\")\n",
    ")\n",
    "\n",
    "diccionario_regiones[\"Código Comuna\"] = (\n",
    "    diccionario_regiones[\"Código Comuna\"].astype(int).astype(str)\n",
    ")\n",
    "\n",
    "diccionario_regiones = diccionario_regiones[[\"Código Comuna\"]]"
   ]
  },
  {
   "cell_type": "code",
   "execution_count": 9,
   "metadata": {},
   "outputs": [
    {
     "data": {
      "text/html": [
       "<div>\n",
       "<style scoped>\n",
       "    .dataframe tbody tr th:only-of-type {\n",
       "        vertical-align: middle;\n",
       "    }\n",
       "\n",
       "    .dataframe tbody tr th {\n",
       "        vertical-align: top;\n",
       "    }\n",
       "\n",
       "    .dataframe thead th {\n",
       "        text-align: right;\n",
       "    }\n",
       "</style>\n",
       "<table border=\"1\" class=\"dataframe\">\n",
       "  <thead>\n",
       "    <tr style=\"text-align: right;\">\n",
       "      <th></th>\n",
       "      <th>Código Comuna</th>\n",
       "      <th>Nombre Comuna</th>\n",
       "      <th>Código Región</th>\n",
       "      <th>Nombre Región</th>\n",
       "    </tr>\n",
       "  </thead>\n",
       "  <tbody>\n",
       "    <tr>\n",
       "      <th>0</th>\n",
       "      <td>15101</td>\n",
       "      <td>ARICA</td>\n",
       "      <td>15.0</td>\n",
       "      <td>de Arica y Parinacota</td>\n",
       "    </tr>\n",
       "    <tr>\n",
       "      <th>1</th>\n",
       "      <td>15102</td>\n",
       "      <td>CAMARONES</td>\n",
       "      <td>15.0</td>\n",
       "      <td>de Arica y Parinacota</td>\n",
       "    </tr>\n",
       "    <tr>\n",
       "      <th>2</th>\n",
       "      <td>15201</td>\n",
       "      <td>PUTRE</td>\n",
       "      <td>15.0</td>\n",
       "      <td>de Arica y Parinacota</td>\n",
       "    </tr>\n",
       "    <tr>\n",
       "      <th>3</th>\n",
       "      <td>15202</td>\n",
       "      <td>GENERAL LAGOS</td>\n",
       "      <td>15.0</td>\n",
       "      <td>de Arica y Parinacota</td>\n",
       "    </tr>\n",
       "    <tr>\n",
       "      <th>4</th>\n",
       "      <td>1101</td>\n",
       "      <td>IQUIQUE</td>\n",
       "      <td>1.0</td>\n",
       "      <td>de Tarapacá</td>\n",
       "    </tr>\n",
       "    <tr>\n",
       "      <th>...</th>\n",
       "      <td>...</td>\n",
       "      <td>...</td>\n",
       "      <td>...</td>\n",
       "      <td>...</td>\n",
       "    </tr>\n",
       "    <tr>\n",
       "      <th>343</th>\n",
       "      <td>12303</td>\n",
       "      <td>TIMAUKEL</td>\n",
       "      <td>12.0</td>\n",
       "      <td>de Magallanes y de la Antártica Chilena</td>\n",
       "    </tr>\n",
       "    <tr>\n",
       "      <th>344</th>\n",
       "      <td>12401</td>\n",
       "      <td>NATALES</td>\n",
       "      <td>12.0</td>\n",
       "      <td>de Magallanes y de la Antártica Chilena</td>\n",
       "    </tr>\n",
       "    <tr>\n",
       "      <th>345</th>\n",
       "      <td>12402</td>\n",
       "      <td>TORRES DEL PAINE</td>\n",
       "      <td>12.0</td>\n",
       "      <td>de Magallanes y de la Antártica Chilena</td>\n",
       "    </tr>\n",
       "    <tr>\n",
       "      <th>346</th>\n",
       "      <td>88888</td>\n",
       "      <td>Extranjero</td>\n",
       "      <td>88.0</td>\n",
       "      <td>Extranjero</td>\n",
       "    </tr>\n",
       "    <tr>\n",
       "      <th>347</th>\n",
       "      <td>99999</td>\n",
       "      <td>Ignorada</td>\n",
       "      <td>99.0</td>\n",
       "      <td>Ignorada</td>\n",
       "    </tr>\n",
       "  </tbody>\n",
       "</table>\n",
       "<p>348 rows × 4 columns</p>\n",
       "</div>"
      ],
      "text/plain": [
       "    Código Comuna     Nombre Comuna  Código Región  \\\n",
       "0           15101             ARICA           15.0   \n",
       "1           15102         CAMARONES           15.0   \n",
       "2           15201             PUTRE           15.0   \n",
       "3           15202     GENERAL LAGOS           15.0   \n",
       "4            1101           IQUIQUE            1.0   \n",
       "..            ...               ...            ...   \n",
       "343         12303          TIMAUKEL           12.0   \n",
       "344         12401           NATALES           12.0   \n",
       "345         12402  TORRES DEL PAINE           12.0   \n",
       "346         88888        Extranjero           88.0   \n",
       "347         99999          Ignorada           99.0   \n",
       "\n",
       "                               Nombre Región  \n",
       "0                      de Arica y Parinacota  \n",
       "1                      de Arica y Parinacota  \n",
       "2                      de Arica y Parinacota  \n",
       "3                      de Arica y Parinacota  \n",
       "4                                de Tarapacá  \n",
       "..                                       ...  \n",
       "343  de Magallanes y de la Antártica Chilena  \n",
       "344  de Magallanes y de la Antártica Chilena  \n",
       "345  de Magallanes y de la Antártica Chilena  \n",
       "346                               Extranjero  \n",
       "347                                 Ignorada  \n",
       "\n",
       "[348 rows x 4 columns]"
      ]
     },
     "execution_count": 9,
     "metadata": {},
     "output_type": "execute_result"
    }
   ],
   "source": [
    "diccionario_regiones"
   ]
  },
  {
   "cell_type": "code",
   "execution_count": 4,
   "metadata": {},
   "outputs": [],
   "source": [
    "df = pd.read_excel(\n",
    "    \"../data/raw/1_poblacion_ine/censo_2024/DATOS COMUNA PARA POBLACION POR EDAD.xlsx\"\n",
    ")"
   ]
  },
  {
   "cell_type": "code",
   "execution_count": 16,
   "metadata": {},
   "outputs": [],
   "source": [
    "df[\"CÓDIGO COMUNA\"] = df[\"CÓDIGO COMUNA\"].astype(str)\n",
    "df = df.merge(diccionario_regiones, how=\"left\", left_on=\"CÓDIGO COMUNA\", right_on=\"Código Comuna\")"
   ]
  },
  {
   "cell_type": "code",
   "execution_count": 19,
   "metadata": {},
   "outputs": [
    {
     "data": {
      "text/plain": [
       "CÓDIGO COMUNA\n",
       "País    91\n",
       "Name: count, dtype: int64"
      ]
     },
     "execution_count": 19,
     "metadata": {},
     "output_type": "execute_result"
    }
   ],
   "source": [
    "df[df[\"Nombre Región\"].isna()][\"CÓDIGO COMUNA\"].value_counts()"
   ]
  }
 ],
 "metadata": {
  "kernelspec": {
   "display_name": "proyeccion-rdr",
   "language": "python",
   "name": "python3"
  },
  "language_info": {
   "codemirror_mode": {
    "name": "ipython",
    "version": 3
   },
   "file_extension": ".py",
   "mimetype": "text/x-python",
   "name": "python",
   "nbconvert_exporter": "python",
   "pygments_lexer": "ipython3",
   "version": "3.10.17"
  }
 },
 "nbformat": 4,
 "nbformat_minor": 2
}
