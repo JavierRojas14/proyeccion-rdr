{
 "cells": [
  {
   "cell_type": "code",
   "execution_count": 1,
   "metadata": {},
   "outputs": [],
   "source": [
    "import sys\n",
    "import os\n",
    "\n",
    "project_root = os.path.abspath('..')\n",
    "if project_root not in sys.path:\n",
    "    sys.path.append(project_root)\n",
    " \n",
    "%load_ext autoreload\n",
    "%autoreload 2"
   ]
  },
  {
   "cell_type": "code",
   "execution_count": 2,
   "metadata": {},
   "outputs": [],
   "source": [
    "import pandas as pd\n",
    "import numpy as np\n",
    "\n",
    "import matplotlib.pyplot as plt\n",
    "\n",
    "plt.rcParams['figure.figsize'] = (12, 6)\n",
    "pd.set_option('display.max_columns', None)"
   ]
  },
  {
   "cell_type": "code",
   "execution_count": 82,
   "metadata": {},
   "outputs": [],
   "source": [
    "CAMBIO_REGIONES = {\n",
    "    \"Metropolitana de Santiago\": \"Metropolitana de Santiago\",\n",
    "    \"de Valparaíso\": \"Valparaíso\",\n",
    "    \"del Biobío\": \"Biobío\",\n",
    "    \"del Libertador B. O'Higgins\": \"Libertador General Bernardo O'Higgins\",\n",
    "    \"de La Araucanía\": \"La Araucanía\",\n",
    "    \"de Los Lagos\": \"Los Lagos\",\n",
    "    \"del Maule\": \"Maule\",\n",
    "    \"de Ñuble\": \"Ñuble\",\n",
    "    \"de Coquimbo\": \"Coquimbo\",\n",
    "    \"de Los Rios\": \"Los Ríos\",\n",
    "    \"de Magallanes y de la Antártica Chilena\": \"Magallanes y de la Antártica Chilena\",\n",
    "    \"de Aisén del Gral. C. Ibáñez del Campo\": \"Aysén del General Carlos Ibáñez del Campo\",\n",
    "    \"de Antofagasta\": \"Antofagasta\",\n",
    "    \"de Atacama\": \"Atacama\",\n",
    "    \"de Tarapacá\": \"Tarapacá\",\n",
    "    \"de Arica y Parinacota\": \"Arica y Parinacota\",\n",
    "}"
   ]
  },
  {
   "cell_type": "code",
   "execution_count": 9,
   "metadata": {},
   "outputs": [],
   "source": [
    "# Lee el diccionario de regiones\n",
    "diccionario_regiones = (\n",
    "    pd.read_excel(\"../data/external/Esquema_Registro-2023.xlsx\", sheet_name=\"Anexo 2\", header=6)\n",
    "    .iloc[:, 5:9]\n",
    "    .dropna(subset=\"Código Comuna\")\n",
    ")\n",
    "\n",
    "diccionario_regiones[\"Código Comuna\"] = (\n",
    "    diccionario_regiones[\"Código Comuna\"].astype(int).astype(str)\n",
    ")"
   ]
  },
  {
   "cell_type": "code",
   "execution_count": 51,
   "metadata": {},
   "outputs": [],
   "source": [
    "df = pd.read_excel(\n",
    "    \"../data/raw/1_poblacion_ine/censo_2024/DATOS COMUNA PARA POBLACION POR EDAD 25.06.2025.xlsx\"\n",
    ")"
   ]
  },
  {
   "cell_type": "code",
   "execution_count": 52,
   "metadata": {},
   "outputs": [],
   "source": [
    "df[\"CÓDIGO COMUNA\"] = df[\"CÓDIGO COMUNA\"].astype(str)\n",
    "df = df.merge(diccionario_regiones, how=\"left\", left_on=\"CÓDIGO COMUNA\", right_on=\"Código Comuna\")\n",
    "\n",
    "# Elimina el registro del pais\n",
    "df = df.query(\"`NOMBRE COMUNA` != 'PAÍS'\")"
   ]
  },
  {
   "cell_type": "code",
   "execution_count": 53,
   "metadata": {},
   "outputs": [],
   "source": [
    "columnas_hombres = df.columns[df.columns.str.contains(\"HOMBRES\")]\n",
    "columnas_mujeres = df.columns[df.columns.str.contains(\"MUJERES\")]\n",
    "columnas_valores = list(columnas_hombres) + list(columnas_mujeres)"
   ]
  },
  {
   "cell_type": "code",
   "execution_count": 83,
   "metadata": {},
   "outputs": [],
   "source": [
    "# Cambia a formato largo\n",
    "formato_largo_poblacion = pd.melt(\n",
    "    df,\n",
    "    id_vars=[\"Código Región\", \"Nombre Región\", \"Código Comuna\", \"Nombre Comuna\", \"Edad\"],\n",
    "    value_vars=columnas_valores,\n",
    ").rename(columns={\"variable\": \"hombre_mujer\"})\n",
    "\n",
    "\n",
    "# Agrega el valor de hombre y mujer\n",
    "formato_largo_poblacion[[\"hombre_mujer\", \"ano\"]] = formato_largo_poblacion[\n",
    "    \"hombre_mujer\"\n",
    "].str.split(\" \", expand=True)\n",
    "\n",
    "# Cambia a formato antiguo\n",
    "formato_largo_poblacion[\"hombre_mujer\"] = formato_largo_poblacion[\"hombre_mujer\"].replace(\n",
    "    {\"HOMBRES\": \"1\", \"MUJERES\": \"2\"}\n",
    ")\n",
    "\n",
    "# Convierte los datos a formato ancho\n",
    "formato_ancho_poblacion = pd.pivot_table(\n",
    "    formato_largo_poblacion,\n",
    "    index=[\n",
    "        \"Código Región\",\n",
    "        \"Nombre Región\",\n",
    "        \"Código Comuna\",\n",
    "        \"Nombre Comuna\",\n",
    "        \"Edad\",\n",
    "        \"hombre_mujer\",\n",
    "    ],\n",
    "    columns=\"ano\",\n",
    "    values=\"value\",\n",
    "    aggfunc=\"sum\",\n",
    ").reset_index()\n",
    "\n",
    "# Cambia el nombre de las columnas\n",
    "formato_ancho_poblacion = formato_ancho_poblacion.rename(\n",
    "    columns={\"Código Región\": \"Region\", \"Nombre Región\": \"M\", \"Código Comuna\": \"Comuna\"}\n",
    ").reset_index(drop=True)\n",
    "\n",
    "# Cambia las glosas de las regiones\n",
    "formato_ancho_poblacion[\"M\"] = formato_ancho_poblacion[\"M\"].replace(CAMBIO_REGIONES)"
   ]
  },
  {
   "cell_type": "code",
   "execution_count": null,
   "metadata": {},
   "outputs": [],
   "source": []
  }
 ],
 "metadata": {
  "kernelspec": {
   "display_name": "proyeccion-rdr",
   "language": "python",
   "name": "python3"
  },
  "language_info": {
   "codemirror_mode": {
    "name": "ipython",
    "version": 3
   },
   "file_extension": ".py",
   "mimetype": "text/x-python",
   "name": "python",
   "nbconvert_exporter": "python",
   "pygments_lexer": "ipython3",
   "version": "3.10.16"
  }
 },
 "nbformat": 4,
 "nbformat_minor": 2
}
