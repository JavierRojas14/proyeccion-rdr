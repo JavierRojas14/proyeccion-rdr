{
 "cells": [
  {
   "cell_type": "code",
   "execution_count": 240,
   "id": "9c5ca1ef",
   "metadata": {},
   "outputs": [
    {
     "name": "stdout",
     "output_type": "stream",
     "text": [
      "The autoreload extension is already loaded. To reload it, use:\n",
      "  %reload_ext autoreload\n"
     ]
    }
   ],
   "source": [
    "import sys\n",
    "import os\n",
    "\n",
    "project_root = os.path.abspath('..')\n",
    "if project_root not in sys.path:\n",
    "    sys.path.append(project_root)\n",
    " \n",
    "%load_ext autoreload\n",
    "%autoreload 2"
   ]
  },
  {
   "cell_type": "code",
   "execution_count": 241,
   "id": "c59728de",
   "metadata": {},
   "outputs": [],
   "source": [
    "import pandas as pd\n",
    "import numpy as np\n",
    "pd.set_option(\"display.max_columns\", None)\n",
    "\n",
    "from proyeccion_rdr.produccion.a05_unidades_de_apoyo import guardar_dict_en_excel\n",
    "\n",
    "ANIOS_POBLACION = [str(i) for i in range(2017, 2036)]"
   ]
  },
  {
   "cell_type": "code",
   "execution_count": 242,
   "id": "dfefdf03",
   "metadata": {},
   "outputs": [
    {
     "data": {
      "text/html": [
       "<div>\n",
       "<style scoped>\n",
       "    .dataframe tbody tr th:only-of-type {\n",
       "        vertical-align: middle;\n",
       "    }\n",
       "\n",
       "    .dataframe tbody tr th {\n",
       "        vertical-align: top;\n",
       "    }\n",
       "\n",
       "    .dataframe thead th {\n",
       "        text-align: right;\n",
       "    }\n",
       "</style>\n",
       "<table border=\"1\" class=\"dataframe\">\n",
       "  <thead>\n",
       "    <tr style=\"text-align: right;\">\n",
       "      <th></th>\n",
       "      <th></th>\n",
       "      <th>2018</th>\n",
       "      <th>2019</th>\n",
       "      <th>2020</th>\n",
       "      <th>2021</th>\n",
       "      <th>2022</th>\n",
       "    </tr>\n",
       "    <tr>\n",
       "      <th>Edad Incidencia</th>\n",
       "      <th>Estrato</th>\n",
       "      <th></th>\n",
       "      <th></th>\n",
       "      <th></th>\n",
       "      <th></th>\n",
       "      <th></th>\n",
       "    </tr>\n",
       "  </thead>\n",
       "  <tbody>\n",
       "    <tr>\n",
       "      <th>entre_0_y_15</th>\n",
       "      <th>SSMN</th>\n",
       "      <td>148276</td>\n",
       "      <td>155320</td>\n",
       "      <td>153830</td>\n",
       "      <td>151308</td>\n",
       "      <td>153566</td>\n",
       "    </tr>\n",
       "  </tbody>\n",
       "</table>\n",
       "</div>"
      ],
      "text/plain": [
       "                           2018    2019    2020    2021    2022\n",
       "Edad Incidencia Estrato                                        \n",
       "entre_0_y_15    SSMN     148276  155320  153830  151308  153566"
      ]
     },
     "metadata": {},
     "output_type": "display_data"
    }
   ],
   "source": [
    "# Lee la poblacion FONASA\n",
    "ruta_poblaciones = \"../data/interim/0.0_poblaciones_ine_y_fonasa_a_utilizar.xlsx\"\n",
    "poblaciones_fonasa = pd.read_excel(ruta_poblaciones, sheet_name=\"poblacion_FONASA\")\n",
    "\n",
    "# Filtra solamente la poblacion del SSMN y entre 0 y 15 anios (Poblacion que efectivamente\n",
    "# atendieron). Elimina la columna del 2023, ya que esta mal calculada\n",
    "poblaciones_fonasa_ssmn = (\n",
    "    poblaciones_fonasa.query(\"Estrato == 'SSMN' and `Edad Incidencia` == 'entre_0_y_15'\")\n",
    "    .set_index([\"Edad Incidencia\", \"Estrato\"])\n",
    "    .drop(columns=[\"2023\"])\n",
    ")\n",
    "display(poblaciones_fonasa_ssmn)"
   ]
  },
  {
   "cell_type": "code",
   "execution_count": 243,
   "id": "21bc0aed",
   "metadata": {},
   "outputs": [],
   "source": [
    "# Lee la poblacion SSMN extrapolada\n",
    "estratos_interes_0_a_14 = [\"recien_nacidos_vivos\", \"entre_1_y_14\"]\n",
    "estratos_interes_15_a_18 = [\"entre_15_y_18\"]\n",
    "estratos_interes_0_a_18 = [\"recien_nacidos_vivos\", \"entre_1_y_14\", \"entre_15_y_18\"]\n",
    "poblacion_fonasa_extrapolada_ssmn = pd.read_excel(\n",
    "    ruta_poblaciones, sheet_name=\"poblaciones_fonasa_extrapoladas\"\n",
    ").query(\"Estrato == 'SSMN'\")\n",
    "\n",
    "# Extrae solo la poblacion entre 0 y 14 anios\n",
    "poblacion_fonasa_extrapolada_ssmn_0_a_14 = poblacion_fonasa_extrapolada_ssmn.query(\n",
    "    \"`Edad Incidencia`.isin(@estratos_interes_0_a_14)\"\n",
    ")[ANIOS_POBLACION].sum()\n",
    "\n",
    "\n",
    "# Extrae solo la poblacion entre 15 y 18 anios\n",
    "poblacion_fonasa_extrapolada_ssmn_15_a_18 = poblacion_fonasa_extrapolada_ssmn.query(\n",
    "    \"`Edad Incidencia`.isin(@estratos_interes_15_a_18)\"\n",
    ")[ANIOS_POBLACION].sum()\n",
    "\n",
    "# Extrae la poblacion total\n",
    "poblacion_fonasa_extrapolada_ssmn_0_a_18 = poblacion_fonasa_extrapolada_ssmn.query(\n",
    "    \"`Edad Incidencia`.isin(@estratos_interes_0_a_18)\"\n",
    ")\n"
   ]
  },
  {
   "cell_type": "code",
   "execution_count": 244,
   "id": "1cd94e2f",
   "metadata": {},
   "outputs": [],
   "source": [
    "# Lee las consultas de urgencias REM\n",
    "produccion_urgencias_rem = pd.DataFrame(\n",
    "    [\n",
    "        [59, 70, 82, 65, 87, 69, 91, 448, 176, 169],\n",
    "        [1455, 1292, 2133, 2635, 3096, 1499, 5235, 13613, 12473, 12981],\n",
    "        [33159, 28148, 25438, 22907, 27428, 13795, 20488, 29809, 28980, 29070],\n",
    "        [66592, 64954, 63160, 62138, 54425, 21814, 22329, 36763, 37584, 38696],\n",
    "        [4841, 4781, 0, 0, 1, 0, 0, 0, 0, 0],\n",
    "        [3764, 3302, 5514, 11914, 8251, 2476, 1484, 933, 1237, 1250],\n",
    "        [109870, 102547, 96327, 99659, 93288, 39653, 49627, 81566, 80450, 82166],\n",
    "    ],\n",
    "    index=[\"C1\", \"C2\", \"C3\", \"C4\", \"SIN CATEGORIZACION\", \"C5\", \"Total\"],\n",
    "    columns=[\"2015\", \"2016\", \"2017\", \"2018\", \"2019\", \"2020\", \"2021\", \"2022\", \"2023\", \"2024\"],\n",
    ")\n",
    "total_urgencias_rem = produccion_urgencias_rem.loc[\"Total\"]\n",
    "\n",
    "# Obtiene el porcentaje de cada categoria respecto al total\n",
    "porcentaje_categorizacion_rem = produccion_urgencias_rem / produccion_urgencias_rem.iloc[-1]"
   ]
  },
  {
   "cell_type": "code",
   "execution_count": 245,
   "id": "39c8dedb",
   "metadata": {},
   "outputs": [],
   "source": [
    "# Obtiene la proporcion de urgencias y poblacion\n",
    "proporcion_urgencias_y_poblacion = total_urgencias_rem / poblaciones_fonasa_ssmn"
   ]
  },
  {
   "cell_type": "code",
   "execution_count": 246,
   "id": "3d76ba73",
   "metadata": {},
   "outputs": [],
   "source": [
    "# Selecciona la cantidad de urgenicas por personas.\n",
    "# De 15 a 18 fue criterio de experto - Dr Tapia\n",
    "anio_maximo = proporcion_urgencias_y_poblacion.idxmax(axis=1).iloc[0]\n",
    "factor_urgencias_0_a_14 = proporcion_urgencias_y_poblacion[anio_maximo].iloc[0]\n",
    "factor_urgencias_15_a_18 = 1.3\n",
    "\n",
    "# Extrae los factores de categorizacion para proyectar\n",
    "factores_categorizacion = porcentaje_categorizacion_rem[anio_maximo].to_frame()\n",
    "factores_categorizacion[\"criterio_eleccion\"] = \"Maximo de urgencias por persona histórico SSMN\"\n",
    "factores_categorizacion = factores_categorizacion.rename(columns={anio_maximo: \"factor\"})\n",
    "\n",
    "# Consolida los factores de urgencias\n",
    "resumen_factores_elegidos = pd.DataFrame(\n",
    "    index=[\"urgencias_por_pcte_0_a_14\", \"urgencias_por_pcte_15_a_18\"],\n",
    "    columns=[\"factor\", \"criterio_eleccion\"],\n",
    "    data=[\n",
    "        [factor_urgencias_0_a_14, \"Maximo de urgencias por persona histórico SSMN\"],\n",
    "        [factor_urgencias_15_a_18, \"Criterio Experto - Dr Tapia\"],\n",
    "    ],\n",
    ")\n",
    "\n",
    "# Concatena factores de categorizacion a las variables\n",
    "resumen_factores_elegidos = pd.concat([resumen_factores_elegidos, factores_categorizacion])"
   ]
  },
  {
   "cell_type": "code",
   "execution_count": 247,
   "id": "c6eee22d",
   "metadata": {},
   "outputs": [
    {
     "name": "stdout",
     "output_type": "stream",
     "text": [
      "Total consultas urgencia proyectadas 2035: 165838.04\n"
     ]
    }
   ],
   "source": [
    "# Define cuantas consultas habran por grupo etario\n",
    "consultas_0_a_15 = poblacion_fonasa_extrapolada_ssmn_0_a_14 * factor_urgencias_0_a_14\n",
    "consultas_15_a_18 = poblacion_fonasa_extrapolada_ssmn_15_a_18 * factor_urgencias_15_a_18\n",
    "\n",
    "# Define el total de consultas\n",
    "total_consultas = (consultas_0_a_15 + consultas_15_a_18).to_frame(\n",
    "    name=\"Total Consultas Urgencia Proyectadas\"\n",
    ")\n",
    "\n",
    "print(f\"Total consultas urgencia proyectadas 2035: {total_consultas.loc['2035'].iloc[0]:.2f}\")"
   ]
  },
  {
   "cell_type": "code",
   "execution_count": 258,
   "id": "1c688f8e",
   "metadata": {},
   "outputs": [],
   "source": [
    "consultas_c1 = (\n",
    "    total_consultas[\"Total Consultas Urgencia Proyectadas\"]\n",
    "    * factores_categorizacion.loc[\"C1\", \"factor\"]\n",
    ")\n",
    "consultas_c2 = (\n",
    "    total_consultas[\"Total Consultas Urgencia Proyectadas\"]\n",
    "    * factores_categorizacion.loc[\"C2\", \"factor\"]\n",
    ")\n",
    "consultas_c3 = (\n",
    "    total_consultas[\"Total Consultas Urgencia Proyectadas\"]\n",
    "    * factores_categorizacion.loc[\"C3\", \"factor\"]\n",
    ")\n",
    "consultas_c4 = (\n",
    "    total_consultas[\"Total Consultas Urgencia Proyectadas\"]\n",
    "    * factores_categorizacion.loc[\"C4\", \"factor\"]\n",
    ")\n",
    "consultas_sc = (\n",
    "    total_consultas[\"Total Consultas Urgencia Proyectadas\"]\n",
    "    * factores_categorizacion.loc[\"SIN CATEGORIZACION\", \"factor\"]\n",
    ")\n",
    "consultas_c5 = (\n",
    "    total_consultas[\"Total Consultas Urgencia Proyectadas\"]\n",
    "    * factores_categorizacion.loc[\"C5\", \"factor\"]\n",
    ")\n",
    "\n",
    "total_categorizacion = pd.DataFrame(\n",
    "    {\n",
    "        \"C1\": consultas_c1,\n",
    "        \"C2\": consultas_c2,\n",
    "        \"C3\": consultas_c3,\n",
    "        \"C4\": consultas_c4,\n",
    "        \"SIN CATEGORIZACION\": consultas_sc,\n",
    "        \"C5\": consultas_c5,\n",
    "    }\n",
    ")"
   ]
  },
  {
   "cell_type": "markdown",
   "id": "600b3b5e",
   "metadata": {},
   "source": [
    "## Resumen MINSAL"
   ]
  },
  {
   "cell_type": "code",
   "execution_count": 248,
   "id": "1229e05f",
   "metadata": {},
   "outputs": [],
   "source": [
    "datos_a_guardar = {\n",
    "    \"Proyeccion Urgencias RDR\": {\n",
    "        \"poblaciones_FONASA_2018_a_2022\": poblaciones_fonasa_ssmn.reset_index(),\n",
    "        \"consultas_REM_urgencia\": produccion_urgencias_rem.reset_index(),\n",
    "        \"factores_urgencias_por_pcte_0_a_14\": proporcion_urgencias_y_poblacion.reset_index(),\n",
    "        \"factores_urgencias_elegidos\": resumen_factores_elegidos.reset_index(),\n",
    "        \"poblaciones_FONASA_extrapoladas\": poblacion_fonasa_extrapolada_ssmn_0_a_18.reset_index(),\n",
    "        \"consultas_urgencia_proyectadas\": total_consultas.reset_index(),\n",
    "    },\n",
    "}"
   ]
  },
  {
   "cell_type": "code",
   "execution_count": 249,
   "id": "e528971c",
   "metadata": {},
   "outputs": [],
   "source": [
    "ruta_archivo = \"../data/interim/5.0_estimacion_consultas_urgencia.xlsx\"\n",
    "guardar_dict_en_excel(ruta_archivo, datos_a_guardar, espacio_filas=3)"
   ]
  }
 ],
 "metadata": {
  "kernelspec": {
   "display_name": "proyeccion-rdr",
   "language": "python",
   "name": "python3"
  },
  "language_info": {
   "codemirror_mode": {
    "name": "ipython",
    "version": 3
   },
   "file_extension": ".py",
   "mimetype": "text/x-python",
   "name": "python",
   "nbconvert_exporter": "python",
   "pygments_lexer": "ipython3",
   "version": "3.10.16"
  }
 },
 "nbformat": 4,
 "nbformat_minor": 5
}
