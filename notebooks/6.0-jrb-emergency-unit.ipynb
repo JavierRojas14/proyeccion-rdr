{
 "cells": [
  {
   "cell_type": "code",
   "execution_count": null,
   "id": "9c5ca1ef",
   "metadata": {},
   "outputs": [],
   "source": [
    "import sys\n",
    "import os\n",
    "\n",
    "project_root = os.path.abspath('..')\n",
    "if project_root not in sys.path:\n",
    "    sys.path.append(project_root)\n",
    " \n",
    "%load_ext autoreload\n",
    "%autoreload 2"
   ]
  },
  {
   "cell_type": "code",
   "execution_count": 1,
   "id": "c59728de",
   "metadata": {},
   "outputs": [],
   "source": [
    "import pandas as pd\n",
    "import numpy as np\n",
    "pd.set_option(\"display.max_columns\", None)\n",
    "\n",
    "ANIOS_POBLACION = [str(i) for i in range(2017, 2036)]"
   ]
  },
  {
   "cell_type": "code",
   "execution_count": null,
   "id": "fb2cc6fc",
   "metadata": {},
   "outputs": [
    {
     "name": "stderr",
     "output_type": "stream",
     "text": [
      "C:\\Users\\jarojas\\AppData\\Local\\Temp\\ipykernel_18660\\3913763877.py:1: DtypeWarning: Columns (16,34,35,36,37,38,39,40,41,42,43) have mixed types. Specify dtype option on import or set low_memory=False.\n",
      "  df = pd.read_csv(\"../data/raw/9_urgencias/df_procesada_urgencia.csv\", dtype={\"id_paciente\": str})\n"
     ]
    }
   ],
   "source": [
    "# Lee la base de urgencias\n",
    "ruta_urgencias = \"../data/raw/9_urgencias/df_procesada_urgencia.csv\"\n",
    "df = pd.read_csv(ruta_urgencias, dtype={\"id_paciente\": str})"
   ]
  },
  {
   "cell_type": "code",
   "execution_count": 38,
   "id": "dfefdf03",
   "metadata": {},
   "outputs": [],
   "source": [
    "poblaciones_fonasa = pd.read_excel(\n",
    "    \"../data/interim/0.0_poblaciones_ine_y_fonasa_a_utilizar.xlsx\", sheet_name=\"poblacion_FONASA\"\n",
    ")\n",
    "\n",
    "# Filtra solamente la poblacion del SSMN y entre 0 y 15 anios (Poblacion que efectivamente \n",
    "# atendieron)\n",
    "poblaciones_fonasa_ssmn = poblaciones_fonasa.query(\n",
    "    \"Estrato == 'SSMN' and `Edad Incidencia` == 'entre_0_y_15'\"\n",
    ")"
   ]
  },
  {
   "cell_type": "code",
   "execution_count": 44,
   "id": "1cd94e2f",
   "metadata": {},
   "outputs": [],
   "source": [
    "produccion_urgencias_rem = pd.DataFrame(\n",
    "    [\n",
    "        [59, 70, 82, 65, 87, 69, 91, 448, 176, 169],\n",
    "        [1455, 1292, 2133, 2635, 3096, 1499, 5235, 13613, 12473, 12981],\n",
    "        [33159, 28148, 25438, 22907, 27428, 13795, 20488, 29809, 28980, 29070],\n",
    "        [66592, 64954, 63160, 62138, 54425, 21814, 22329, 36763, 37584, 38696],\n",
    "        [4841, 4781, 0, 0, 1, 0, 0, 0, 0, 0],\n",
    "        [3764, 3302, 5514, 11914, 8251, 2476, 1484, 933, 1237, 1250],\n",
    "        [109870, 102547, 96327, 99659, 93288, 39653, 49627, 81566, 80450, 82166],\n",
    "    ],\n",
    "    index=[\"C1\", \"C2\", \"C3\", \"C4\", \"SC\", \"C5\", \"Total\"],\n",
    "    columns=[\"2015\", \"2016\",\" 2017\", \"2018\", \"2019\", \"2020\", \"2021\", \"2022\", \"2023\", \"2024\"]\n",
    ")"
   ]
  }
 ],
 "metadata": {
  "kernelspec": {
   "display_name": "proyeccion-rdr",
   "language": "python",
   "name": "python3"
  },
  "language_info": {
   "codemirror_mode": {
    "name": "ipython",
    "version": 3
   },
   "file_extension": ".py",
   "mimetype": "text/x-python",
   "name": "python",
   "nbconvert_exporter": "python",
   "pygments_lexer": "ipython3",
   "version": "3.10.17"
  }
 },
 "nbformat": 4,
 "nbformat_minor": 5
}
