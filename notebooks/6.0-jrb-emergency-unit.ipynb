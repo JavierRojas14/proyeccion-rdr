{
 "cells": [
  {
   "cell_type": "code",
   "execution_count": 8,
   "id": "9c5ca1ef",
   "metadata": {},
   "outputs": [
    {
     "name": "stdout",
     "output_type": "stream",
     "text": [
      "The autoreload extension is already loaded. To reload it, use:\n",
      "  %reload_ext autoreload\n"
     ]
    }
   ],
   "source": [
    "import sys\n",
    "import os\n",
    "\n",
    "project_root = os.path.abspath('..')\n",
    "if project_root not in sys.path:\n",
    "    sys.path.append(project_root)\n",
    " \n",
    "%load_ext autoreload\n",
    "%autoreload 2"
   ]
  },
  {
   "cell_type": "code",
   "execution_count": 9,
   "id": "c59728de",
   "metadata": {},
   "outputs": [],
   "source": [
    "import pandas as pd\n",
    "import numpy as np\n",
    "pd.set_option(\"display.max_columns\", None)\n",
    "\n",
    "ANIOS_POBLACION = [str(i) for i in range(2017, 2036)]"
   ]
  },
  {
   "cell_type": "code",
   "execution_count": 10,
   "id": "dfefdf03",
   "metadata": {},
   "outputs": [
    {
     "data": {
      "text/html": [
       "<div>\n",
       "<style scoped>\n",
       "    .dataframe tbody tr th:only-of-type {\n",
       "        vertical-align: middle;\n",
       "    }\n",
       "\n",
       "    .dataframe tbody tr th {\n",
       "        vertical-align: top;\n",
       "    }\n",
       "\n",
       "    .dataframe thead th {\n",
       "        text-align: right;\n",
       "    }\n",
       "</style>\n",
       "<table border=\"1\" class=\"dataframe\">\n",
       "  <thead>\n",
       "    <tr style=\"text-align: right;\">\n",
       "      <th></th>\n",
       "      <th></th>\n",
       "      <th>2018</th>\n",
       "      <th>2019</th>\n",
       "      <th>2020</th>\n",
       "      <th>2021</th>\n",
       "      <th>2022</th>\n",
       "    </tr>\n",
       "    <tr>\n",
       "      <th>Edad Incidencia</th>\n",
       "      <th>Estrato</th>\n",
       "      <th></th>\n",
       "      <th></th>\n",
       "      <th></th>\n",
       "      <th></th>\n",
       "      <th></th>\n",
       "    </tr>\n",
       "  </thead>\n",
       "  <tbody>\n",
       "    <tr>\n",
       "      <th>entre_0_y_15</th>\n",
       "      <th>SSMN</th>\n",
       "      <td>148276</td>\n",
       "      <td>155320</td>\n",
       "      <td>153830</td>\n",
       "      <td>151308</td>\n",
       "      <td>153566</td>\n",
       "    </tr>\n",
       "  </tbody>\n",
       "</table>\n",
       "</div>"
      ],
      "text/plain": [
       "                           2018    2019    2020    2021    2022\n",
       "Edad Incidencia Estrato                                        \n",
       "entre_0_y_15    SSMN     148276  155320  153830  151308  153566"
      ]
     },
     "metadata": {},
     "output_type": "display_data"
    }
   ],
   "source": [
    "# Lee la poblacion FONASA\n",
    "ruta_poblaciones = \"../data/interim/0.0_poblaciones_ine_y_fonasa_a_utilizar.xlsx\"\n",
    "poblaciones_fonasa = pd.read_excel(ruta_poblaciones, sheet_name=\"poblacion_FONASA\")\n",
    "\n",
    "# Filtra solamente la poblacion del SSMN y entre 0 y 15 anios (Poblacion que efectivamente\n",
    "# atendieron). Elimina la columna del 2023, ya que esta mal calculada\n",
    "poblaciones_fonasa_ssmn = (\n",
    "    poblaciones_fonasa.query(\"Estrato == 'SSMN' and `Edad Incidencia` == 'entre_0_y_15'\")\n",
    "    .set_index([\"Edad Incidencia\", \"Estrato\"])\n",
    "    .drop(columns=[\"2023\"])\n",
    ")\n",
    "display(poblaciones_fonasa_ssmn)"
   ]
  },
  {
   "cell_type": "code",
   "execution_count": 35,
   "id": "21bc0aed",
   "metadata": {},
   "outputs": [],
   "source": [
    "# Lee la poblacion SSMN extrapolada\n",
    "estratos_interes_0_a_14 = [\"recien_nacidos_vivos\", \"entre_1_y_14\"]\n",
    "estratos_interes_15_a_18 = [\"entre_15\"]\n",
    "poblacion_fonasa_extrapolada_ssmn = pd.read_excel(\n",
    "    ruta_poblaciones, sheet_name=\"poblaciones_fonasa_extrapoladas\"\n",
    ").query(\"Estrato == 'SSMN'\")\n",
    "\n",
    "# Extrae solo la poblacion entre 0 y 14 anios\n",
    "poblacion_fonasa_extrapolada_ssmn_0_a_14 = poblacion_fonasa_extrapolada_ssmn.query(\n",
    "    \"`Edad Incidencia`.isin(@estratos_interes_0_a_14)\"\n",
    ")[ANIOS_POBLACION].sum()\n",
    "\n",
    "\n",
    "# Extrae solo la poblacion entre 15 y 18 anios\n",
    "poblacion_fonasa_extrapolada_ssmn_15_a_18 = poblacion_fonasa_extrapolada_ssmn.query(\n",
    "    \"`Edad Incidencia`.isin(@estratos_interes_15_a_18)\"\n",
    ")[ANIOS_POBLACION].sum()"
   ]
  },
  {
   "cell_type": "code",
   "execution_count": 42,
   "id": "1cd94e2f",
   "metadata": {},
   "outputs": [],
   "source": [
    "# Lee las consultas de urgencias REM\n",
    "produccion_urgencias_rem = pd.DataFrame(\n",
    "    [\n",
    "        [59, 70, 82, 65, 87, 69, 91, 448, 176, 169],\n",
    "        [1455, 1292, 2133, 2635, 3096, 1499, 5235, 13613, 12473, 12981],\n",
    "        [33159, 28148, 25438, 22907, 27428, 13795, 20488, 29809, 28980, 29070],\n",
    "        [66592, 64954, 63160, 62138, 54425, 21814, 22329, 36763, 37584, 38696],\n",
    "        [4841, 4781, 0, 0, 1, 0, 0, 0, 0, 0],\n",
    "        [3764, 3302, 5514, 11914, 8251, 2476, 1484, 933, 1237, 1250],\n",
    "        [109870, 102547, 96327, 99659, 93288, 39653, 49627, 81566, 80450, 82166],\n",
    "    ],\n",
    "    index=[\"C1\", \"C2\", \"C3\", \"C4\", \"SIN CATEGORIZACION\", \"C5\", \"Total\"],\n",
    "    columns=[\"2015\", \"2016\", \"2017\", \"2018\", \"2019\", \"2020\", \"2021\", \"2022\", \"2023\", \"2024\"]\n",
    ")\n",
    "total_urgencias_rem = produccion_urgencias_rem.loc[\"Total\"]"
   ]
  },
  {
   "cell_type": "code",
   "execution_count": 43,
   "id": "39c8dedb",
   "metadata": {},
   "outputs": [],
   "source": [
    "# Obtiene la proporcion de urgencias y poblacion\n",
    "proporcion_urgencias_y_poblacion = total_urgencias_rem / poblaciones_fonasa_ssmn"
   ]
  },
  {
   "cell_type": "code",
   "execution_count": null,
   "id": "3d76ba73",
   "metadata": {},
   "outputs": [],
   "source": [
    "# Selecciona la cantidad de urgenicas por personas.\n",
    "# De 15 a 18 fue criterio de experto - Dr Tapia\n",
    "factor_urgencias_0_a_14 = proporcion_urgencias_y_poblacion.max(axis=1).iloc[0]\n",
    "factor_urgencias_15_a_18 = 1.3\n",
    "\n",
    "# Consolida los factores de urgencias\n",
    "resumen_factores_elegidos = pd.Series(\n",
    "    index=[\"urgencias_por_pcte_0_a_14\", \"urgencias_por_pcte_15_a_18\"],\n",
    "    data=[factor_urgencias_0_a_14, factor_urgencias_15_a_18],\n",
    ")"
   ]
  },
  {
   "cell_type": "code",
   "execution_count": 45,
   "id": "c6eee22d",
   "metadata": {},
   "outputs": [
    {
     "name": "stdout",
     "output_type": "stream",
     "text": [
      "Total consultas urgencia proyectadas 2035: 111440.18\n"
     ]
    }
   ],
   "source": [
    "# Define cuantas consultas habran por grupo etario\n",
    "consultas_0_a_15 = poblacion_fonasa_extrapolada_ssmn_0_a_14 * factor_urgencias_0_a_14\n",
    "consultas_15_a_18 = poblacion_fonasa_extrapolada_ssmn_15_a_18 * factor_urgencias_15_a_18\n",
    "\n",
    "# Define el total de consultas\n",
    "total_consultas = consultas_0_a_15 + consultas_15_a_18\n",
    "\n",
    "print(f\"Total consultas urgencia proyectadas 2035: {total_consultas['2035']:.2f}\")"
   ]
  },
  {
   "cell_type": "markdown",
   "id": "600b3b5e",
   "metadata": {},
   "source": [
    "## Resumen MINSAL"
   ]
  },
  {
   "cell_type": "code",
   "execution_count": 46,
   "id": "1229e05f",
   "metadata": {},
   "outputs": [
    {
     "data": {
      "text/html": [
       "<div>\n",
       "<style scoped>\n",
       "    .dataframe tbody tr th:only-of-type {\n",
       "        vertical-align: middle;\n",
       "    }\n",
       "\n",
       "    .dataframe tbody tr th {\n",
       "        vertical-align: top;\n",
       "    }\n",
       "\n",
       "    .dataframe thead th {\n",
       "        text-align: right;\n",
       "    }\n",
       "</style>\n",
       "<table border=\"1\" class=\"dataframe\">\n",
       "  <thead>\n",
       "    <tr style=\"text-align: right;\">\n",
       "      <th></th>\n",
       "      <th>2015</th>\n",
       "      <th>2016</th>\n",
       "      <th>2017</th>\n",
       "      <th>2018</th>\n",
       "      <th>2019</th>\n",
       "      <th>2020</th>\n",
       "      <th>2021</th>\n",
       "      <th>2022</th>\n",
       "      <th>2023</th>\n",
       "      <th>2024</th>\n",
       "    </tr>\n",
       "  </thead>\n",
       "  <tbody>\n",
       "    <tr>\n",
       "      <th>C1</th>\n",
       "      <td>59</td>\n",
       "      <td>70</td>\n",
       "      <td>82</td>\n",
       "      <td>65</td>\n",
       "      <td>87</td>\n",
       "      <td>69</td>\n",
       "      <td>91</td>\n",
       "      <td>448</td>\n",
       "      <td>176</td>\n",
       "      <td>169</td>\n",
       "    </tr>\n",
       "    <tr>\n",
       "      <th>C2</th>\n",
       "      <td>1455</td>\n",
       "      <td>1292</td>\n",
       "      <td>2133</td>\n",
       "      <td>2635</td>\n",
       "      <td>3096</td>\n",
       "      <td>1499</td>\n",
       "      <td>5235</td>\n",
       "      <td>13613</td>\n",
       "      <td>12473</td>\n",
       "      <td>12981</td>\n",
       "    </tr>\n",
       "    <tr>\n",
       "      <th>C3</th>\n",
       "      <td>33159</td>\n",
       "      <td>28148</td>\n",
       "      <td>25438</td>\n",
       "      <td>22907</td>\n",
       "      <td>27428</td>\n",
       "      <td>13795</td>\n",
       "      <td>20488</td>\n",
       "      <td>29809</td>\n",
       "      <td>28980</td>\n",
       "      <td>29070</td>\n",
       "    </tr>\n",
       "    <tr>\n",
       "      <th>C4</th>\n",
       "      <td>66592</td>\n",
       "      <td>64954</td>\n",
       "      <td>63160</td>\n",
       "      <td>62138</td>\n",
       "      <td>54425</td>\n",
       "      <td>21814</td>\n",
       "      <td>22329</td>\n",
       "      <td>36763</td>\n",
       "      <td>37584</td>\n",
       "      <td>38696</td>\n",
       "    </tr>\n",
       "    <tr>\n",
       "      <th>SIN CATEGORIZACION</th>\n",
       "      <td>4841</td>\n",
       "      <td>4781</td>\n",
       "      <td>0</td>\n",
       "      <td>0</td>\n",
       "      <td>1</td>\n",
       "      <td>0</td>\n",
       "      <td>0</td>\n",
       "      <td>0</td>\n",
       "      <td>0</td>\n",
       "      <td>0</td>\n",
       "    </tr>\n",
       "    <tr>\n",
       "      <th>C5</th>\n",
       "      <td>3764</td>\n",
       "      <td>3302</td>\n",
       "      <td>5514</td>\n",
       "      <td>11914</td>\n",
       "      <td>8251</td>\n",
       "      <td>2476</td>\n",
       "      <td>1484</td>\n",
       "      <td>933</td>\n",
       "      <td>1237</td>\n",
       "      <td>1250</td>\n",
       "    </tr>\n",
       "    <tr>\n",
       "      <th>Total</th>\n",
       "      <td>109870</td>\n",
       "      <td>102547</td>\n",
       "      <td>96327</td>\n",
       "      <td>99659</td>\n",
       "      <td>93288</td>\n",
       "      <td>39653</td>\n",
       "      <td>49627</td>\n",
       "      <td>81566</td>\n",
       "      <td>80450</td>\n",
       "      <td>82166</td>\n",
       "    </tr>\n",
       "  </tbody>\n",
       "</table>\n",
       "</div>"
      ],
      "text/plain": [
       "                      2015    2016   2017   2018   2019   2020   2021   2022  \\\n",
       "C1                      59      70     82     65     87     69     91    448   \n",
       "C2                    1455    1292   2133   2635   3096   1499   5235  13613   \n",
       "C3                   33159   28148  25438  22907  27428  13795  20488  29809   \n",
       "C4                   66592   64954  63160  62138  54425  21814  22329  36763   \n",
       "SIN CATEGORIZACION    4841    4781      0      0      1      0      0      0   \n",
       "C5                    3764    3302   5514  11914   8251   2476   1484    933   \n",
       "Total               109870  102547  96327  99659  93288  39653  49627  81566   \n",
       "\n",
       "                     2023   2024  \n",
       "C1                    176    169  \n",
       "C2                  12473  12981  \n",
       "C3                  28980  29070  \n",
       "C4                  37584  38696  \n",
       "SIN CATEGORIZACION      0      0  \n",
       "C5                   1237   1250  \n",
       "Total               80450  82166  "
      ]
     },
     "execution_count": 46,
     "metadata": {},
     "output_type": "execute_result"
    }
   ],
   "source": [
    "produccion_urgencias_rem"
   ]
  },
  {
   "cell_type": "code",
   "execution_count": null,
   "id": "e528971c",
   "metadata": {},
   "outputs": [],
   "source": []
  }
 ],
 "metadata": {
  "kernelspec": {
   "display_name": "proyeccion-rdr",
   "language": "python",
   "name": "python3"
  },
  "language_info": {
   "codemirror_mode": {
    "name": "ipython",
    "version": 3
   },
   "file_extension": ".py",
   "mimetype": "text/x-python",
   "name": "python",
   "nbconvert_exporter": "python",
   "pygments_lexer": "ipython3",
   "version": "3.10.16"
  }
 },
 "nbformat": 4,
 "nbformat_minor": 5
}
