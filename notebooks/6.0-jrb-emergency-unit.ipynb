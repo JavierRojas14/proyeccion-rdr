{
 "cells": [
  {
   "cell_type": "code",
   "execution_count": 8,
   "id": "9c5ca1ef",
   "metadata": {},
   "outputs": [
    {
     "name": "stdout",
     "output_type": "stream",
     "text": [
      "The autoreload extension is already loaded. To reload it, use:\n",
      "  %reload_ext autoreload\n"
     ]
    }
   ],
   "source": [
    "import sys\n",
    "import os\n",
    "\n",
    "project_root = os.path.abspath('..')\n",
    "if project_root not in sys.path:\n",
    "    sys.path.append(project_root)\n",
    " \n",
    "%load_ext autoreload\n",
    "%autoreload 2"
   ]
  },
  {
   "cell_type": "code",
   "execution_count": 9,
   "id": "c59728de",
   "metadata": {},
   "outputs": [],
   "source": [
    "import pandas as pd\n",
    "import numpy as np\n",
    "pd.set_option(\"display.max_columns\", None)\n",
    "\n",
    "ANIOS_POBLACION = [str(i) for i in range(2017, 2036)]"
   ]
  },
  {
   "cell_type": "code",
   "execution_count": 10,
   "id": "dfefdf03",
   "metadata": {},
   "outputs": [
    {
     "data": {
      "text/html": [
       "<div>\n",
       "<style scoped>\n",
       "    .dataframe tbody tr th:only-of-type {\n",
       "        vertical-align: middle;\n",
       "    }\n",
       "\n",
       "    .dataframe tbody tr th {\n",
       "        vertical-align: top;\n",
       "    }\n",
       "\n",
       "    .dataframe thead th {\n",
       "        text-align: right;\n",
       "    }\n",
       "</style>\n",
       "<table border=\"1\" class=\"dataframe\">\n",
       "  <thead>\n",
       "    <tr style=\"text-align: right;\">\n",
       "      <th></th>\n",
       "      <th></th>\n",
       "      <th>2018</th>\n",
       "      <th>2019</th>\n",
       "      <th>2020</th>\n",
       "      <th>2021</th>\n",
       "      <th>2022</th>\n",
       "    </tr>\n",
       "    <tr>\n",
       "      <th>Edad Incidencia</th>\n",
       "      <th>Estrato</th>\n",
       "      <th></th>\n",
       "      <th></th>\n",
       "      <th></th>\n",
       "      <th></th>\n",
       "      <th></th>\n",
       "    </tr>\n",
       "  </thead>\n",
       "  <tbody>\n",
       "    <tr>\n",
       "      <th>entre_0_y_15</th>\n",
       "      <th>SSMN</th>\n",
       "      <td>148276</td>\n",
       "      <td>155320</td>\n",
       "      <td>153830</td>\n",
       "      <td>151308</td>\n",
       "      <td>153566</td>\n",
       "    </tr>\n",
       "  </tbody>\n",
       "</table>\n",
       "</div>"
      ],
      "text/plain": [
       "                           2018    2019    2020    2021    2022\n",
       "Edad Incidencia Estrato                                        \n",
       "entre_0_y_15    SSMN     148276  155320  153830  151308  153566"
      ]
     },
     "metadata": {},
     "output_type": "display_data"
    }
   ],
   "source": [
    "# Lee la poblacion FONASA\n",
    "ruta_poblaciones = \"../data/interim/0.0_poblaciones_ine_y_fonasa_a_utilizar.xlsx\"\n",
    "poblaciones_fonasa = pd.read_excel(ruta_poblaciones, sheet_name=\"poblacion_FONASA\")\n",
    "\n",
    "# Filtra solamente la poblacion del SSMN y entre 0 y 15 anios (Poblacion que efectivamente\n",
    "# atendieron). Elimina la columna del 2023, ya que esta mal calculada\n",
    "poblaciones_fonasa_ssmn = (\n",
    "    poblaciones_fonasa.query(\"Estrato == 'SSMN' and `Edad Incidencia` == 'entre_0_y_15'\")\n",
    "    .set_index([\"Edad Incidencia\", \"Estrato\"])\n",
    "    .drop(columns=[\"2023\"])\n",
    ")\n",
    "display(poblaciones_fonasa_ssmn)"
   ]
  },
  {
   "cell_type": "code",
   "execution_count": 35,
   "id": "21bc0aed",
   "metadata": {},
   "outputs": [],
   "source": [
    "# Lee la poblacion SSMN extrapolada\n",
    "estratos_interes_0_a_14 = [\"recien_nacidos_vivos\", \"entre_1_y_14\"]\n",
    "estratos_interes_15_a_18 = [\"entre_15\"]\n",
    "poblacion_fonasa_extrapolada_ssmn = pd.read_excel(\n",
    "    ruta_poblaciones, sheet_name=\"poblaciones_fonasa_extrapoladas\"\n",
    ").query(\"Estrato == 'SSMN'\")\n",
    "\n",
    "# Extrae solo la poblacion entre 0 y 14 anios\n",
    "poblacion_fonasa_extrapolada_ssmn_0_a_14 = poblacion_fonasa_extrapolada_ssmn.query(\n",
    "    \"`Edad Incidencia`.isin(@estratos_interes_0_a_14)\"\n",
    ")[ANIOS_POBLACION].sum()\n",
    "\n",
    "\n",
    "# Extrae solo la poblacion entre 15 y 18 anios\n",
    "poblacion_fonasa_extrapolada_ssmn_15_a_18 = poblacion_fonasa_extrapolada_ssmn.query(\n",
    "    \"`Edad Incidencia`.isin(@estratos_interes_15_a_18)\"\n",
    ")[ANIOS_POBLACION].sum()"
   ]
  },
  {
   "cell_type": "code",
   "execution_count": 22,
   "id": "1cd94e2f",
   "metadata": {},
   "outputs": [],
   "source": [
    "# Lee las consultas de urgencias REM\n",
    "produccion_urgencias_rem = pd.DataFrame(\n",
    "    [\n",
    "        [59, 70, 82, 65, 87, 69, 91, 448, 176, 169],\n",
    "        [1455, 1292, 2133, 2635, 3096, 1499, 5235, 13613, 12473, 12981],\n",
    "        [33159, 28148, 25438, 22907, 27428, 13795, 20488, 29809, 28980, 29070],\n",
    "        [66592, 64954, 63160, 62138, 54425, 21814, 22329, 36763, 37584, 38696],\n",
    "        [4841, 4781, 0, 0, 1, 0, 0, 0, 0, 0],\n",
    "        [3764, 3302, 5514, 11914, 8251, 2476, 1484, 933, 1237, 1250],\n",
    "        [109870, 102547, 96327, 99659, 93288, 39653, 49627, 81566, 80450, 82166],\n",
    "    ],\n",
    "    index=[\"C1\", \"C2\", \"C3\", \"C4\", \"SC\", \"C5\", \"Total\"],\n",
    "    columns=[\"2015\", \"2016\", \"2017\", \"2018\", \"2019\", \"2020\", \"2021\", \"2022\", \"2023\", \"2024\"]\n",
    ")\n",
    "total_urgencias_rem = produccion_urgencias_rem.loc[\"Total\"]"
   ]
  },
  {
   "cell_type": "code",
   "execution_count": null,
   "id": "39c8dedb",
   "metadata": {},
   "outputs": [],
   "source": [
    "# Obtiene la proporcion de urgencias y poblacion\n",
    "proporcion_urgencias_y_poblacion = total_urgencias_rem / poblaciones_fonasa_ssmn"
   ]
  },
  {
   "cell_type": "code",
   "execution_count": 28,
   "id": "3d76ba73",
   "metadata": {},
   "outputs": [],
   "source": [
    "# Selecciona la cantidad de urgenicas por personas.\n",
    "# De 15 a 18 fue criterio de experto - Dr Tapia\n",
    "factor_urgencias_0_a_14 = proporcion_urgencias_y_poblacion.max(axis=1).iloc[0]\n",
    "factor_urgencias_15_a_18 = 1.3"
   ]
  },
  {
   "cell_type": "code",
   "execution_count": null,
   "id": "d5ff35e1",
   "metadata": {},
   "outputs": [
    {
     "data": {
      "text/html": [
       "<div>\n",
       "<style scoped>\n",
       "    .dataframe tbody tr th:only-of-type {\n",
       "        vertical-align: middle;\n",
       "    }\n",
       "\n",
       "    .dataframe tbody tr th {\n",
       "        vertical-align: top;\n",
       "    }\n",
       "\n",
       "    .dataframe thead th {\n",
       "        text-align: right;\n",
       "    }\n",
       "</style>\n",
       "<table border=\"1\" class=\"dataframe\">\n",
       "  <thead>\n",
       "    <tr style=\"text-align: right;\">\n",
       "      <th></th>\n",
       "      <th>Edad Incidencia</th>\n",
       "      <th>Estrato</th>\n",
       "      <th>2017</th>\n",
       "      <th>2018</th>\n",
       "      <th>2019</th>\n",
       "      <th>2020</th>\n",
       "      <th>2021</th>\n",
       "      <th>2022</th>\n",
       "      <th>2023</th>\n",
       "      <th>2024</th>\n",
       "      <th>2025</th>\n",
       "      <th>2026</th>\n",
       "      <th>2027</th>\n",
       "      <th>2028</th>\n",
       "      <th>2029</th>\n",
       "      <th>2030</th>\n",
       "      <th>2031</th>\n",
       "      <th>2032</th>\n",
       "      <th>2033</th>\n",
       "      <th>2034</th>\n",
       "      <th>2035</th>\n",
       "    </tr>\n",
       "  </thead>\n",
       "  <tbody>\n",
       "    <tr>\n",
       "      <th>147</th>\n",
       "      <td>recien_nacidos_vivos</td>\n",
       "      <td>SSMN</td>\n",
       "      <td>9347.319561</td>\n",
       "      <td>9584.855343</td>\n",
       "      <td>10023.627871</td>\n",
       "      <td>10575.755277</td>\n",
       "      <td>10920.914509</td>\n",
       "      <td>11061.652867</td>\n",
       "      <td>11111.962054</td>\n",
       "      <td>11125.972207</td>\n",
       "      <td>11113.235704</td>\n",
       "      <td>11077.573496</td>\n",
       "      <td>11018.348757</td>\n",
       "      <td>10938.108788</td>\n",
       "      <td>10843.858666</td>\n",
       "      <td>10740.692991</td>\n",
       "      <td>10715.856810</td>\n",
       "      <td>10633.706366</td>\n",
       "      <td>10554.740047</td>\n",
       "      <td>10478.321029</td>\n",
       "      <td>10411.454388</td>\n",
       "    </tr>\n",
       "    <tr>\n",
       "      <th>179</th>\n",
       "      <td>entre_1_y_14</td>\n",
       "      <td>SSMN</td>\n",
       "      <td>131096.188691</td>\n",
       "      <td>136025.852182</td>\n",
       "      <td>140735.174172</td>\n",
       "      <td>145201.228953</td>\n",
       "      <td>147907.735844</td>\n",
       "      <td>149571.759962</td>\n",
       "      <td>150765.170295</td>\n",
       "      <td>151676.467085</td>\n",
       "      <td>152358.506822</td>\n",
       "      <td>153038.636083</td>\n",
       "      <td>153675.461233</td>\n",
       "      <td>154278.534651</td>\n",
       "      <td>154602.678653</td>\n",
       "      <td>154546.638039</td>\n",
       "      <td>154509.065355</td>\n",
       "      <td>154881.608069</td>\n",
       "      <td>155334.390751</td>\n",
       "      <td>155569.379231</td>\n",
       "      <td>155392.978665</td>\n",
       "    </tr>\n",
       "    <tr>\n",
       "      <th>211</th>\n",
       "      <td>entre_15_y_18</td>\n",
       "      <td>SSMN</td>\n",
       "      <td>36034.751150</td>\n",
       "      <td>36894.465104</td>\n",
       "      <td>37566.952463</td>\n",
       "      <td>38024.192921</td>\n",
       "      <td>38089.149087</td>\n",
       "      <td>38225.429669</td>\n",
       "      <td>38816.403409</td>\n",
       "      <td>39819.403021</td>\n",
       "      <td>40920.473706</td>\n",
       "      <td>41676.385160</td>\n",
       "      <td>42061.027551</td>\n",
       "      <td>42143.177996</td>\n",
       "      <td>42234.243992</td>\n",
       "      <td>42664.100969</td>\n",
       "      <td>42966.592916</td>\n",
       "      <td>42871.069143</td>\n",
       "      <td>42451.401369</td>\n",
       "      <td>41907.552690</td>\n",
       "      <td>41844.507000</td>\n",
       "    </tr>\n",
       "  </tbody>\n",
       "</table>\n",
       "</div>"
      ],
      "text/plain": [
       "          Edad Incidencia Estrato           2017           2018  \\\n",
       "147  recien_nacidos_vivos    SSMN    9347.319561    9584.855343   \n",
       "179          entre_1_y_14    SSMN  131096.188691  136025.852182   \n",
       "211         entre_15_y_18    SSMN   36034.751150   36894.465104   \n",
       "\n",
       "              2019           2020           2021           2022  \\\n",
       "147   10023.627871   10575.755277   10920.914509   11061.652867   \n",
       "179  140735.174172  145201.228953  147907.735844  149571.759962   \n",
       "211   37566.952463   38024.192921   38089.149087   38225.429669   \n",
       "\n",
       "              2023           2024           2025           2026  \\\n",
       "147   11111.962054   11125.972207   11113.235704   11077.573496   \n",
       "179  150765.170295  151676.467085  152358.506822  153038.636083   \n",
       "211   38816.403409   39819.403021   40920.473706   41676.385160   \n",
       "\n",
       "              2027           2028           2029           2030  \\\n",
       "147   11018.348757   10938.108788   10843.858666   10740.692991   \n",
       "179  153675.461233  154278.534651  154602.678653  154546.638039   \n",
       "211   42061.027551   42143.177996   42234.243992   42664.100969   \n",
       "\n",
       "              2031           2032           2033           2034           2035  \n",
       "147   10715.856810   10633.706366   10554.740047   10478.321029   10411.454388  \n",
       "179  154509.065355  154881.608069  155334.390751  155569.379231  155392.978665  \n",
       "211   42966.592916   42871.069143   42451.401369   41907.552690   41844.507000  "
      ]
     },
     "execution_count": 29,
     "metadata": {},
     "output_type": "execute_result"
    }
   ],
   "source": [
    "poblacion_fonasa_extrapolada.query(\"\")"
   ]
  },
  {
   "cell_type": "code",
   "execution_count": null,
   "id": "0d91a75f",
   "metadata": {},
   "outputs": [],
   "source": [
    "poblaciones_0_y_14_proyectada = poblacion_fonasa_extrapolada"
   ]
  },
  {
   "cell_type": "code",
   "execution_count": null,
   "id": "c6eee22d",
   "metadata": {},
   "outputs": [
    {
     "name": "stdout",
     "output_type": "stream",
     "text": [
      "Total consultas urgencia proyectadas 2035: 173097.94\n"
     ]
    }
   ],
   "source": [
    "# Define las poblaciones proyectadas\n",
    "poblacion_0_a_15_proyectada = 176605\n",
    "poblacion_15_a_18_proyectada = 41845\n",
    "\n",
    "# Define cuantas consultas habran por grupo etario\n",
    "consultas_0_a_15 = poblacion_0_a_15_proyectada * factor_urgencias_0_a_14\n",
    "consultas_15_a_18 = poblacion_15_a_18_proyectada * factor_urgencias_15_a_18\n",
    "\n",
    "# Define el total de consultas\n",
    "total_consultas = consultas_0_a_15 + consultas_15_a_18\n",
    "\n",
    "print(f\"Total consultas urgencia proyectadas 2035: {total_consultas:.2f}\")"
   ]
  }
 ],
 "metadata": {
  "kernelspec": {
   "display_name": "proyeccion-rdr",
   "language": "python",
   "name": "python3"
  },
  "language_info": {
   "codemirror_mode": {
    "name": "ipython",
    "version": 3
   },
   "file_extension": ".py",
   "mimetype": "text/x-python",
   "name": "python",
   "nbconvert_exporter": "python",
   "pygments_lexer": "ipython3",
   "version": "3.10.16"
  }
 },
 "nbformat": 4,
 "nbformat_minor": 5
}
