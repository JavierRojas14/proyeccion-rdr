{
 "cells": [
  {
   "cell_type": "code",
   "execution_count": 8,
   "id": "9c5ca1ef",
   "metadata": {},
   "outputs": [
    {
     "name": "stdout",
     "output_type": "stream",
     "text": [
      "The autoreload extension is already loaded. To reload it, use:\n",
      "  %reload_ext autoreload\n"
     ]
    }
   ],
   "source": [
    "import sys\n",
    "import os\n",
    "\n",
    "project_root = os.path.abspath('..')\n",
    "if project_root not in sys.path:\n",
    "    sys.path.append(project_root)\n",
    " \n",
    "%load_ext autoreload\n",
    "%autoreload 2"
   ]
  },
  {
   "cell_type": "code",
   "execution_count": 9,
   "id": "c59728de",
   "metadata": {},
   "outputs": [],
   "source": [
    "import pandas as pd\n",
    "import numpy as np\n",
    "pd.set_option(\"display.max_columns\", None)\n",
    "\n",
    "ANIOS_POBLACION = [str(i) for i in range(2017, 2036)]"
   ]
  },
  {
   "cell_type": "code",
   "execution_count": 10,
   "id": "dfefdf03",
   "metadata": {},
   "outputs": [
    {
     "data": {
      "text/html": [
       "<div>\n",
       "<style scoped>\n",
       "    .dataframe tbody tr th:only-of-type {\n",
       "        vertical-align: middle;\n",
       "    }\n",
       "\n",
       "    .dataframe tbody tr th {\n",
       "        vertical-align: top;\n",
       "    }\n",
       "\n",
       "    .dataframe thead th {\n",
       "        text-align: right;\n",
       "    }\n",
       "</style>\n",
       "<table border=\"1\" class=\"dataframe\">\n",
       "  <thead>\n",
       "    <tr style=\"text-align: right;\">\n",
       "      <th></th>\n",
       "      <th></th>\n",
       "      <th>2018</th>\n",
       "      <th>2019</th>\n",
       "      <th>2020</th>\n",
       "      <th>2021</th>\n",
       "      <th>2022</th>\n",
       "    </tr>\n",
       "    <tr>\n",
       "      <th>Edad Incidencia</th>\n",
       "      <th>Estrato</th>\n",
       "      <th></th>\n",
       "      <th></th>\n",
       "      <th></th>\n",
       "      <th></th>\n",
       "      <th></th>\n",
       "    </tr>\n",
       "  </thead>\n",
       "  <tbody>\n",
       "    <tr>\n",
       "      <th>entre_0_y_15</th>\n",
       "      <th>SSMN</th>\n",
       "      <td>148276</td>\n",
       "      <td>155320</td>\n",
       "      <td>153830</td>\n",
       "      <td>151308</td>\n",
       "      <td>153566</td>\n",
       "    </tr>\n",
       "  </tbody>\n",
       "</table>\n",
       "</div>"
      ],
      "text/plain": [
       "                           2018    2019    2020    2021    2022\n",
       "Edad Incidencia Estrato                                        \n",
       "entre_0_y_15    SSMN     148276  155320  153830  151308  153566"
      ]
     },
     "metadata": {},
     "output_type": "display_data"
    }
   ],
   "source": [
    "# Lee la poblacion FONASA\n",
    "ruta_poblaciones = \"../data/interim/0.0_poblaciones_ine_y_fonasa_a_utilizar.xlsx\"\n",
    "poblaciones_fonasa = pd.read_excel(ruta_poblaciones, sheet_name=\"poblacion_FONASA\")\n",
    "\n",
    "# Filtra solamente la poblacion del SSMN y entre 0 y 15 anios (Poblacion que efectivamente\n",
    "# atendieron). Elimina la columna del 2023, ya que esta mal calculada\n",
    "poblaciones_fonasa_ssmn = (\n",
    "    poblaciones_fonasa.query(\"Estrato == 'SSMN' and `Edad Incidencia` == 'entre_0_y_15'\")\n",
    "    .set_index([\"Edad Incidencia\", \"Estrato\"])\n",
    "    .drop(columns=[\"2023\"])\n",
    ")\n",
    "display(poblaciones_fonasa_ssmn)"
   ]
  },
  {
   "cell_type": "code",
   "execution_count": 35,
   "id": "21bc0aed",
   "metadata": {},
   "outputs": [],
   "source": [
    "# Lee la poblacion SSMN extrapolada\n",
    "estratos_interes_0_a_14 = [\"recien_nacidos_vivos\", \"entre_1_y_14\"]\n",
    "estratos_interes_15_a_18 = [\"entre_15\"]\n",
    "poblacion_fonasa_extrapolada_ssmn = pd.read_excel(\n",
    "    ruta_poblaciones, sheet_name=\"poblaciones_fonasa_extrapoladas\"\n",
    ").query(\"Estrato == 'SSMN'\")\n",
    "\n",
    "# Extrae solo la poblacion entre 0 y 14 anios\n",
    "poblacion_fonasa_extrapolada_ssmn_0_a_14 = poblacion_fonasa_extrapolada_ssmn.query(\n",
    "    \"`Edad Incidencia`.isin(@estratos_interes_0_a_14)\"\n",
    ")[ANIOS_POBLACION].sum()\n",
    "\n",
    "\n",
    "# Extrae solo la poblacion entre 15 y 18 anios\n",
    "poblacion_fonasa_extrapolada_ssmn_15_a_18 = poblacion_fonasa_extrapolada_ssmn.query(\n",
    "    \"`Edad Incidencia`.isin(@estratos_interes_15_a_18)\"\n",
    ")[ANIOS_POBLACION].sum()"
   ]
  },
  {
   "cell_type": "code",
   "execution_count": 22,
   "id": "1cd94e2f",
   "metadata": {},
   "outputs": [],
   "source": [
    "# Lee las consultas de urgencias REM\n",
    "produccion_urgencias_rem = pd.DataFrame(\n",
    "    [\n",
    "        [59, 70, 82, 65, 87, 69, 91, 448, 176, 169],\n",
    "        [1455, 1292, 2133, 2635, 3096, 1499, 5235, 13613, 12473, 12981],\n",
    "        [33159, 28148, 25438, 22907, 27428, 13795, 20488, 29809, 28980, 29070],\n",
    "        [66592, 64954, 63160, 62138, 54425, 21814, 22329, 36763, 37584, 38696],\n",
    "        [4841, 4781, 0, 0, 1, 0, 0, 0, 0, 0],\n",
    "        [3764, 3302, 5514, 11914, 8251, 2476, 1484, 933, 1237, 1250],\n",
    "        [109870, 102547, 96327, 99659, 93288, 39653, 49627, 81566, 80450, 82166],\n",
    "    ],\n",
    "    index=[\"C1\", \"C2\", \"C3\", \"C4\", \"SC\", \"C5\", \"Total\"],\n",
    "    columns=[\"2015\", \"2016\", \"2017\", \"2018\", \"2019\", \"2020\", \"2021\", \"2022\", \"2023\", \"2024\"]\n",
    ")\n",
    "total_urgencias_rem = produccion_urgencias_rem.loc[\"Total\"]"
   ]
  },
  {
   "cell_type": "code",
   "execution_count": null,
   "id": "39c8dedb",
   "metadata": {},
   "outputs": [],
   "source": [
    "# Obtiene la proporcion de urgencias y poblacion\n",
    "proporcion_urgencias_y_poblacion = total_urgencias_rem / poblaciones_fonasa_ssmn"
   ]
  },
  {
   "cell_type": "code",
   "execution_count": 28,
   "id": "3d76ba73",
   "metadata": {},
   "outputs": [],
   "source": [
    "# Selecciona la cantidad de urgenicas por personas.\n",
    "# De 15 a 18 fue criterio de experto - Dr Tapia\n",
    "factor_urgencias_0_a_14 = proporcion_urgencias_y_poblacion.max(axis=1).iloc[0]\n",
    "factor_urgencias_15_a_18 = 1.3"
   ]
  },
  {
   "cell_type": "code",
   "execution_count": 40,
   "id": "c6eee22d",
   "metadata": {},
   "outputs": [
    {
     "name": "stdout",
     "output_type": "stream",
     "text": [
      "Total consultas urgencia proyectadas 2035: 111440.18\n"
     ]
    }
   ],
   "source": [
    "# Define cuantas consultas habran por grupo etario\n",
    "consultas_0_a_15 = poblacion_fonasa_extrapolada_ssmn_0_a_14 * factor_urgencias_0_a_14\n",
    "consultas_15_a_18 = poblacion_fonasa_extrapolada_ssmn_15_a_18 * factor_urgencias_15_a_18\n",
    "\n",
    "# Define el total de consultas\n",
    "total_consultas = consultas_0_a_15 + consultas_15_a_18\n",
    "\n",
    "print(f\"Total consultas urgencia proyectadas 2035: {total_consultas['2035']:.2f}\")"
   ]
  }
 ],
 "metadata": {
  "kernelspec": {
   "display_name": "proyeccion-rdr",
   "language": "python",
   "name": "python3"
  },
  "language_info": {
   "codemirror_mode": {
    "name": "ipython",
    "version": 3
   },
   "file_extension": ".py",
   "mimetype": "text/x-python",
   "name": "python",
   "nbconvert_exporter": "python",
   "pygments_lexer": "ipython3",
   "version": "3.10.16"
  }
 },
 "nbformat": 4,
 "nbformat_minor": 5
}
