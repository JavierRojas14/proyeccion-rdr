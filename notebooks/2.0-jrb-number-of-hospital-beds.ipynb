{
 "cells": [
  {
   "cell_type": "code",
   "execution_count": 1,
   "metadata": {},
   "outputs": [],
   "source": [
    "import sys\n",
    "import os\n",
    "\n",
    "project_root = os.path.abspath('..')\n",
    "if project_root not in sys.path:\n",
    "    sys.path.append(project_root)\n",
    "\n",
    "%load_ext autoreload\n",
    "%autoreload 2"
   ]
  },
  {
   "cell_type": "code",
   "execution_count": 2,
   "metadata": {},
   "outputs": [
    {
     "name": "stderr",
     "output_type": "stream",
     "text": [
      "\u001b[32m2025-05-27 15:18:46.551\u001b[0m | \u001b[1mINFO    \u001b[0m | \u001b[36mproyeccion_rdr.config\u001b[0m:\u001b[36m<module>\u001b[0m:\u001b[36m11\u001b[0m - \u001b[1mPROJ_ROOT path is: C:\\Users\\javie\\OneDrive\\Documents\\Trabajo\\SSMN\\2.0-proyeccion-rdr\u001b[0m\n"
     ]
    }
   ],
   "source": [
    "import pandas as pd\n",
    "import polars as pl\n",
    "import numpy as np\n",
    "\n",
    "import matplotlib.pyplot as plt\n",
    "\n",
    "import proyeccion_rdr.features as features\n",
    "\n",
    "plt.rcParams[\"figure.figsize\"] = (12, 6)\n",
    "pd.set_option(\"display.max_columns\", None)\n",
    "\n",
    "# Asumiendo que es una ocupacion del 80% de camas\n",
    "INDICE_OCUPACION_CAMAS = 1.25\n",
    "\n",
    "# Agrega las columnas de poblacion de interes\n",
    "COLUMNAS_POBLACION_INTERES = {str(i): i for i in range(2017, 2036)}"
   ]
  },
  {
   "cell_type": "markdown",
   "metadata": {},
   "source": [
    "# Proyección de casos INT al 2035"
   ]
  },
  {
   "cell_type": "code",
   "execution_count": 3,
   "metadata": {},
   "outputs": [],
   "source": [
    "# Lee los casos de todos los macroprocesos\n",
    "RUTA_ARCHIVOS = \"../data/interim/0.1_casos_teoricos_diagnosticos.xlsx\"\n",
    "_, casos_macroproceso = features.leer_casos_macroprocesos(RUTA_ARCHIVOS)\n",
    "\n",
    "# Obtiene los casos hospitalizados\n",
    "casos_hospitalizados = casos_macroproceso.query(\"tipo_paciente == 'hospitalizados'\")"
   ]
  },
  {
   "cell_type": "code",
   "execution_count": 4,
   "metadata": {},
   "outputs": [],
   "source": [
    "# Los diagnosticos que tienen un porcentaje de hosp. mayor a 0\n",
    "diagnosticos_relevantes = list(casos_hospitalizados.index)\n",
    "\n",
    "# Ademas, los diagnosticos que estan agrupados dentro de los que aportan a AC\n",
    "# Solo deja los diagnosticos que esten agrupados\n",
    "diagnosticos_a_reasignar = casos_hospitalizados.dropna(subset=\"Diagnosticos Contenidos\")\n",
    "\n",
    "# Separa la lista de diagnosticos en filas\n",
    "diagnosticos_agrupados = diagnosticos_a_reasignar.explode(\"Diagnosticos Contenidos\")\n",
    "diagnosticos_agrupados = list(diagnosticos_agrupados[\"Diagnosticos Contenidos\"].unique())\n",
    "\n",
    "# Suma los diagnosticos relevantes y los agrupados\n",
    "diagnosticos_a_buscar_en_egresos = sorted(diagnosticos_relevantes + diagnosticos_agrupados)"
   ]
  },
  {
   "cell_type": "markdown",
   "metadata": {},
   "source": [
    "## Obtención de casos atendidos entre 2017 y 2020 para diagnósticos relevantes.\n",
    "\n",
    "Estos se obtendrán del análisis de egresos hospitalarios a nivel país DEIS."
   ]
  },
  {
   "cell_type": "code",
   "execution_count": 5,
   "metadata": {},
   "outputs": [],
   "source": [
    "# Lee los egresos del Torax\n",
    "egresos_rdr = pl.read_csv(\"../data/raw/4_egresos_deis/egresos_procesados_109101.csv\")"
   ]
  },
  {
   "cell_type": "markdown",
   "metadata": {},
   "source": [
    "En primer lugar, se filtrarán ambas bases de datos para solamente tener la información de los diagnósticos más relevantes para el INT. Luego de esto, se calculará la cantidad de egresos, dias de estada y pacientes para cada uno de los diagnósticos. Estos insumos serán utilizados para estimar la demanda.\n"
   ]
  },
  {
   "cell_type": "code",
   "execution_count": 6,
   "metadata": {},
   "outputs": [],
   "source": [
    "# Filtra solamente los diagnosticos mas relevantes del Torax\n",
    "egresos_mas_relevantes_rdr = egresos_rdr.filter(\n",
    "    (pl.col(\"DIAG1\").is_in(diagnosticos_a_buscar_en_egresos))\n",
    ")"
   ]
  },
  {
   "cell_type": "code",
   "execution_count": 7,
   "metadata": {},
   "outputs": [],
   "source": [
    "egresos_totales_rdr = egresos_rdr.to_pandas().groupby(\"ANO_EGRESO\").size()\n",
    "egresos_relevantes_rdr = egresos_mas_relevantes_rdr.to_pandas().groupby(\"ANO_EGRESO\").size()\n",
    "comparacion_egresos = pd.concat([egresos_totales_rdr, egresos_relevantes_rdr], axis=1)\n",
    "comparacion_egresos[\"%\"] = round((comparacion_egresos[1] / comparacion_egresos[0]) * 100, 2)"
   ]
  },
  {
   "cell_type": "code",
   "execution_count": 8,
   "metadata": {},
   "outputs": [
    {
     "data": {
      "text/html": [
       "<div>\n",
       "<style scoped>\n",
       "    .dataframe tbody tr th:only-of-type {\n",
       "        vertical-align: middle;\n",
       "    }\n",
       "\n",
       "    .dataframe tbody tr th {\n",
       "        vertical-align: top;\n",
       "    }\n",
       "\n",
       "    .dataframe thead th {\n",
       "        text-align: right;\n",
       "    }\n",
       "</style>\n",
       "<table border=\"1\" class=\"dataframe\">\n",
       "  <thead>\n",
       "    <tr style=\"text-align: right;\">\n",
       "      <th></th>\n",
       "      <th>0</th>\n",
       "      <th>1</th>\n",
       "      <th>%</th>\n",
       "    </tr>\n",
       "    <tr>\n",
       "      <th>ANO_EGRESO</th>\n",
       "      <th></th>\n",
       "      <th></th>\n",
       "      <th></th>\n",
       "    </tr>\n",
       "  </thead>\n",
       "  <tbody>\n",
       "    <tr>\n",
       "      <th>2001.0</th>\n",
       "      <td>12891</td>\n",
       "      <td>3304</td>\n",
       "      <td>25.63</td>\n",
       "    </tr>\n",
       "    <tr>\n",
       "      <th>2002.0</th>\n",
       "      <td>12889</td>\n",
       "      <td>3362</td>\n",
       "      <td>26.08</td>\n",
       "    </tr>\n",
       "    <tr>\n",
       "      <th>2003.0</th>\n",
       "      <td>14451</td>\n",
       "      <td>3918</td>\n",
       "      <td>27.11</td>\n",
       "    </tr>\n",
       "    <tr>\n",
       "      <th>2004.0</th>\n",
       "      <td>14038</td>\n",
       "      <td>4163</td>\n",
       "      <td>29.66</td>\n",
       "    </tr>\n",
       "    <tr>\n",
       "      <th>2005.0</th>\n",
       "      <td>14361</td>\n",
       "      <td>3892</td>\n",
       "      <td>27.10</td>\n",
       "    </tr>\n",
       "    <tr>\n",
       "      <th>2006.0</th>\n",
       "      <td>14597</td>\n",
       "      <td>3722</td>\n",
       "      <td>25.50</td>\n",
       "    </tr>\n",
       "    <tr>\n",
       "      <th>2007.0</th>\n",
       "      <td>13367</td>\n",
       "      <td>3493</td>\n",
       "      <td>26.13</td>\n",
       "    </tr>\n",
       "    <tr>\n",
       "      <th>2008.0</th>\n",
       "      <td>12301</td>\n",
       "      <td>2791</td>\n",
       "      <td>22.69</td>\n",
       "    </tr>\n",
       "    <tr>\n",
       "      <th>2009.0</th>\n",
       "      <td>13524</td>\n",
       "      <td>3677</td>\n",
       "      <td>27.19</td>\n",
       "    </tr>\n",
       "    <tr>\n",
       "      <th>2010.0</th>\n",
       "      <td>13672</td>\n",
       "      <td>5557</td>\n",
       "      <td>40.65</td>\n",
       "    </tr>\n",
       "    <tr>\n",
       "      <th>2011.0</th>\n",
       "      <td>12605</td>\n",
       "      <td>5850</td>\n",
       "      <td>46.41</td>\n",
       "    </tr>\n",
       "    <tr>\n",
       "      <th>2012.0</th>\n",
       "      <td>9881</td>\n",
       "      <td>4733</td>\n",
       "      <td>47.90</td>\n",
       "    </tr>\n",
       "    <tr>\n",
       "      <th>2013.0</th>\n",
       "      <td>8291</td>\n",
       "      <td>3957</td>\n",
       "      <td>47.73</td>\n",
       "    </tr>\n",
       "    <tr>\n",
       "      <th>2014.0</th>\n",
       "      <td>8308</td>\n",
       "      <td>3997</td>\n",
       "      <td>48.11</td>\n",
       "    </tr>\n",
       "    <tr>\n",
       "      <th>2015.0</th>\n",
       "      <td>8479</td>\n",
       "      <td>3907</td>\n",
       "      <td>46.08</td>\n",
       "    </tr>\n",
       "    <tr>\n",
       "      <th>2016.0</th>\n",
       "      <td>7807</td>\n",
       "      <td>3617</td>\n",
       "      <td>46.33</td>\n",
       "    </tr>\n",
       "    <tr>\n",
       "      <th>2017.0</th>\n",
       "      <td>8684</td>\n",
       "      <td>4142</td>\n",
       "      <td>47.70</td>\n",
       "    </tr>\n",
       "    <tr>\n",
       "      <th>2018.0</th>\n",
       "      <td>9025</td>\n",
       "      <td>4234</td>\n",
       "      <td>46.91</td>\n",
       "    </tr>\n",
       "    <tr>\n",
       "      <th>2019.0</th>\n",
       "      <td>9200</td>\n",
       "      <td>4294</td>\n",
       "      <td>46.67</td>\n",
       "    </tr>\n",
       "    <tr>\n",
       "      <th>2020.0</th>\n",
       "      <td>4966</td>\n",
       "      <td>1678</td>\n",
       "      <td>33.79</td>\n",
       "    </tr>\n",
       "    <tr>\n",
       "      <th>2021.0</th>\n",
       "      <td>5639</td>\n",
       "      <td>2190</td>\n",
       "      <td>38.84</td>\n",
       "    </tr>\n",
       "    <tr>\n",
       "      <th>2022.0</th>\n",
       "      <td>6890</td>\n",
       "      <td>3248</td>\n",
       "      <td>47.14</td>\n",
       "    </tr>\n",
       "    <tr>\n",
       "      <th>2023.0</th>\n",
       "      <td>7722</td>\n",
       "      <td>3941</td>\n",
       "      <td>51.04</td>\n",
       "    </tr>\n",
       "  </tbody>\n",
       "</table>\n",
       "</div>"
      ],
      "text/plain": [
       "                0     1      %\n",
       "ANO_EGRESO                    \n",
       "2001.0      12891  3304  25.63\n",
       "2002.0      12889  3362  26.08\n",
       "2003.0      14451  3918  27.11\n",
       "2004.0      14038  4163  29.66\n",
       "2005.0      14361  3892  27.10\n",
       "2006.0      14597  3722  25.50\n",
       "2007.0      13367  3493  26.13\n",
       "2008.0      12301  2791  22.69\n",
       "2009.0      13524  3677  27.19\n",
       "2010.0      13672  5557  40.65\n",
       "2011.0      12605  5850  46.41\n",
       "2012.0       9881  4733  47.90\n",
       "2013.0       8291  3957  47.73\n",
       "2014.0       8308  3997  48.11\n",
       "2015.0       8479  3907  46.08\n",
       "2016.0       7807  3617  46.33\n",
       "2017.0       8684  4142  47.70\n",
       "2018.0       9025  4234  46.91\n",
       "2019.0       9200  4294  46.67\n",
       "2020.0       4966  1678  33.79\n",
       "2021.0       5639  2190  38.84\n",
       "2022.0       6890  3248  47.14\n",
       "2023.0       7722  3941  51.04"
      ]
     },
     "execution_count": 8,
     "metadata": {},
     "output_type": "execute_result"
    }
   ],
   "source": [
    "comparacion_egresos"
   ]
  },
  {
   "cell_type": "markdown",
   "metadata": {},
   "source": [
    "## Reasginación de diagnósticos y agrupación"
   ]
  },
  {
   "cell_type": "code",
   "execution_count": 9,
   "metadata": {},
   "outputs": [
    {
     "name": "stdout",
     "output_type": "stream",
     "text": [
      "Cambiando ['A090', 'A099'] a AGTO\n",
      "Cambiando ['D231', 'D233', 'D236', 'D367', 'L720'] a DQUI\n",
      "Cambiando ['Q262', 'K914', 'K638'] a ENTN\n",
      "Cambiando ['H652', 'H653', 'H654', 'H669'] a HOTI\n",
      "Cambiando ['J353'] a J351\n",
      "Cambiando ['J205', 'J208', 'J209'] a JBRO\n",
      "Cambiando ['J210', 'J218', 'J219'] a JBRQ\n",
      "Cambiando ['J121', 'J122', 'J123', 'J129', 'J159', 'J189'] a JNEU\n",
      "Cambiando ['K352', 'K353', 'K358', 'K36X', 'K659'] a KAPE\n",
      "Cambiando ['K650', 'K659', 'K658'] a KPER\n",
      "Cambiando ['K565', 'K650'] a KGAST\n",
      "Cambiando ['M411', 'M410', 'M412', 'M414', 'T813', 'Q763'] a MESC\n",
      "Cambiando ['K560', 'Q625', 'T222'] a OBSI\n",
      "Cambiando ['Q390', 'Q391', 'Q393'] a QATR\n",
      "Cambiando ['Q375', 'Q374', 'Q369', 'Q371', 'Q379', 'Q373', 'Q370', 'T813', 'Q355', 'Q372', 'Q359', 'Q378'] a QLAB\n",
      "Cambiando ['S424', 'S524', 'S525', 'S528', 'S529'] a SFRA\n",
      "Cambiando ['T213', 'T202', 'T212', 'T203', 'T293', 'T201', 'T273', 'T223', 'T222', 'T243', 'T280', 'T211', 'T242', 'T253', 'T232', 'T221', 'T241', 'T312', 'T291', 'T292', 'T252'] a TQUE\n",
      "Cambiando ['C710', 'C715', 'C716', 'C717', 'C719', 'D164', 'D334', 'D431', 'D444'] a CERX\n"
     ]
    }
   ],
   "source": [
    "for row in diagnosticos_a_reasignar.itertuples():\n",
    "    diagnostico_nuevo = row[0]\n",
    "    diagnosticos_antiguos = row[1]\n",
    "\n",
    "    print(f\"Cambiando {diagnosticos_antiguos} a {diagnostico_nuevo}\")\n",
    "    egresos_mas_relevantes_rdr = egresos_mas_relevantes_rdr.with_columns(\n",
    "        pl.col(\"DIAG1\").replace(diagnosticos_antiguos, diagnostico_nuevo)\n",
    "    )"
   ]
  },
  {
   "cell_type": "code",
   "execution_count": 10,
   "metadata": {},
   "outputs": [],
   "source": [
    "# Obtiene resumen de metricas para el Torax\n",
    "metricas_diags_relevantes_rdr = (\n",
    "    features.calcular_resumen_metricas_desagregadas_y_agrupadas_en_anios(\n",
    "        egresos_mas_relevantes_rdr, 2019, 2023\n",
    "    )\n",
    ")\n",
    "metricas_diags_relevantes_rdr.loc[\"TQUED\"] = metricas_diags_relevantes_rdr.loc[\"TQUE\"]"
   ]
  },
  {
   "cell_type": "code",
   "execution_count": 11,
   "metadata": {},
   "outputs": [],
   "source": [
    "# Define las columnas que se quieran corregir\n",
    "columna_dias_estada = (\"agrupado_entre_2019_2023\", \"dias_estada_promedio\")"
   ]
  },
  {
   "cell_type": "markdown",
   "metadata": {},
   "source": [
    "## Estimación de casos Hospitalizados utilizando % de Hospitalización del INT\n",
    "\n",
    "En este caso, se utilizará el % de hospitalización del INT de los pacientes ambulatorios."
   ]
  },
  {
   "cell_type": "code",
   "execution_count": 12,
   "metadata": {},
   "outputs": [],
   "source": [
    "# Se obtiene la cantidad de egresos que debiese tener el INT, asumiendo que trabajara con la misma\n",
    "# eficiencia\n",
    "egresos_estimados_rdr = casos_hospitalizados[COLUMNAS_POBLACION_INTERES.keys()].mul(\n",
    "    metricas_diags_relevantes_rdr[(\"agrupado_entre_2019_2023\", \"egresos_por_paciente\")], axis=0\n",
    ")\n",
    "\n",
    "# Se obtiene la cantidad de dias de estada que debiese el INT, asumiendo que trabajara con la misma\n",
    "# eficiencia\n",
    "dias_estada_estimados_rdr = egresos_estimados_rdr.mul(\n",
    "    metricas_diags_relevantes_rdr[(\"agrupado_entre_2019_2023\", \"dias_estada_promedio\")], axis=0\n",
    ")\n",
    "\n",
    "# Estima la cantidad de camas necesaarias por diagnostico\n",
    "camas_estimadas_rdr = (dias_estada_estimados_rdr / 365.25) * INDICE_OCUPACION_CAMAS\n",
    "\n",
    "# Calcula las camas totales necesarias\n",
    "camas_totales_rdr = camas_estimadas_rdr.sum()"
   ]
  },
  {
   "cell_type": "code",
   "execution_count": 13,
   "metadata": {},
   "outputs": [],
   "source": [
    "# Se quiere tener un 60% de UPC (1:2, UCI:UTI, y 40% de Medias)\n",
    "FRACCION_UCI = 0.21\n",
    "FRACCION_UTI = 0.42\n",
    "FRACCION_MEDIAS = 0.37\n",
    "\n",
    "# Agrega las camas necesarias para trasplantes a las del 2035\n",
    "camas_al_2035 = (camas_totales_rdr[\"2035\"])\n",
    "# Obtiene la cantidad de camas UCI, UTI y Medias sin redondear\n",
    "camas_uci = (camas_al_2035 * FRACCION_UCI)\n",
    "camas_uti = (camas_al_2035 * FRACCION_UTI)\n",
    "camas_medias = (camas_al_2035 * FRACCION_MEDIAS)\n",
    "\n",
    "# Obtiene la cantidad de camas UCI, UTI y Medias redondeadas\n",
    "camas_uci_redondeadas = round(camas_al_2035 * FRACCION_UCI)\n",
    "camas_uti_redondeadas = round(camas_al_2035 * FRACCION_UTI)\n",
    "camas_medias_redondeadas = round(camas_al_2035 * FRACCION_MEDIAS)\n",
    "camas_al_2035_redondeadas = round(camas_al_2035)"
   ]
  },
  {
   "cell_type": "code",
   "execution_count": 14,
   "metadata": {},
   "outputs": [
    {
     "name": "stdout",
     "output_type": "stream",
     "text": [
      "> Camas 2035: 168.04\n",
      "\n",
      "> Total Redondeadas: 168 camas\n"
     ]
    }
   ],
   "source": [
    "print(f\"> Camas 2035: {camas_al_2035:.2f}\")\n",
    "# print(f\"> UCI: {camas_uci:.2f} camas\")\n",
    "# print(f\"> UTI: {camas_uti:.2f} camas\")\n",
    "# print(f\"> Medias: {camas_medias:.2f} camas\")\n",
    "print()\n",
    "# print(f\"> UCI Redondeadas: {camas_uci_redondeadas} camas\")\n",
    "# print(f\"> UTI Redondeadas: {camas_uti_redondeadas} camas\")\n",
    "# print(f\"> Medias Redondeadas: {camas_medias_redondeadas} camas\")\n",
    "print(f\"> Total Redondeadas: {camas_al_2035_redondeadas} camas\")"
   ]
  },
  {
   "cell_type": "markdown",
   "metadata": {},
   "source": [
    "## Obtener resumen para MINSAL"
   ]
  },
  {
   "cell_type": "code",
   "execution_count": 15,
   "metadata": {},
   "outputs": [],
   "source": [
    "# Obtiene porcentaje de hospitalizados\n",
    "porcentaje_hospitalizados = pd.read_excel(\n",
    "    \"../data/raw/3_incidencias_y_porcentajes_marcoprocesos/incidencias_y_prevalencias_RDR.xlsx\"\n",
    ")\n",
    "\n",
    "porcentaje_hospitalizados[\"Diagnostico\"] = (\n",
    "    porcentaje_hospitalizados[\"Diagnostico\"].str.split(\" - \").str[0]\n",
    ")\n",
    "\n",
    "# Filtra los porcentajes de hospitalizados\n",
    "porcentaje_hospitalizados = porcentaje_hospitalizados.set_index(\"Diagnostico\")\n",
    "porcentaje_hospitalizados = porcentaje_hospitalizados[\"Porcentaje Pacientes Hospitalizados\"]\n",
    "porcentaje_hospitalizados = porcentaje_hospitalizados.dropna()\n",
    "porcentaje_hospitalizados = porcentaje_hospitalizados[porcentaje_hospitalizados > 0]"
   ]
  },
  {
   "cell_type": "code",
   "execution_count": 16,
   "metadata": {},
   "outputs": [],
   "source": [
    "# Obtiene resumen para MINSAL\n",
    "resumen_hosp = pd.DataFrame(\n",
    "    {\n",
    "        \"porcentaje_hospitalizado\": porcentaje_hospitalizados,\n",
    "        \"casos_hospitalizados_2035\": casos_hospitalizados[\"2035\"],\n",
    "        \"egresos_por_paciente_agrupado_2019_2023\": metricas_diags_relevantes_rdr[\n",
    "            (\"agrupado_entre_2019_2023\", \"egresos_por_paciente\")\n",
    "        ],\n",
    "        \"egresos_2035\": egresos_estimados_rdr[\"2035\"],\n",
    "        \"dias_estada_promedio_agrupado_2019_2023\": metricas_diags_relevantes_rdr[\n",
    "            (\"agrupado_entre_2019_2023\", \"dias_estada_promedio\")\n",
    "        ],\n",
    "        \"dias_estada_totales_2035\": dias_estada_estimados_rdr[\"2035\"],\n",
    "        \"camas_totales_2035\": camas_estimadas_rdr[\"2035\"],\n",
    "    }\n",
    ")"
   ]
  },
  {
   "cell_type": "markdown",
   "metadata": {},
   "source": [
    "Finalmente, une el resumen de casos teoricos desde el cuadernillo 1.0 con el resumen de este cuadernillo. Esto obtiene la tabla final para MINSAL."
   ]
  },
  {
   "cell_type": "code",
   "execution_count": 17,
   "metadata": {},
   "outputs": [],
   "source": [
    "resumen_casos_teoricos = pd.read_excel(\n",
    "    \"../data/interim/0.1_casos_teoricos_diagnosticos.xlsx\", sheet_name=\"resumen_total_RDR\"\n",
    ")\n",
    "\n",
    "resumen_casos_teoricos[\"Diagnostico_codigo\"] = (\n",
    "    resumen_casos_teoricos[\"Diagnostico\"].str.split(\" - \").str[0]\n",
    ")\n",
    "resumen_casos_teoricos = resumen_casos_teoricos.set_index(\"Diagnostico_codigo\")\n",
    "\n",
    "resumen_minsal = resumen_casos_teoricos.merge(\n",
    "    resumen_hosp, how=\"right\", left_index=True, right_index=True\n",
    ")\n",
    "\n",
    "resumen_minsal = resumen_minsal.reset_index(drop=True).set_index(\"Diagnostico\")"
   ]
  },
  {
   "cell_type": "markdown",
   "metadata": {},
   "source": [
    "## Guardar archivos"
   ]
  },
  {
   "cell_type": "code",
   "execution_count": 18,
   "metadata": {},
   "outputs": [
    {
     "name": "stdout",
     "output_type": "stream",
     "text": [
      "Guardando resumen_MINSAL\n",
      "Guardando metricas_relevantes_RDR\n",
      "Guardando casos_hospitalizados_RDR\n",
      "Guardando egresos_estimados_RDR\n",
      "Guardando dias_estada_estimados_RDR\n",
      "Guardando camas_estimadas_desglosadas_RDR\n",
      "Guardando camas_totales_RDR\n",
      "Guardando resumen_total_hosp_RDR\n"
     ]
    }
   ],
   "source": [
    "archivos_a_guardar = {\n",
    "    \"resumen_MINSAL\": resumen_minsal,\n",
    "    \"metricas_relevantes_RDR\": metricas_diags_relevantes_rdr,\n",
    "    \"casos_hospitalizados_RDR\": casos_hospitalizados,\n",
    "    \"egresos_estimados_RDR\": egresos_estimados_rdr,\n",
    "    \"dias_estada_estimados_RDR\": dias_estada_estimados_rdr,\n",
    "    \"camas_estimadas_desglosadas_RDR\": camas_estimadas_rdr,\n",
    "    \"camas_totales_RDR\": camas_totales_rdr,\n",
    "    \"resumen_total_hosp_RDR\": resumen_hosp,\n",
    "}\n",
    "\n",
    "with pd.ExcelWriter(\"../data/interim/1.0_estimacion_atencion_cerrada_RDR.xlsx\") as file:\n",
    "    for nombre_hoja, df_a_guardar in archivos_a_guardar.items():\n",
    "        print(f\"Guardando {nombre_hoja}\")\n",
    "        df_a_guardar.to_excel(file, sheet_name=nombre_hoja)"
   ]
  }
 ],
 "metadata": {
  "kernelspec": {
   "display_name": "proyeccion-rdr",
   "language": "python",
   "name": "python3"
  },
  "language_info": {
   "codemirror_mode": {
    "name": "ipython",
    "version": 3
   },
   "file_extension": ".py",
   "mimetype": "text/x-python",
   "name": "python",
   "nbconvert_exporter": "python",
   "pygments_lexer": "ipython3",
   "version": "3.10.16"
  }
 },
 "nbformat": 4,
 "nbformat_minor": 2
}
