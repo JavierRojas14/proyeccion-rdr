{
 "cells": [
  {
   "cell_type": "code",
   "execution_count": 28,
   "metadata": {},
   "outputs": [
    {
     "name": "stdout",
     "output_type": "stream",
     "text": [
      "The autoreload extension is already loaded. To reload it, use:\n",
      "  %reload_ext autoreload\n"
     ]
    }
   ],
   "source": [
    "import sys\n",
    "import os\n",
    "\n",
    "project_root = os.path.abspath('..')\n",
    "if project_root not in sys.path:\n",
    "    sys.path.append(project_root)\n",
    "\n",
    "%load_ext autoreload\n",
    "%autoreload 2"
   ]
  },
  {
   "cell_type": "code",
   "execution_count": 29,
   "metadata": {},
   "outputs": [],
   "source": [
    "import pandas as pd\n",
    "import polars as pl\n",
    "import numpy as np\n",
    "\n",
    "import matplotlib.pyplot as plt\n",
    "\n",
    "import proyeccion_rdr.features as features\n",
    "\n",
    "plt.rcParams[\"figure.figsize\"] = (12, 6)\n",
    "pd.set_option(\"display.max_columns\", None)\n",
    "\n",
    "# Asumiendo que es una ocupacion del 80% de camas\n",
    "INDICE_OCUPACION_CAMAS = 1.25\n",
    "\n",
    "# Agrega las columnas de poblacion de interes\n",
    "COLUMNAS_POBLACION_INTERES = {str(i): i for i in range(2017, 2036)}"
   ]
  },
  {
   "cell_type": "markdown",
   "metadata": {},
   "source": [
    "# Proyección de casos INT al 2035"
   ]
  },
  {
   "cell_type": "code",
   "execution_count": 30,
   "metadata": {},
   "outputs": [],
   "source": [
    "# Lee los casos de todos los macroprocesos\n",
    "RUTA_ARCHIVOS = \"../data/interim/0.1_casos_teoricos_diagnosticos.xlsx\"\n",
    "_, casos_macroproceso = features.leer_casos_macroprocesos(RUTA_ARCHIVOS)\n",
    "\n",
    "# Obtiene los casos hospitalizados\n",
    "casos_hospitalizados = casos_macroproceso.query(\"tipo_paciente == 'hospitalizados'\")"
   ]
  },
  {
   "cell_type": "code",
   "execution_count": 31,
   "metadata": {},
   "outputs": [],
   "source": [
    "# Los diagnosticos que tienen un porcentaje de hosp. mayor a 0\n",
    "diagnosticos_relevantes = list(casos_hospitalizados.index)\n",
    "\n",
    "# Ademas, los diagnosticos que estan agrupados dentro de los que aportan a AC\n",
    "# Solo deja los diagnosticos que esten agrupados\n",
    "diagnosticos_a_reasignar = casos_hospitalizados.dropna(subset=\"Diagnosticos Contenidos\")\n",
    "\n",
    "# Separa la lista de diagnosticos en filas\n",
    "diagnosticos_agrupados = diagnosticos_a_reasignar.explode(\"Diagnosticos Contenidos\")\n",
    "diagnosticos_agrupados = list(diagnosticos_agrupados[\"Diagnosticos Contenidos\"].unique())\n",
    "\n",
    "# Suma los diagnosticos relevantes y los agrupados\n",
    "diagnosticos_a_buscar_en_egresos = sorted(diagnosticos_relevantes + diagnosticos_agrupados)"
   ]
  },
  {
   "cell_type": "markdown",
   "metadata": {},
   "source": [
    "## Obtención de casos atendidos entre 2017 y 2020 para diagnósticos relevantes.\n",
    "\n",
    "Estos se obtendrán del análisis de egresos hospitalarios a nivel país DEIS."
   ]
  },
  {
   "cell_type": "code",
   "execution_count": 32,
   "metadata": {},
   "outputs": [],
   "source": [
    "# Lee los egresos del Torax\n",
    "egresos_rdr = pl.read_csv(\"../data/raw/4_egresos_deis/egresos_procesados_109101.csv\")"
   ]
  },
  {
   "cell_type": "markdown",
   "metadata": {},
   "source": [
    "En primer lugar, se filtrarán ambas bases de datos para solamente tener la información de los diagnósticos más relevantes para el INT. Luego de esto, se calculará la cantidad de egresos, dias de estada y pacientes para cada uno de los diagnósticos. Estos insumos serán utilizados para estimar la demanda.\n"
   ]
  },
  {
   "cell_type": "code",
   "execution_count": null,
   "metadata": {},
   "outputs": [],
   "source": [
    "# Filtra solamente los diagnosticos mas relevantes del Torax\n",
    "egresos_mas_relevantes_rdr = egresos_rdr.filter(\n",
    "    (pl.col(\"DIAG1\").is_in(diagnosticos_a_buscar_en_egresos))\n",
    ")"
   ]
  },
  {
   "cell_type": "markdown",
   "metadata": {},
   "source": [
    "## Reasginación de diagnósticos y agrupación"
   ]
  },
  {
   "cell_type": "code",
   "execution_count": null,
   "metadata": {},
   "outputs": [
    {
     "name": "stdout",
     "output_type": "stream",
     "text": [
      "Cambiando ['J208', 'J209', 'J210', 'J218'] a J205\n"
     ]
    }
   ],
   "source": [
    "for row in diagnosticos_a_reasignar.itertuples():\n",
    "    diagnostico_nuevo = row[0]\n",
    "    diagnosticos_antiguos = row[1]\n",
    "\n",
    "    print(f\"Cambiando {diagnosticos_antiguos} a {diagnostico_nuevo}\")\n",
    "    egresos_mas_relevantes_rdr = egresos_mas_relevantes_rdr.with_columns(\n",
    "        pl.col(\"DIAG1\").replace(diagnosticos_antiguos, diagnostico_nuevo)\n",
    "    )"
   ]
  },
  {
   "cell_type": "code",
   "execution_count": null,
   "metadata": {},
   "outputs": [],
   "source": [
    "# Obtiene resumen de metricas para el Torax\n",
    "metricas_diags_relevantes_rdr = (\n",
    "    features.calcular_resumen_metricas_desagregadas_y_agrupadas_en_anios(\n",
    "        egresos_mas_relevantes_rdr, 2019, 2023\n",
    "    )\n",
    ")"
   ]
  },
  {
   "cell_type": "code",
   "execution_count": 36,
   "metadata": {},
   "outputs": [],
   "source": [
    "# Define las columnas que se quieran corregir\n",
    "columna_dias_estada = (\"agrupado_entre_2019_2023\", \"dias_estada_promedio\")"
   ]
  },
  {
   "cell_type": "markdown",
   "metadata": {},
   "source": [
    "## Estimación de casos Hospitalizados utilizando % de Hospitalización del INT\n",
    "\n",
    "En este caso, se utilizará el % de hospitalización del INT de los pacientes ambulatorios."
   ]
  },
  {
   "cell_type": "code",
   "execution_count": null,
   "metadata": {},
   "outputs": [],
   "source": [
    "# Se obtiene la cantidad de egresos que debiese tener el INT, asumiendo que trabajara con la misma\n",
    "# eficiencia\n",
    "egresos_estimados_rdr = casos_hospitalizados[COLUMNAS_POBLACION_INTERES.keys()].mul(\n",
    "    metricas_diags_relevantes_rdr[(\"agrupado_entre_2019_2023\", \"egresos_por_paciente\")], axis=0\n",
    ")\n",
    "\n",
    "# Se obtiene la cantidad de dias de estada que debiese el INT, asumiendo que trabajara con la misma\n",
    "# eficiencia\n",
    "dias_estada_estimados_rdr = egresos_estimados_rdr.mul(\n",
    "    metricas_diags_relevantes_rdr[(\"agrupado_entre_2019_2023\", \"dias_estada_promedio\")], axis=0\n",
    ")\n",
    "\n",
    "# Estima la cantidad de camas necesaarias por diagnostico\n",
    "camas_estimadas_rdr = (dias_estada_estimados_rdr / 365.25) * INDICE_OCUPACION_CAMAS\n",
    "\n",
    "# Calcula las camas totales necesarias\n",
    "camas_totales_rdr = camas_estimadas_rdr.sum()"
   ]
  },
  {
   "cell_type": "code",
   "execution_count": null,
   "metadata": {},
   "outputs": [],
   "source": [
    "# Se quiere tener un 60% de UPC (1:2, UCI:UTI, y 40% de Medias)\n",
    "FRACCION_UCI = 0.21\n",
    "FRACCION_UTI = 0.42\n",
    "FRACCION_MEDIAS = 0.37\n",
    "\n",
    "# Agrega las camas necesarias para trasplantes a las del 2035\n",
    "camas_al_2035 = (camas_totales_rdr[\"2035\"])\n",
    "# Obtiene la cantidad de camas UCI, UTI y Medias sin redondear\n",
    "camas_uci = (camas_al_2035 * FRACCION_UCI)\n",
    "camas_uti = (camas_al_2035 * FRACCION_UTI)\n",
    "camas_medias = (camas_al_2035 * FRACCION_MEDIAS)\n",
    "\n",
    "# Obtiene la cantidad de camas UCI, UTI y Medias redondeadas\n",
    "camas_uci_redondeadas = round(camas_al_2035 * FRACCION_UCI)\n",
    "camas_uti_redondeadas = round(camas_al_2035 * FRACCION_UTI)\n",
    "camas_medias_redondeadas = round(camas_al_2035 * FRACCION_MEDIAS)\n",
    "camas_al_2035_redondeadas = round(camas_al_2035)"
   ]
  },
  {
   "cell_type": "code",
   "execution_count": 39,
   "metadata": {},
   "outputs": [
    {
     "name": "stdout",
     "output_type": "stream",
     "text": [
      "> Camas + Trasplantes 2035: 137.57\n",
      "> UCI: 28.89 camas\n",
      "> UTI: 57.78 camas\n",
      "> Medias: 50.90 camas\n",
      "\n",
      "> UCI Redondeadas: 29 camas\n",
      "> UTI Redondeadas: 58 camas\n",
      "> Medias Redondeadas: 51 camas\n",
      "> Total Redondeadas: 138 camas\n"
     ]
    }
   ],
   "source": [
    "print(f\"> Camas + Trasplantes 2035: {camas_al_2035:.2f}\")\n",
    "print(f\"> UCI: {camas_uci:.2f} camas\")\n",
    "print(f\"> UTI: {camas_uti:.2f} camas\")\n",
    "print(f\"> Medias: {camas_medias:.2f} camas\")\n",
    "print()\n",
    "print(f\"> UCI Redondeadas: {camas_uci_redondeadas} camas\")\n",
    "print(f\"> UTI Redondeadas: {camas_uti_redondeadas} camas\")\n",
    "print(f\"> Medias Redondeadas: {camas_medias_redondeadas} camas\")\n",
    "print(f\"> Total Redondeadas: {camas_al_2035_redondeadas} camas\")"
   ]
  },
  {
   "cell_type": "markdown",
   "metadata": {},
   "source": [
    "## Obtener resumen para MINSAL"
   ]
  },
  {
   "cell_type": "code",
   "execution_count": 40,
   "metadata": {},
   "outputs": [],
   "source": [
    "# Obtiene porcentaje de hospitalizados\n",
    "porcentaje_hospitalizados = pd.read_excel(\n",
    "    \"../data/raw/3_incidencias_y_porcentajes_marcoprocesos/incidencias_y_prevalencias_RDR.xlsx\"\n",
    ")\n",
    "\n",
    "porcentaje_hospitalizados[\"Diagnostico\"] = (\n",
    "    porcentaje_hospitalizados[\"Diagnostico\"].str.split(\" - \").str[0]\n",
    ")\n",
    "\n",
    "# Filtra los porcentajes de hospitalizados\n",
    "porcentaje_hospitalizados = porcentaje_hospitalizados.set_index(\"Diagnostico\")\n",
    "porcentaje_hospitalizados = porcentaje_hospitalizados[\"Porcentaje Pacientes Hospitalizados\"]\n",
    "porcentaje_hospitalizados = porcentaje_hospitalizados.dropna()\n",
    "porcentaje_hospitalizados = porcentaje_hospitalizados[porcentaje_hospitalizados > 0]"
   ]
  },
  {
   "cell_type": "code",
   "execution_count": null,
   "metadata": {},
   "outputs": [],
   "source": [
    "# Obtiene resumen para MINSAL\n",
    "resumen_hosp = pd.DataFrame(\n",
    "    {\n",
    "        \"porcentaje_hospitalizado\": porcentaje_hospitalizados,\n",
    "        \"casos_hospitalizados_2035\": casos_hospitalizados[\"2035\"],\n",
    "        \"egresos_por_paciente_agrupado_2019_2023\": metricas_diags_relevantes_rdr[\n",
    "            (\"agrupado_entre_2019_2023\", \"egresos_por_paciente\")\n",
    "        ],\n",
    "        \"egresos_2035\": egresos_estimados_rdr[\"2035\"],\n",
    "        \"dias_estada_promedio_agrupado_2019_2023\": metricas_diags_relevantes_rdr[\n",
    "            (\"agrupado_entre_2019_2023\", \"dias_estada_promedio\")\n",
    "        ],\n",
    "        \"dias_estada_totales_2035\": dias_estada_estimados_rdr[\"2035\"],\n",
    "        \"camas_totales_2035\": camas_estimadas_rdr[\"2035\"],\n",
    "    }\n",
    ")"
   ]
  },
  {
   "cell_type": "markdown",
   "metadata": {},
   "source": [
    "Finalmente, une el resumen de casos teoricos desde el cuadernillo 1.0 con el resumen de este cuadernillo. Esto obtiene la tabla final para MINSAL."
   ]
  },
  {
   "cell_type": "code",
   "execution_count": 46,
   "metadata": {},
   "outputs": [
    {
     "ename": "FileNotFoundError",
     "evalue": "[Errno 2] No such file or directory: '../data/interim/casos_teoricos_diagnosticos.xlsx'",
     "output_type": "error",
     "traceback": [
      "\u001b[1;31m---------------------------------------------------------------------------\u001b[0m",
      "\u001b[1;31mFileNotFoundError\u001b[0m                         Traceback (most recent call last)",
      "Cell \u001b[1;32mIn[46], line 1\u001b[0m\n\u001b[1;32m----> 1\u001b[0m resumen_casos_teoricos \u001b[38;5;241m=\u001b[39m \u001b[43mpd\u001b[49m\u001b[38;5;241;43m.\u001b[39;49m\u001b[43mread_excel\u001b[49m\u001b[43m(\u001b[49m\n\u001b[0;32m      2\u001b[0m \u001b[43m    \u001b[49m\u001b[38;5;124;43m\"\u001b[39;49m\u001b[38;5;124;43m../data/interim/casos_teoricos_diagnosticos.xlsx\u001b[39;49m\u001b[38;5;124;43m\"\u001b[39;49m\u001b[43m,\u001b[49m\u001b[43m \u001b[49m\u001b[43msheet_name\u001b[49m\u001b[38;5;241;43m=\u001b[39;49m\u001b[38;5;124;43m\"\u001b[39;49m\u001b[38;5;124;43mresumen_total_RDR\u001b[39;49m\u001b[38;5;124;43m\"\u001b[39;49m\n\u001b[0;32m      3\u001b[0m \u001b[43m)\u001b[49m\n\u001b[0;32m      5\u001b[0m resumen_casos_teoricos[\u001b[38;5;124m\"\u001b[39m\u001b[38;5;124mDiagnostico_codigo\u001b[39m\u001b[38;5;124m\"\u001b[39m] \u001b[38;5;241m=\u001b[39m (\n\u001b[0;32m      6\u001b[0m     resumen_casos_teoricos[\u001b[38;5;124m\"\u001b[39m\u001b[38;5;124mDiagnostico\u001b[39m\u001b[38;5;124m\"\u001b[39m]\u001b[38;5;241m.\u001b[39mstr\u001b[38;5;241m.\u001b[39msplit(\u001b[38;5;124m\"\u001b[39m\u001b[38;5;124m - \u001b[39m\u001b[38;5;124m\"\u001b[39m)\u001b[38;5;241m.\u001b[39mstr[\u001b[38;5;241m0\u001b[39m]\n\u001b[0;32m      7\u001b[0m )\n\u001b[0;32m      8\u001b[0m resumen_casos_teoricos \u001b[38;5;241m=\u001b[39m resumen_casos_teoricos\u001b[38;5;241m.\u001b[39mset_index(\u001b[38;5;124m\"\u001b[39m\u001b[38;5;124mDiagnostico_codigo\u001b[39m\u001b[38;5;124m\"\u001b[39m)\n",
      "File \u001b[1;32mc:\\Users\\jarojas\\AppData\\Local\\anaconda3\\envs\\proyeccion-rdr\\lib\\site-packages\\pandas\\io\\excel\\_base.py:495\u001b[0m, in \u001b[0;36mread_excel\u001b[1;34m(io, sheet_name, header, names, index_col, usecols, dtype, engine, converters, true_values, false_values, skiprows, nrows, na_values, keep_default_na, na_filter, verbose, parse_dates, date_parser, date_format, thousands, decimal, comment, skipfooter, storage_options, dtype_backend, engine_kwargs)\u001b[0m\n\u001b[0;32m    493\u001b[0m \u001b[38;5;28;01mif\u001b[39;00m \u001b[38;5;129;01mnot\u001b[39;00m \u001b[38;5;28misinstance\u001b[39m(io, ExcelFile):\n\u001b[0;32m    494\u001b[0m     should_close \u001b[38;5;241m=\u001b[39m \u001b[38;5;28;01mTrue\u001b[39;00m\n\u001b[1;32m--> 495\u001b[0m     io \u001b[38;5;241m=\u001b[39m \u001b[43mExcelFile\u001b[49m\u001b[43m(\u001b[49m\n\u001b[0;32m    496\u001b[0m \u001b[43m        \u001b[49m\u001b[43mio\u001b[49m\u001b[43m,\u001b[49m\n\u001b[0;32m    497\u001b[0m \u001b[43m        \u001b[49m\u001b[43mstorage_options\u001b[49m\u001b[38;5;241;43m=\u001b[39;49m\u001b[43mstorage_options\u001b[49m\u001b[43m,\u001b[49m\n\u001b[0;32m    498\u001b[0m \u001b[43m        \u001b[49m\u001b[43mengine\u001b[49m\u001b[38;5;241;43m=\u001b[39;49m\u001b[43mengine\u001b[49m\u001b[43m,\u001b[49m\n\u001b[0;32m    499\u001b[0m \u001b[43m        \u001b[49m\u001b[43mengine_kwargs\u001b[49m\u001b[38;5;241;43m=\u001b[39;49m\u001b[43mengine_kwargs\u001b[49m\u001b[43m,\u001b[49m\n\u001b[0;32m    500\u001b[0m \u001b[43m    \u001b[49m\u001b[43m)\u001b[49m\n\u001b[0;32m    501\u001b[0m \u001b[38;5;28;01melif\u001b[39;00m engine \u001b[38;5;129;01mand\u001b[39;00m engine \u001b[38;5;241m!=\u001b[39m io\u001b[38;5;241m.\u001b[39mengine:\n\u001b[0;32m    502\u001b[0m     \u001b[38;5;28;01mraise\u001b[39;00m \u001b[38;5;167;01mValueError\u001b[39;00m(\n\u001b[0;32m    503\u001b[0m         \u001b[38;5;124m\"\u001b[39m\u001b[38;5;124mEngine should not be specified when passing \u001b[39m\u001b[38;5;124m\"\u001b[39m\n\u001b[0;32m    504\u001b[0m         \u001b[38;5;124m\"\u001b[39m\u001b[38;5;124man ExcelFile - ExcelFile already has the engine set\u001b[39m\u001b[38;5;124m\"\u001b[39m\n\u001b[0;32m    505\u001b[0m     )\n",
      "File \u001b[1;32mc:\\Users\\jarojas\\AppData\\Local\\anaconda3\\envs\\proyeccion-rdr\\lib\\site-packages\\pandas\\io\\excel\\_base.py:1550\u001b[0m, in \u001b[0;36mExcelFile.__init__\u001b[1;34m(self, path_or_buffer, engine, storage_options, engine_kwargs)\u001b[0m\n\u001b[0;32m   1548\u001b[0m     ext \u001b[38;5;241m=\u001b[39m \u001b[38;5;124m\"\u001b[39m\u001b[38;5;124mxls\u001b[39m\u001b[38;5;124m\"\u001b[39m\n\u001b[0;32m   1549\u001b[0m \u001b[38;5;28;01melse\u001b[39;00m:\n\u001b[1;32m-> 1550\u001b[0m     ext \u001b[38;5;241m=\u001b[39m \u001b[43minspect_excel_format\u001b[49m\u001b[43m(\u001b[49m\n\u001b[0;32m   1551\u001b[0m \u001b[43m        \u001b[49m\u001b[43mcontent_or_path\u001b[49m\u001b[38;5;241;43m=\u001b[39;49m\u001b[43mpath_or_buffer\u001b[49m\u001b[43m,\u001b[49m\u001b[43m \u001b[49m\u001b[43mstorage_options\u001b[49m\u001b[38;5;241;43m=\u001b[39;49m\u001b[43mstorage_options\u001b[49m\n\u001b[0;32m   1552\u001b[0m \u001b[43m    \u001b[49m\u001b[43m)\u001b[49m\n\u001b[0;32m   1553\u001b[0m     \u001b[38;5;28;01mif\u001b[39;00m ext \u001b[38;5;129;01mis\u001b[39;00m \u001b[38;5;28;01mNone\u001b[39;00m:\n\u001b[0;32m   1554\u001b[0m         \u001b[38;5;28;01mraise\u001b[39;00m \u001b[38;5;167;01mValueError\u001b[39;00m(\n\u001b[0;32m   1555\u001b[0m             \u001b[38;5;124m\"\u001b[39m\u001b[38;5;124mExcel file format cannot be determined, you must specify \u001b[39m\u001b[38;5;124m\"\u001b[39m\n\u001b[0;32m   1556\u001b[0m             \u001b[38;5;124m\"\u001b[39m\u001b[38;5;124man engine manually.\u001b[39m\u001b[38;5;124m\"\u001b[39m\n\u001b[0;32m   1557\u001b[0m         )\n",
      "File \u001b[1;32mc:\\Users\\jarojas\\AppData\\Local\\anaconda3\\envs\\proyeccion-rdr\\lib\\site-packages\\pandas\\io\\excel\\_base.py:1402\u001b[0m, in \u001b[0;36minspect_excel_format\u001b[1;34m(content_or_path, storage_options)\u001b[0m\n\u001b[0;32m   1399\u001b[0m \u001b[38;5;28;01mif\u001b[39;00m \u001b[38;5;28misinstance\u001b[39m(content_or_path, \u001b[38;5;28mbytes\u001b[39m):\n\u001b[0;32m   1400\u001b[0m     content_or_path \u001b[38;5;241m=\u001b[39m BytesIO(content_or_path)\n\u001b[1;32m-> 1402\u001b[0m \u001b[38;5;28;01mwith\u001b[39;00m \u001b[43mget_handle\u001b[49m\u001b[43m(\u001b[49m\n\u001b[0;32m   1403\u001b[0m \u001b[43m    \u001b[49m\u001b[43mcontent_or_path\u001b[49m\u001b[43m,\u001b[49m\u001b[43m \u001b[49m\u001b[38;5;124;43m\"\u001b[39;49m\u001b[38;5;124;43mrb\u001b[39;49m\u001b[38;5;124;43m\"\u001b[39;49m\u001b[43m,\u001b[49m\u001b[43m \u001b[49m\u001b[43mstorage_options\u001b[49m\u001b[38;5;241;43m=\u001b[39;49m\u001b[43mstorage_options\u001b[49m\u001b[43m,\u001b[49m\u001b[43m \u001b[49m\u001b[43mis_text\u001b[49m\u001b[38;5;241;43m=\u001b[39;49m\u001b[38;5;28;43;01mFalse\u001b[39;49;00m\n\u001b[0;32m   1404\u001b[0m \u001b[43m\u001b[49m\u001b[43m)\u001b[49m \u001b[38;5;28;01mas\u001b[39;00m handle:\n\u001b[0;32m   1405\u001b[0m     stream \u001b[38;5;241m=\u001b[39m handle\u001b[38;5;241m.\u001b[39mhandle\n\u001b[0;32m   1406\u001b[0m     stream\u001b[38;5;241m.\u001b[39mseek(\u001b[38;5;241m0\u001b[39m)\n",
      "File \u001b[1;32mc:\\Users\\jarojas\\AppData\\Local\\anaconda3\\envs\\proyeccion-rdr\\lib\\site-packages\\pandas\\io\\common.py:882\u001b[0m, in \u001b[0;36mget_handle\u001b[1;34m(path_or_buf, mode, encoding, compression, memory_map, is_text, errors, storage_options)\u001b[0m\n\u001b[0;32m    873\u001b[0m         handle \u001b[38;5;241m=\u001b[39m \u001b[38;5;28mopen\u001b[39m(\n\u001b[0;32m    874\u001b[0m             handle,\n\u001b[0;32m    875\u001b[0m             ioargs\u001b[38;5;241m.\u001b[39mmode,\n\u001b[1;32m   (...)\u001b[0m\n\u001b[0;32m    878\u001b[0m             newline\u001b[38;5;241m=\u001b[39m\u001b[38;5;124m\"\u001b[39m\u001b[38;5;124m\"\u001b[39m,\n\u001b[0;32m    879\u001b[0m         )\n\u001b[0;32m    880\u001b[0m     \u001b[38;5;28;01melse\u001b[39;00m:\n\u001b[0;32m    881\u001b[0m         \u001b[38;5;66;03m# Binary mode\u001b[39;00m\n\u001b[1;32m--> 882\u001b[0m         handle \u001b[38;5;241m=\u001b[39m \u001b[38;5;28;43mopen\u001b[39;49m\u001b[43m(\u001b[49m\u001b[43mhandle\u001b[49m\u001b[43m,\u001b[49m\u001b[43m \u001b[49m\u001b[43mioargs\u001b[49m\u001b[38;5;241;43m.\u001b[39;49m\u001b[43mmode\u001b[49m\u001b[43m)\u001b[49m\n\u001b[0;32m    883\u001b[0m     handles\u001b[38;5;241m.\u001b[39mappend(handle)\n\u001b[0;32m    885\u001b[0m \u001b[38;5;66;03m# Convert BytesIO or file objects passed with an encoding\u001b[39;00m\n",
      "\u001b[1;31mFileNotFoundError\u001b[0m: [Errno 2] No such file or directory: '../data/interim/casos_teoricos_diagnosticos.xlsx'"
     ]
    }
   ],
   "source": [
    "resumen_casos_teoricos = pd.read_excel(\n",
    "    \"../data/interim/casos_teoricos_diagnosticos.xlsx\", sheet_name=\"resumen_total_RDR\"\n",
    ")\n",
    "\n",
    "resumen_casos_teoricos[\"Diagnostico_codigo\"] = (\n",
    "    resumen_casos_teoricos[\"Diagnostico\"].str.split(\" - \").str[0]\n",
    ")\n",
    "resumen_casos_teoricos = resumen_casos_teoricos.set_index(\"Diagnostico_codigo\")\n",
    "\n",
    "resumen_minsal = resumen_casos_teoricos.merge(\n",
    "    resumen_hosp, how=\"right\", left_index=True, right_index=True\n",
    ")\n",
    "\n",
    "resumen_minsal = resumen_minsal.reset_index(drop=True).set_index(\"Diagnostico\")"
   ]
  },
  {
   "cell_type": "markdown",
   "metadata": {},
   "source": [
    "## Guardar archivos"
   ]
  },
  {
   "cell_type": "code",
   "execution_count": null,
   "metadata": {},
   "outputs": [
    {
     "name": "stdout",
     "output_type": "stream",
     "text": [
      "Guardando resumen_MINSAL\n",
      "Guardando metricas_relevantes_INT\n",
      "Guardando casos_hospitalizados_INT\n",
      "Guardando egresos_estimados_INT\n",
      "Guardando dias_estada_estimados_INT\n",
      "Guardando camas_estimadas_desglosadas_INT\n",
      "Guardando camas_totales_INT\n",
      "Guardando resumen_total_hosp_INT\n"
     ]
    }
   ],
   "source": [
    "archivos_a_guardar = {\n",
    "    \"resumen_MINSAL\": resumen_minsal,\n",
    "    \"metricas_relevantes_INT\": metricas_diags_relevantes_rdr,\n",
    "    \"casos_hospitalizados_INT\": casos_hospitalizados,\n",
    "    \"egresos_estimados_INT\": egresos_estimados_rdr,\n",
    "    \"dias_estada_estimados_INT\": dias_estada_estimados_rdr,\n",
    "    \"camas_estimadas_desglosadas_INT\": camas_estimadas_rdr,\n",
    "    \"camas_totales_INT\": camas_totales_rdr,\n",
    "    \"resumen_total_hosp_INT\": resumen_hosp,\n",
    "}\n",
    "\n",
    "with pd.ExcelWriter(\"../data/interim/1.0_estimacion_atencion_cerrada_INT.xlsx\") as file:\n",
    "    for nombre_hoja, df_a_guardar in archivos_a_guardar.items():\n",
    "        print(f\"Guardando {nombre_hoja}\")\n",
    "        df_a_guardar.to_excel(file, sheet_name=nombre_hoja)"
   ]
  }
 ],
 "metadata": {
  "kernelspec": {
   "display_name": "proyeccion-rdr",
   "language": "python",
   "name": "python3"
  },
  "language_info": {
   "codemirror_mode": {
    "name": "ipython",
    "version": 3
   },
   "file_extension": ".py",
   "mimetype": "text/x-python",
   "name": "python",
   "nbconvert_exporter": "python",
   "pygments_lexer": "ipython3",
   "version": "3.10.16"
  }
 },
 "nbformat": 4,
 "nbformat_minor": 2
}
