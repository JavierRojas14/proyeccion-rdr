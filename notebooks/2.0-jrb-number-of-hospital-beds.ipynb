{
 "cells": [
  {
   "cell_type": "code",
   "execution_count": 19,
   "metadata": {},
   "outputs": [
    {
     "name": "stdout",
     "output_type": "stream",
     "text": [
      "The autoreload extension is already loaded. To reload it, use:\n",
      "  %reload_ext autoreload\n"
     ]
    }
   ],
   "source": [
    "import sys\n",
    "import os\n",
    "\n",
    "project_root = os.path.abspath('..')\n",
    "if project_root not in sys.path:\n",
    "    sys.path.append(project_root)\n",
    "\n",
    "%load_ext autoreload\n",
    "%autoreload 2"
   ]
  },
  {
   "cell_type": "code",
   "execution_count": 20,
   "metadata": {},
   "outputs": [],
   "source": [
    "import pandas as pd\n",
    "import polars as pl\n",
    "import numpy as np\n",
    "\n",
    "import matplotlib.pyplot as plt\n",
    "\n",
    "import proyeccion_rdr.features as features\n",
    "\n",
    "plt.rcParams[\"figure.figsize\"] = (12, 6)\n",
    "pd.set_option(\"display.max_columns\", None)\n",
    "\n",
    "# Asumiendo que es una ocupacion del 80% de camas\n",
    "INDICE_OCUPACION_CAMAS = 1.25\n",
    "\n",
    "# Agrega las columnas de poblacion de interes\n",
    "COLUMNAS_POBLACION_INTERES = {str(i): i for i in range(2017, 2036)}"
   ]
  },
  {
   "cell_type": "markdown",
   "metadata": {},
   "source": [
    "# Proyección de casos INT al 2035"
   ]
  },
  {
   "cell_type": "code",
   "execution_count": 21,
   "metadata": {},
   "outputs": [],
   "source": [
    "# Lee los casos de todos los macroprocesos\n",
    "RUTA_ARCHIVOS = \"../data/interim/0.1_casos_teoricos_diagnosticos.xlsx\"\n",
    "_, casos_macroproceso = features.leer_casos_macroprocesos(RUTA_ARCHIVOS)\n",
    "\n",
    "# Obtiene los casos hospitalizados\n",
    "casos_hospitalizados = casos_macroproceso.query(\"tipo_paciente == 'hospitalizados'\")"
   ]
  },
  {
   "cell_type": "code",
   "execution_count": 22,
   "metadata": {},
   "outputs": [],
   "source": [
    "# Los diagnosticos que tienen un porcentaje de hosp. mayor a 0\n",
    "diagnosticos_relevantes = list(casos_hospitalizados.index)\n",
    "\n",
    "# Ademas, los diagnosticos que estan agrupados dentro de los que aportan a AC\n",
    "# Solo deja los diagnosticos que esten agrupados\n",
    "diagnosticos_a_reasignar = casos_hospitalizados.dropna(subset=\"Diagnosticos Contenidos\")\n",
    "\n",
    "# Separa la lista de diagnosticos en filas\n",
    "diagnosticos_agrupados = diagnosticos_a_reasignar.explode(\"Diagnosticos Contenidos\")\n",
    "diagnosticos_agrupados = list(diagnosticos_agrupados[\"Diagnosticos Contenidos\"].unique())\n",
    "\n",
    "# Suma los diagnosticos relevantes y los agrupados\n",
    "diagnosticos_a_buscar_en_egresos = sorted(diagnosticos_relevantes + diagnosticos_agrupados)"
   ]
  },
  {
   "cell_type": "markdown",
   "metadata": {},
   "source": [
    "## Obtención de casos atendidos entre 2017 y 2020 para diagnósticos relevantes.\n",
    "\n",
    "Estos se obtendrán del análisis de egresos hospitalarios a nivel país DEIS."
   ]
  },
  {
   "cell_type": "code",
   "execution_count": 23,
   "metadata": {},
   "outputs": [],
   "source": [
    "# Lee los egresos del Torax\n",
    "egresos_rdr = pl.read_csv(\"../data/raw/4_egresos_deis/egresos_procesados_109101.csv\")"
   ]
  },
  {
   "cell_type": "markdown",
   "metadata": {},
   "source": [
    "En primer lugar, se filtrarán ambas bases de datos para solamente tener la información de los diagnósticos más relevantes para el INT. Luego de esto, se calculará la cantidad de egresos, dias de estada y pacientes para cada uno de los diagnósticos. Estos insumos serán utilizados para estimar la demanda.\n"
   ]
  },
  {
   "cell_type": "code",
   "execution_count": 24,
   "metadata": {},
   "outputs": [],
   "source": [
    "# Filtra solamente los diagnosticos mas relevantes del Torax\n",
    "egresos_mas_relevantes_rdr = egresos_rdr.filter(\n",
    "    (pl.col(\"DIAG1\").is_in(diagnosticos_a_buscar_en_egresos))\n",
    ")"
   ]
  },
  {
   "cell_type": "code",
   "execution_count": 25,
   "metadata": {},
   "outputs": [],
   "source": [
    "egresos_totales_rdr = egresos_rdr.to_pandas().groupby(\"ANO_EGRESO\").size()\n",
    "egresos_relevantes_rdr = egresos_mas_relevantes_rdr.to_pandas().groupby(\"ANO_EGRESO\").size()\n",
    "comparacion_egresos = pd.concat([egresos_totales_rdr, egresos_relevantes_rdr], axis=1)\n",
    "comparacion_egresos[\"%\"] = round((comparacion_egresos[1] / comparacion_egresos[0]) * 100, 2)"
   ]
  },
  {
   "cell_type": "code",
   "execution_count": 26,
   "metadata": {},
   "outputs": [
    {
     "data": {
      "text/html": [
       "<div>\n",
       "<style scoped>\n",
       "    .dataframe tbody tr th:only-of-type {\n",
       "        vertical-align: middle;\n",
       "    }\n",
       "\n",
       "    .dataframe tbody tr th {\n",
       "        vertical-align: top;\n",
       "    }\n",
       "\n",
       "    .dataframe thead th {\n",
       "        text-align: right;\n",
       "    }\n",
       "</style>\n",
       "<table border=\"1\" class=\"dataframe\">\n",
       "  <thead>\n",
       "    <tr style=\"text-align: right;\">\n",
       "      <th></th>\n",
       "      <th>0</th>\n",
       "      <th>1</th>\n",
       "      <th>%</th>\n",
       "    </tr>\n",
       "    <tr>\n",
       "      <th>ANO_EGRESO</th>\n",
       "      <th></th>\n",
       "      <th></th>\n",
       "      <th></th>\n",
       "    </tr>\n",
       "  </thead>\n",
       "  <tbody>\n",
       "    <tr>\n",
       "      <th>2001.0</th>\n",
       "      <td>12891</td>\n",
       "      <td>3198</td>\n",
       "      <td>24.81</td>\n",
       "    </tr>\n",
       "    <tr>\n",
       "      <th>2002.0</th>\n",
       "      <td>12889</td>\n",
       "      <td>3244</td>\n",
       "      <td>25.17</td>\n",
       "    </tr>\n",
       "    <tr>\n",
       "      <th>2003.0</th>\n",
       "      <td>14451</td>\n",
       "      <td>3845</td>\n",
       "      <td>26.61</td>\n",
       "    </tr>\n",
       "    <tr>\n",
       "      <th>2004.0</th>\n",
       "      <td>14038</td>\n",
       "      <td>4087</td>\n",
       "      <td>29.11</td>\n",
       "    </tr>\n",
       "    <tr>\n",
       "      <th>2005.0</th>\n",
       "      <td>14361</td>\n",
       "      <td>3865</td>\n",
       "      <td>26.91</td>\n",
       "    </tr>\n",
       "    <tr>\n",
       "      <th>2006.0</th>\n",
       "      <td>14597</td>\n",
       "      <td>3683</td>\n",
       "      <td>25.23</td>\n",
       "    </tr>\n",
       "    <tr>\n",
       "      <th>2007.0</th>\n",
       "      <td>13367</td>\n",
       "      <td>3444</td>\n",
       "      <td>25.76</td>\n",
       "    </tr>\n",
       "    <tr>\n",
       "      <th>2008.0</th>\n",
       "      <td>12301</td>\n",
       "      <td>2808</td>\n",
       "      <td>22.83</td>\n",
       "    </tr>\n",
       "    <tr>\n",
       "      <th>2009.0</th>\n",
       "      <td>13524</td>\n",
       "      <td>3663</td>\n",
       "      <td>27.09</td>\n",
       "    </tr>\n",
       "    <tr>\n",
       "      <th>2010.0</th>\n",
       "      <td>13672</td>\n",
       "      <td>5570</td>\n",
       "      <td>40.74</td>\n",
       "    </tr>\n",
       "    <tr>\n",
       "      <th>2011.0</th>\n",
       "      <td>12605</td>\n",
       "      <td>5858</td>\n",
       "      <td>46.47</td>\n",
       "    </tr>\n",
       "    <tr>\n",
       "      <th>2012.0</th>\n",
       "      <td>9881</td>\n",
       "      <td>4723</td>\n",
       "      <td>47.80</td>\n",
       "    </tr>\n",
       "    <tr>\n",
       "      <th>2013.0</th>\n",
       "      <td>8291</td>\n",
       "      <td>3931</td>\n",
       "      <td>47.41</td>\n",
       "    </tr>\n",
       "    <tr>\n",
       "      <th>2014.0</th>\n",
       "      <td>8308</td>\n",
       "      <td>3967</td>\n",
       "      <td>47.75</td>\n",
       "    </tr>\n",
       "    <tr>\n",
       "      <th>2015.0</th>\n",
       "      <td>8479</td>\n",
       "      <td>3901</td>\n",
       "      <td>46.01</td>\n",
       "    </tr>\n",
       "    <tr>\n",
       "      <th>2016.0</th>\n",
       "      <td>7807</td>\n",
       "      <td>3647</td>\n",
       "      <td>46.71</td>\n",
       "    </tr>\n",
       "    <tr>\n",
       "      <th>2017.0</th>\n",
       "      <td>8684</td>\n",
       "      <td>4127</td>\n",
       "      <td>47.52</td>\n",
       "    </tr>\n",
       "    <tr>\n",
       "      <th>2018.0</th>\n",
       "      <td>9025</td>\n",
       "      <td>4220</td>\n",
       "      <td>46.76</td>\n",
       "    </tr>\n",
       "    <tr>\n",
       "      <th>2019.0</th>\n",
       "      <td>9200</td>\n",
       "      <td>4317</td>\n",
       "      <td>46.92</td>\n",
       "    </tr>\n",
       "    <tr>\n",
       "      <th>2020.0</th>\n",
       "      <td>4966</td>\n",
       "      <td>1671</td>\n",
       "      <td>33.65</td>\n",
       "    </tr>\n",
       "    <tr>\n",
       "      <th>2021.0</th>\n",
       "      <td>5639</td>\n",
       "      <td>2202</td>\n",
       "      <td>39.05</td>\n",
       "    </tr>\n",
       "    <tr>\n",
       "      <th>2022.0</th>\n",
       "      <td>6890</td>\n",
       "      <td>3263</td>\n",
       "      <td>47.36</td>\n",
       "    </tr>\n",
       "    <tr>\n",
       "      <th>2023.0</th>\n",
       "      <td>7722</td>\n",
       "      <td>3946</td>\n",
       "      <td>51.10</td>\n",
       "    </tr>\n",
       "  </tbody>\n",
       "</table>\n",
       "</div>"
      ],
      "text/plain": [
       "                0     1      %\n",
       "ANO_EGRESO                    \n",
       "2001.0      12891  3198  24.81\n",
       "2002.0      12889  3244  25.17\n",
       "2003.0      14451  3845  26.61\n",
       "2004.0      14038  4087  29.11\n",
       "2005.0      14361  3865  26.91\n",
       "2006.0      14597  3683  25.23\n",
       "2007.0      13367  3444  25.76\n",
       "2008.0      12301  2808  22.83\n",
       "2009.0      13524  3663  27.09\n",
       "2010.0      13672  5570  40.74\n",
       "2011.0      12605  5858  46.47\n",
       "2012.0       9881  4723  47.80\n",
       "2013.0       8291  3931  47.41\n",
       "2014.0       8308  3967  47.75\n",
       "2015.0       8479  3901  46.01\n",
       "2016.0       7807  3647  46.71\n",
       "2017.0       8684  4127  47.52\n",
       "2018.0       9025  4220  46.76\n",
       "2019.0       9200  4317  46.92\n",
       "2020.0       4966  1671  33.65\n",
       "2021.0       5639  2202  39.05\n",
       "2022.0       6890  3263  47.36\n",
       "2023.0       7722  3946  51.10"
      ]
     },
     "execution_count": 26,
     "metadata": {},
     "output_type": "execute_result"
    }
   ],
   "source": [
    "comparacion_egresos"
   ]
  },
  {
   "cell_type": "markdown",
   "metadata": {},
   "source": [
    "## Reasginación de diagnósticos y agrupación"
   ]
  },
  {
   "cell_type": "code",
   "execution_count": 27,
   "metadata": {},
   "outputs": [
    {
     "name": "stdout",
     "output_type": "stream",
     "text": [
      "Cambiando ['A090', 'A099'] a AGTO\n",
      "Cambiando ['D231', 'D233', 'D236', 'D367', 'L720'] a DQUI\n",
      "Cambiando ['Q262', 'K914', 'K638'] a ENTN\n",
      "Cambiando ['H652', 'H653', 'H654', 'H669'] a HOTI\n",
      "Cambiando ['J353'] a J351\n",
      "Cambiando ['J205', 'J208', 'J209'] a JBRO\n",
      "Cambiando ['J210', 'J218', 'J219'] a JBRQ\n",
      "Cambiando ['J121', 'J122', 'J123', 'J129', 'J159', 'J189'] a JNEU\n",
      "Cambiando ['K352', 'K353', 'K358'] a KAPE\n",
      "Cambiando ['K565', 'K650'] a KGAST\n",
      "Cambiando ['M411', 'M410', 'M412', 'M414', 'T813', 'Q763'] a MESC\n",
      "Cambiando ['K560', 'Q625', 'T222'] a OBSI\n",
      "Cambiando ['K36X', 'K659'] a PERC\n",
      "Cambiando ['Q390', 'Q391', 'Q393'] a QATR\n",
      "Cambiando ['Q375', 'Q374', 'Q369', 'Q371', 'Q379', 'Q373', 'Q370', 'T813', 'Q355', 'Q372', 'Q359', 'Q378'] a QLAB\n",
      "Cambiando ['S424', 'S524', 'S525', 'S528', 'S529'] a SFRA\n",
      "Cambiando ['T213', 'T202', 'T212', 'T203', 'T293', 'T201', 'T273', 'T223', 'T222', 'T243', 'T280', 'T211', 'T242', 'T253', 'T232', 'T221', 'T241', 'T312', 'T291', 'T292', 'T252'] a TQUE\n"
     ]
    }
   ],
   "source": [
    "for row in diagnosticos_a_reasignar.itertuples():\n",
    "    diagnostico_nuevo = row[0]\n",
    "    diagnosticos_antiguos = row[1]\n",
    "\n",
    "    print(f\"Cambiando {diagnosticos_antiguos} a {diagnostico_nuevo}\")\n",
    "    egresos_mas_relevantes_rdr = egresos_mas_relevantes_rdr.with_columns(\n",
    "        pl.col(\"DIAG1\").replace(diagnosticos_antiguos, diagnostico_nuevo)\n",
    "    )"
   ]
  },
  {
   "cell_type": "code",
   "execution_count": 28,
   "metadata": {},
   "outputs": [],
   "source": [
    "# Obtiene resumen de metricas para el Torax\n",
    "metricas_diags_relevantes_rdr = (\n",
    "    features.calcular_resumen_metricas_desagregadas_y_agrupadas_en_anios(\n",
    "        egresos_mas_relevantes_rdr, 2019, 2023\n",
    "    )\n",
    ")"
   ]
  },
  {
   "cell_type": "code",
   "execution_count": 29,
   "metadata": {},
   "outputs": [],
   "source": [
    "# Define las columnas que se quieran corregir\n",
    "columna_dias_estada = (\"agrupado_entre_2019_2023\", \"dias_estada_promedio\")"
   ]
  },
  {
   "cell_type": "markdown",
   "metadata": {},
   "source": [
    "## Estimación de casos Hospitalizados utilizando % de Hospitalización del INT\n",
    "\n",
    "En este caso, se utilizará el % de hospitalización del INT de los pacientes ambulatorios."
   ]
  },
  {
   "cell_type": "code",
   "execution_count": 30,
   "metadata": {},
   "outputs": [],
   "source": [
    "# Se obtiene la cantidad de egresos que debiese tener el INT, asumiendo que trabajara con la misma\n",
    "# eficiencia\n",
    "egresos_estimados_rdr = casos_hospitalizados[COLUMNAS_POBLACION_INTERES.keys()].mul(\n",
    "    metricas_diags_relevantes_rdr[(\"agrupado_entre_2019_2023\", \"egresos_por_paciente\")], axis=0\n",
    ")\n",
    "\n",
    "# Se obtiene la cantidad de dias de estada que debiese el INT, asumiendo que trabajara con la misma\n",
    "# eficiencia\n",
    "dias_estada_estimados_rdr = egresos_estimados_rdr.mul(\n",
    "    metricas_diags_relevantes_rdr[(\"agrupado_entre_2019_2023\", \"dias_estada_promedio\")], axis=0\n",
    ")\n",
    "\n",
    "# Estima la cantidad de camas necesaarias por diagnostico\n",
    "camas_estimadas_rdr = (dias_estada_estimados_rdr / 365.25) * INDICE_OCUPACION_CAMAS\n",
    "\n",
    "# Calcula las camas totales necesarias\n",
    "camas_totales_rdr = camas_estimadas_rdr.sum()"
   ]
  },
  {
   "cell_type": "code",
   "execution_count": 31,
   "metadata": {},
   "outputs": [],
   "source": [
    "# Se quiere tener un 60% de UPC (1:2, UCI:UTI, y 40% de Medias)\n",
    "FRACCION_UCI = 0.21\n",
    "FRACCION_UTI = 0.42\n",
    "FRACCION_MEDIAS = 0.37\n",
    "\n",
    "# Agrega las camas necesarias para trasplantes a las del 2035\n",
    "camas_al_2035 = (camas_totales_rdr[\"2035\"])\n",
    "# Obtiene la cantidad de camas UCI, UTI y Medias sin redondear\n",
    "camas_uci = (camas_al_2035 * FRACCION_UCI)\n",
    "camas_uti = (camas_al_2035 * FRACCION_UTI)\n",
    "camas_medias = (camas_al_2035 * FRACCION_MEDIAS)\n",
    "\n",
    "# Obtiene la cantidad de camas UCI, UTI y Medias redondeadas\n",
    "camas_uci_redondeadas = round(camas_al_2035 * FRACCION_UCI)\n",
    "camas_uti_redondeadas = round(camas_al_2035 * FRACCION_UTI)\n",
    "camas_medias_redondeadas = round(camas_al_2035 * FRACCION_MEDIAS)\n",
    "camas_al_2035_redondeadas = round(camas_al_2035)"
   ]
  },
  {
   "cell_type": "code",
   "execution_count": 32,
   "metadata": {},
   "outputs": [
    {
     "name": "stdout",
     "output_type": "stream",
     "text": [
      "> Camas 2035: 182.13\n",
      "\n",
      "> Total Redondeadas: 182 camas\n"
     ]
    }
   ],
   "source": [
    "print(f\"> Camas 2035: {camas_al_2035:.2f}\")\n",
    "# print(f\"> UCI: {camas_uci:.2f} camas\")\n",
    "# print(f\"> UTI: {camas_uti:.2f} camas\")\n",
    "# print(f\"> Medias: {camas_medias:.2f} camas\")\n",
    "print()\n",
    "# print(f\"> UCI Redondeadas: {camas_uci_redondeadas} camas\")\n",
    "# print(f\"> UTI Redondeadas: {camas_uti_redondeadas} camas\")\n",
    "# print(f\"> Medias Redondeadas: {camas_medias_redondeadas} camas\")\n",
    "print(f\"> Total Redondeadas: {camas_al_2035_redondeadas} camas\")"
   ]
  },
  {
   "cell_type": "markdown",
   "metadata": {},
   "source": [
    "## Obtener resumen para MINSAL"
   ]
  },
  {
   "cell_type": "code",
   "execution_count": 33,
   "metadata": {},
   "outputs": [],
   "source": [
    "# Obtiene porcentaje de hospitalizados\n",
    "porcentaje_hospitalizados = pd.read_excel(\n",
    "    \"../data/raw/3_incidencias_y_porcentajes_marcoprocesos/incidencias_y_prevalencias_RDR.xlsx\"\n",
    ")\n",
    "\n",
    "porcentaje_hospitalizados[\"Diagnostico\"] = (\n",
    "    porcentaje_hospitalizados[\"Diagnostico\"].str.split(\" - \").str[0]\n",
    ")\n",
    "\n",
    "# Filtra los porcentajes de hospitalizados\n",
    "porcentaje_hospitalizados = porcentaje_hospitalizados.set_index(\"Diagnostico\")\n",
    "porcentaje_hospitalizados = porcentaje_hospitalizados[\"Porcentaje Pacientes Hospitalizados\"]\n",
    "porcentaje_hospitalizados = porcentaje_hospitalizados.dropna()\n",
    "porcentaje_hospitalizados = porcentaje_hospitalizados[porcentaje_hospitalizados > 0]"
   ]
  },
  {
   "cell_type": "code",
   "execution_count": 34,
   "metadata": {},
   "outputs": [],
   "source": [
    "# Obtiene resumen para MINSAL\n",
    "resumen_hosp = pd.DataFrame(\n",
    "    {\n",
    "        \"porcentaje_hospitalizado\": porcentaje_hospitalizados,\n",
    "        \"casos_hospitalizados_2035\": casos_hospitalizados[\"2035\"],\n",
    "        \"egresos_por_paciente_agrupado_2019_2023\": metricas_diags_relevantes_rdr[\n",
    "            (\"agrupado_entre_2019_2023\", \"egresos_por_paciente\")\n",
    "        ],\n",
    "        \"egresos_2035\": egresos_estimados_rdr[\"2035\"],\n",
    "        \"dias_estada_promedio_agrupado_2019_2023\": metricas_diags_relevantes_rdr[\n",
    "            (\"agrupado_entre_2019_2023\", \"dias_estada_promedio\")\n",
    "        ],\n",
    "        \"dias_estada_totales_2035\": dias_estada_estimados_rdr[\"2035\"],\n",
    "        \"camas_totales_2035\": camas_estimadas_rdr[\"2035\"],\n",
    "    }\n",
    ")"
   ]
  },
  {
   "cell_type": "markdown",
   "metadata": {},
   "source": [
    "Finalmente, une el resumen de casos teoricos desde el cuadernillo 1.0 con el resumen de este cuadernillo. Esto obtiene la tabla final para MINSAL."
   ]
  },
  {
   "cell_type": "code",
   "execution_count": 35,
   "metadata": {},
   "outputs": [],
   "source": [
    "resumen_casos_teoricos = pd.read_excel(\n",
    "    \"../data/interim/0.1_casos_teoricos_diagnosticos.xlsx\", sheet_name=\"resumen_total_RDR\"\n",
    ")\n",
    "\n",
    "resumen_casos_teoricos[\"Diagnostico_codigo\"] = (\n",
    "    resumen_casos_teoricos[\"Diagnostico\"].str.split(\" - \").str[0]\n",
    ")\n",
    "resumen_casos_teoricos = resumen_casos_teoricos.set_index(\"Diagnostico_codigo\")\n",
    "\n",
    "resumen_minsal = resumen_casos_teoricos.merge(\n",
    "    resumen_hosp, how=\"right\", left_index=True, right_index=True\n",
    ")\n",
    "\n",
    "resumen_minsal = resumen_minsal.reset_index(drop=True).set_index(\"Diagnostico\")"
   ]
  },
  {
   "cell_type": "markdown",
   "metadata": {},
   "source": [
    "## Guardar archivos"
   ]
  },
  {
   "cell_type": "code",
   "execution_count": 36,
   "metadata": {},
   "outputs": [
    {
     "name": "stdout",
     "output_type": "stream",
     "text": [
      "Guardando resumen_MINSAL\n",
      "Guardando metricas_relevantes_RDR\n",
      "Guardando casos_hospitalizados_RDR\n",
      "Guardando egresos_estimados_RDR\n",
      "Guardando dias_estada_estimados_RDR\n",
      "Guardando camas_estimadas_desglosadas_RDR\n",
      "Guardando camas_totales_RDR\n",
      "Guardando resumen_total_hosp_RDR\n"
     ]
    }
   ],
   "source": [
    "archivos_a_guardar = {\n",
    "    \"resumen_MINSAL\": resumen_minsal,\n",
    "    \"metricas_relevantes_RDR\": metricas_diags_relevantes_rdr,\n",
    "    \"casos_hospitalizados_RDR\": casos_hospitalizados,\n",
    "    \"egresos_estimados_RDR\": egresos_estimados_rdr,\n",
    "    \"dias_estada_estimados_RDR\": dias_estada_estimados_rdr,\n",
    "    \"camas_estimadas_desglosadas_RDR\": camas_estimadas_rdr,\n",
    "    \"camas_totales_RDR\": camas_totales_rdr,\n",
    "    \"resumen_total_hosp_RDR\": resumen_hosp,\n",
    "}\n",
    "\n",
    "with pd.ExcelWriter(\"../data/interim/1.0_estimacion_atencion_cerrada_RDR.xlsx\") as file:\n",
    "    for nombre_hoja, df_a_guardar in archivos_a_guardar.items():\n",
    "        print(f\"Guardando {nombre_hoja}\")\n",
    "        df_a_guardar.to_excel(file, sheet_name=nombre_hoja)"
   ]
  }
 ],
 "metadata": {
  "kernelspec": {
   "display_name": "proyeccion-rdr",
   "language": "python",
   "name": "python3"
  },
  "language_info": {
   "codemirror_mode": {
    "name": "ipython",
    "version": 3
   },
   "file_extension": ".py",
   "mimetype": "text/x-python",
   "name": "python",
   "nbconvert_exporter": "python",
   "pygments_lexer": "ipython3",
   "version": "3.10.17"
  }
 },
 "nbformat": 4,
 "nbformat_minor": 2
}
