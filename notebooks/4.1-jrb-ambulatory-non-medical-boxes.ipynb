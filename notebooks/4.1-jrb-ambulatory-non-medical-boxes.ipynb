{
 "cells": [
  {
   "cell_type": "code",
   "execution_count": 45,
   "metadata": {},
   "outputs": [
    {
     "name": "stdout",
     "output_type": "stream",
     "text": [
      "The autoreload extension is already loaded. To reload it, use:\n",
      "  %reload_ext autoreload\n"
     ]
    }
   ],
   "source": [
    "import sys\n",
    "import os\n",
    "\n",
    "project_root = os.path.abspath('..')\n",
    "if project_root not in sys.path:\n",
    "    sys.path.append(project_root)\n",
    " \n",
    "%load_ext autoreload\n",
    "%autoreload 2"
   ]
  },
  {
   "cell_type": "code",
   "execution_count": 46,
   "metadata": {},
   "outputs": [],
   "source": [
    "import pandas as pd\n",
    "import numpy as np\n",
    "\n",
    "import proyeccion_rdr.features as features\n",
    "from proyeccion_rdr.produccion.a04_ambulatorio import (\n",
    "    obtener_distribucion_consultas,\n",
    "    procesar_incidencias,\n",
    "    leer_consultas_no_medicas,\n",
    "    expandir_serie_rendimientos,\n",
    ")\n",
    "\n",
    "pd.set_option(\"display.max_columns\", None)\n",
    "\n",
    "ANIOS_POBLACION = [f\"{i}\" for i in [2024, 2029, 2039]]"
   ]
  },
  {
   "cell_type": "code",
   "execution_count": 47,
   "metadata": {},
   "outputs": [],
   "source": [
    "# Lee los casos de todos los macroprocesos\n",
    "RUTA_ARCHIVOS = \"../data/interim/0.1_casos_teoricos_diagnosticos.xlsx\"\n",
    "casos_macroproceso_por_region, casos_macroproceso = features.leer_casos_macroprocesos(\n",
    "    RUTA_ARCHIVOS\n",
    ")\n",
    "\n",
    "# Pone el indice en el DataFrame de los casos\n",
    "casos_macroproceso = casos_macroproceso.reset_index().set_index([\"Diagnostico\", \"tipo_paciente\"])\n",
    "casos_macroproceso_por_region = casos_macroproceso_por_region.reset_index().set_index(\n",
    "    [\"Diagnostico\", \"tipo_paciente\"]\n",
    ")\n",
    "\n",
    "# Define las areas de influencia presenciales\n",
    "AREAS_PRESENCIALES = [\n",
    "    \"Metropolitana de Santiago\",\n",
    "    \"COMUNAS_SIN_SS_EN_RM\",\n",
    "    \"SSMC\",\n",
    "    \"SSMN\",\n",
    "    \"SSMO\",\n",
    "    \"SSMOC\",\n",
    "    \"SSMS\",\n",
    "    \"SSMSO\",\n",
    "    \"Acotado por oferta\",\n",
    "]\n",
    "casos_macroproceso_por_region[\"es_presencial\"] = np.where(\n",
    "    casos_macroproceso_por_region[\"Estrato\"].isin(AREAS_PRESENCIALES),\n",
    "    \"Box Presencial\",\n",
    "    \"Box de Telemedicina\",\n",
    ")"
   ]
  },
  {
   "cell_type": "markdown",
   "metadata": {},
   "source": [
    "## Objetivo de este cuadernillo\n",
    "\n",
    "En este cuadernillo se quieren estimar la cantidad de pacientes ambulatorios que asisitrán al INT para el 2039. Este insumo se utilizará para estimar la cantidad de Box Ambulatorios para cada especialidad. Por lo tanto, es necesario hacer los siguientes calculos:\n",
    "\n",
    "1. Pacientes Ambulatorios\n",
    "2. Boxes Ambulatorios"
   ]
  },
  {
   "cell_type": "code",
   "execution_count": 48,
   "metadata": {},
   "outputs": [
    {
     "name": "stdout",
     "output_type": "stream",
     "text": [
      "Iniciando proceso...\n",
      "Cargando datos desde ../data/raw/3_incidencias_y_porcentajes_marcoprocesos/incidencias_y_prevalencias_RDR.xlsx, hoja: consultas_no_medicas_grupo_de_p\n",
      "Separando diagnósticos por especialidad...\n",
      "Diagnósticos únicos ingresados: 16\n",
      "Indexando por tipo de paciente y diagnóstico...\n",
      "Uniendo casos por diagnóstico con macroprocesos...\n",
      "Controlando las trazadoras ingresadas...\n",
      "Todas las trazadoras tienen casos asociados. No se requiere control adicional.\n",
      "Identificando casos duplicados...\n",
      "Especialidades con diagnósticos duplicados: \n",
      "\n",
      "Series([], Name: Diagnostico, dtype: object)\n",
      "\n",
      "Sumando pacientes por grupo y especialidad...\n",
      "Calculando casos a hacerse cargo...\n",
      "Sumando pacientes por grupo y especialidad...\n",
      "Sumando pacientes por grupo y especialidad...\n",
      "Proceso completado.\n"
     ]
    }
   ],
   "source": [
    "RUTA_INCIDENCIAS = (\n",
    "    \"../data/raw/3_incidencias_y_porcentajes_marcoprocesos/incidencias_y_prevalencias_RDR.xlsx\"\n",
    ")\n",
    "\n",
    "(\n",
    "    df_incidencias,\n",
    "    diagnosticos_ingresados,\n",
    "    casos_por_especialidad_long,\n",
    "    casos_totales_por_especialidad_y_grupo,\n",
    "    casos_a_hacerse_cargo_long,\n",
    "    casos_a_hacerse_cargo_por_especialidad_grupo_y_presencial,\n",
    "    casos_a_hacerse_cargo_consolidados,\n",
    ") = procesar_incidencias(\n",
    "    RUTA_INCIDENCIAS,\n",
    "    \"consultas_no_medicas_grupo_de_p\",\n",
    "    casos_macroproceso_por_region,\n",
    "    ANIOS_POBLACION,\n",
    ")"
   ]
  },
  {
   "cell_type": "markdown",
   "metadata": {},
   "source": [
    "## Test de Calidad\n",
    "\n",
    "En este test se quiere saber si todas las trazadoras estan ingresadas en el macroproceso ambulatorio"
   ]
  },
  {
   "cell_type": "code",
   "execution_count": 49,
   "metadata": {},
   "outputs": [],
   "source": [
    "# Lee la planilla de trazadoras y aisla\n",
    "trazadoras_totales = pd.read_excel(RUTA_INCIDENCIAS, sheet_name=\"trazadoras\")\n",
    "trazadoras_totales = set(trazadoras_totales[\"Diagnostico\"].str.split(\" - \").str[0].unique())"
   ]
  },
  {
   "cell_type": "code",
   "execution_count": 50,
   "metadata": {},
   "outputs": [],
   "source": [
    "# diagnosticos_sin_ingresar = trazadoras_totales - diagnosticos_ingresados\n",
    "# if len(diagnosticos_sin_ingresar) > 0:\n",
    "#     raise ValueError(f\"Falta ingresar las trazadoras: {diagnosticos_sin_ingresar}\")"
   ]
  },
  {
   "cell_type": "markdown",
   "metadata": {},
   "source": [
    "## Lectura de performance historico de ambulatorio"
   ]
  },
  {
   "cell_type": "code",
   "execution_count": 51,
   "metadata": {},
   "outputs": [
    {
     "name": "stderr",
     "output_type": "stream",
     "text": [
      "C:\\Users\\javie\\OneDrive\\Documents\\Trabajo\\SSMN\\2.0-proyeccion-rdr\\proyeccion_rdr\\produccion\\a04_ambulatorio.py:113: DtypeWarning: Columns (18,19) have mixed types. Specify dtype option on import or set low_memory=False.\n",
      "  df = pd.read_csv(ruta, dtype={\"id_paciente\": str})\n"
     ]
    }
   ],
   "source": [
    "# Lee las consultas medicas\n",
    "RUTA_AMBULATORIO = \"../data/raw/6_ambulatorio/df_procesada_consultas_no_medicas.csv\"\n",
    "consultas_no_medicas = leer_consultas_no_medicas(RUTA_AMBULATORIO)"
   ]
  },
  {
   "cell_type": "code",
   "execution_count": 52,
   "metadata": {},
   "outputs": [],
   "source": [
    "# Obtiene resumen de consultas acumuladas en el periodo\n",
    "agrupacion_acumulada = [\"especialidad_agrupada\"]\n",
    "distribucion_consultas_no_medicas_acumuladas, consultas_no_medicas_por_paciente_acumuladas = (\n",
    "    obtener_distribucion_consultas(consultas_no_medicas, agrupacion_acumulada)\n",
    ")\n",
    "\n",
    "# Aisla el nombre de la columna que tenga el 75% de las consultas\n",
    "columna_estadistica_cantidad_consultas = distribucion_consultas_no_medicas_acumuladas.columns[\n",
    "    distribucion_consultas_no_medicas_acumuladas.columns.str.contains(\"75%\")\n",
    "][0]\n",
    "\n",
    "# Indica cuantas consultas por cada una de las especialidades\n",
    "cantidad_consultas_no_medicas_a_ocupar = distribucion_consultas_no_medicas_acumuladas[\n",
    "    columna_estadistica_cantidad_consultas\n",
    "]\n",
    "\n",
    "# Filtra las especialidades para solo dejar las que estan en la cartera de servicios\n",
    "cantidad_consultas_no_medicas_a_ocupar = cantidad_consultas_no_medicas_a_ocupar[\n",
    "    cantidad_consultas_no_medicas_a_ocupar.index.isin(\n",
    "        casos_a_hacerse_cargo_por_especialidad_grupo_y_presencial.index.get_level_values(0)\n",
    "    )\n",
    "]"
   ]
  },
  {
   "cell_type": "code",
   "execution_count": 53,
   "metadata": {},
   "outputs": [
    {
     "data": {
      "text/plain": [
       "especialidad_agrupada\n",
       "ENFERMERÍA              2.0\n",
       "NUTRICIÓN               8.0\n",
       "PSICOLOGÍA              7.0\n",
       "QUÍMICA Y FARMACIA      2.0\n",
       "TERAPIA OCUPACIONAL    12.0\n",
       "TRABAJO SOCIAL          4.0\n",
       "Name: 75%_entre_2015_2024, dtype: float64"
      ]
     },
     "execution_count": 53,
     "metadata": {},
     "output_type": "execute_result"
    }
   ],
   "source": [
    "cantidad_consultas_no_medicas_a_ocupar"
   ]
  },
  {
   "cell_type": "markdown",
   "metadata": {},
   "source": [
    "## Definicion de desempeno para consultas sin produccion"
   ]
  },
  {
   "cell_type": "code",
   "execution_count": 54,
   "metadata": {},
   "outputs": [],
   "source": [
    "# Define la cantidad de consultas que tendran las especialidades sin un rendimiento historico\n",
    "consultas_sin_desempeno = pd.Series(\n",
    "    {\n",
    "        \"PEDIATRÍA INTEGRATIVA\": 3,\n",
    "        \"PSICOPEDAGOGÍA\": 1,\n",
    "        \"PSIQUIATRÍA PEDIATRICA Y DE LA ADOLESCENCIA\": 1,\n",
    "    }\n",
    ")\n",
    "\n",
    "# Concatena las especilidades que si tienen desempeno con las que no las tienen\n",
    "cantidad_consultas_no_medicas_a_ocupar = pd.concat(\n",
    "    [cantidad_consultas_no_medicas_a_ocupar, consultas_sin_desempeno]\n",
    ")"
   ]
  },
  {
   "cell_type": "code",
   "execution_count": 55,
   "metadata": {},
   "outputs": [
    {
     "data": {
      "text/plain": [
       "ENFERMERÍA                                      2.0\n",
       "NUTRICIÓN                                       8.0\n",
       "PSICOLOGÍA                                      7.0\n",
       "QUÍMICA Y FARMACIA                              2.0\n",
       "TERAPIA OCUPACIONAL                            12.0\n",
       "TRABAJO SOCIAL                                  4.0\n",
       "PEDIATRÍA INTEGRATIVA                           3.0\n",
       "PSICOPEDAGOGÍA                                  1.0\n",
       "PSIQUIATRÍA PEDIATRICA Y DE LA ADOLESCENCIA     1.0\n",
       "dtype: float64"
      ]
     },
     "execution_count": 55,
     "metadata": {},
     "output_type": "execute_result"
    }
   ],
   "source": [
    "cantidad_consultas_no_medicas_a_ocupar"
   ]
  },
  {
   "cell_type": "code",
   "execution_count": 56,
   "metadata": {},
   "outputs": [],
   "source": [
    "# Indica la cantidad de consultas que tendran la telemedicina\n",
    "grupos_de_pacientes = [1, 2, 3]\n",
    "valores_es_presencial = [\"Box Presencial\", \"Box de Telemedicina\"]\n",
    "\n",
    "# Expande la cantidad de consultas segun grupo de pacientes y valores presenciales\n",
    "cantidad_consultas_no_medicas_a_ocupar = expandir_serie_rendimientos(\n",
    "    cantidad_consultas_no_medicas_a_ocupar, grupos_de_pacientes, valores_es_presencial\n",
    ")"
   ]
  },
  {
   "cell_type": "code",
   "execution_count": 57,
   "metadata": {},
   "outputs": [],
   "source": [
    "TIEMPO_CONSULTA = {\n",
    "    \"15 minutos\": 0.25,\n",
    "    \"30 minutos\": 0.5,\n",
    "    \"45 minutos\": 0.75,\n",
    "    \"60 minutos\": 1,\n",
    "    \"20 minutos\": 0.333,\n",
    "    \"40 minutos\": 0.666,\n",
    "}\n",
    "\n",
    "rendimientos_reales = pd.Series(\n",
    "    {\n",
    "        \"ENFERMERÍA\": TIEMPO_CONSULTA[\"45 minutos\"],\n",
    "        \"NUTRICIÓN \": TIEMPO_CONSULTA[\"45 minutos\"],\n",
    "        \"PSICOLOGÍA\": TIEMPO_CONSULTA[\"45 minutos\"],\n",
    "        \"QUÍMICA Y FARMACIA\": TIEMPO_CONSULTA[\"45 minutos\"],\n",
    "        \"TERAPIA OCUPACIONAL\": TIEMPO_CONSULTA[\"45 minutos\"],\n",
    "        \"TRABAJO SOCIAL\": TIEMPO_CONSULTA[\"45 minutos\"],\n",
    "        \"PEDIATRÍA INTEGRATIVA\": TIEMPO_CONSULTA[\"45 minutos\"],\n",
    "        \"PSICOPEDAGOGÍA\": TIEMPO_CONSULTA[\"45 minutos\"],\n",
    "        \n",
    "    }\n",
    ")\n",
    "\n",
    "# Expande los rendimientos\n",
    "rendimientos_reales = expandir_serie_rendimientos(\n",
    "    rendimientos_reales, grupos_de_pacientes, valores_es_presencial\n",
    ")"
   ]
  },
  {
   "cell_type": "markdown",
   "metadata": {},
   "source": [
    "## Estimacion de Consultas al 2039"
   ]
  },
  {
   "cell_type": "code",
   "execution_count": 58,
   "metadata": {},
   "outputs": [
    {
     "name": "stdout",
     "output_type": "stream",
     "text": [
      "Horas laborales por año calculadas:\n",
      "+---+------+---------------------------------+\n",
      "|   | anio | horas_laborales_solo_semana_12h |\n",
      "+---+------+---------------------------------+\n",
      "| 0 | 2017 |              2976               |\n",
      "| 1 | 2018 |              2964               |\n",
      "| 2 | 2019 |              2988               |\n",
      "| 3 | 2020 |              3024               |\n",
      "| 4 | 2021 |              3012               |\n",
      "+---+------+---------------------------------+\n",
      "\n"
     ]
    }
   ],
   "source": [
    "# Obtiene la cantidad de horas laborales\n",
    "horas_laborales = features.calcular_horas_laborales(2017, 2039, 12)"
   ]
  },
  {
   "cell_type": "code",
   "execution_count": 59,
   "metadata": {},
   "outputs": [],
   "source": [
    "# Multiplica los casos de area de influencia\n",
    "consultas_proyectadas = casos_a_hacerse_cargo_por_especialidad_grupo_y_presencial.mul(\n",
    "    cantidad_consultas_no_medicas_a_ocupar, axis=0\n",
    ").dropna(axis=0, how=\"all\")\n",
    "\n",
    "# Multiplica la cantidad de consultas por el tiempo que requerira cada consulta\n",
    "tiempo_consultas = consultas_proyectadas.mul(rendimientos_reales, axis=0).dropna(axis=0, how=\"all\")\n",
    "\n",
    "# Divide la cantidad de consultas por especialidad, por el rendimiento de cada box\n",
    "boxes_proyectados = tiempo_consultas.div(horas_laborales, axis=1)"
   ]
  },
  {
   "cell_type": "code",
   "execution_count": 60,
   "metadata": {},
   "outputs": [],
   "source": [
    "# Obtiene el resumen de Boxes por estamnento\n",
    "boxes_consolidados = (\n",
    "    boxes_proyectados.reset_index()\n",
    "    .groupby(\"ESTAMENTO/ESPECIALIDAD\")\n",
    "    .sum()[\"2039\"]\n",
    "    .sort_values(ascending=False)\n",
    ")\n",
    "\n",
    "# Agrega el total\n",
    "boxes_consolidados[\"Total\"] = boxes_consolidados.sum()"
   ]
  },
  {
   "cell_type": "code",
   "execution_count": 61,
   "metadata": {},
   "outputs": [
    {
     "data": {
      "text/plain": [
       "ESTAMENTO/ESPECIALIDAD\n",
       "TERAPIA OCUPACIONAL      37.607890\n",
       "PSICOLOGÍA                7.853572\n",
       "QUÍMICA Y FARMACIA        4.688040\n",
       "ENFERMERÍA                3.804435\n",
       "PEDIATRÍA INTEGRATIVA     3.485931\n",
       "PSICOPEDAGOGÍA            1.079821\n",
       "TRABAJO SOCIAL            0.412778\n",
       "Total                    58.932468\n",
       "Name: 2039, dtype: float64"
      ]
     },
     "metadata": {},
     "output_type": "display_data"
    }
   ],
   "source": [
    "display(boxes_consolidados)"
   ]
  },
  {
   "cell_type": "code",
   "execution_count": 62,
   "metadata": {},
   "outputs": [],
   "source": [
    "# Obtiene la cantidad de boxes medicos y de telemedicina\n",
    "boxes_presencial_y_tele = (\n",
    "    boxes_proyectados.reset_index().groupby(\"es_presencial\")[ANIOS_POBLACION].sum()\n",
    ")"
   ]
  },
  {
   "cell_type": "code",
   "execution_count": 63,
   "metadata": {},
   "outputs": [
    {
     "data": {
      "text/html": [
       "<div>\n",
       "<style scoped>\n",
       "    .dataframe tbody tr th:only-of-type {\n",
       "        vertical-align: middle;\n",
       "    }\n",
       "\n",
       "    .dataframe tbody tr th {\n",
       "        vertical-align: top;\n",
       "    }\n",
       "\n",
       "    .dataframe thead th {\n",
       "        text-align: right;\n",
       "    }\n",
       "</style>\n",
       "<table border=\"1\" class=\"dataframe\">\n",
       "  <thead>\n",
       "    <tr style=\"text-align: right;\">\n",
       "      <th></th>\n",
       "      <th>2024</th>\n",
       "      <th>2029</th>\n",
       "      <th>2039</th>\n",
       "    </tr>\n",
       "    <tr>\n",
       "      <th>es_presencial</th>\n",
       "      <th></th>\n",
       "      <th></th>\n",
       "      <th></th>\n",
       "    </tr>\n",
       "  </thead>\n",
       "  <tbody>\n",
       "    <tr>\n",
       "      <th>Box Presencial</th>\n",
       "      <td>40.651868</td>\n",
       "      <td>44.300201</td>\n",
       "      <td>51.948112</td>\n",
       "    </tr>\n",
       "    <tr>\n",
       "      <th>Box de Telemedicina</th>\n",
       "      <td>6.103903</td>\n",
       "      <td>6.464686</td>\n",
       "      <td>6.984356</td>\n",
       "    </tr>\n",
       "  </tbody>\n",
       "</table>\n",
       "</div>"
      ],
      "text/plain": [
       "                          2024       2029       2039\n",
       "es_presencial                                       \n",
       "Box Presencial       40.651868  44.300201  51.948112\n",
       "Box de Telemedicina   6.103903   6.464686   6.984356"
      ]
     },
     "execution_count": 63,
     "metadata": {},
     "output_type": "execute_result"
    }
   ],
   "source": [
    "boxes_presencial_y_tele"
   ]
  },
  {
   "cell_type": "code",
   "execution_count": 64,
   "metadata": {},
   "outputs": [],
   "source": [
    "# Define columnas que se utilizar para generar resumen MINSAL\n",
    "cols_indice = [\"ESTAMENTO/ESPECIALIDAD\", \"Grupos de Pacientes\", \"es_presencial\"]\n",
    "\n",
    "# Genera un DataFrame de las trazadoras con presencialidad\n",
    "df_incidencias_resumen = df_incidencias.copy()\n",
    "df_incidencias_resumen[\"es_presencial\"] = \"Box Presencial, Box de Telemedicina\"\n",
    "df_incidencias_resumen[\"es_presencial\"] = df_incidencias_resumen[\"es_presencial\"].str.split(\", \")\n",
    "df_incidencias_resumen = df_incidencias_resumen.explode(\"es_presencial\")\n",
    "df_incidencias_resumen = df_incidencias_resumen.set_index(cols_indice)"
   ]
  },
  {
   "cell_type": "markdown",
   "metadata": {},
   "source": [
    "## Resumen MINSAL"
   ]
  },
  {
   "cell_type": "code",
   "execution_count": 65,
   "metadata": {},
   "outputs": [],
   "source": [
    "# Obtiene el resumen MINSAL\n",
    "resumen_MINSAL = pd.DataFrame(\n",
    "    {\n",
    "        \"tipo_paciente\": df_incidencias_resumen[\"tipo_paciente\"],\n",
    "        \"Diagnostico\": df_incidencias_resumen[\"Diagnostico\"],\n",
    "        \"Areas de Influencia a atender presencial\": str(AREAS_PRESENCIALES),\n",
    "        \"numero_de_pacientes_totales_2024\": casos_totales_por_especialidad_y_grupo[\"2024\"],\n",
    "        \"numero_de_pacientes_totales_2029\": casos_totales_por_especialidad_y_grupo[\"2029\"],\n",
    "        \"numero_de_pacientes_totales_2039\": casos_totales_por_especialidad_y_grupo[\"2039\"],\n",
    "        \"% de los pacientes a atender\": df_incidencias_resumen[\"% de los pacientes a atender\"],\n",
    "        \"explicacion_pacientes\": df_incidencias_resumen[\"Explicación Pacientes\"],\n",
    "        \"casos_a_hacerse_cargo_2039\": casos_a_hacerse_cargo_por_especialidad_grupo_y_presencial[\n",
    "            \"2039\"\n",
    "        ],\n",
    "        \"consultas_por_paciente_75%\": cantidad_consultas_no_medicas_a_ocupar,\n",
    "        \"consultas_proyectadas_2024\": consultas_proyectadas[\"2024\"],\n",
    "        \"consultas_proyectadas_2029\": consultas_proyectadas[\"2029\"],\n",
    "        \"consultas_proyectadas_2039\": consultas_proyectadas[\"2039\"],\n",
    "        \"horas_por_consultas\": rendimientos_reales,\n",
    "        \"horas_consultas_2039\": tiempo_consultas[\"2039\"],\n",
    "        \"horas_laborales_2039\": horas_laborales[\"2039\"],\n",
    "        \"boxes_proyectados_2039\": boxes_proyectados[\"2039\"],\n",
    "    }\n",
    ")\n",
    "\n",
    "resumen_MINSAL = resumen_MINSAL.dropna().reset_index(level=[1, 2])"
   ]
  },
  {
   "cell_type": "code",
   "execution_count": 67,
   "metadata": {},
   "outputs": [],
   "source": [
    "a_guardar = {\n",
    "    \"resumen_MINSAL\": resumen_MINSAL,\n",
    "    \"boxes_consolidados\": boxes_consolidados,\n",
    "    \"trazadoras_ambulatorio\": df_incidencias,\n",
    "    \"casos_macroprocesos_por_region\": casos_macroproceso_por_region.reset_index(),\n",
    "    \"casos_por_esp_long\": casos_por_especialidad_long.reset_index(),\n",
    "    \"casos_a_hacerse_cargo_long\": casos_a_hacerse_cargo_long,\n",
    "    \"casos_por_esp_grupo_y_pres\": casos_a_hacerse_cargo_por_especialidad_grupo_y_presencial,\n",
    "    \"casos_consolidados\": casos_a_hacerse_cargo_consolidados,\n",
    "    \"metricas_historicas_por_espec\": distribucion_consultas_no_medicas_acumuladas,\n",
    "    \"rendimientos_utilizados\": rendimientos_reales,\n",
    "    \"consultas_medicas_proyectadas\": consultas_proyectadas,\n",
    "    \"tiempo_por_especialidad\": tiempo_consultas,\n",
    "    \"horas_laborales\": horas_laborales,\n",
    "    \"boxes_medicos_proyectados\": boxes_proyectados,\n",
    "    \"boxes_presenciales_y_tele\": boxes_presencial_y_tele,\n",
    "}\n",
    "\n",
    "with pd.ExcelWriter(\"../data/interim/3.1_estimacion_boxes_no_medicos_RDR.xlsx\") as file:\n",
    "    for nombre_hoja, df_a_guardar in a_guardar.items():\n",
    "        df_a_guardar.to_excel(file, sheet_name=nombre_hoja)"
   ]
  }
 ],
 "metadata": {
  "kernelspec": {
   "display_name": "proyeccion-rdr",
   "language": "python",
   "name": "python3"
  },
  "language_info": {
   "codemirror_mode": {
    "name": "ipython",
    "version": 3
   },
   "file_extension": ".py",
   "mimetype": "text/x-python",
   "name": "python",
   "nbconvert_exporter": "python",
   "pygments_lexer": "ipython3",
   "version": "3.10.16"
  }
 },
 "nbformat": 4,
 "nbformat_minor": 2
}
