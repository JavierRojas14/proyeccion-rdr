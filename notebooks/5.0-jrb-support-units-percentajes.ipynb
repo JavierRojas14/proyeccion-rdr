{
 "cells": [
  {
   "cell_type": "code",
   "execution_count": 1,
   "id": "452a3595",
   "metadata": {},
   "outputs": [],
   "source": [
    "import sys\n",
    "import os\n",
    "\n",
    "project_root = os.path.abspath('..')\n",
    "if project_root not in sys.path:\n",
    "    sys.path.append(project_root)\n",
    " \n",
    "%load_ext autoreload\n",
    "%autoreload 2"
   ]
  },
  {
   "cell_type": "code",
   "execution_count": 2,
   "id": "f1205963",
   "metadata": {},
   "outputs": [
    {
     "name": "stderr",
     "output_type": "stream",
     "text": [
      "\u001b[32m2025-05-30 13:26:25.222\u001b[0m | \u001b[1mINFO    \u001b[0m | \u001b[36mproyeccion_rdr.config\u001b[0m:\u001b[36m<module>\u001b[0m:\u001b[36m11\u001b[0m - \u001b[1mPROJ_ROOT path is: C:\\Users\\javie\\OneDrive\\Documents\\Trabajo\\SSMN\\2.0-proyeccion-rdr\u001b[0m\n"
     ]
    }
   ],
   "source": [
    "import pandas as pd\n",
    "import numpy as np\n",
    "\n",
    "import proyeccion_rdr.features as features\n",
    "import proyeccion_rdr.produccion.a05_unidades_de_apoyo as ua\n",
    "from proyeccion_rdr.produccion.a04_ambulatorio import (\n",
    "    leer_consultas_medicas\n",
    ")\n",
    "\n",
    "\n",
    "pd.set_option(\"display.max_columns\", None)\n",
    "\n",
    "ANIOS_POBLACION = [str(i) for i in range(2017, 2036)]"
   ]
  },
  {
   "cell_type": "code",
   "execution_count": 49,
   "id": "498547a2",
   "metadata": {},
   "outputs": [],
   "source": [
    "# Define las rutas de los archivos\n",
    "ruta_raw = \"../data/raw/\"\n",
    "\n",
    "# Define las rutas de la base de CAE y GRD\n",
    "ruta_cae = ruta_raw + \"6_ambulatorio/df_procesada_consultas.csv\"\n",
    "ruta_grd = ruta_raw + \"7_egresos_grd/df_procesada_grd.csv\"\n",
    "ruta_urgencias = ruta_raw + \"8_urgencias/df_procesada_urgencias.csv\"\n",
    "\n",
    "# Define las rutas de los archivos de apoyo diagnostico\n",
    "ruta_apoyo = ruta_raw + \"9_unidades_de_apoyo/\"\n",
    "\n",
    "ruta_laboratorio = ruta_apoyo + \"df_procesada_laboratorio_clinico.csv\"\n",
    "ruta_farmacia = ruta_farmacia_amb = ruta_apoyo + \"df_procesada_farmacia.csv\"\n",
    "ruta_imagenologia = ruta_apoyo + \"df_procesada_imagenologia.csv\"\n",
    "ruta_umt = ruta_apoyo + \"df_procesada_umt.csv\""
   ]
  },
  {
   "cell_type": "code",
   "execution_count": 57,
   "id": "bfa7206d",
   "metadata": {},
   "outputs": [
    {
     "name": "stderr",
     "output_type": "stream",
     "text": [
      "C:\\Users\\javie\\OneDrive\\Documents\\Trabajo\\SSMN\\2.0-proyeccion-rdr\\proyeccion_rdr\\produccion\\a04_ambulatorio.py:90: DtypeWarning: Columns (10,19,20,21) have mixed types. Specify dtype option on import or set low_memory=False.\n",
      "  df = pd.read_csv(ruta, dtype={\"id_paciente\": str})\n",
      "C:\\Users\\javie\\OneDrive\\Documents\\Trabajo\\SSMN\\2.0-proyeccion-rdr\\proyeccion_rdr\\produccion\\a05_unidades_de_apoyo.py:12: DtypeWarning: Columns (47,48,49,50,51,52,124,125,126,127,128,129,130,131,132,133,134,135,136,137,138,139,140,141,142,143,144,145,146,147,148,149,150,151,152,153,154,155,156,157,158,220) have mixed types. Specify dtype option on import or set low_memory=False.\n",
      "  df = pd.read_csv(ruta, dtype={\"id_paciente\": str})\n"
     ]
    }
   ],
   "source": [
    "# Lee CAE y GRD\n",
    "consultas_medicas = leer_consultas_medicas(ruta_cae)\n",
    "df_grd = ua.leer_grd(ruta_grd)"
   ]
  },
  {
   "cell_type": "code",
   "execution_count": 58,
   "id": "7a0c1770",
   "metadata": {},
   "outputs": [],
   "source": [
    "# Lee las unidades de apoyo\n",
    "df_laboratorio, df_laboratorio_hosp, df_laboratorio_amb = ua.leer_laboratorio(ruta_laboratorio)\n",
    "df_farmacia, df_farmacia_hosp, df_farmacia_amb = ua.leer_farmacia(ruta_farmacia)"
   ]
  },
  {
   "cell_type": "code",
   "execution_count": 59,
   "id": "d161fdd1",
   "metadata": {},
   "outputs": [],
   "source": [
    "# Define la agrupacion a calcular\n",
    "AGRUPACION_EXAMENES = [\"ano\", \"id_paciente\"]\n",
    "\n",
    "# Obtiene los dco totales y consultas por pacientes por anio\n",
    "consultas_por_pacientes = consultas_medicas.groupby(AGRUPACION_EXAMENES)[\"fecha_atencion\"].count()\n",
    "dco_por_pacientes = df_grd.groupby(AGRUPACION_EXAMENES)[\"estancia\"].sum()\n",
    "\n",
    "# Obtiene los examanes por paciente de laboratorio\n",
    "examenes_ppct_lab_hosp = df_laboratorio_hosp.groupby(AGRUPACION_EXAMENES)[\"examen\"].count()\n",
    "examenes_ppct_lab_amb = df_laboratorio_amb.groupby(AGRUPACION_EXAMENES)[\"examen\"].count()\n",
    "\n",
    "# Obtiene las prescripciones por pacientes de farmacia\n",
    "prescr_ppct_farmacia_hosp = df_farmacia_hosp.groupby(AGRUPACION_EXAMENES)[\"nombre_articulo\"].count()\n",
    "prescr_ppct_farmacia_amb = df_farmacia_amb.groupby(AGRUPACION_EXAMENES)[\"nombre_articulo\"].count()"
   ]
  }
 ],
 "metadata": {
  "kernelspec": {
   "display_name": "proyeccion-rdr",
   "language": "python",
   "name": "python3"
  },
  "language_info": {
   "codemirror_mode": {
    "name": "ipython",
    "version": 3
   },
   "file_extension": ".py",
   "mimetype": "text/x-python",
   "name": "python",
   "nbconvert_exporter": "python",
   "pygments_lexer": "ipython3",
   "version": "3.10.16"
  }
 },
 "nbformat": 4,
 "nbformat_minor": 5
}
