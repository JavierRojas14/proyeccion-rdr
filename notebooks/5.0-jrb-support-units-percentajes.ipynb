{
 "cells": [
  {
   "cell_type": "code",
   "execution_count": 2,
   "id": "452a3595",
   "metadata": {},
   "outputs": [],
   "source": [
    "import sys\n",
    "import os\n",
    "\n",
    "project_root = os.path.abspath('..')\n",
    "if project_root not in sys.path:\n",
    "    sys.path.append(project_root)\n",
    " \n",
    "%load_ext autoreload\n",
    "%autoreload 2"
   ]
  },
  {
   "cell_type": "code",
   "execution_count": 3,
   "id": "f1205963",
   "metadata": {},
   "outputs": [],
   "source": [
    "import pandas as pd\n",
    "import numpy as np\n",
    "\n",
    "import proyeccion_rdr.features as features\n",
    "import proyeccion_rdr.produccion.a05_unidades_de_apoyo as ua\n",
    "from proyeccion_rdr.produccion.a04_ambulatorio import (\n",
    "    leer_consultas_medicas,\n",
    "    leer_consultas_no_medicas,\n",
    ")\n",
    "\n",
    "\n",
    "pd.set_option(\"display.max_columns\", None)\n",
    "\n",
    "ANIOS_POBLACION = [str(i) for i in range(2017, 2036)]"
   ]
  },
  {
   "cell_type": "code",
   "execution_count": null,
   "id": "498547a2",
   "metadata": {},
   "outputs": [],
   "source": [
    "# Define las rutas de los archivos\n",
    "ruta_raw = \"../data/raw\"\n",
    "\n",
    "# Define las rutas de la base de CAE y GRD\n",
    "ruta_cae = ruta_raw + \"6_ambulatorio/df_procesada_consultas.csv\"\n",
    "ruta_grd = ruta_raw + \"7_egresos_grd/df_procesada_grd.csv\"\n",
    "\n",
    "# Define las rutas de los archivos de apoyo diagnostico\n",
    "ruta_apoyo = ruta_raw + \"8_unidades_de_apoyo/\"\n",
    "\n",
    "ruta_laboratorio = ruta_apoyo + \"df_procesada_laboratorio_clinico.csv\"\n",
    "ruta_farmacia = ruta_farmacia_amb = ruta_apoyo + \"df_procesada_farmacia.csv\"\n",
    "ruta_imagenologia = ruta_apoyo + \"df_procesada_imagenologia.csv\"\n",
    "ruta_umt = ruta_apoyo + \"df_procesada_umt.csv\""
   ]
  }
 ],
 "metadata": {
  "kernelspec": {
   "display_name": "proyeccion-rdr",
   "language": "python",
   "name": "python3"
  },
  "language_info": {
   "codemirror_mode": {
    "name": "ipython",
    "version": 3
   },
   "file_extension": ".py",
   "mimetype": "text/x-python",
   "name": "python",
   "nbconvert_exporter": "python",
   "pygments_lexer": "ipython3",
   "version": "3.10.17"
  }
 },
 "nbformat": 4,
 "nbformat_minor": 5
}
