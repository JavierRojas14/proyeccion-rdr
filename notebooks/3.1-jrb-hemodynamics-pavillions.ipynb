{
  "cells": [
    {
      "cell_type": "code",
      "execution_count": 1,
      "metadata": {},
      "outputs": [],
      "source": [
        "import sys\n",
        "import os\n",
        "\n",
        "project_root = os.path.abspath('..')\n",
        "if project_root not in sys.path:\n",
        "    sys.path.append(project_root)\n",
        " \n",
        "%load_ext autoreload\n",
        "%autoreload 2"
      ]
    },
    {
      "cell_type": "code",
      "execution_count": 2,
      "metadata": {},
      "outputs": [
        {
          "name": "stderr",
          "output_type": "stream",
          "text": [
            "\u001b[32m2025-07-03 22:06:59.726\u001b[0m | \u001b[1mINFO    \u001b[0m | \u001b[36mproyeccion_rdr.config\u001b[0m:\u001b[36m<module>\u001b[0m:\u001b[36m11\u001b[0m - \u001b[1mPROJ_ROOT path is: C:\\Users\\javie\\OneDrive\\Documents\\Trabajo\\SSMN\\2.0-proyeccion-rdr\u001b[0m\n"
          ]
        }
      ],
      "source": [
        "import pandas as pd\n",
        "import numpy as np\n",
        "\n",
        "import matplotlib.pyplot as plt\n",
        "\n",
        "import proyeccion_rdr.features as features\n",
        "import proyeccion_rdr.produccion.a03_pabellon as pb\n",
        "\n",
        "pd.set_option('display.max_columns', None)\n",
        "\n",
        "# Agrega las columnas de poblacion de interes\n",
        "ANIOS_INTERES = [f\"{i}\" for i in [2025, 2030, 2040]]"
      ]
    },
    {
      "cell_type": "markdown",
      "metadata": {},
      "source": [
        "## Obtencion de casos por area de influencia INT"
      ]
    },
    {
      "cell_type": "code",
      "execution_count": 3,
      "metadata": {},
      "outputs": [],
      "source": [
        "# Lee los casos de todos los macroprocesos\n",
        "RUTA_ARCHIVOS = \"../data/interim/0.1_casos_teoricos_diagnosticos.xlsx\"\n",
        "_, casos_macroproceso = features.leer_casos_macroprocesos(RUTA_ARCHIVOS)\n",
        "\n",
        "# Obtiene los casos de HMD\n",
        "casos_hmd = casos_macroproceso.query(\"tipo_paciente == 'hmd'\")"
      ]
    },
    {
      "cell_type": "markdown",
      "metadata": {},
      "source": [
        "## Obtencion de porcentajes de Hemodinamia"
      ]
    },
    {
      "cell_type": "code",
      "execution_count": 4,
      "metadata": {},
      "outputs": [],
      "source": [
        "# Define la ruta donde estan los porcentajes de Hemodinamia\n",
        "RUTA_PLANILLA_PORCENTAJES = (\n",
        "    \"../data/raw/3_incidencias_y_porcentajes_marcoprocesos/incidencias_y_prevalencias_RDR.xlsx\"\n",
        ")\n",
        "\n",
        "# Solamente lee los diagnosticos y el porcentaje de Hemodinamia\n",
        "datos_hmd = pd.read_excel(\n",
        "    RUTA_PLANILLA_PORCENTAJES,\n",
        "    usecols=[\"Diagnostico\", \"Porcentaje Pacientes Hemodinamia\", \"Horas en Hemodinamia\"],\n",
        ")\n",
        "\n",
        "# Deja los diagnosticos que SI aportan a la cantidad de pabellones de HMD (porcentaje > 0)\n",
        "datos_hmd = datos_hmd.query(\"`Porcentaje Pacientes Hemodinamia` > 0\")\n",
        "\n",
        "# Formatea la columna de diagnosticos\n",
        "datos_hmd[\"Diagnostico\"] = datos_hmd[\"Diagnostico\"].str.split(\" - \").str[0]\n",
        "\n",
        "# Deja como indice a los diagnosticos\n",
        "datos_hmd = datos_hmd.set_index(\"Diagnostico\")\n",
        "\n",
        "# Indica el tiempo quirurgico por diagnostico promedio (o 75%)\n",
        "tiempos_hmd = datos_hmd[\"Horas en Hemodinamia\"]"
      ]
    },
    {
      "cell_type": "code",
      "execution_count": 5,
      "metadata": {},
      "outputs": [
        {
          "name": "stdout",
          "output_type": "stream",
          "text": [
            "Horas laborales por año calculadas:\n",
            "+---+------+-------------------------------+\n",
            "|   | anio | horas_laborales_con_sabado_6h |\n",
            "+---+------+-------------------------------+\n",
            "| 0 | 2017 |             3282              |\n",
            "| 1 | 2018 |             3264              |\n",
            "| 2 | 2019 |             3282              |\n",
            "| 3 | 2020 |             3312              |\n",
            "| 4 | 2021 |             3300              |\n",
            "+---+------+-------------------------------+\n",
            "\n",
            "Cantidad de pabellones necesarios calculada:\n",
            "+-------------+------+------+------+------+------+------+------+------+-----------------------+------+------+------+------+-----------------------+------+------+------+------+------+------+------+------+------+-----------------------+\n",
            "| Diagnostico | 2017 | 2018 | 2019 | 2020 | 2021 | 2022 | 2023 | 2024 |         2025          | 2026 | 2027 | 2028 | 2029 |         2030          | 2031 | 2032 | 2033 | 2034 | 2035 | 2036 | 2037 | 2038 | 2039 |         2040          |\n",
            "+-------------+------+------+------+------+------+------+------+------+-----------------------+------+------+------+------+-----------------------+------+------+------+------+------+------+------+------+------+-----------------------+\n",
            "|    Q211     | nan  | nan  | nan  | nan  | nan  | nan  | nan  | nan  |  0.05317386132879842  | nan  | nan  | nan  | nan  | 0.056754085894682754  | nan  | nan  | nan  | nan  | nan  | nan  | nan  | nan  | nan  |  0.06519289858983943  |\n",
            "|    Q234     | nan  | nan  | nan  | nan  | nan  | nan  | nan  | nan  | 0.000960168010280017  | nan  | nan  | nan  | nan  | 0.0010248166367268427 | nan  | nan  | nan  | nan  | nan  | nan  | nan  | nan  | nan  | 0.0011771974831079576 |\n",
            "|    Q250     | nan  | nan  | nan  | nan  | nan  | nan  | nan  | nan  |  0.06752236359212498  | nan  | nan  | nan  | nan  |  0.07206868050118444  | nan  | nan  | nan  | nan  | nan  | nan  | nan  | nan  | nan  |  0.08278463312995483  |\n",
            "|    Q251     | nan  | nan  | nan  | nan  | nan  | nan  | nan  | nan  | 0.0011394398856171093 | nan  | nan  | nan  | nan  | 0.001216158983457487  | nan  | nan  | nan  | nan  | nan  | nan  | nan  | nan  | nan  | 0.001396990684067987  |\n",
            "+-------------+------+------+------+------+------+------+------+------+-----------------------+------+------+------+------+-----------------------+------+------+------+------+------+------+------+------+------+-----------------------+\n",
            "\n"
          ]
        }
      ],
      "source": [
        "# Multiplica los casos en HMD con sus tiempos quirurgicos\n",
        "horas_en_hmd_por_casos = casos_hmd[ANIOS_INTERES].mul(tiempos_hmd, axis=0)\n",
        "\n",
        "# Obtiene la cantidad de horas laborales\n",
        "horas_laborales = features.calcular_horas_laborales(\n",
        "    2017, 2040, horas_por_dia_semana=12, incluir_sabado=True, horas_sabado=6\n",
        ")\n",
        "\n",
        "# Obtiene cantidad de pabellones de hemodinamia\n",
        "pabellones_hmd = pb.calcular_cantidad_de_pabellones_necesarios(\n",
        "    horas_en_hmd_por_casos, horas_laborales\n",
        ")\n",
        "\n",
        "# Obtiene la cantidad de pabellones totales por anio\n",
        "cantidad_de_pabellones_necesarios = pabellones_hmd.sum()"
      ]
    },
    {
      "cell_type": "code",
      "execution_count": 6,
      "metadata": {},
      "outputs": [
        {
          "name": "stdout",
          "output_type": "stream",
          "text": [
            "> Pabellones de Hemodinamia 2040: 0.15\n"
          ]
        }
      ],
      "source": [
        "print(f\"> Pabellones de Hemodinamia 2040: {cantidad_de_pabellones_necesarios['2040']:.2f}\")"
      ]
    },
    {
      "cell_type": "code",
      "execution_count": 7,
      "metadata": {},
      "outputs": [],
      "source": [
        "# Carga el resumen de area de estudio para MINSAL\n",
        "resumen_area_de_estudio_minsal = (\n",
        "    pd.read_excel(\n",
        "        \"../data/interim/0.1_casos_teoricos_diagnosticos.xlsx\", sheet_name=\"resumen_total_RDR\"\n",
        "    )\n",
        "    .sort_values(\"Diagnostico\")\n",
        ")\n",
        "resumen_area_de_estudio_minsal[\"diagnostico_separado\"] = (\n",
        "    resumen_area_de_estudio_minsal[\"Diagnostico\"].str.split(\" - \").str[0]\n",
        ")\n",
        "resumen_area_de_estudio_minsal = resumen_area_de_estudio_minsal.set_index(\"diagnostico_separado\")\n",
        "\n",
        "# Sintetiza informacion de pabellon para el 2040\n",
        "resumen_quirurgicos = pd.DataFrame(\n",
        "    {\n",
        "        \"porcentaje_hemodinamia\": datos_hmd[\"Porcentaje Pacientes Hemodinamia\"],\n",
        "        \"casos_hmd_2040\": casos_hmd[\"2040\"],\n",
        "        \"tiempo_quirurgicos\": tiempos_hmd,\n",
        "        \"horas_hmd_2040\": horas_en_hmd_por_casos[\"2040\"],\n",
        "        \"horas_laborales_2040_pabellon_12_hrs\": horas_laborales[\"2040\"],\n",
        "        \"cantidad_de_pabellones_hmd\": pabellones_hmd[\"2040\"],\n",
        "    }\n",
        ")\n",
        "\n",
        "# Une ambos resumenes segun el diagnostico\n",
        "resumen_minsal = resumen_area_de_estudio_minsal.merge(\n",
        "    resumen_quirurgicos, how=\"inner\", left_index=True, right_index=True\n",
        ")"
      ]
    },
    {
      "cell_type": "code",
      "execution_count": 8,
      "metadata": {},
      "outputs": [],
      "source": [
        "a_guardar = {\n",
        "    \"resumen_MINSAL\": resumen_minsal,\n",
        "    \"casos_hmd\": casos_hmd,\n",
        "    \"resumen_duraciones_hmd\": tiempos_hmd,\n",
        "    \"tiempo_utilizado_pabellon\": horas_en_hmd_por_casos,\n",
        "    \"horas_laborales_por_anio\": horas_laborales,\n",
        "    \"pabellones_desg\": pabellones_hmd,\n",
        "    \"pabellones_totales\": cantidad_de_pabellones_necesarios,\n",
        "}"
      ]
    },
    {
      "cell_type": "code",
      "execution_count": 9,
      "metadata": {},
      "outputs": [],
      "source": [
        "with pd.ExcelWriter(\"../data/interim/2.1_estimacion_pabellones_HMD_RDR.xlsx\") as file:\n",
        "    for nombre_hoja, df_a_guardar in a_guardar.items():\n",
        "        df_a_guardar.to_excel(file, sheet_name=nombre_hoja)"
      ]
    }
  ],
  "metadata": {
    "kernelspec": {
      "display_name": "proyeccion-rdr",
      "language": "python",
      "name": "python3"
    },
    "language_info": {
      "codemirror_mode": {
        "name": "ipython",
        "version": 3
      },
      "file_extension": ".py",
      "mimetype": "text/x-python",
      "name": "python",
      "nbconvert_exporter": "python",
      "pygments_lexer": "ipython3",
      "version": "3.10.16"
    }
  },
  "nbformat": 4,
  "nbformat_minor": 2
}
