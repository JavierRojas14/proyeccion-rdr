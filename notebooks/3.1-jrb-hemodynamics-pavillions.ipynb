{
 "cells": [
  {
   "cell_type": "code",
   "execution_count": 9,
   "metadata": {},
   "outputs": [
    {
     "name": "stdout",
     "output_type": "stream",
     "text": [
      "The autoreload extension is already loaded. To reload it, use:\n",
      "  %reload_ext autoreload\n"
     ]
    }
   ],
   "source": [
    "import sys\n",
    "import os\n",
    "\n",
    "project_root = os.path.abspath('..')\n",
    "if project_root not in sys.path:\n",
    "    sys.path.append(project_root)\n",
    " \n",
    "%load_ext autoreload\n",
    "%autoreload 2"
   ]
  },
  {
   "cell_type": "code",
   "execution_count": 10,
   "metadata": {},
   "outputs": [],
   "source": [
    "import pandas as pd\n",
    "import numpy as np\n",
    "\n",
    "import matplotlib.pyplot as plt\n",
    "\n",
    "import proyeccion_rdr.features as features\n",
    "import proyeccion_rdr.produccion.a03_pabellon as pb\n",
    "\n",
    "pd.set_option('display.max_columns', None)\n",
    "\n",
    "# Agrega las columnas de poblacion de interes\n",
    "ANIOS_INTERES = [str(i) for i in range(2017, 2036)]"
   ]
  },
  {
   "cell_type": "markdown",
   "metadata": {},
   "source": [
    "## Obtencion de casos por area de influencia INT"
   ]
  },
  {
   "cell_type": "code",
   "execution_count": 11,
   "metadata": {},
   "outputs": [],
   "source": [
    "# Lee los casos de todos los macroprocesos\n",
    "RUTA_ARCHIVOS = \"../data/interim/0.1_casos_teoricos_diagnosticos.xlsx\"\n",
    "_, casos_macroproceso = features.leer_casos_macroprocesos(RUTA_ARCHIVOS)\n",
    "\n",
    "# Obtiene los casos de HMD\n",
    "casos_hmd = casos_macroproceso.query(\"tipo_paciente == 'hmd'\")"
   ]
  },
  {
   "cell_type": "markdown",
   "metadata": {},
   "source": [
    "## Obtencion de porcentajes de Hemodinamia"
   ]
  },
  {
   "cell_type": "code",
   "execution_count": 13,
   "metadata": {},
   "outputs": [],
   "source": [
    "# Define la ruta donde estan los porcentajes de Hemodinamia\n",
    "RUTA_PLANILLA_PORCENTAJES = (\n",
    "    \"../data/raw/3_incidencias_y_porcentajes_marcoprocesos/incidencias_y_prevalencias_RDR.xlsx\"\n",
    ")\n",
    "\n",
    "# Solamente lee los diagnosticos y el porcentaje de Hemodinamia\n",
    "datos_hmd = pd.read_excel(\n",
    "    RUTA_PLANILLA_PORCENTAJES,\n",
    "    usecols=[\"Diagnostico\", \"Porcentaje Pacientes Hemodinamia\", \"Horas en Hemodinamia\"],\n",
    ")\n",
    "\n",
    "# Deja los diagnosticos que SI aportan a la cantidad de pabellones de HMD (porcentaje > 0)\n",
    "datos_hmd = datos_hmd.query(\"`Porcentaje Pacientes Hemodinamia` > 0\")\n",
    "\n",
    "# Formatea la columna de diagnosticos\n",
    "datos_hmd[\"Diagnostico\"] = datos_hmd[\"Diagnostico\"].str.split(\" - \").str[0]\n",
    "\n",
    "# Deja como indice a los diagnosticos\n",
    "datos_hmd = datos_hmd.set_index(\"Diagnostico\")\n",
    "\n",
    "# Indica el tiempo quirurgico por diagnostico promedio (o 75%)\n",
    "tiempos_hmd = datos_hmd[\"Horas en Hemodinamia\"]"
   ]
  },
  {
   "cell_type": "code",
   "execution_count": 15,
   "metadata": {},
   "outputs": [
    {
     "name": "stdout",
     "output_type": "stream",
     "text": [
      "Horas laborales por año calculadas:\n",
      "+---+-------+--------------------------------------------+\n",
      "|   | fecha | horas_laborales_funcionamiento_de_12_horas |\n",
      "+---+-------+--------------------------------------------+\n",
      "| 0 | 2017  |                    2976                    |\n",
      "| 1 | 2018  |                    2964                    |\n",
      "| 2 | 2019  |                    2988                    |\n",
      "| 3 | 2020  |                    3024                    |\n",
      "| 4 | 2021  |                    3012                    |\n",
      "+---+-------+--------------------------------------------+\n",
      "\n",
      "Cantidad de pabellones necesarios calculada:\n",
      "+-------------+------------------------+-----------------------+------------------------+------------------------+------------------------+-----------------------+------------------------+------------------------+------------------------+-----------------------+-----------------------+------------------------+------------------------+------------------------+-----------------------+------------------------+-----------------------+------------------------+------------------------+\n",
      "| Diagnostico |          2017          |         2018          |          2019          |          2020          |          2021          |         2022          |          2023          |          2024          |          2025          |         2026          |         2027          |          2028          |          2029          |          2030          |         2031          |          2032          |         2033          |          2034          |          2035          |\n",
      "+-------------+------------------------+-----------------------+------------------------+------------------------+------------------------+-----------------------+------------------------+------------------------+------------------------+-----------------------+-----------------------+------------------------+------------------------+------------------------+-----------------------+------------------------+-----------------------+------------------------+------------------------+\n",
      "|    A080     |          nan           |          nan          |          nan           |          nan           |          nan           |          nan          |          nan           |          nan           |          nan           |          nan          |          nan          |          nan           |          nan           |          nan           |          nan          |          nan           |          nan          |          nan           |          nan           |\n",
      "|    A090     |  0.01186009807816746   | 0.012314788976318762  |  0.012605472189166004  |  0.012817538171400444  |  0.013075551091563008  | 0.013257256166544787  |  0.013542073937735717  |  0.013562372310138078  |  0.013680871233756164  | 0.013664846928196136  | 0.013728740872595718  |  0.013935471870593092  |  0.014070513638913368  |  0.013975230645120618  | 0.013879434338746414  |  0.01372769325278658   |  0.01383403268037532  |  0.014032068350222596  |  0.014068356372142819  |\n",
      "|    C910     | 0.0003558029423450239  | 0.0003694436692895628 | 0.00037816416567498025 | 0.00038452614514201326 | 0.0003922665327468901  | 0.0003977176849963437 | 0.0004062622181320715  | 0.00040687116930414254 | 0.0004104261370126851  | 0.0004099454078458841 | 0.0004118622261778715 | 0.0004180641561177927  | 0.0004221154091674011  | 0.00041925691935361864 | 0.0004163830301623923 | 0.0004118307975835975  | 0.0004150209804112596 | 0.00042096205050667776 | 0.00042205069116428454 |\n",
      "|    D70X     | 0.00024970158102770063 | 0.0002570836706287922 | 0.00026669291023564203 | 0.00027803324885302435 | 0.00028825122956461987 | 0.0002931338009777591 | 0.00029804351663024364 |  0.00029602235290514   | 0.00029568348008400194 | 0.0002923861530279643 | 0.0002908229502552364 | 0.00029219746257881077 | 0.00029203481162323633 | 0.00028692375429985003 | 0.0002839702054722369 | 0.00027845179712913227 | 0.0002785862661848509 | 0.00028104808428185146 | 0.0002803897777324578  |\n",
      "|    G473     |  0.044831170735472985  | 0.046549902330484914  |  0.04764868487504749   |  0.048450294287893644  |  0.04942558312610817   |  0.0501124283095393   |  0.051189039484640986  |  0.05126576733232192   |  0.051713693263598294  |  0.05165312138858138  |  0.05189464049841182  |  0.052676083670841874  |  0.05318654155509251   |  0.052826371838555916  |  0.05246426180046143  |  0.05189068049553327   | 0.052292643531818686  |  0.053041218363841396  |  0.05317838708669987   |\n",
      "+-------------+------------------------+-----------------------+------------------------+------------------------+------------------------+-----------------------+------------------------+------------------------+------------------------+-----------------------+-----------------------+------------------------+------------------------+------------------------+-----------------------+------------------------+-----------------------+------------------------+------------------------+\n",
      "\n"
     ]
    }
   ],
   "source": [
    "# Multiplica los casos en HMD con sus tiempos quirurgicos\n",
    "horas_en_hmd_por_casos = casos_hmd[ANIOS_INTERES].mul(tiempos_hmd, axis=0)\n",
    "\n",
    "# Obtiene la cantidad de horas laborales\n",
    "horas_laborales = features.calcular_horas_laborales(2017, 2035, 12)\n",
    "\n",
    "# Obtiene cantidad de pabellones de hemodinamia\n",
    "pabellones_hmd = pb.calcular_cantidad_de_pabellones_necesarios(\n",
    "    horas_en_hmd_por_casos, horas_laborales\n",
    ")\n",
    "\n",
    "# Obtiene la cantidad de pabellones totales por anio\n",
    "cantidad_de_pabellones_necesarios = pabellones_hmd.sum()"
   ]
  },
  {
   "cell_type": "code",
   "execution_count": 16,
   "metadata": {},
   "outputs": [
    {
     "name": "stdout",
     "output_type": "stream",
     "text": [
      "> Pabellones de Hemodinamia 2035: 3.44\n"
     ]
    }
   ],
   "source": [
    "print(f\"> Pabellones de Hemodinamia 2035: {cantidad_de_pabellones_necesarios['2035']:.2f}\")"
   ]
  },
  {
   "cell_type": "code",
   "execution_count": 18,
   "metadata": {},
   "outputs": [],
   "source": [
    "# Carga el resumen de area de estudio para MINSAL\n",
    "resumen_area_de_estudio_minsal = (\n",
    "    pd.read_excel(\n",
    "        \"../data/interim/0.1_casos_teoricos_diagnosticos.xlsx\", sheet_name=\"resumen_total_RDR\"\n",
    "    )\n",
    "    .sort_values(\"Diagnostico\")\n",
    ")\n",
    "resumen_area_de_estudio_minsal[\"diagnostico_separado\"] = (\n",
    "    resumen_area_de_estudio_minsal[\"Diagnostico\"].str.split(\" - \").str[0]\n",
    ")\n",
    "resumen_area_de_estudio_minsal = resumen_area_de_estudio_minsal.set_index(\"diagnostico_separado\")\n",
    "\n",
    "# Sintetiza informacion de pabellon para el 2035\n",
    "resumen_quirurgicos = pd.DataFrame(\n",
    "    {\n",
    "        \"casos_hmd_2035\": casos_hmd[\"2035\"],\n",
    "        \"tiempo_quirurgicos\": tiempos_hmd,\n",
    "        \"horas_hmd_2035\": horas_en_hmd_por_casos[\"2035\"],\n",
    "        \"horas_laborales_2035_pabellon_12_hrs\": horas_laborales[\"2035\"],\n",
    "        \"cantidad_de_pabellones_hmd\": pabellones_hmd[\"2035\"],\n",
    "    }\n",
    ")\n",
    "\n",
    "# Une ambos resumenes segun el diagnostico\n",
    "resumen_minsal = resumen_area_de_estudio_minsal.merge(\n",
    "    resumen_quirurgicos, how=\"inner\", left_index=True, right_index=True\n",
    ")"
   ]
  },
  {
   "cell_type": "code",
   "execution_count": 19,
   "metadata": {},
   "outputs": [],
   "source": [
    "a_guardar = {\n",
    "    \"resumen_MINSAL\": resumen_minsal,\n",
    "    \"casos_hmd\": casos_hmd,\n",
    "    \"resumen_duraciones_hmd\": tiempos_hmd,\n",
    "    \"tiempo_utilizado_pabellon\": horas_en_hmd_por_casos,\n",
    "    \"horas_laborales_por_anio\": horas_laborales,\n",
    "    \"pabellones_desg\": pabellones_hmd,\n",
    "    \"pabellones_totales\": cantidad_de_pabellones_necesarios,\n",
    "}"
   ]
  },
  {
   "cell_type": "code",
   "execution_count": 20,
   "metadata": {},
   "outputs": [],
   "source": [
    "with pd.ExcelWriter(\"../data/interim/2.1_estimacion_pabellones_HMD_RDR.xlsx\") as file:\n",
    "    for nombre_hoja, df_a_guardar in a_guardar.items():\n",
    "        df_a_guardar.to_excel(file, sheet_name=nombre_hoja)"
   ]
  }
 ],
 "metadata": {
  "kernelspec": {
   "display_name": "proyeccion-rdr",
   "language": "python",
   "name": "python3"
  },
  "language_info": {
   "codemirror_mode": {
    "name": "ipython",
    "version": 3
   },
   "file_extension": ".py",
   "mimetype": "text/x-python",
   "name": "python",
   "nbconvert_exporter": "python",
   "pygments_lexer": "ipython3",
   "version": "3.10.16"
  }
 },
 "nbformat": 4,
 "nbformat_minor": 2
}
