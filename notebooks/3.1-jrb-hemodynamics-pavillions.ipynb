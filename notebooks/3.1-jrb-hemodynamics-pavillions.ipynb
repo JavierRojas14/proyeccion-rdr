{
 "cells": [
  {
   "cell_type": "code",
   "execution_count": 1,
   "metadata": {},
   "outputs": [],
   "source": [
    "import sys\n",
    "import os\n",
    "\n",
    "project_root = os.path.abspath('..')\n",
    "if project_root not in sys.path:\n",
    "    sys.path.append(project_root)\n",
    " \n",
    "%load_ext autoreload\n",
    "%autoreload 2"
   ]
  },
  {
   "cell_type": "code",
   "execution_count": 2,
   "metadata": {},
   "outputs": [
    {
     "name": "stderr",
     "output_type": "stream",
     "text": [
      "\u001b[32m2025-06-23 12:48:07.138\u001b[0m | \u001b[1mINFO    \u001b[0m | \u001b[36mproyeccion_rdr.config\u001b[0m:\u001b[36m<module>\u001b[0m:\u001b[36m11\u001b[0m - \u001b[1mPROJ_ROOT path is: C:\\Users\\jarojas\\Desktop\\Javier\\SSMN\\EPH - RDR\\2.0-proyeccion-rdr\u001b[0m\n"
     ]
    }
   ],
   "source": [
    "import pandas as pd\n",
    "import numpy as np\n",
    "\n",
    "import matplotlib.pyplot as plt\n",
    "\n",
    "import proyeccion_rdr.features as features\n",
    "import proyeccion_rdr.produccion.a03_pabellon as pb\n",
    "\n",
    "pd.set_option('display.max_columns', None)\n",
    "\n",
    "# Agrega las columnas de poblacion de interes\n",
    "ANIOS_INTERES = [str(i) for i in range(2017, 2036)]"
   ]
  },
  {
   "cell_type": "markdown",
   "metadata": {},
   "source": [
    "## Obtencion de casos por area de influencia INT"
   ]
  },
  {
   "cell_type": "code",
   "execution_count": 3,
   "metadata": {},
   "outputs": [],
   "source": [
    "# Lee los casos de todos los macroprocesos\n",
    "RUTA_ARCHIVOS = \"../data/interim/0.1_casos_teoricos_diagnosticos.xlsx\"\n",
    "_, casos_macroproceso = features.leer_casos_macroprocesos(RUTA_ARCHIVOS)\n",
    "\n",
    "# Obtiene los casos de HMD\n",
    "casos_hmd = casos_macroproceso.query(\"tipo_paciente == 'hmd'\")"
   ]
  },
  {
   "cell_type": "markdown",
   "metadata": {},
   "source": [
    "## Obtencion de porcentajes de Hemodinamia"
   ]
  },
  {
   "cell_type": "code",
   "execution_count": 4,
   "metadata": {},
   "outputs": [],
   "source": [
    "# Define la ruta donde estan los porcentajes de Hemodinamia\n",
    "RUTA_PLANILLA_PORCENTAJES = (\n",
    "    \"../data/raw/3_incidencias_y_porcentajes_marcoprocesos/incidencias_y_prevalencias_RDR.xlsx\"\n",
    ")\n",
    "\n",
    "# Solamente lee los diagnosticos y el porcentaje de Hemodinamia\n",
    "datos_hmd = pd.read_excel(\n",
    "    RUTA_PLANILLA_PORCENTAJES,\n",
    "    usecols=[\"Diagnostico\", \"Porcentaje Pacientes Hemodinamia\", \"Horas en Hemodinamia\"],\n",
    ")\n",
    "\n",
    "# Deja los diagnosticos que SI aportan a la cantidad de pabellones de HMD (porcentaje > 0)\n",
    "datos_hmd = datos_hmd.query(\"`Porcentaje Pacientes Hemodinamia` > 0\")\n",
    "\n",
    "# Formatea la columna de diagnosticos\n",
    "datos_hmd[\"Diagnostico\"] = datos_hmd[\"Diagnostico\"].str.split(\" - \").str[0]\n",
    "\n",
    "# Deja como indice a los diagnosticos\n",
    "datos_hmd = datos_hmd.set_index(\"Diagnostico\")\n",
    "\n",
    "# Indica el tiempo quirurgico por diagnostico promedio (o 75%)\n",
    "tiempos_hmd = datos_hmd[\"Horas en Hemodinamia\"]"
   ]
  },
  {
   "cell_type": "code",
   "execution_count": 5,
   "metadata": {},
   "outputs": [
    {
     "name": "stdout",
     "output_type": "stream",
     "text": [
      "Horas laborales por año calculadas:\n",
      "+---+------+-------------------------------+\n",
      "|   | anio | horas_laborales_con_sabado_6h |\n",
      "+---+------+-------------------------------+\n",
      "| 0 | 2017 |             3282              |\n",
      "| 1 | 2018 |             3264              |\n",
      "| 2 | 2019 |             3282              |\n",
      "| 3 | 2020 |             3312              |\n",
      "| 4 | 2021 |             3300              |\n",
      "+---+------+-------------------------------+\n",
      "\n",
      "Cantidad de pabellones necesarios calculada:\n",
      "+-------------+-----------------------+-----------------------+-----------------------+-----------------------+-----------------------+-----------------------+-----------------------+-----------------------+-----------------------+-----------------------+-----------------------+-----------------------+-----------------------+----------------------+-----------------------+----------------------+----------------------+-----------------------+-----------------------+\n",
      "| Diagnostico |         2017          |         2018          |         2019          |         2020          |         2021          |         2022          |         2023          |         2024          |         2025          |         2026          |         2027          |         2028          |         2029          |         2030         |         2031          |         2032         |         2033         |         2034          |         2035          |\n",
      "+-------------+-----------------------+-----------------------+-----------------------+-----------------------+-----------------------+-----------------------+-----------------------+-----------------------+-----------------------+-----------------------+-----------------------+-----------------------+-----------------------+----------------------+-----------------------+----------------------+----------------------+-----------------------+-----------------------+\n",
      "|    Q211     |  0.07504645990912949  |  0.07451425354967209  |  0.07529330946712115  |  0.07659035466015016  |  0.07807690414457258  |  0.07857596891998288  |  0.07915759567843661  |  0.07869001098614592  |  0.07824558771404631  |  0.07755561202692864  |  0.07707634852031618  |  0.07695154910467111  |  0.07706056112349428  | 0.07601537592697363  |  0.07542139274253018  | 0.07426152020683228  | 0.07416549877295545  |  0.0744913969473103   |  0.07442604385245578  |\n",
      "|    Q234     | 0.001355124647501995  | 0.0013455145212397928 | 0.0013595820452348727 | 0.001383002975577569  | 0.0014098458119819958 | 0.0014188574959265482 | 0.0014293600133934831 | 0.001420916769806978  | 0.0014128917552936363 | 0.0014004327657433976 | 0.0013917786361382807 |  0.00138952511526149  | 0.0013914935608585258 | 0.001372620502452781 | 0.0013618948632365447 | 0.001340950879163371 | 0.00133921700641451  | 0.0013451017963057176 | 0.001343921706135773  |\n",
      "|    Q250     |  0.09529709194810095  |  0.09462127434878996  |  0.0956105517042808   |  0.09725759321923831  |  0.09914527510421912  |  0.09977900815235924  |  0.10051758181388773  |  0.09992382347447101  |  0.09935947646228105  |  0.09848331685959194  |  0.0978747282797666   |  0.0977162528313284   |  0.09785468079173879  |  0.0965274614945697  |  0.09577319713337164  |  0.094300343119787   | 0.09417841114026089  |  0.09459225009182262  |  0.09450926203486448  |\n",
      "|    Q251     | 0.0016081384266242028 | 0.0015967340046358308 | 0.0016134280600097384 | 0.0016412218855746466 | 0.0016730765173836974 | 0.0016837707625710619 | 0.0016962341931093551 | 0.0016862145211316982 | 0.0016766911653009928 | 0.0016619059720056136 | 0.001651636039721061  | 0.0016489617665286663 | 0.0016512977383605913 | 0.001628900912720863 | 0.0016161727016256468 | 0.001591318290146406 | 0.001589260687991902 | 0.0015962442202995062 | 0.0015948437968383387 |\n",
      "+-------------+-----------------------+-----------------------+-----------------------+-----------------------+-----------------------+-----------------------+-----------------------+-----------------------+-----------------------+-----------------------+-----------------------+-----------------------+-----------------------+----------------------+-----------------------+----------------------+----------------------+-----------------------+-----------------------+\n",
      "\n"
     ]
    }
   ],
   "source": [
    "# Multiplica los casos en HMD con sus tiempos quirurgicos\n",
    "horas_en_hmd_por_casos = casos_hmd[ANIOS_INTERES].mul(tiempos_hmd, axis=0)\n",
    "\n",
    "# Obtiene la cantidad de horas laborales\n",
    "horas_laborales = features.calcular_horas_laborales(\n",
    "    2017, 2035, horas_por_dia_semana=12, incluir_sabado=True, horas_sabado=6\n",
    ")\n",
    "\n",
    "# Obtiene cantidad de pabellones de hemodinamia\n",
    "pabellones_hmd = pb.calcular_cantidad_de_pabellones_necesarios(\n",
    "    horas_en_hmd_por_casos, horas_laborales\n",
    ")\n",
    "\n",
    "# Obtiene la cantidad de pabellones totales por anio\n",
    "cantidad_de_pabellones_necesarios = pabellones_hmd.sum()"
   ]
  },
  {
   "cell_type": "code",
   "execution_count": 6,
   "metadata": {},
   "outputs": [
    {
     "name": "stdout",
     "output_type": "stream",
     "text": [
      "> Pabellones de Hemodinamia 2035: 0.17\n"
     ]
    }
   ],
   "source": [
    "print(f\"> Pabellones de Hemodinamia 2035: {cantidad_de_pabellones_necesarios['2035']:.2f}\")"
   ]
  },
  {
   "cell_type": "code",
   "execution_count": 7,
   "metadata": {},
   "outputs": [],
   "source": [
    "# Carga el resumen de area de estudio para MINSAL\n",
    "resumen_area_de_estudio_minsal = (\n",
    "    pd.read_excel(\n",
    "        \"../data/interim/0.1_casos_teoricos_diagnosticos.xlsx\", sheet_name=\"resumen_total_RDR\"\n",
    "    )\n",
    "    .sort_values(\"Diagnostico\")\n",
    ")\n",
    "resumen_area_de_estudio_minsal[\"diagnostico_separado\"] = (\n",
    "    resumen_area_de_estudio_minsal[\"Diagnostico\"].str.split(\" - \").str[0]\n",
    ")\n",
    "resumen_area_de_estudio_minsal = resumen_area_de_estudio_minsal.set_index(\"diagnostico_separado\")\n",
    "\n",
    "# Sintetiza informacion de pabellon para el 2035\n",
    "resumen_quirurgicos = pd.DataFrame(\n",
    "    {\n",
    "        \"porcentaje_hemodinamia\": datos_hmd[\"Porcentaje Pacientes Hemodinamia\"],\n",
    "        \"casos_hmd_2035\": casos_hmd[\"2035\"],\n",
    "        \"tiempo_quirurgicos\": tiempos_hmd,\n",
    "        \"horas_hmd_2035\": horas_en_hmd_por_casos[\"2035\"],\n",
    "        \"horas_laborales_2035_pabellon_12_hrs\": horas_laborales[\"2035\"],\n",
    "        \"cantidad_de_pabellones_hmd\": pabellones_hmd[\"2035\"],\n",
    "    }\n",
    ")\n",
    "\n",
    "# Une ambos resumenes segun el diagnostico\n",
    "resumen_minsal = resumen_area_de_estudio_minsal.merge(\n",
    "    resumen_quirurgicos, how=\"inner\", left_index=True, right_index=True\n",
    ")"
   ]
  },
  {
   "cell_type": "code",
   "execution_count": 8,
   "metadata": {},
   "outputs": [],
   "source": [
    "a_guardar = {\n",
    "    \"resumen_MINSAL\": resumen_minsal,\n",
    "    \"casos_hmd\": casos_hmd,\n",
    "    \"resumen_duraciones_hmd\": tiempos_hmd,\n",
    "    \"tiempo_utilizado_pabellon\": horas_en_hmd_por_casos,\n",
    "    \"horas_laborales_por_anio\": horas_laborales,\n",
    "    \"pabellones_desg\": pabellones_hmd,\n",
    "    \"pabellones_totales\": cantidad_de_pabellones_necesarios,\n",
    "}"
   ]
  },
  {
   "cell_type": "code",
   "execution_count": 9,
   "metadata": {},
   "outputs": [],
   "source": [
    "with pd.ExcelWriter(\"../data/interim/2.1_estimacion_pabellones_HMD_RDR.xlsx\") as file:\n",
    "    for nombre_hoja, df_a_guardar in a_guardar.items():\n",
    "        df_a_guardar.to_excel(file, sheet_name=nombre_hoja)"
   ]
  }
 ],
 "metadata": {
  "kernelspec": {
   "display_name": "proyeccion-rdr",
   "language": "python",
   "name": "python3"
  },
  "language_info": {
   "codemirror_mode": {
    "name": "ipython",
    "version": 3
   },
   "file_extension": ".py",
   "mimetype": "text/x-python",
   "name": "python",
   "nbconvert_exporter": "python",
   "pygments_lexer": "ipython3",
   "version": "3.10.17"
  }
 },
 "nbformat": 4,
 "nbformat_minor": 2
}
