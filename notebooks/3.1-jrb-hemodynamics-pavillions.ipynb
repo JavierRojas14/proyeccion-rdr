{
 "cells": [
  {
   "cell_type": "code",
   "execution_count": 1,
   "metadata": {},
   "outputs": [],
   "source": [
    "import sys\n",
    "import os\n",
    "\n",
    "project_root = os.path.abspath('..')\n",
    "if project_root not in sys.path:\n",
    "    sys.path.append(project_root)\n",
    " \n",
    "%load_ext autoreload\n",
    "%autoreload 2"
   ]
  },
  {
   "cell_type": "code",
   "execution_count": 2,
   "metadata": {},
   "outputs": [
    {
     "name": "stderr",
     "output_type": "stream",
     "text": [
      "\u001b[32m2025-05-30 12:03:13.253\u001b[0m | \u001b[1mINFO    \u001b[0m | \u001b[36mproyeccion_rdr.config\u001b[0m:\u001b[36m<module>\u001b[0m:\u001b[36m11\u001b[0m - \u001b[1mPROJ_ROOT path is: C:\\Users\\javie\\OneDrive\\Documents\\Trabajo\\SSMN\\2.0-proyeccion-rdr\u001b[0m\n"
     ]
    }
   ],
   "source": [
    "import pandas as pd\n",
    "import numpy as np\n",
    "\n",
    "import matplotlib.pyplot as plt\n",
    "\n",
    "import proyeccion_rdr.features as features\n",
    "import proyeccion_rdr.produccion.a03_pabellon as pb\n",
    "\n",
    "pd.set_option('display.max_columns', None)\n",
    "\n",
    "# Agrega las columnas de poblacion de interes\n",
    "ANIOS_INTERES = [str(i) for i in range(2017, 2036)]"
   ]
  },
  {
   "cell_type": "markdown",
   "metadata": {},
   "source": [
    "## Obtencion de casos por area de influencia INT"
   ]
  },
  {
   "cell_type": "code",
   "execution_count": 3,
   "metadata": {},
   "outputs": [],
   "source": [
    "# Lee los casos de todos los macroprocesos\n",
    "RUTA_ARCHIVOS = \"../data/interim/0.1_casos_teoricos_diagnosticos.xlsx\"\n",
    "_, casos_macroproceso = features.leer_casos_macroprocesos(RUTA_ARCHIVOS)\n",
    "\n",
    "# Obtiene los casos de HMD\n",
    "casos_hmd = casos_macroproceso.query(\"tipo_paciente == 'hmd'\")"
   ]
  },
  {
   "cell_type": "markdown",
   "metadata": {},
   "source": [
    "## Obtencion de porcentajes de Hemodinamia"
   ]
  },
  {
   "cell_type": "code",
   "execution_count": 4,
   "metadata": {},
   "outputs": [],
   "source": [
    "# Define la ruta donde estan los porcentajes de Hemodinamia\n",
    "RUTA_PLANILLA_PORCENTAJES = (\n",
    "    \"../data/raw/3_incidencias_y_porcentajes_marcoprocesos/incidencias_y_prevalencias_RDR.xlsx\"\n",
    ")\n",
    "\n",
    "# Solamente lee los diagnosticos y el porcentaje de Hemodinamia\n",
    "datos_hmd = pd.read_excel(\n",
    "    RUTA_PLANILLA_PORCENTAJES,\n",
    "    usecols=[\"Diagnostico\", \"Porcentaje Pacientes Hemodinamia\", \"Horas en Hemodinamia\"],\n",
    ")\n",
    "\n",
    "# Deja los diagnosticos que SI aportan a la cantidad de pabellones de HMD (porcentaje > 0)\n",
    "datos_hmd = datos_hmd.query(\"`Porcentaje Pacientes Hemodinamia` > 0\")\n",
    "\n",
    "# Formatea la columna de diagnosticos\n",
    "datos_hmd[\"Diagnostico\"] = datos_hmd[\"Diagnostico\"].str.split(\" - \").str[0]\n",
    "\n",
    "# Deja como indice a los diagnosticos\n",
    "datos_hmd = datos_hmd.set_index(\"Diagnostico\")\n",
    "\n",
    "# Indica el tiempo quirurgico por diagnostico promedio (o 75%)\n",
    "tiempos_hmd = datos_hmd[\"Horas en Hemodinamia\"]"
   ]
  },
  {
   "cell_type": "code",
   "execution_count": 5,
   "metadata": {},
   "outputs": [
    {
     "name": "stdout",
     "output_type": "stream",
     "text": [
      "Horas laborales por año calculadas:\n",
      "+---+------+---------------------------------+\n",
      "|   | anio | horas_laborales_solo_semana_12h |\n",
      "+---+------+---------------------------------+\n",
      "| 0 | 2017 |              2976               |\n",
      "| 1 | 2018 |              2964               |\n",
      "| 2 | 2019 |              2988               |\n",
      "| 3 | 2020 |              3024               |\n",
      "| 4 | 2021 |              3012               |\n",
      "+---+------+---------------------------------+\n",
      "\n",
      "Cantidad de pabellones necesarios calculada:\n",
      "+-------------+-----------------------+-----------------------+-----------------------+-----------------------+-----------------------+----------------------+-----------------------+-----------------------+-----------------------+-----------------------+-----------------------+-----------------------+-----------------------+-----------------------+-----------------------+-----------------------+----------------------+-----------------------+-----------------------+\n",
      "| Diagnostico |         2017          |         2018          |         2019          |         2020          |         2021          |         2022         |         2023          |         2024          |         2025          |         2026          |         2027          |         2028          |         2029          |         2030          |         2031          |         2032          |         2033         |         2034          |         2035          |\n",
      "+-------------+-----------------------+-----------------------+-----------------------+-----------------------+-----------------------+----------------------+-----------------------+-----------------------+-----------------------+-----------------------+-----------------------+-----------------------+-----------------------+-----------------------+-----------------------+-----------------------+----------------------+-----------------------+-----------------------+\n",
      "|    Q211     |  0.08276293058526982  |  0.08205618204660246  |  0.08270168730625556  |  0.08388467415159302  |  0.08554242485959147  |  0.0862764138741412  |  0.08732973612297157  |  0.08643260242855787  |  0.0861015704162598   |  0.08497128807731225  |  0.08444619857803566  |  0.08486390596825624  |  0.08489191896124776  |  0.08352495943588838  |  0.08281268923129813  |  0.08130609129364641  | 0.08140476060537541  |  0.08218180432446177  |  0.08198966619518502  |\n",
      "|    Q234     | 0.0014944620608540145 | 0.0014817002015272214 | 0.001493356182215814  | 0.0015147175446801945 | 0.0015446517860360513 | 0.00155790553052735  | 0.0015769255208490857 | 0.0015607258495671024 | 0.0015547483572307483 | 0.0015343386875674675 | 0.0015248570714662439 | 0.0015323996734839416 | 0.001532905508100246  | 0.0015082221246708984 | 0.001495360559833726  | 0.0014681557056452719 | 0.001469937391502779 | 0.0014839685809445668 | 0.0014804991152959125 |\n",
      "|    Q250     |  0.10509578487018391  |  0.10419832640838408  |  0.10501801562699116  |  0.10652022114488006  |  0.10862530140900502  | 0.10955735095129045  |  0.1108949030132972   |  0.10975568562356555  |  0.10933532751271088  |  0.10790004835214258  |  0.10723326803560086  |  0.10776369011842063  |  0.10779926217301304  |  0.10606344055350904  |  0.10515897045244206  |  0.10324583021415414  |  0.1033711245782545  |  0.10435784676122131  |  0.1041138618351556   |\n",
      "|    Q251     | 0.0017734913696843529 | 0.0017583467581414817 | 0.0017721790137054758 | 0.001797528731819851  | 0.0018330519612769593 | 0.001848780297303026 | 0.0018713514883493896 | 0.0018521271948976686 | 0.0018450336517769961 | 0.0018208133159424054 | 0.001809561398100764  | 0.0018185122707483476 | 0.0018191125491695945 | 0.0017898205593404645 | 0.0017745576263849601 | 0.0017422733848638519 | 0.001744387727258044 | 0.0017610386640956092 | 0.0017569214184682512 |\n",
      "+-------------+-----------------------+-----------------------+-----------------------+-----------------------+-----------------------+----------------------+-----------------------+-----------------------+-----------------------+-----------------------+-----------------------+-----------------------+-----------------------+-----------------------+-----------------------+-----------------------+----------------------+-----------------------+-----------------------+\n",
      "\n"
     ]
    }
   ],
   "source": [
    "# Multiplica los casos en HMD con sus tiempos quirurgicos\n",
    "horas_en_hmd_por_casos = casos_hmd[ANIOS_INTERES].mul(tiempos_hmd, axis=0)\n",
    "\n",
    "# Obtiene la cantidad de horas laborales\n",
    "horas_laborales = features.calcular_horas_laborales(2017, 2035, 12)\n",
    "\n",
    "# Obtiene cantidad de pabellones de hemodinamia\n",
    "pabellones_hmd = pb.calcular_cantidad_de_pabellones_necesarios(\n",
    "    horas_en_hmd_por_casos, horas_laborales\n",
    ")\n",
    "\n",
    "# Obtiene la cantidad de pabellones totales por anio\n",
    "cantidad_de_pabellones_necesarios = pabellones_hmd.sum()"
   ]
  },
  {
   "cell_type": "code",
   "execution_count": 6,
   "metadata": {},
   "outputs": [
    {
     "name": "stdout",
     "output_type": "stream",
     "text": [
      "> Pabellones de Hemodinamia 2035: 0.19\n"
     ]
    }
   ],
   "source": [
    "print(f\"> Pabellones de Hemodinamia 2035: {cantidad_de_pabellones_necesarios['2035']:.2f}\")"
   ]
  },
  {
   "cell_type": "code",
   "execution_count": 7,
   "metadata": {},
   "outputs": [],
   "source": [
    "# Carga el resumen de area de estudio para MINSAL\n",
    "resumen_area_de_estudio_minsal = (\n",
    "    pd.read_excel(\n",
    "        \"../data/interim/0.1_casos_teoricos_diagnosticos.xlsx\", sheet_name=\"resumen_total_RDR\"\n",
    "    )\n",
    "    .sort_values(\"Diagnostico\")\n",
    ")\n",
    "resumen_area_de_estudio_minsal[\"diagnostico_separado\"] = (\n",
    "    resumen_area_de_estudio_minsal[\"Diagnostico\"].str.split(\" - \").str[0]\n",
    ")\n",
    "resumen_area_de_estudio_minsal = resumen_area_de_estudio_minsal.set_index(\"diagnostico_separado\")\n",
    "\n",
    "# Sintetiza informacion de pabellon para el 2035\n",
    "resumen_quirurgicos = pd.DataFrame(\n",
    "    {\n",
    "        \"porcentaje_hemodinamia\": datos_hmd[\"Porcentaje Pacientes Hemodinamia\"],\n",
    "        \"casos_hmd_2035\": casos_hmd[\"2035\"],\n",
    "        \"tiempo_quirurgicos\": tiempos_hmd,\n",
    "        \"horas_hmd_2035\": horas_en_hmd_por_casos[\"2035\"],\n",
    "        \"horas_laborales_2035_pabellon_12_hrs\": horas_laborales[\"2035\"],\n",
    "        \"cantidad_de_pabellones_hmd\": pabellones_hmd[\"2035\"],\n",
    "    }\n",
    ")\n",
    "\n",
    "# Une ambos resumenes segun el diagnostico\n",
    "resumen_minsal = resumen_area_de_estudio_minsal.merge(\n",
    "    resumen_quirurgicos, how=\"inner\", left_index=True, right_index=True\n",
    ")"
   ]
  },
  {
   "cell_type": "code",
   "execution_count": 8,
   "metadata": {},
   "outputs": [],
   "source": [
    "a_guardar = {\n",
    "    \"resumen_MINSAL\": resumen_minsal,\n",
    "    \"casos_hmd\": casos_hmd,\n",
    "    \"resumen_duraciones_hmd\": tiempos_hmd,\n",
    "    \"tiempo_utilizado_pabellon\": horas_en_hmd_por_casos,\n",
    "    \"horas_laborales_por_anio\": horas_laborales,\n",
    "    \"pabellones_desg\": pabellones_hmd,\n",
    "    \"pabellones_totales\": cantidad_de_pabellones_necesarios,\n",
    "}"
   ]
  },
  {
   "cell_type": "code",
   "execution_count": 9,
   "metadata": {},
   "outputs": [],
   "source": [
    "with pd.ExcelWriter(\"../data/interim/2.1_estimacion_pabellones_HMD_RDR.xlsx\") as file:\n",
    "    for nombre_hoja, df_a_guardar in a_guardar.items():\n",
    "        df_a_guardar.to_excel(file, sheet_name=nombre_hoja)"
   ]
  }
 ],
 "metadata": {
  "kernelspec": {
   "display_name": "proyeccion-rdr",
   "language": "python",
   "name": "python3"
  },
  "language_info": {
   "codemirror_mode": {
    "name": "ipython",
    "version": 3
   },
   "file_extension": ".py",
   "mimetype": "text/x-python",
   "name": "python",
   "nbconvert_exporter": "python",
   "pygments_lexer": "ipython3",
   "version": "3.10.16"
  }
 },
 "nbformat": 4,
 "nbformat_minor": 2
}
