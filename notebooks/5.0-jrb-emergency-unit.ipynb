{
  "cells": [
    {
      "cell_type": "code",
      "execution_count": 1,
      "id": "9c5ca1ef",
      "metadata": {},
      "outputs": [],
      "source": [
        "import sys\n",
        "import os\n",
        "\n",
        "project_root = os.path.abspath('..')\n",
        "if project_root not in sys.path:\n",
        "    sys.path.append(project_root)\n",
        " \n",
        "%load_ext autoreload\n",
        "%autoreload 2"
      ]
    },
    {
      "cell_type": "code",
      "execution_count": 2,
      "id": "c59728de",
      "metadata": {},
      "outputs": [
        {
          "name": "stderr",
          "output_type": "stream",
          "text": [
            "\u001b[32m2025-07-03 22:11:34.495\u001b[0m | \u001b[1mINFO    \u001b[0m | \u001b[36mproyeccion_rdr.config\u001b[0m:\u001b[36m<module>\u001b[0m:\u001b[36m11\u001b[0m - \u001b[1mPROJ_ROOT path is: C:\\Users\\javie\\OneDrive\\Documents\\Trabajo\\SSMN\\2.0-proyeccion-rdr\u001b[0m\n"
          ]
        }
      ],
      "source": [
        "import pandas as pd\n",
        "import numpy as np\n",
        "pd.set_option(\"display.max_columns\", None)\n",
        "\n",
        "from proyeccion_rdr.produccion.a05_unidades_de_apoyo import guardar_dict_en_excel\n",
        "\n",
        "ANIOS_POBLACION = [f\"{i}\" for i in [2025, 2030, 2040]]"
      ]
    },
    {
      "cell_type": "code",
      "execution_count": 3,
      "id": "dfefdf03",
      "metadata": {},
      "outputs": [
        {
          "data": {
            "text/html": [
              "<div>\n",
              "<style scoped>\n",
              "    .dataframe tbody tr th:only-of-type {\n",
              "        vertical-align: middle;\n",
              "    }\n",
              "\n",
              "    .dataframe tbody tr th {\n",
              "        vertical-align: top;\n",
              "    }\n",
              "\n",
              "    .dataframe thead th {\n",
              "        text-align: right;\n",
              "    }\n",
              "</style>\n",
              "<table border=\"1\" class=\"dataframe\">\n",
              "  <thead>\n",
              "    <tr style=\"text-align: right;\">\n",
              "      <th></th>\n",
              "      <th></th>\n",
              "      <th>2018</th>\n",
              "      <th>2019</th>\n",
              "      <th>2020</th>\n",
              "      <th>2021</th>\n",
              "      <th>2022</th>\n",
              "    </tr>\n",
              "    <tr>\n",
              "      <th>Edad Incidencia</th>\n",
              "      <th>Estrato</th>\n",
              "      <th></th>\n",
              "      <th></th>\n",
              "      <th></th>\n",
              "      <th></th>\n",
              "      <th></th>\n",
              "    </tr>\n",
              "  </thead>\n",
              "  <tbody>\n",
              "    <tr>\n",
              "      <th>entre_0_y_15</th>\n",
              "      <th>SSMN</th>\n",
              "      <td>148276</td>\n",
              "      <td>155320</td>\n",
              "      <td>153830</td>\n",
              "      <td>151308</td>\n",
              "      <td>153566</td>\n",
              "    </tr>\n",
              "  </tbody>\n",
              "</table>\n",
              "</div>"
            ],
            "text/plain": [
              "                           2018    2019    2020    2021    2022\n",
              "Edad Incidencia Estrato                                        \n",
              "entre_0_y_15    SSMN     148276  155320  153830  151308  153566"
            ]
          },
          "metadata": {},
          "output_type": "display_data"
        }
      ],
      "source": [
        "# Lee la poblacion FONASA\n",
        "ruta_poblaciones = \"../data/interim/0.0_poblaciones_ine_y_fonasa_a_utilizar.xlsx\"\n",
        "poblaciones_fonasa = pd.read_excel(ruta_poblaciones, sheet_name=\"poblacion_FONASA\")\n",
        "\n",
        "# Filtra solamente la poblacion del SSMN y entre 0 y 15 anios (Poblacion que efectivamente\n",
        "# atendieron). Elimina la columna del 2023, ya que esta mal calculada\n",
        "poblaciones_fonasa_ssmn = (\n",
        "    poblaciones_fonasa.query(\"Estrato == 'SSMN' and `Edad Incidencia` == 'entre_0_y_15'\")\n",
        "    .set_index([\"Edad Incidencia\", \"Estrato\"])\n",
        "    .drop(columns=[\"2023\"])\n",
        ")\n",
        "display(poblaciones_fonasa_ssmn)"
      ]
    },
    {
      "cell_type": "code",
      "execution_count": 4,
      "id": "1cd94e2f",
      "metadata": {},
      "outputs": [],
      "source": [
        "# Lee las consultas de urgencias REM\n",
        "produccion_urgencias_rem = pd.DataFrame(\n",
        "    [\n",
        "        [59, 70, 82, 65, 87, 69, 91, 448, 176, 169],\n",
        "        [1455, 1292, 2133, 2635, 3096, 1499, 5235, 13613, 12473, 12981],\n",
        "        [33159, 28148, 25438, 22907, 27428, 13795, 20488, 29809, 28980, 29070],\n",
        "        [66592, 64954, 63160, 62138, 54425, 21814, 22329, 36763, 37584, 38696],\n",
        "        [4841, 4781, 0, 0, 1, 0, 0, 0, 0, 0],\n",
        "        [3764, 3302, 5514, 11914, 8251, 2476, 1484, 933, 1237, 1250],\n",
        "        [109870, 102547, 96327, 99659, 93288, 39653, 49627, 81566, 80450, 82166],\n",
        "    ],\n",
        "    index=[\"C1\", \"C2\", \"C3\", \"C4\", \"SIN CATEGORIZACION\", \"C5\", \"Total\"],\n",
        "    columns=[\"2015\", \"2016\", \"2017\", \"2018\", \"2019\", \"2020\", \"2021\", \"2022\", \"2023\", \"2024\"],\n",
        ")\n",
        "total_urgencias_rem = produccion_urgencias_rem.loc[\"Total\"]\n",
        "\n",
        "# Obtiene el porcentaje de cada categoria respecto al total\n",
        "porcentaje_categorizacion_rem = produccion_urgencias_rem / produccion_urgencias_rem.iloc[-1]"
      ]
    },
    {
      "cell_type": "code",
      "execution_count": 5,
      "id": "39c8dedb",
      "metadata": {},
      "outputs": [],
      "source": [
        "# Obtiene la proporcion de urgencias y poblacion\n",
        "proporcion_urgencias_y_poblacion = total_urgencias_rem / poblaciones_fonasa_ssmn"
      ]
    },
    {
      "cell_type": "code",
      "execution_count": 6,
      "id": "3d76ba73",
      "metadata": {},
      "outputs": [],
      "source": [
        "# Selecciona la cantidad de urgenicas por personas.\n",
        "# De 15 a 18 fue criterio de experto - Dr Tapia\n",
        "anio_maximo = proporcion_urgencias_y_poblacion.idxmax(axis=1).iloc[0]\n",
        "texto_maximo = f\"Maximo de urgencias por persona histórico SSMN: {anio_maximo}\"\n",
        "factor_urgencias_0_a_14 = proporcion_urgencias_y_poblacion[anio_maximo].iloc[0]\n",
        "factor_urgencias_15_a_18 = 1.3\n",
        "\n",
        "# Extrae los factores de categorizacion para proyectar\n",
        "factores_categorizacion = porcentaje_categorizacion_rem[anio_maximo].to_frame()\n",
        "factores_categorizacion[\"criterio_eleccion\"] = texto_maximo\n",
        "factores_categorizacion = factores_categorizacion.rename(\n",
        "    columns={anio_maximo: \"porcentaje_con_consultas_urg\"}\n",
        ")\n",
        "\n",
        "# Consolida los factores de urgencias\n",
        "resumen_factores_elegidos = pd.DataFrame(\n",
        "    index=[\"recien_nacidos_vivos\", \"entre_1_y_14\", \"entre_15_y_18\"],\n",
        "    columns=[\"porcentaje_con_consultas_urg\", \"consultas_por_paciente\", \"criterio_eleccion\"],\n",
        "    data=[\n",
        "        [factor_urgencias_0_a_14, 1, texto_maximo],\n",
        "        [factor_urgencias_0_a_14, 1, texto_maximo],\n",
        "        [1, factor_urgencias_15_a_18, \"Criterio Experto - Dr Tapia\"],\n",
        "    ],\n",
        ")\n",
        "\n",
        "# Concatena factores de categorizacion a las variables\n",
        "resumen_factores_elegidos = pd.concat([resumen_factores_elegidos, factores_categorizacion])"
      ]
    },
    {
      "cell_type": "code",
      "execution_count": 7,
      "id": "21bc0aed",
      "metadata": {},
      "outputs": [],
      "source": [
        "# Lee la poblacion SSMN extrapolada\n",
        "estratos_interes_0_a_18 = [\"recien_nacidos_vivos\", \"entre_1_y_14\", \"entre_15_y_18\"]\n",
        "\n",
        "# Extrae solamente los estratos de interes\n",
        "poblacion_fonasa_extrapolada_ssmn = (\n",
        "    pd.read_excel(ruta_poblaciones, sheet_name=\"pobl_fonasa_extrapol_censo_2024\")\n",
        "    .query(\"Estrato == 'SSMN'\")\n",
        "    .set_index(\"Edad Incidencia\")\n",
        "    .drop(columns=\"Estrato\")\n",
        "    .query(\"`Edad Incidencia`.isin(@estratos_interes_0_a_18)\")\n",
        ")\n"
      ]
    },
    {
      "cell_type": "code",
      "execution_count": 8,
      "id": "cc21509b",
      "metadata": {},
      "outputs": [],
      "source": [
        "# Multiplica la cantidad de poblacion por el porcentaje que requiere urgencia\n",
        "pacientes_con_urgencia = poblacion_fonasa_extrapolada_ssmn.mul(\n",
        "    resumen_factores_elegidos[\"porcentaje_con_consultas_urg\"], axis=0\n",
        ").dropna()\n",
        "\n",
        "# Obtiene la cantidad de consultas de urgencia\n",
        "consultas_urgencia = pacientes_con_urgencia.mul(\n",
        "    resumen_factores_elegidos[\"consultas_por_paciente\"], axis=0\n",
        ").dropna()\n",
        "\n",
        "# Agrega el total de consultas\n",
        "consultas_urgencia.loc[\"Total\"] = consultas_urgencia.sum()\n",
        "\n",
        "# Calcula por porcentaje de categorizacion\n",
        "consultas_categorizacion = pd.DataFrame(\n",
        "    index=factores_categorizacion.index, data=[consultas_urgencia.loc[\"Total\"]]\n",
        ")\n",
        "\n",
        "# Multiplica y calcula las consultas de categorizacion\n",
        "consultas_categorizacion = (\n",
        "    consultas_categorizacion.mul(resumen_factores_elegidos[\"porcentaje_con_consultas_urg\"], axis=0)\n",
        "    .dropna()\n",
        "    .drop(index=\"Total\")\n",
        ")\n",
        "\n",
        "# Resumen final\n",
        "resumen_consultas = pd.concat([consultas_urgencia, consultas_categorizacion])"
      ]
    },
    {
      "cell_type": "code",
      "execution_count": 9,
      "id": "7b3233e9",
      "metadata": {},
      "outputs": [
        {
          "name": "stdout",
          "output_type": "stream",
          "text": [
            "Total consultas urgencia proyectadas 2040: 179397.94\n"
          ]
        }
      ],
      "source": [
        "print(f\"Total consultas urgencia proyectadas 2040: {resumen_consultas.loc['Total', '2040']:.2f}\")"
      ]
    },
    {
      "cell_type": "code",
      "execution_count": 10,
      "id": "70e27e13",
      "metadata": {},
      "outputs": [],
      "source": [
        "resumen_minsal = pd.DataFrame(\n",
        "    {\n",
        "        \"poblacion_fonasa_2040\": poblacion_fonasa_extrapolada_ssmn[\"2040\"],\n",
        "        \"porcentaje_paciente_con_consulta_urgencia\": resumen_factores_elegidos[\n",
        "            \"porcentaje_con_consultas_urg\"\n",
        "        ],\n",
        "        \"pacientes_urgencia_2040\": pacientes_con_urgencia[\"2040\"],\n",
        "        \"cantidad_consultas_urgencia_por_paciente\": resumen_factores_elegidos[\n",
        "            \"consultas_por_paciente\"\n",
        "        ],\n",
        "        \"consultas_urgencia_2040\": consultas_urgencia[\"2040\"],\n",
        "    }\n",
        ").dropna()"
      ]
    },
    {
      "cell_type": "markdown",
      "id": "600b3b5e",
      "metadata": {},
      "source": [
        "## Resumen MINSAL"
      ]
    },
    {
      "cell_type": "code",
      "execution_count": 11,
      "id": "04d3d116",
      "metadata": {},
      "outputs": [],
      "source": [
        "a_guardar = {\n",
        "    \"resumen_MINSAL\": resumen_minsal,\n",
        "    \"poblaciones_fonasa_ssmn\": poblaciones_fonasa_ssmn,\n",
        "    \"produccion_urgencias_rem\": produccion_urgencias_rem,\n",
        "    \"porcentaje_categorizacion_rem\": porcentaje_categorizacion_rem,\n",
        "    \"porcentaje_urgencias_pobl_ssmn\": proporcion_urgencias_y_poblacion,\n",
        "    \"factores_para_proyectar\": resumen_factores_elegidos,\n",
        "    \"poblacion_ssmn_extrapol\": poblacion_fonasa_extrapolada_ssmn,\n",
        "    \"pacientes_con_urgencia\": pacientes_con_urgencia,\n",
        "    \"proyeccion_consultas\": resumen_consultas\n",
        "}"
      ]
    },
    {
      "cell_type": "code",
      "execution_count": 12,
      "id": "c51ddcc5",
      "metadata": {},
      "outputs": [],
      "source": [
        "ruta_archivo = \"../data/interim/4.0_estimacion_consultas_urgencia.xlsx\"\n",
        "with pd.ExcelWriter(ruta_archivo) as file:\n",
        "    for nombre_hoja, df_a_guardar in a_guardar.items():\n",
        "        df_a_guardar.to_excel(file, sheet_name=nombre_hoja)"
      ]
    }
  ],
  "metadata": {
    "kernelspec": {
      "display_name": "proyeccion-rdr",
      "language": "python",
      "name": "python3"
    },
    "language_info": {
      "codemirror_mode": {
        "name": "ipython",
        "version": 3
      },
      "file_extension": ".py",
      "mimetype": "text/x-python",
      "name": "python",
      "nbconvert_exporter": "python",
      "pygments_lexer": "ipython3",
      "version": "3.10.16"
    }
  },
  "nbformat": 4,
  "nbformat_minor": 5
}
