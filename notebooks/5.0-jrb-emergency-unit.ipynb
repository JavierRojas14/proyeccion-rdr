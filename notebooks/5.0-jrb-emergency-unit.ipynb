{
 "cells": [
  {
   "cell_type": "code",
   "execution_count": 46,
   "id": "9c5ca1ef",
   "metadata": {},
   "outputs": [
    {
     "name": "stdout",
     "output_type": "stream",
     "text": [
      "The autoreload extension is already loaded. To reload it, use:\n",
      "  %reload_ext autoreload\n"
     ]
    }
   ],
   "source": [
    "import sys\n",
    "import os\n",
    "\n",
    "project_root = os.path.abspath('..')\n",
    "if project_root not in sys.path:\n",
    "    sys.path.append(project_root)\n",
    " \n",
    "%load_ext autoreload\n",
    "%autoreload 2"
   ]
  },
  {
   "cell_type": "code",
   "execution_count": 47,
   "id": "c59728de",
   "metadata": {},
   "outputs": [],
   "source": [
    "import pandas as pd\n",
    "import numpy as np\n",
    "pd.set_option(\"display.max_columns\", None)\n",
    "\n",
    "from proyeccion_rdr.produccion.a05_unidades_de_apoyo import guardar_dict_en_excel\n",
    "\n",
    "ANIOS_POBLACION = [str(i) for i in range(2017, 2036)]"
   ]
  },
  {
   "cell_type": "code",
   "execution_count": 48,
   "id": "dfefdf03",
   "metadata": {},
   "outputs": [
    {
     "data": {
      "text/html": [
       "<div>\n",
       "<style scoped>\n",
       "    .dataframe tbody tr th:only-of-type {\n",
       "        vertical-align: middle;\n",
       "    }\n",
       "\n",
       "    .dataframe tbody tr th {\n",
       "        vertical-align: top;\n",
       "    }\n",
       "\n",
       "    .dataframe thead th {\n",
       "        text-align: right;\n",
       "    }\n",
       "</style>\n",
       "<table border=\"1\" class=\"dataframe\">\n",
       "  <thead>\n",
       "    <tr style=\"text-align: right;\">\n",
       "      <th></th>\n",
       "      <th></th>\n",
       "      <th>2018</th>\n",
       "      <th>2019</th>\n",
       "      <th>2020</th>\n",
       "      <th>2021</th>\n",
       "      <th>2022</th>\n",
       "    </tr>\n",
       "    <tr>\n",
       "      <th>Edad Incidencia</th>\n",
       "      <th>Estrato</th>\n",
       "      <th></th>\n",
       "      <th></th>\n",
       "      <th></th>\n",
       "      <th></th>\n",
       "      <th></th>\n",
       "    </tr>\n",
       "  </thead>\n",
       "  <tbody>\n",
       "    <tr>\n",
       "      <th>entre_0_y_15</th>\n",
       "      <th>SSMN</th>\n",
       "      <td>148276</td>\n",
       "      <td>155320</td>\n",
       "      <td>153830</td>\n",
       "      <td>151308</td>\n",
       "      <td>153566</td>\n",
       "    </tr>\n",
       "  </tbody>\n",
       "</table>\n",
       "</div>"
      ],
      "text/plain": [
       "                           2018    2019    2020    2021    2022\n",
       "Edad Incidencia Estrato                                        \n",
       "entre_0_y_15    SSMN     148276  155320  153830  151308  153566"
      ]
     },
     "metadata": {},
     "output_type": "display_data"
    }
   ],
   "source": [
    "# Lee la poblacion FONASA\n",
    "ruta_poblaciones = \"../data/interim/0.0_poblaciones_ine_y_fonasa_a_utilizar.xlsx\"\n",
    "poblaciones_fonasa = pd.read_excel(ruta_poblaciones, sheet_name=\"poblacion_FONASA\")\n",
    "\n",
    "# Filtra solamente la poblacion del SSMN y entre 0 y 15 anios (Poblacion que efectivamente\n",
    "# atendieron). Elimina la columna del 2023, ya que esta mal calculada\n",
    "poblaciones_fonasa_ssmn = (\n",
    "    poblaciones_fonasa.query(\"Estrato == 'SSMN' and `Edad Incidencia` == 'entre_0_y_15'\")\n",
    "    .set_index([\"Edad Incidencia\", \"Estrato\"])\n",
    "    .drop(columns=[\"2023\"])\n",
    ")\n",
    "display(poblaciones_fonasa_ssmn)"
   ]
  },
  {
   "cell_type": "code",
   "execution_count": 49,
   "id": "1cd94e2f",
   "metadata": {},
   "outputs": [],
   "source": [
    "# Lee las consultas de urgencias REM\n",
    "produccion_urgencias_rem = pd.DataFrame(\n",
    "    [\n",
    "        [59, 70, 82, 65, 87, 69, 91, 448, 176, 169],\n",
    "        [1455, 1292, 2133, 2635, 3096, 1499, 5235, 13613, 12473, 12981],\n",
    "        [33159, 28148, 25438, 22907, 27428, 13795, 20488, 29809, 28980, 29070],\n",
    "        [66592, 64954, 63160, 62138, 54425, 21814, 22329, 36763, 37584, 38696],\n",
    "        [4841, 4781, 0, 0, 1, 0, 0, 0, 0, 0],\n",
    "        [3764, 3302, 5514, 11914, 8251, 2476, 1484, 933, 1237, 1250],\n",
    "        [109870, 102547, 96327, 99659, 93288, 39653, 49627, 81566, 80450, 82166],\n",
    "    ],\n",
    "    index=[\"C1\", \"C2\", \"C3\", \"C4\", \"SIN CATEGORIZACION\", \"C5\", \"Total\"],\n",
    "    columns=[\"2015\", \"2016\", \"2017\", \"2018\", \"2019\", \"2020\", \"2021\", \"2022\", \"2023\", \"2024\"],\n",
    ")\n",
    "total_urgencias_rem = produccion_urgencias_rem.loc[\"Total\"]\n",
    "\n",
    "# Obtiene el porcentaje de cada categoria respecto al total\n",
    "porcentaje_categorizacion_rem = produccion_urgencias_rem / produccion_urgencias_rem.iloc[-1]"
   ]
  },
  {
   "cell_type": "code",
   "execution_count": 50,
   "id": "39c8dedb",
   "metadata": {},
   "outputs": [],
   "source": [
    "# Obtiene la proporcion de urgencias y poblacion\n",
    "proporcion_urgencias_y_poblacion = total_urgencias_rem / poblaciones_fonasa_ssmn"
   ]
  },
  {
   "cell_type": "code",
   "execution_count": 51,
   "id": "3d76ba73",
   "metadata": {},
   "outputs": [],
   "source": [
    "# Selecciona la cantidad de urgenicas por personas.\n",
    "# De 15 a 18 fue criterio de experto - Dr Tapia\n",
    "anio_maximo = proporcion_urgencias_y_poblacion.idxmax(axis=1).iloc[0]\n",
    "texto_maximo = f\"Maximo de urgencias por persona histórico SSMN: {anio_maximo}\"\n",
    "factor_urgencias_0_a_14 = proporcion_urgencias_y_poblacion[anio_maximo].iloc[0]\n",
    "factor_urgencias_15_a_18 = 1.3\n",
    "\n",
    "# Extrae los factores de categorizacion para proyectar\n",
    "factores_categorizacion = porcentaje_categorizacion_rem[anio_maximo].to_frame()\n",
    "factores_categorizacion[\"criterio_eleccion\"] = texto_maximo\n",
    "factores_categorizacion = factores_categorizacion.rename(\n",
    "    columns={anio_maximo: \"porcentaje_con_consultas_urg\"}\n",
    ")\n",
    "\n",
    "# Consolida los factores de urgencias\n",
    "resumen_factores_elegidos = pd.DataFrame(\n",
    "    index=[\"recien_nacidos_vivos\", \"entre_1_y_14\", \"entre_15_y_18\"],\n",
    "    columns=[\"porcentaje_con_consultas_urg\", \"consultas_por_paciente\", \"criterio_eleccion\"],\n",
    "    data=[\n",
    "        [factor_urgencias_0_a_14, 1, texto_maximo],\n",
    "        [factor_urgencias_0_a_14, 1, texto_maximo],\n",
    "        [1, factor_urgencias_15_a_18, \"Criterio Experto - Dr Tapia\"],\n",
    "    ],\n",
    ")\n",
    "\n",
    "# Concatena factores de categorizacion a las variables\n",
    "resumen_factores_elegidos = pd.concat([resumen_factores_elegidos, factores_categorizacion])"
   ]
  },
  {
   "cell_type": "code",
   "execution_count": 52,
   "id": "8f31091c",
   "metadata": {},
   "outputs": [
    {
     "data": {
      "text/html": [
       "<div>\n",
       "<style scoped>\n",
       "    .dataframe tbody tr th:only-of-type {\n",
       "        vertical-align: middle;\n",
       "    }\n",
       "\n",
       "    .dataframe tbody tr th {\n",
       "        vertical-align: top;\n",
       "    }\n",
       "\n",
       "    .dataframe thead th {\n",
       "        text-align: right;\n",
       "    }\n",
       "</style>\n",
       "<table border=\"1\" class=\"dataframe\">\n",
       "  <thead>\n",
       "    <tr style=\"text-align: right;\">\n",
       "      <th></th>\n",
       "      <th>porcentaje_con_consultas_urg</th>\n",
       "      <th>consultas_por_paciente</th>\n",
       "      <th>criterio_eleccion</th>\n",
       "    </tr>\n",
       "  </thead>\n",
       "  <tbody>\n",
       "    <tr>\n",
       "      <th>recien_nacidos_vivos</th>\n",
       "      <td>0.672118</td>\n",
       "      <td>1.0</td>\n",
       "      <td>Maximo de urgencias por persona histórico SSMN...</td>\n",
       "    </tr>\n",
       "    <tr>\n",
       "      <th>entre_1_y_14</th>\n",
       "      <td>0.672118</td>\n",
       "      <td>1.0</td>\n",
       "      <td>Maximo de urgencias por persona histórico SSMN...</td>\n",
       "    </tr>\n",
       "    <tr>\n",
       "      <th>entre_15_y_18</th>\n",
       "      <td>1.000000</td>\n",
       "      <td>1.3</td>\n",
       "      <td>Criterio Experto - Dr Tapia</td>\n",
       "    </tr>\n",
       "    <tr>\n",
       "      <th>C1</th>\n",
       "      <td>0.000652</td>\n",
       "      <td>NaN</td>\n",
       "      <td>Maximo de urgencias por persona histórico SSMN...</td>\n",
       "    </tr>\n",
       "    <tr>\n",
       "      <th>C2</th>\n",
       "      <td>0.026440</td>\n",
       "      <td>NaN</td>\n",
       "      <td>Maximo de urgencias por persona histórico SSMN...</td>\n",
       "    </tr>\n",
       "    <tr>\n",
       "      <th>C3</th>\n",
       "      <td>0.229854</td>\n",
       "      <td>NaN</td>\n",
       "      <td>Maximo de urgencias por persona histórico SSMN...</td>\n",
       "    </tr>\n",
       "    <tr>\n",
       "      <th>C4</th>\n",
       "      <td>0.623506</td>\n",
       "      <td>NaN</td>\n",
       "      <td>Maximo de urgencias por persona histórico SSMN...</td>\n",
       "    </tr>\n",
       "    <tr>\n",
       "      <th>SIN CATEGORIZACION</th>\n",
       "      <td>0.000000</td>\n",
       "      <td>NaN</td>\n",
       "      <td>Maximo de urgencias por persona histórico SSMN...</td>\n",
       "    </tr>\n",
       "    <tr>\n",
       "      <th>C5</th>\n",
       "      <td>0.119548</td>\n",
       "      <td>NaN</td>\n",
       "      <td>Maximo de urgencias por persona histórico SSMN...</td>\n",
       "    </tr>\n",
       "    <tr>\n",
       "      <th>Total</th>\n",
       "      <td>1.000000</td>\n",
       "      <td>NaN</td>\n",
       "      <td>Maximo de urgencias por persona histórico SSMN...</td>\n",
       "    </tr>\n",
       "  </tbody>\n",
       "</table>\n",
       "</div>"
      ],
      "text/plain": [
       "                      porcentaje_con_consultas_urg  consultas_por_paciente  \\\n",
       "recien_nacidos_vivos                      0.672118                     1.0   \n",
       "entre_1_y_14                              0.672118                     1.0   \n",
       "entre_15_y_18                             1.000000                     1.3   \n",
       "C1                                        0.000652                     NaN   \n",
       "C2                                        0.026440                     NaN   \n",
       "C3                                        0.229854                     NaN   \n",
       "C4                                        0.623506                     NaN   \n",
       "SIN CATEGORIZACION                        0.000000                     NaN   \n",
       "C5                                        0.119548                     NaN   \n",
       "Total                                     1.000000                     NaN   \n",
       "\n",
       "                                                      criterio_eleccion  \n",
       "recien_nacidos_vivos  Maximo de urgencias por persona histórico SSMN...  \n",
       "entre_1_y_14          Maximo de urgencias por persona histórico SSMN...  \n",
       "entre_15_y_18                               Criterio Experto - Dr Tapia  \n",
       "C1                    Maximo de urgencias por persona histórico SSMN...  \n",
       "C2                    Maximo de urgencias por persona histórico SSMN...  \n",
       "C3                    Maximo de urgencias por persona histórico SSMN...  \n",
       "C4                    Maximo de urgencias por persona histórico SSMN...  \n",
       "SIN CATEGORIZACION    Maximo de urgencias por persona histórico SSMN...  \n",
       "C5                    Maximo de urgencias por persona histórico SSMN...  \n",
       "Total                 Maximo de urgencias por persona histórico SSMN...  "
      ]
     },
     "execution_count": 52,
     "metadata": {},
     "output_type": "execute_result"
    }
   ],
   "source": [
    "resumen_factores_elegidos"
   ]
  },
  {
   "cell_type": "code",
   "execution_count": 53,
   "id": "21bc0aed",
   "metadata": {},
   "outputs": [],
   "source": [
    "# Lee la poblacion SSMN extrapolada\n",
    "estratos_interes_0_a_18 = [\"recien_nacidos_vivos\", \"entre_1_y_14\", \"entre_15_y_18\"]\n",
    "\n",
    "# Extrae solamente los estratos de interes\n",
    "poblacion_fonasa_extrapolada_ssmn = (\n",
    "    pd.read_excel(ruta_poblaciones, sheet_name=\"poblaciones_fonasa_extrapoladas\")\n",
    "    .query(\"Estrato == 'SSMN'\")\n",
    "    .set_index(\"Edad Incidencia\")\n",
    "    .drop(columns=\"Estrato\")\n",
    "    .query(\"`Edad Incidencia`.isin(@estratos_interes_0_a_18)\")\n",
    ")\n"
   ]
  },
  {
   "cell_type": "code",
   "execution_count": 54,
   "id": "cc21509b",
   "metadata": {},
   "outputs": [],
   "source": [
    "# Multiplica la cantidad de poblacion por el porcentaje que requiere urgencia\n",
    "pacientes_con_urgencia = poblacion_fonasa_extrapolada_ssmn.mul(\n",
    "    resumen_factores_elegidos[\"porcentaje_con_consultas_urg\"], axis=0\n",
    ").dropna()\n",
    "\n",
    "# Obtiene la cantidad de consultas de urgencia\n",
    "consultas_urgencia = pacientes_con_urgencia.mul(\n",
    "    resumen_factores_elegidos[\"consultas_por_paciente\"], axis=0\n",
    ").dropna()\n",
    "\n",
    "# Agrega el total de consultas\n",
    "consultas_urgencia.loc[\"Total\"] = consultas_urgencia.sum()\n",
    "\n",
    "# Calcula por porcentaje de categorizacion\n",
    "consultas_categorizacion = pd.DataFrame(\n",
    "    index=factores_categorizacion.index, data=[consultas_urgencia.loc[\"Total\"]]\n",
    ")\n",
    "\n",
    "# Multiplica y calcula las consultas de categorizacion\n",
    "consultas_categorizacion = (\n",
    "    consultas_categorizacion.mul(resumen_factores_elegidos[\"porcentaje_con_consultas_urg\"], axis=0)\n",
    "    .dropna()\n",
    "    .drop(index=\"Total\")\n",
    ")\n",
    "\n",
    "# Resumen final\n",
    "resumen_consultas = pd.concat([consultas_urgencia, consultas_categorizacion])"
   ]
  },
  {
   "cell_type": "code",
   "execution_count": 55,
   "id": "7b3233e9",
   "metadata": {},
   "outputs": [
    {
     "name": "stdout",
     "output_type": "stream",
     "text": [
      "Total consultas urgencia proyectadas 2035: 165838.04\n"
     ]
    }
   ],
   "source": [
    "print(f\"Total consultas urgencia proyectadas 2035: {resumen_consultas.loc['Total', '2035']:.2f}\")"
   ]
  },
  {
   "cell_type": "code",
   "execution_count": 72,
   "id": "70e27e13",
   "metadata": {},
   "outputs": [],
   "source": [
    "resumen_minsal = pd.DataFrame(\n",
    "    {\n",
    "        \"poblacion_fonasa_2035\": poblacion_fonasa_extrapolada_ssmn[\"2035\"],\n",
    "        \"porcentaje_paciente_con_consulta_urgencia\": resumen_factores_elegidos[\n",
    "            \"porcentaje_con_consultas_urg\"\n",
    "        ],\n",
    "        \"pacientes_urgencia_2035\": pacientes_con_urgencia[\"2035\"],\n",
    "        \"cantidad_consultas_urgencia_por_paciente\": resumen_factores_elegidos[\n",
    "            \"consultas_por_paciente\"\n",
    "        ],\n",
    "        \"consultas_urgencia_2035\": consultas_urgencia[\"2035\"],\n",
    "    }\n",
    ").dropna()"
   ]
  },
  {
   "cell_type": "code",
   "execution_count": 73,
   "id": "be4ef0bc",
   "metadata": {},
   "outputs": [
    {
     "data": {
      "text/html": [
       "<div>\n",
       "<style scoped>\n",
       "    .dataframe tbody tr th:only-of-type {\n",
       "        vertical-align: middle;\n",
       "    }\n",
       "\n",
       "    .dataframe tbody tr th {\n",
       "        vertical-align: top;\n",
       "    }\n",
       "\n",
       "    .dataframe thead th {\n",
       "        text-align: right;\n",
       "    }\n",
       "</style>\n",
       "<table border=\"1\" class=\"dataframe\">\n",
       "  <thead>\n",
       "    <tr style=\"text-align: right;\">\n",
       "      <th></th>\n",
       "      <th>poblacion_fonasa_2035</th>\n",
       "      <th>porcentaje_paciente_con_consulta_urgencia</th>\n",
       "      <th>pacientes_urgencia_2035</th>\n",
       "      <th>cantidad_consultas_urgencia_por_paciente</th>\n",
       "      <th>consultas_urgencia_2035</th>\n",
       "    </tr>\n",
       "  </thead>\n",
       "  <tbody>\n",
       "    <tr>\n",
       "      <th>entre_15_y_18</th>\n",
       "      <td>41844.507000</td>\n",
       "      <td>1.000000</td>\n",
       "      <td>41844.507000</td>\n",
       "      <td>1.3</td>\n",
       "      <td>54397.859100</td>\n",
       "    </tr>\n",
       "    <tr>\n",
       "      <th>entre_1_y_14</th>\n",
       "      <td>155392.978665</td>\n",
       "      <td>0.672118</td>\n",
       "      <td>104442.450975</td>\n",
       "      <td>1.0</td>\n",
       "      <td>104442.450975</td>\n",
       "    </tr>\n",
       "    <tr>\n",
       "      <th>recien_nacidos_vivos</th>\n",
       "      <td>10411.454388</td>\n",
       "      <td>0.672118</td>\n",
       "      <td>6997.728108</td>\n",
       "      <td>1.0</td>\n",
       "      <td>6997.728108</td>\n",
       "    </tr>\n",
       "  </tbody>\n",
       "</table>\n",
       "</div>"
      ],
      "text/plain": [
       "                      poblacion_fonasa_2035  \\\n",
       "entre_15_y_18                  41844.507000   \n",
       "entre_1_y_14                  155392.978665   \n",
       "recien_nacidos_vivos           10411.454388   \n",
       "\n",
       "                      porcentaje_paciente_con_consulta_urgencia  \\\n",
       "entre_15_y_18                                          1.000000   \n",
       "entre_1_y_14                                           0.672118   \n",
       "recien_nacidos_vivos                                   0.672118   \n",
       "\n",
       "                      pacientes_urgencia_2035  \\\n",
       "entre_15_y_18                    41844.507000   \n",
       "entre_1_y_14                    104442.450975   \n",
       "recien_nacidos_vivos              6997.728108   \n",
       "\n",
       "                      cantidad_consultas_urgencia_por_paciente  \\\n",
       "entre_15_y_18                                              1.3   \n",
       "entre_1_y_14                                               1.0   \n",
       "recien_nacidos_vivos                                       1.0   \n",
       "\n",
       "                      consultas_urgencia_2035  \n",
       "entre_15_y_18                    54397.859100  \n",
       "entre_1_y_14                    104442.450975  \n",
       "recien_nacidos_vivos              6997.728108  "
      ]
     },
     "execution_count": 73,
     "metadata": {},
     "output_type": "execute_result"
    }
   ],
   "source": [
    "resumen_minsal"
   ]
  },
  {
   "cell_type": "markdown",
   "id": "600b3b5e",
   "metadata": {},
   "source": [
    "## Resumen MINSAL"
   ]
  },
  {
   "cell_type": "code",
   "execution_count": 56,
   "id": "1229e05f",
   "metadata": {},
   "outputs": [
    {
     "ename": "NameError",
     "evalue": "name 'poblacion_fonasa_extrapolada_ssmn_0_a_18' is not defined",
     "output_type": "error",
     "traceback": [
      "\u001b[0;31m---------------------------------------------------------------------------\u001b[0m",
      "\u001b[0;31mNameError\u001b[0m                                 Traceback (most recent call last)",
      "Cell \u001b[0;32mIn[56], line 7\u001b[0m\n\u001b[1;32m      1\u001b[0m datos_a_guardar \u001b[38;5;241m=\u001b[39m {\n\u001b[1;32m      2\u001b[0m     \u001b[38;5;124m\"\u001b[39m\u001b[38;5;124mProyeccion Urgencias RDR\u001b[39m\u001b[38;5;124m\"\u001b[39m: {\n\u001b[1;32m      3\u001b[0m         \u001b[38;5;124m\"\u001b[39m\u001b[38;5;124mpoblaciones_FONASA_2018_a_2022\u001b[39m\u001b[38;5;124m\"\u001b[39m: poblaciones_fonasa_ssmn\u001b[38;5;241m.\u001b[39mreset_index(),\n\u001b[1;32m      4\u001b[0m         \u001b[38;5;124m\"\u001b[39m\u001b[38;5;124mconsultas_REM_urgencia\u001b[39m\u001b[38;5;124m\"\u001b[39m: produccion_urgencias_rem\u001b[38;5;241m.\u001b[39mreset_index(),\n\u001b[1;32m      5\u001b[0m         \u001b[38;5;124m\"\u001b[39m\u001b[38;5;124mfactores_urgencias_por_pcte_0_a_14\u001b[39m\u001b[38;5;124m\"\u001b[39m: proporcion_urgencias_y_poblacion\u001b[38;5;241m.\u001b[39mreset_index(),\n\u001b[1;32m      6\u001b[0m         \u001b[38;5;124m\"\u001b[39m\u001b[38;5;124mfactores_urgencias_elegidos\u001b[39m\u001b[38;5;124m\"\u001b[39m: resumen_factores_elegidos\u001b[38;5;241m.\u001b[39mreset_index(),\n\u001b[0;32m----> 7\u001b[0m         \u001b[38;5;124m\"\u001b[39m\u001b[38;5;124mpoblaciones_FONASA_extrapoladas\u001b[39m\u001b[38;5;124m\"\u001b[39m: \u001b[43mpoblacion_fonasa_extrapolada_ssmn_0_a_18\u001b[49m\u001b[38;5;241m.\u001b[39mreset_index(),\n\u001b[1;32m      8\u001b[0m         \u001b[38;5;124m\"\u001b[39m\u001b[38;5;124mconsultas_urgencia_proyectadas\u001b[39m\u001b[38;5;124m\"\u001b[39m: resumen_consultas\u001b[38;5;241m.\u001b[39mreset_index(),\n\u001b[1;32m      9\u001b[0m     },\n\u001b[1;32m     10\u001b[0m }\n",
      "\u001b[0;31mNameError\u001b[0m: name 'poblacion_fonasa_extrapolada_ssmn_0_a_18' is not defined"
     ]
    }
   ],
   "source": [
    "datos_a_guardar = {\n",
    "    \"Proyeccion Urgencias RDR\": {\n",
    "        \"poblaciones_FONASA_2018_a_2022\": poblaciones_fonasa_ssmn.reset_index(),\n",
    "        \"consultas_REM_urgencia\": produccion_urgencias_rem.reset_index(),\n",
    "        \"factores_urgencias_por_pcte_0_a_14\": proporcion_urgencias_y_poblacion.reset_index(),\n",
    "        \"factores_urgencias_elegidos\": resumen_factores_elegidos.reset_index(),\n",
    "        \"poblaciones_FONASA_extrapoladas\": poblacion_fonasa_extrapolada_ssmn_0_a_18.reset_index(),\n",
    "        \"consultas_urgencia_proyectadas\": resumen_consultas.reset_index(),\n",
    "    },\n",
    "}"
   ]
  },
  {
   "cell_type": "code",
   "execution_count": null,
   "id": "e528971c",
   "metadata": {},
   "outputs": [],
   "source": [
    "ruta_archivo = \"../data/interim/4.0_estimacion_consultas_urgencia.xlsx\"\n",
    "guardar_dict_en_excel(ruta_archivo, datos_a_guardar, espacio_filas=3)"
   ]
  }
 ],
 "metadata": {
  "kernelspec": {
   "display_name": "proyeccion-rdr",
   "language": "python",
   "name": "python3"
  },
  "language_info": {
   "codemirror_mode": {
    "name": "ipython",
    "version": 3
   },
   "file_extension": ".py",
   "mimetype": "text/x-python",
   "name": "python",
   "nbconvert_exporter": "python",
   "pygments_lexer": "ipython3",
   "version": "3.10.16"
  }
 },
 "nbformat": 4,
 "nbformat_minor": 5
}
