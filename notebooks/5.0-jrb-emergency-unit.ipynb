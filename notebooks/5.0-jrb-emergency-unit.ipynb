{
 "cells": [
  {
   "cell_type": "code",
   "execution_count": 1,
   "id": "9c5ca1ef",
   "metadata": {},
   "outputs": [],
   "source": [
    "import sys\n",
    "import os\n",
    "\n",
    "project_root = os.path.abspath('..')\n",
    "if project_root not in sys.path:\n",
    "    sys.path.append(project_root)\n",
    " \n",
    "%load_ext autoreload\n",
    "%autoreload 2"
   ]
  },
  {
   "cell_type": "code",
   "execution_count": 2,
   "id": "c59728de",
   "metadata": {},
   "outputs": [
    {
     "name": "stderr",
     "output_type": "stream",
     "text": [
      "\u001b[32m2025-06-03 12:09:58.084\u001b[0m | \u001b[1mINFO    \u001b[0m | \u001b[36mproyeccion_rdr.config\u001b[0m:\u001b[36m<module>\u001b[0m:\u001b[36m11\u001b[0m - \u001b[1mPROJ_ROOT path is: /Users/javierrojas/Documents/SSMN/2.0-proyeccion-rdr\u001b[0m\n"
     ]
    }
   ],
   "source": [
    "import pandas as pd\n",
    "import numpy as np\n",
    "pd.set_option(\"display.max_columns\", None)\n",
    "\n",
    "from proyeccion_rdr.produccion.a05_unidades_de_apoyo import guardar_dict_en_excel\n",
    "\n",
    "ANIOS_POBLACION = [str(i) for i in range(2017, 2036)]"
   ]
  },
  {
   "cell_type": "code",
   "execution_count": 3,
   "id": "dfefdf03",
   "metadata": {},
   "outputs": [
    {
     "data": {
      "text/html": [
       "<div>\n",
       "<style scoped>\n",
       "    .dataframe tbody tr th:only-of-type {\n",
       "        vertical-align: middle;\n",
       "    }\n",
       "\n",
       "    .dataframe tbody tr th {\n",
       "        vertical-align: top;\n",
       "    }\n",
       "\n",
       "    .dataframe thead th {\n",
       "        text-align: right;\n",
       "    }\n",
       "</style>\n",
       "<table border=\"1\" class=\"dataframe\">\n",
       "  <thead>\n",
       "    <tr style=\"text-align: right;\">\n",
       "      <th></th>\n",
       "      <th></th>\n",
       "      <th>2018</th>\n",
       "      <th>2019</th>\n",
       "      <th>2020</th>\n",
       "      <th>2021</th>\n",
       "      <th>2022</th>\n",
       "    </tr>\n",
       "    <tr>\n",
       "      <th>Edad Incidencia</th>\n",
       "      <th>Estrato</th>\n",
       "      <th></th>\n",
       "      <th></th>\n",
       "      <th></th>\n",
       "      <th></th>\n",
       "      <th></th>\n",
       "    </tr>\n",
       "  </thead>\n",
       "  <tbody>\n",
       "    <tr>\n",
       "      <th>entre_0_y_15</th>\n",
       "      <th>SSMN</th>\n",
       "      <td>148276</td>\n",
       "      <td>155320</td>\n",
       "      <td>153830</td>\n",
       "      <td>151308</td>\n",
       "      <td>153566</td>\n",
       "    </tr>\n",
       "  </tbody>\n",
       "</table>\n",
       "</div>"
      ],
      "text/plain": [
       "                           2018    2019    2020    2021    2022\n",
       "Edad Incidencia Estrato                                        \n",
       "entre_0_y_15    SSMN     148276  155320  153830  151308  153566"
      ]
     },
     "metadata": {},
     "output_type": "display_data"
    }
   ],
   "source": [
    "# Lee la poblacion FONASA\n",
    "ruta_poblaciones = \"../data/interim/0.0_poblaciones_ine_y_fonasa_a_utilizar.xlsx\"\n",
    "poblaciones_fonasa = pd.read_excel(ruta_poblaciones, sheet_name=\"poblacion_FONASA\")\n",
    "\n",
    "# Filtra solamente la poblacion del SSMN y entre 0 y 15 anios (Poblacion que efectivamente\n",
    "# atendieron). Elimina la columna del 2023, ya que esta mal calculada\n",
    "poblaciones_fonasa_ssmn = (\n",
    "    poblaciones_fonasa.query(\"Estrato == 'SSMN' and `Edad Incidencia` == 'entre_0_y_15'\")\n",
    "    .set_index([\"Edad Incidencia\", \"Estrato\"])\n",
    "    .drop(columns=[\"2023\"])\n",
    ")\n",
    "display(poblaciones_fonasa_ssmn)"
   ]
  },
  {
   "cell_type": "code",
   "execution_count": 4,
   "id": "1cd94e2f",
   "metadata": {},
   "outputs": [],
   "source": [
    "# Lee las consultas de urgencias REM\n",
    "produccion_urgencias_rem = pd.DataFrame(\n",
    "    [\n",
    "        [59, 70, 82, 65, 87, 69, 91, 448, 176, 169],\n",
    "        [1455, 1292, 2133, 2635, 3096, 1499, 5235, 13613, 12473, 12981],\n",
    "        [33159, 28148, 25438, 22907, 27428, 13795, 20488, 29809, 28980, 29070],\n",
    "        [66592, 64954, 63160, 62138, 54425, 21814, 22329, 36763, 37584, 38696],\n",
    "        [4841, 4781, 0, 0, 1, 0, 0, 0, 0, 0],\n",
    "        [3764, 3302, 5514, 11914, 8251, 2476, 1484, 933, 1237, 1250],\n",
    "        [109870, 102547, 96327, 99659, 93288, 39653, 49627, 81566, 80450, 82166],\n",
    "    ],\n",
    "    index=[\"C1\", \"C2\", \"C3\", \"C4\", \"SIN CATEGORIZACION\", \"C5\", \"Total\"],\n",
    "    columns=[\"2015\", \"2016\", \"2017\", \"2018\", \"2019\", \"2020\", \"2021\", \"2022\", \"2023\", \"2024\"],\n",
    ")\n",
    "total_urgencias_rem = produccion_urgencias_rem.loc[\"Total\"]\n",
    "\n",
    "# Obtiene el porcentaje de cada categoria respecto al total\n",
    "porcentaje_categorizacion_rem = produccion_urgencias_rem / produccion_urgencias_rem.iloc[-1]"
   ]
  },
  {
   "cell_type": "code",
   "execution_count": 5,
   "id": "39c8dedb",
   "metadata": {},
   "outputs": [],
   "source": [
    "# Obtiene la proporcion de urgencias y poblacion\n",
    "proporcion_urgencias_y_poblacion = total_urgencias_rem / poblaciones_fonasa_ssmn"
   ]
  },
  {
   "cell_type": "code",
   "execution_count": 25,
   "id": "3d76ba73",
   "metadata": {},
   "outputs": [],
   "source": [
    "# Selecciona la cantidad de urgenicas por personas.\n",
    "# De 15 a 18 fue criterio de experto - Dr Tapia\n",
    "anio_maximo = proporcion_urgencias_y_poblacion.idxmax(axis=1).iloc[0]\n",
    "texto_maximo = f\"Maximo de urgencias por persona histórico SSMN: {anio_maximo}\"\n",
    "factor_urgencias_0_a_14 = proporcion_urgencias_y_poblacion[anio_maximo].iloc[0]\n",
    "factor_urgencias_15_a_18 = 1.3\n",
    "\n",
    "# Extrae los factores de categorizacion para proyectar\n",
    "factores_categorizacion = porcentaje_categorizacion_rem[anio_maximo].to_frame()\n",
    "factores_categorizacion[\"criterio_eleccion\"] = texto_maximo\n",
    "factores_categorizacion = factores_categorizacion.rename(\n",
    "    columns={anio_maximo: \"porcentaje_con_consultas_urg\"}\n",
    ")\n",
    "\n",
    "# Consolida los factores de urgencias\n",
    "resumen_factores_elegidos = pd.DataFrame(\n",
    "    index=[\"recien_nacidos_vivos\", \"entre_1_y_14\", \"entre_15_y_18\"],\n",
    "    columns=[\"porcentaje_con_consultas_urg\", \"consultas_por_paciente\", \"criterio_eleccion\"],\n",
    "    data=[\n",
    "        [factor_urgencias_0_a_14, 1, texto_maximo],\n",
    "        [factor_urgencias_0_a_14, 1, texto_maximo],\n",
    "        [1, factor_urgencias_15_a_18, \"Criterio Experto - Dr Tapia\"],\n",
    "    ],\n",
    ")\n",
    "\n",
    "# Concatena factores de categorizacion a las variables\n",
    "resumen_factores_elegidos = pd.concat([resumen_factores_elegidos, factores_categorizacion])"
   ]
  },
  {
   "cell_type": "code",
   "execution_count": 26,
   "id": "8f31091c",
   "metadata": {},
   "outputs": [
    {
     "data": {
      "text/html": [
       "<div>\n",
       "<style scoped>\n",
       "    .dataframe tbody tr th:only-of-type {\n",
       "        vertical-align: middle;\n",
       "    }\n",
       "\n",
       "    .dataframe tbody tr th {\n",
       "        vertical-align: top;\n",
       "    }\n",
       "\n",
       "    .dataframe thead th {\n",
       "        text-align: right;\n",
       "    }\n",
       "</style>\n",
       "<table border=\"1\" class=\"dataframe\">\n",
       "  <thead>\n",
       "    <tr style=\"text-align: right;\">\n",
       "      <th></th>\n",
       "      <th>porcentaje_con_consultas_urg</th>\n",
       "      <th>consultas_por_paciente</th>\n",
       "      <th>criterio_eleccion</th>\n",
       "    </tr>\n",
       "  </thead>\n",
       "  <tbody>\n",
       "    <tr>\n",
       "      <th>recien_nacidos_vivos</th>\n",
       "      <td>0.672118</td>\n",
       "      <td>1.0</td>\n",
       "      <td>Maximo de urgencias por persona histórico SSMN...</td>\n",
       "    </tr>\n",
       "    <tr>\n",
       "      <th>entre_1_y_14</th>\n",
       "      <td>0.672118</td>\n",
       "      <td>1.0</td>\n",
       "      <td>Maximo de urgencias por persona histórico SSMN...</td>\n",
       "    </tr>\n",
       "    <tr>\n",
       "      <th>entre_15_y_18</th>\n",
       "      <td>1.000000</td>\n",
       "      <td>1.3</td>\n",
       "      <td>Criterio Experto - Dr Tapia</td>\n",
       "    </tr>\n",
       "    <tr>\n",
       "      <th>C1</th>\n",
       "      <td>0.000652</td>\n",
       "      <td>NaN</td>\n",
       "      <td>Maximo de urgencias por persona histórico SSMN...</td>\n",
       "    </tr>\n",
       "    <tr>\n",
       "      <th>C2</th>\n",
       "      <td>0.026440</td>\n",
       "      <td>NaN</td>\n",
       "      <td>Maximo de urgencias por persona histórico SSMN...</td>\n",
       "    </tr>\n",
       "    <tr>\n",
       "      <th>C3</th>\n",
       "      <td>0.229854</td>\n",
       "      <td>NaN</td>\n",
       "      <td>Maximo de urgencias por persona histórico SSMN...</td>\n",
       "    </tr>\n",
       "    <tr>\n",
       "      <th>C4</th>\n",
       "      <td>0.623506</td>\n",
       "      <td>NaN</td>\n",
       "      <td>Maximo de urgencias por persona histórico SSMN...</td>\n",
       "    </tr>\n",
       "    <tr>\n",
       "      <th>SIN CATEGORIZACION</th>\n",
       "      <td>0.000000</td>\n",
       "      <td>NaN</td>\n",
       "      <td>Maximo de urgencias por persona histórico SSMN...</td>\n",
       "    </tr>\n",
       "    <tr>\n",
       "      <th>C5</th>\n",
       "      <td>0.119548</td>\n",
       "      <td>NaN</td>\n",
       "      <td>Maximo de urgencias por persona histórico SSMN...</td>\n",
       "    </tr>\n",
       "    <tr>\n",
       "      <th>Total</th>\n",
       "      <td>1.000000</td>\n",
       "      <td>NaN</td>\n",
       "      <td>Maximo de urgencias por persona histórico SSMN...</td>\n",
       "    </tr>\n",
       "  </tbody>\n",
       "</table>\n",
       "</div>"
      ],
      "text/plain": [
       "                      porcentaje_con_consultas_urg  consultas_por_paciente  \\\n",
       "recien_nacidos_vivos                      0.672118                     1.0   \n",
       "entre_1_y_14                              0.672118                     1.0   \n",
       "entre_15_y_18                             1.000000                     1.3   \n",
       "C1                                        0.000652                     NaN   \n",
       "C2                                        0.026440                     NaN   \n",
       "C3                                        0.229854                     NaN   \n",
       "C4                                        0.623506                     NaN   \n",
       "SIN CATEGORIZACION                        0.000000                     NaN   \n",
       "C5                                        0.119548                     NaN   \n",
       "Total                                     1.000000                     NaN   \n",
       "\n",
       "                                                      criterio_eleccion  \n",
       "recien_nacidos_vivos  Maximo de urgencias por persona histórico SSMN...  \n",
       "entre_1_y_14          Maximo de urgencias por persona histórico SSMN...  \n",
       "entre_15_y_18                               Criterio Experto - Dr Tapia  \n",
       "C1                    Maximo de urgencias por persona histórico SSMN...  \n",
       "C2                    Maximo de urgencias por persona histórico SSMN...  \n",
       "C3                    Maximo de urgencias por persona histórico SSMN...  \n",
       "C4                    Maximo de urgencias por persona histórico SSMN...  \n",
       "SIN CATEGORIZACION    Maximo de urgencias por persona histórico SSMN...  \n",
       "C5                    Maximo de urgencias por persona histórico SSMN...  \n",
       "Total                 Maximo de urgencias por persona histórico SSMN...  "
      ]
     },
     "execution_count": 26,
     "metadata": {},
     "output_type": "execute_result"
    }
   ],
   "source": [
    "resumen_factores_elegidos"
   ]
  },
  {
   "cell_type": "code",
   "execution_count": 6,
   "id": "21bc0aed",
   "metadata": {},
   "outputs": [],
   "source": [
    "# Lee la poblacion SSMN extrapolada\n",
    "estratos_interes_0_a_18 = [\"recien_nacidos_vivos\", \"entre_1_y_14\", \"entre_15_y_18\"]\n",
    "\n",
    "# Extrae solamente los estratos de interes\n",
    "poblacion_fonasa_extrapolada_ssmn = (\n",
    "    pd.read_excel(ruta_poblaciones, sheet_name=\"poblaciones_fonasa_extrapoladas\")\n",
    "    .query(\"Estrato == 'SSMN'\")\n",
    "    .set_index(\"Edad Incidencia\")\n",
    "    .drop(columns=\"Estrato\")\n",
    "    .query(\"`Edad Incidencia`.isin(@estratos_interes_0_a_18)\")\n",
    ")\n"
   ]
  },
  {
   "cell_type": "code",
   "execution_count": 38,
   "id": "cc21509b",
   "metadata": {},
   "outputs": [],
   "source": [
    "# Multiplica la cantidad de poblacion por el porcentaje que requiere urgencia\n",
    "pacientes_con_urgencia = poblacion_fonasa_extrapolada_ssmn.mul(resumen_factores_elegidos[\"porcentaje_con_consultas_urg\"], axis=0)\n",
    "\n",
    "# Obtiene la cantidad de consultas de urgencia\n",
    "consultas_urgencia = pacientes_con_urgencia.mul(resumen_factores_elegidos[\"consultas_por_paciente\"], axis=0)"
   ]
  },
  {
   "cell_type": "code",
   "execution_count": 40,
   "id": "96898d5e",
   "metadata": {},
   "outputs": [
    {
     "data": {
      "text/plain": [
       "2017    141239.816147\n",
       "2018    145830.413022\n",
       "2019    150164.774672\n",
       "2020    154131.998907\n",
       "2021    156267.522299\n",
       "2022    157657.700785\n",
       "2023    159261.893186\n",
       "2024    161187.708331\n",
       "2025    163068.951115\n",
       "2026    164484.794048\n",
       "2027    165373.044912\n",
       "2028    165831.246372\n",
       "2029    166104.148031\n",
       "2030    166555.956655\n",
       "2031    166907.250051\n",
       "2032    166978.247079\n",
       "2033    166683.927758\n",
       "2034    166083.501900\n",
       "2035    165838.038182\n",
       "dtype: float64"
      ]
     },
     "execution_count": 40,
     "metadata": {},
     "output_type": "execute_result"
    }
   ],
   "source": [
    "consultas_urgencia.sum()\n"
   ]
  },
  {
   "cell_type": "code",
   "execution_count": null,
   "id": "c6eee22d",
   "metadata": {},
   "outputs": [
    {
     "name": "stdout",
     "output_type": "stream",
     "text": [
      "Total consultas urgencia proyectadas 2035: 165838.04\n"
     ]
    }
   ],
   "source": [
    "# Define cuantas consultas habran por grupo etario\n",
    "consultas_0_a_15 = poblacion_fonasa_extrapolada_ssmn_0_a_14 * factor_urgencias_0_a_14\n",
    "consultas_15_a_18 = poblacion_fonasa_extrapolada_ssmn_15_a_18 * factor_urgencias_15_a_18\n",
    "\n",
    "# Define el total de consultas\n",
    "total_consultas = (consultas_0_a_15 + consultas_15_a_18).to_frame(\n",
    "    name=\"Total Consultas Urgencia Proyectadas\"\n",
    ")\n",
    "\n",
    "print(f\"Total consultas urgencia proyectadas 2035: {total_consultas.loc['2035'].iloc[0]:.2f}\")"
   ]
  },
  {
   "cell_type": "code",
   "execution_count": null,
   "id": "1c688f8e",
   "metadata": {},
   "outputs": [],
   "source": [
    "consultas_c1 = (\n",
    "    total_consultas[\"Total Consultas Urgencia Proyectadas\"]\n",
    "    * factores_categorizacion.loc[\"C1\", \"factor\"]\n",
    ")\n",
    "consultas_c2 = (\n",
    "    total_consultas[\"Total Consultas Urgencia Proyectadas\"]\n",
    "    * factores_categorizacion.loc[\"C2\", \"factor\"]\n",
    ")\n",
    "consultas_c3 = (\n",
    "    total_consultas[\"Total Consultas Urgencia Proyectadas\"]\n",
    "    * factores_categorizacion.loc[\"C3\", \"factor\"]\n",
    ")\n",
    "consultas_c4 = (\n",
    "    total_consultas[\"Total Consultas Urgencia Proyectadas\"]\n",
    "    * factores_categorizacion.loc[\"C4\", \"factor\"]\n",
    ")\n",
    "consultas_sc = (\n",
    "    total_consultas[\"Total Consultas Urgencia Proyectadas\"]\n",
    "    * factores_categorizacion.loc[\"SIN CATEGORIZACION\", \"factor\"]\n",
    ")\n",
    "consultas_c5 = (\n",
    "    total_consultas[\"Total Consultas Urgencia Proyectadas\"]\n",
    "    * factores_categorizacion.loc[\"C5\", \"factor\"]\n",
    ")\n",
    "\n",
    "total_categorizacion = pd.DataFrame(\n",
    "    {\n",
    "        \"C1\": consultas_c1,\n",
    "        \"C2\": consultas_c2,\n",
    "        \"C3\": consultas_c3,\n",
    "        \"C4\": consultas_c4,\n",
    "        \"SIN CATEGORIZACION\": consultas_sc,\n",
    "        \"C5\": consultas_c5,\n",
    "    }\n",
    ")\n",
    "\n",
    "# Concate"
   ]
  },
  {
   "cell_type": "code",
   "execution_count": null,
   "id": "d83cb52d",
   "metadata": {},
   "outputs": [],
   "source": [
    "# Concatena los resultados de categorizacion con el total de consultas\n",
    "resumen_consultas = pd.concat([total_consultas, total_categorizacion], axis=1)"
   ]
  },
  {
   "cell_type": "code",
   "execution_count": null,
   "id": "a6d944e8",
   "metadata": {},
   "outputs": [
    {
     "data": {
      "text/html": [
       "<div>\n",
       "<style scoped>\n",
       "    .dataframe tbody tr th:only-of-type {\n",
       "        vertical-align: middle;\n",
       "    }\n",
       "\n",
       "    .dataframe tbody tr th {\n",
       "        vertical-align: top;\n",
       "    }\n",
       "\n",
       "    .dataframe thead th {\n",
       "        text-align: right;\n",
       "    }\n",
       "</style>\n",
       "<table border=\"1\" class=\"dataframe\">\n",
       "  <thead>\n",
       "    <tr style=\"text-align: right;\">\n",
       "      <th></th>\n",
       "      <th>factor</th>\n",
       "      <th>criterio_eleccion</th>\n",
       "    </tr>\n",
       "  </thead>\n",
       "  <tbody>\n",
       "    <tr>\n",
       "      <th>urgencias_por_pcte_0_a_14</th>\n",
       "      <td>0.672118</td>\n",
       "      <td>Maximo de urgencias por persona histórico SSMN...</td>\n",
       "    </tr>\n",
       "    <tr>\n",
       "      <th>urgencias_por_pcte_15_a_18</th>\n",
       "      <td>1.300000</td>\n",
       "      <td>Criterio Experto - Dr Tapia</td>\n",
       "    </tr>\n",
       "    <tr>\n",
       "      <th>C1</th>\n",
       "      <td>0.000652</td>\n",
       "      <td>Maximo de urgencias por persona histórico SSMN...</td>\n",
       "    </tr>\n",
       "    <tr>\n",
       "      <th>C2</th>\n",
       "      <td>0.026440</td>\n",
       "      <td>Maximo de urgencias por persona histórico SSMN...</td>\n",
       "    </tr>\n",
       "    <tr>\n",
       "      <th>C3</th>\n",
       "      <td>0.229854</td>\n",
       "      <td>Maximo de urgencias por persona histórico SSMN...</td>\n",
       "    </tr>\n",
       "    <tr>\n",
       "      <th>C4</th>\n",
       "      <td>0.623506</td>\n",
       "      <td>Maximo de urgencias por persona histórico SSMN...</td>\n",
       "    </tr>\n",
       "    <tr>\n",
       "      <th>SIN CATEGORIZACION</th>\n",
       "      <td>0.000000</td>\n",
       "      <td>Maximo de urgencias por persona histórico SSMN...</td>\n",
       "    </tr>\n",
       "    <tr>\n",
       "      <th>C5</th>\n",
       "      <td>0.119548</td>\n",
       "      <td>Maximo de urgencias por persona histórico SSMN...</td>\n",
       "    </tr>\n",
       "    <tr>\n",
       "      <th>Total</th>\n",
       "      <td>1.000000</td>\n",
       "      <td>Maximo de urgencias por persona histórico SSMN...</td>\n",
       "    </tr>\n",
       "  </tbody>\n",
       "</table>\n",
       "</div>"
      ],
      "text/plain": [
       "                              factor  \\\n",
       "urgencias_por_pcte_0_a_14   0.672118   \n",
       "urgencias_por_pcte_15_a_18  1.300000   \n",
       "C1                          0.000652   \n",
       "C2                          0.026440   \n",
       "C3                          0.229854   \n",
       "C4                          0.623506   \n",
       "SIN CATEGORIZACION          0.000000   \n",
       "C5                          0.119548   \n",
       "Total                       1.000000   \n",
       "\n",
       "                                                            criterio_eleccion  \n",
       "urgencias_por_pcte_0_a_14   Maximo de urgencias por persona histórico SSMN...  \n",
       "urgencias_por_pcte_15_a_18                        Criterio Experto - Dr Tapia  \n",
       "C1                          Maximo de urgencias por persona histórico SSMN...  \n",
       "C2                          Maximo de urgencias por persona histórico SSMN...  \n",
       "C3                          Maximo de urgencias por persona histórico SSMN...  \n",
       "C4                          Maximo de urgencias por persona histórico SSMN...  \n",
       "SIN CATEGORIZACION          Maximo de urgencias por persona histórico SSMN...  \n",
       "C5                          Maximo de urgencias por persona histórico SSMN...  \n",
       "Total                       Maximo de urgencias por persona histórico SSMN...  "
      ]
     },
     "execution_count": 32,
     "metadata": {},
     "output_type": "execute_result"
    }
   ],
   "source": [
    "resumen_factores_elegidos"
   ]
  },
  {
   "cell_type": "code",
   "execution_count": null,
   "id": "37d99aa2",
   "metadata": {},
   "outputs": [
    {
     "data": {
      "text/plain": [
       "Edad Incidencia\n",
       "recien_nacidos_vivos     10411.454388\n",
       "entre_1_y_14            155392.978665\n",
       "entre_15_y_18            41844.507000\n",
       "Name: 2035, dtype: float64"
      ]
     },
     "execution_count": 31,
     "metadata": {},
     "output_type": "execute_result"
    }
   ],
   "source": [
    "poblacion_resumen_minsal = poblacion_fonasa_extrapolada_ssmn_0_a_18.set_index(\n",
    "    \"Edad Incidencia\"\n",
    ").drop(columns=\"Estrato\")[\"2035\"]\n"
   ]
  },
  {
   "cell_type": "markdown",
   "id": "600b3b5e",
   "metadata": {},
   "source": [
    "## Resumen MINSAL"
   ]
  },
  {
   "cell_type": "code",
   "execution_count": null,
   "id": "1229e05f",
   "metadata": {},
   "outputs": [],
   "source": [
    "datos_a_guardar = {\n",
    "    \"Proyeccion Urgencias RDR\": {\n",
    "        \"poblaciones_FONASA_2018_a_2022\": poblaciones_fonasa_ssmn.reset_index(),\n",
    "        \"consultas_REM_urgencia\": produccion_urgencias_rem.reset_index(),\n",
    "        \"factores_urgencias_por_pcte_0_a_14\": proporcion_urgencias_y_poblacion.reset_index(),\n",
    "        \"factores_urgencias_elegidos\": resumen_factores_elegidos.reset_index(),\n",
    "        \"poblaciones_FONASA_extrapoladas\": poblacion_fonasa_extrapolada_ssmn_0_a_18.reset_index(),\n",
    "        \"consultas_urgencia_proyectadas\": resumen_consultas.reset_index(),\n",
    "    },\n",
    "}"
   ]
  },
  {
   "cell_type": "code",
   "execution_count": null,
   "id": "e528971c",
   "metadata": {},
   "outputs": [],
   "source": [
    "ruta_archivo = \"../data/interim/4.0_estimacion_consultas_urgencia.xlsx\"\n",
    "guardar_dict_en_excel(ruta_archivo, datos_a_guardar, espacio_filas=3)"
   ]
  }
 ],
 "metadata": {
  "kernelspec": {
   "display_name": "proyeccion-rdr",
   "language": "python",
   "name": "python3"
  },
  "language_info": {
   "codemirror_mode": {
    "name": "ipython",
    "version": 3
   },
   "file_extension": ".py",
   "mimetype": "text/x-python",
   "name": "python",
   "nbconvert_exporter": "python",
   "pygments_lexer": "ipython3",
   "version": "3.10.16"
  }
 },
 "nbformat": 4,
 "nbformat_minor": 5
}
